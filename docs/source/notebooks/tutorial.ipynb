{
 "cells": [
  {
   "cell_type": "markdown",
   "metadata": {},
   "source": [
    "cfdm tutorial notebook\n",
    "=============\n",
    "\n",
    "Version <latest> for version <latest> of the CF conventions.\n",
    "[//]: # (If the above line about versions changes its form then you should update the Makefile)\n",
    "\n",
    "---\n",
    "\n",
    "This notebook contains executable code examples from the [cfdm tutorial](https://ncas-cms.github.io/cfdm/tutorial.html).\n",
    "------------------------------------------\n",
    "---\n",
    "\n",
    "Contents\n",
    "---------------\n",
    "\n",
    "* [**Import**](#Import)\n",
    "* [**CF version**](#CF-version)\n",
    "* [**Reading datasets**](#Reading-datasets)\n",
    "* [**Inspection**](#Inspection)\n",
    "  * [Minimal detail](#Minimal-detail)\n",
    "  * [Medium detail](#Medium-detail)\n",
    "  * [Full detail](#Full-detail)\n",
    "* [**Properties**](#Properties)\n",
    "* [**Data**](#Data)\n",
    "  * [Indexing](#Indexing)\n",
    "  * [Assignment](#Assignment)\n",
    "  * [Data dimensions](#Data-dimensions)\n",
    "* [**Subspacing**](#Subspacing)\n",
    "* [**Metadata constructs**](#Metadata-constructs)\n",
    "  * [Properties and data](#Properties-and-data)\n",
    "  * [Domain axes](#Domain-axes)\n",
    "  * [Cell methods](#Cell-methods)\n",
    "  * [Components](#Components)\n",
    "* [**NetCDF interface**](#NetCDF-interface)\n",
    "* [**Writing to disk**](#Writing-to-disk)\n",
    "  * [Scalar coordinate variables](#Scalar-coordinate-variables)\n",
    "* [**Field construct creation**](#Field-construct-creation)\n",
    "  * [Creating field constructs from metadata constructs](#Creating-field-constructs-from-metadata-constructs)\n",
    "* [**Domain**](#Domain)\n",
    "* [**Copying**](#Copying)\n",
    "* [**Equality**](#Equality)\n",
    "* [**External variables**](#External-variables)\n",
    "* [**Compression**](#Compression)\n",
    "* [**Discrete sampling geometries**](#Discrete-sampling-geometries)\n",
    "* [**Gathering**](#Gathering)\n",
    "\n",
    "---"
   ]
  },
  {
   "cell_type": "markdown",
   "metadata": {
    "heading_collapsed": true
   },
   "source": [
    "##  Before you start"
   ]
  },
  {
   "cell_type": "markdown",
   "metadata": {
    "hidden": true
   },
   "source": [
    "**0. [Install](https://ncas-cms.github.io/cfdm/installation.html) the cfdm package**\n",
    "\n",
    "**1. Download the test files**\n",
    "\n",
    "* [**file.nc**](https://ncas-cms.github.io/cfdm/_downloads/file.nc)\n",
    "* [**parent.nc**](https://ncas-cms.github.io/cfdm/_downloads/parent.nc)\n",
    "* [**external.nc**](https://ncas-cms.github.io/cfdm/_downloads/external.nc)\n",
    "* [**contiguous.nc**](https://ncas-cms.github.io/cfdm/_downloads/contiguous.nc)\n",
    "* [**gathered.nc**](https://ncas-cms.github.io/cfdm/_downloads/gathered.nc)\n",
    "\n",
    "**2. Set the local directory which contains the test files**\n",
    "\n",
    "By default it is assumed that they are in same directory as this notebook file."
   ]
  },
  {
   "cell_type": "code",
   "execution_count": 1,
   "metadata": {
    "collapsed": true,
    "hidden": true
   },
   "outputs": [],
   "source": [
    "DIRECTORY = '.'"
   ]
  },
  {
   "cell_type": "markdown",
   "metadata": {
    "collapsed": true,
    "hidden": true
   },
   "source": [
    "**3. Ensure that  printing works equally well for Python 2 and 3**"
   ]
  },
  {
   "cell_type": "code",
   "execution_count": 2,
   "metadata": {
    "collapsed": true,
    "hidden": true
   },
   "outputs": [],
   "source": [
    "from __future__ import print_function"
   ]
  },
  {
   "cell_type": "markdown",
   "metadata": {
    "hidden": true
   },
   "source": [
    "---"
   ]
  },
  {
   "cell_type": "markdown",
   "metadata": {
    "heading_collapsed": true
   },
   "source": [
    "## Import\n",
    "[**Back to top**](#cfdm-tutorial-notebook)  \n",
    "[**Go to tutorial**](https://ncas-cms.github.io/cfdm/tutorial.html#Import)  "
   ]
  },
  {
   "cell_type": "code",
   "execution_count": 3,
   "metadata": {
    "collapsed": true,
    "hidden": true
   },
   "outputs": [],
   "source": [
    "import cfdm"
   ]
  },
  {
   "cell_type": "markdown",
   "metadata": {
    "hidden": true
   },
   "source": [
    "---"
   ]
  },
  {
   "cell_type": "markdown",
   "metadata": {
    "heading_collapsed": true
   },
   "source": [
    "## CF version\n",
    "[**Back to top**](#cfdm-tutorial-notebook)  \n",
    "[**Go to tutorial**](https://ncas-cms.github.io/cfdm/tutorial.html#CF-version)  "
   ]
  },
  {
   "cell_type": "code",
   "execution_count": 4,
   "metadata": {
    "collapsed": false,
    "hidden": true
   },
   "outputs": [
    {
     "data": {
      "text/plain": [
       "'1.7'"
      ]
     },
     "execution_count": 4,
     "metadata": {},
     "output_type": "execute_result"
    }
   ],
   "source": [
    "cfdm.CF()"
   ]
  },
  {
   "cell_type": "markdown",
   "metadata": {
    "hidden": true
   },
   "source": [
    "---"
   ]
  },
  {
   "cell_type": "markdown",
   "metadata": {
    "heading_collapsed": true
   },
   "source": [
    "## Reading datasets\n",
    "[**Back to top**](#cfdm-tutorial-notebook)  \n",
    "[**Go to tutorial**](https://ncas-cms.github.io/cfdm/tutorial.html#Reading-datasets)"
   ]
  },
  {
   "cell_type": "code",
   "execution_count": 5,
   "metadata": {
    "attributes": {
     "classes": [
      "sourceCode"
     ],
     "id": ""
    },
    "collapsed": false,
    "hidden": true
   },
   "outputs": [
    {
     "data": {
      "text/plain": [
       "2"
      ]
     },
     "execution_count": 5,
     "metadata": {},
     "output_type": "execute_result"
    }
   ],
   "source": [
    "x = cfdm.read(DIRECTORY+'/file.nc')\n",
    "type(x)\n",
    "len(x)"
   ]
  },
  {
   "cell_type": "markdown",
   "metadata": {
    "hidden": true
   },
   "source": [
    "---"
   ]
  },
  {
   "cell_type": "markdown",
   "metadata": {
    "heading_collapsed": true
   },
   "source": [
    "## Inspection\n",
    "[**Back to top**](#cfdm-tutorial-notebook)  \n",
    "[**Go to tutorial**](https://ncas-cms.github.io/cfdm/tutorial.html#Inspection)"
   ]
  },
  {
   "cell_type": "markdown",
   "metadata": {
    "heading_collapsed": true,
    "hidden": true
   },
   "source": [
    "### Minimal detail\n",
    "[**Back to top**](#cfdm-tutorial-notebook)  \n",
    "[**Go to tutorial**](https://ncas-cms.github.io/cfdm/tutorial.html#Minimal-detail)  "
   ]
  },
  {
   "cell_type": "code",
   "execution_count": 6,
   "metadata": {
    "collapsed": false,
    "hidden": true
   },
   "outputs": [
    {
     "data": {
      "text/plain": [
       "[<Field: specific_humidity(latitude(5), longitude(8)) 1>,\n",
       " <Field: air_temperature(atmosphere_hybrid_height_coordinate(1), grid_latitude(10), grid_longitude(9)) K>]"
      ]
     },
     "execution_count": 6,
     "metadata": {},
     "output_type": "execute_result"
    }
   ],
   "source": [
    "x"
   ]
  },
  {
   "cell_type": "code",
   "execution_count": 7,
   "metadata": {
    "attributes": {
     "classes": [
      "sourceCode"
     ],
     "id": ""
    },
    "collapsed": false,
    "hidden": true
   },
   "outputs": [
    {
     "data": {
      "text/plain": [
       "<Field: specific_humidity(latitude(5), longitude(8)) 1>"
      ]
     },
     "execution_count": 7,
     "metadata": {},
     "output_type": "execute_result"
    }
   ],
   "source": [
    "q = x[0]\n",
    "t = x[1]\n",
    "q"
   ]
  },
  {
   "cell_type": "markdown",
   "metadata": {
    "heading_collapsed": true,
    "hidden": true
   },
   "source": [
    "### Medium detail\n",
    "[**Back to top**](#cfdm-tutorial-notebook)  \n",
    "[**Go to tutorial**](https://ncas-cms.github.io/cfdm/tutorial.html#Medium-detail)  "
   ]
  },
  {
   "cell_type": "code",
   "execution_count": 8,
   "metadata": {
    "collapsed": false,
    "hidden": true
   },
   "outputs": [
    {
     "name": "stdout",
     "output_type": "stream",
     "text": [
      "Field: specific_humidity (ncvar%q)\n",
      "----------------------------------\n",
      "Data            : specific_humidity(latitude(5), longitude(8)) 1\n",
      "Cell methods    : area: mean\n",
      "Dimension coords: latitude(5) = [-75.0, ..., 75.0] degrees_north\n",
      "                : longitude(8) = [22.5, ..., 337.5] degrees_east\n",
      "                : time(1) = [2019-01-01 00:00:00]\n",
      "\n",
      "\n"
     ]
    }
   ],
   "source": [
    "print(q)"
   ]
  },
  {
   "cell_type": "code",
   "execution_count": 9,
   "metadata": {
    "attributes": {
     "classes": [
      "sourceCode"
     ],
     "id": ""
    },
    "collapsed": false,
    "hidden": true
   },
   "outputs": [
    {
     "name": "stdout",
     "output_type": "stream",
     "text": [
      "Field: air_temperature (ncvar%ta)\n",
      "---------------------------------\n",
      "Data            : air_temperature(atmosphere_hybrid_height_coordinate(1), grid_latitude(10), grid_longitude(9)) K\n",
      "Cell methods    : grid_latitude(10): grid_longitude(9): mean where land (interval: 0.1 degrees) time(1): maximum\n",
      "Field ancils    : air_temperature standard_error(grid_latitude(10), grid_longitude(9)) = [[0.76, ..., 0.32]] K\n",
      "Dimension coords: atmosphere_hybrid_height_coordinate(1) = [1.5]\n",
      "                : grid_latitude(10) = [2.2, ..., -1.76] degrees\n",
      "                : grid_longitude(9) = [-4.7, ..., -1.18] degrees\n",
      "                : time(1) = [2019-01-01 00:00:00]\n",
      "Auxiliary coords: latitude(grid_latitude(10), grid_longitude(9)) = [[53.941, ..., 50.225]] degrees_N\n",
      "                : longitude(grid_longitude(9), grid_latitude(10)) = [[2.004, ..., 8.156]] degrees_E\n",
      "                : long_name:Grid latitude name(grid_latitude(10)) = [--, ..., kappa]\n",
      "Cell measures   : measure%area(grid_longitude(9), grid_latitude(10)) = [[2391.9657, ..., 2392.6009]] km2\n",
      "Coord references: atmosphere_hybrid_height_coordinate\n",
      "                : rotated_latitude_longitude\n",
      "Domain ancils   : ncvar%a(atmosphere_hybrid_height_coordinate(1)) = [10.0] m\n",
      "                : ncvar%b(atmosphere_hybrid_height_coordinate(1)) = [20.0]\n",
      "                : surface_altitude(grid_latitude(10), grid_longitude(9)) = [[0.0, ..., 270.0]] m\n",
      "\n",
      "\n"
     ]
    }
   ],
   "source": [
    "print(t)"
   ]
  },
  {
   "cell_type": "markdown",
   "metadata": {
    "heading_collapsed": true,
    "hidden": true
   },
   "source": [
    "### Full detail\n",
    "[**Back to top**](#cfdm-tutorial-notebook)  \n",
    "[**Go to tutorial**](https://ncas-cms.github.io/cfdm/tutorial.html#Full-detail)  "
   ]
  },
  {
   "cell_type": "code",
   "execution_count": 10,
   "metadata": {
    "collapsed": false,
    "hidden": true
   },
   "outputs": [
    {
     "name": "stdout",
     "output_type": "stream",
     "text": [
      "----------------------------------\n",
      "Field: specific_humidity (ncvar%q)\n",
      "----------------------------------\n",
      "Conventions = 'CF-1.7'\n",
      "project = 'research'\n",
      "standard_name = 'specific_humidity'\n",
      "units = '1'\n",
      "\n",
      "Data(latitude(5), longitude(8)) = [[0.007, ..., 0.013]] 1\n",
      "\n",
      "Cell Method: area: mean\n",
      "\n",
      "Domain Axis: latitude(5)\n",
      "Domain Axis: longitude(8)\n",
      "Domain Axis: time(1)\n",
      "\n",
      "Dimension coordinate: latitude\n",
      "    standard_name = 'latitude'\n",
      "    units = 'degrees_north'\n",
      "    Data(latitude(5)) = [-75.0, ..., 75.0] degrees_north\n",
      "    Bounds:Data(latitude(5), 2) = [[-90.0, ..., 90.0]] degrees_north\n",
      "\n",
      "Dimension coordinate: longitude\n",
      "    standard_name = 'longitude'\n",
      "    units = 'degrees_east'\n",
      "    Data(longitude(8)) = [22.5, ..., 337.5] degrees_east\n",
      "    Bounds:Data(longitude(8), 2) = [[0.0, ..., 360.0]] degrees_east\n",
      "\n",
      "Dimension coordinate: time\n",
      "    standard_name = 'time'\n",
      "    units = 'days since 2018-12-01'\n",
      "    Data(time(1)) = [2019-01-01 00:00:00]\n",
      "\n"
     ]
    }
   ],
   "source": [
    "q.dump()"
   ]
  },
  {
   "cell_type": "code",
   "execution_count": 11,
   "metadata": {
    "attributes": {
     "classes": [
      "sourceCode"
     ],
     "id": ""
    },
    "collapsed": false,
    "hidden": true
   },
   "outputs": [
    {
     "name": "stdout",
     "output_type": "stream",
     "text": [
      "---------------------------------\n",
      "Field: air_temperature (ncvar%ta)\n",
      "---------------------------------\n",
      "Conventions = 'CF-1.7'\n",
      "project = 'research'\n",
      "standard_name = 'air_temperature'\n",
      "units = 'K'\n",
      "\n",
      "Data(atmosphere_hybrid_height_coordinate(1), grid_latitude(10), grid_longitude(9)) = [[[262.8, ..., 269.7]]] K\n",
      "\n",
      "Cell Method: grid_latitude(10): grid_longitude(9): mean where land (interval: 0.1 degrees)\n",
      "Cell Method: time(1): maximum\n",
      "\n",
      "Field Ancillary: air_temperature standard_error\n",
      "    standard_name = 'air_temperature standard_error'\n",
      "    units = 'K'\n",
      "    Data(grid_latitude(10), grid_longitude(9)) = [[0.76, ..., 0.32]] K\n",
      "\n",
      "Domain Axis: atmosphere_hybrid_height_coordinate(1)\n",
      "Domain Axis: grid_latitude(10)\n",
      "Domain Axis: grid_longitude(9)\n",
      "Domain Axis: time(1)\n",
      "\n",
      "Dimension coordinate: atmosphere_hybrid_height_coordinate\n",
      "    computed_standard_name = 'altitude'\n",
      "    standard_name = 'atmosphere_hybrid_height_coordinate'\n",
      "    Data(atmosphere_hybrid_height_coordinate(1)) = [1.5]\n",
      "    Bounds:Data(atmosphere_hybrid_height_coordinate(1), 2) = [[1.0, 2.0]]\n",
      "\n",
      "Dimension coordinate: grid_latitude\n",
      "    standard_name = 'grid_latitude'\n",
      "    units = 'degrees'\n",
      "    Data(grid_latitude(10)) = [2.2, ..., -1.76] degrees\n",
      "    Bounds:Data(grid_latitude(10), 2) = [[2.42, ..., -1.98]] degrees\n",
      "\n",
      "Dimension coordinate: grid_longitude\n",
      "    standard_name = 'grid_longitude'\n",
      "    units = 'degrees'\n",
      "    Data(grid_longitude(9)) = [-4.7, ..., -1.18] degrees\n",
      "    Bounds:Data(grid_longitude(9), 2) = [[-4.92, ..., -0.96]] degrees\n",
      "\n",
      "Dimension coordinate: time\n",
      "    standard_name = 'time'\n",
      "    units = 'days since 2018-12-01'\n",
      "    Data(time(1)) = [2019-01-01 00:00:00]\n",
      "\n",
      "Auxiliary coordinate: latitude\n",
      "    standard_name = 'latitude'\n",
      "    units = 'degrees_N'\n",
      "    Data(grid_latitude(10), grid_longitude(9)) = [[53.941, ..., 50.225]] degrees_N\n",
      "\n",
      "Auxiliary coordinate: longitude\n",
      "    standard_name = 'longitude'\n",
      "    units = 'degrees_E'\n",
      "    Data(grid_longitude(9), grid_latitude(10)) = [[2.004, ..., 8.156]] degrees_E\n",
      "\n",
      "Auxiliary coordinate: long_name:Grid latitude name\n",
      "    long_name = 'Grid latitude name'\n",
      "    Data(grid_latitude(10)) = [--, ..., kappa]\n",
      "\n",
      "Domain ancillary: ncvar%a\n",
      "    units = 'm'\n",
      "    Data(atmosphere_hybrid_height_coordinate(1)) = [10.0] m\n",
      "    Bounds:Data(atmosphere_hybrid_height_coordinate(1), 2) = [[5.0, 15.0]] m\n",
      "\n",
      "Domain ancillary: ncvar%b\n",
      "    Data(atmosphere_hybrid_height_coordinate(1)) = [20.0]\n",
      "    Bounds:Data(atmosphere_hybrid_height_coordinate(1), 2) = [[14.0, 26.0]]\n",
      "\n",
      "Domain ancillary: surface_altitude\n",
      "    standard_name = 'surface_altitude'\n",
      "    units = 'm'\n",
      "    Data(grid_latitude(10), grid_longitude(9)) = [[0.0, ..., 270.0]] m\n",
      "\n",
      "Coordinate reference: atmosphere_hybrid_height_coordinate\n",
      "    Coordinate conversion:computed_standard_name = altitude\n",
      "    Coordinate conversion:standard_name = atmosphere_hybrid_height_coordinate\n",
      "    Coordinate conversion:a = Domain Ancillary: ncvar%a\n",
      "    Coordinate conversion:b = Domain Ancillary: ncvar%b\n",
      "    Coordinate conversion:orog = Domain Ancillary: surface_altitude\n",
      "    Datum:earth_radius = 6371007\n",
      "    Dimension Coordinate: atmosphere_hybrid_height_coordinate\n",
      "\n",
      "Coordinate reference: rotated_latitude_longitude\n",
      "    Coordinate conversion:grid_mapping_name = rotated_latitude_longitude\n",
      "    Coordinate conversion:grid_north_pole_latitude = 38.0\n",
      "    Coordinate conversion:grid_north_pole_longitude = 190.0\n",
      "    Datum:earth_radius = 6371007\n",
      "    Dimension Coordinate: grid_longitude\n",
      "    Dimension Coordinate: grid_latitude\n",
      "    Auxiliary Coordinate: longitude\n",
      "    Auxiliary Coordinate: latitude\n",
      "\n",
      "Cell measure: measure%area\n",
      "    units = 'km2'\n",
      "    Data(grid_longitude(9), grid_latitude(10)) = [[2391.9657, ..., 2392.6009]] km2\n",
      "\n"
     ]
    }
   ],
   "source": [
    "t.dump()"
   ]
  },
  {
   "cell_type": "markdown",
   "metadata": {
    "hidden": true
   },
   "source": [
    "---"
   ]
  },
  {
   "cell_type": "markdown",
   "metadata": {
    "heading_collapsed": true
   },
   "source": [
    "## Properties\n",
    "[**Back to top**](#cfdm-tutorial-notebook)  \n",
    "[**Go to tutorial**](https://ncas-cms.github.io/cfdm/tutorial.html#Properties)  "
   ]
  },
  {
   "cell_type": "code",
   "execution_count": 12,
   "metadata": {
    "attributes": {
     "classes": [
      "sourceCode"
     ],
     "id": ""
    },
    "collapsed": false,
    "hidden": true
   },
   "outputs": [
    {
     "data": {
      "text/plain": [
       "{'Conventions': 'CF-1.7',\n",
       " 'project': 'research',\n",
       " 'standard_name': 'air_temperature',\n",
       " 'units': 'K'}"
      ]
     },
     "execution_count": 12,
     "metadata": {},
     "output_type": "execute_result"
    }
   ],
   "source": [
    "t.properties()"
   ]
  },
  {
   "cell_type": "markdown",
   "metadata": {
    "hidden": true
   },
   "source": [
    "---"
   ]
  },
  {
   "cell_type": "code",
   "execution_count": 13,
   "metadata": {
    "collapsed": false,
    "hidden": true
   },
   "outputs": [
    {
     "data": {
      "text/plain": [
       "True"
      ]
     },
     "execution_count": 13,
     "metadata": {},
     "output_type": "execute_result"
    }
   ],
   "source": [
    "t.has_property('standard_name')"
   ]
  },
  {
   "cell_type": "code",
   "execution_count": 14,
   "metadata": {
    "collapsed": false,
    "hidden": true
   },
   "outputs": [
    {
     "data": {
      "text/plain": [
       "'air_temperature'"
      ]
     },
     "execution_count": 14,
     "metadata": {},
     "output_type": "execute_result"
    }
   ],
   "source": [
    "t.get_property('standard_name')"
   ]
  },
  {
   "cell_type": "code",
   "execution_count": 15,
   "metadata": {
    "collapsed": false,
    "hidden": true
   },
   "outputs": [
    {
     "data": {
      "text/plain": [
       "'air_temperature'"
      ]
     },
     "execution_count": 15,
     "metadata": {},
     "output_type": "execute_result"
    }
   ],
   "source": [
    "t.del_property('standard_name')"
   ]
  },
  {
   "cell_type": "code",
   "execution_count": 16,
   "metadata": {
    "collapsed": false,
    "hidden": true
   },
   "outputs": [
    {
     "data": {
      "text/plain": [
       "'not set'"
      ]
     },
     "execution_count": 16,
     "metadata": {},
     "output_type": "execute_result"
    }
   ],
   "source": [
    "t.get_property('standard_name', 'not set')"
   ]
  },
  {
   "cell_type": "code",
   "execution_count": 17,
   "metadata": {
    "attributes": {
     "classes": [
      "sourceCode"
     ],
     "id": ""
    },
    "collapsed": false,
    "hidden": true
   },
   "outputs": [
    {
     "data": {
      "text/plain": [
       "'air_temperature'"
      ]
     },
     "execution_count": 17,
     "metadata": {},
     "output_type": "execute_result"
    }
   ],
   "source": [
    "t.set_property('standard_name', 'air_temperature')\n",
    "t.get_property('standard_name', 'not set')"
   ]
  },
  {
   "cell_type": "markdown",
   "metadata": {
    "hidden": true
   },
   "source": [
    "---"
   ]
  },
  {
   "cell_type": "code",
   "execution_count": 18,
   "metadata": {
    "collapsed": false,
    "hidden": true
   },
   "outputs": [
    {
     "data": {
      "text/plain": [
       "{'project': 'research',\n",
       " 'units': 'K',\n",
       " 'standard_name': 'air_temperature',\n",
       " 'Conventions': 'CF-1.7'}"
      ]
     },
     "execution_count": 18,
     "metadata": {},
     "output_type": "execute_result"
    }
   ],
   "source": [
    "original = t.properties({'foo': 'bar', 'units': 'K'})\n",
    "original"
   ]
  },
  {
   "cell_type": "code",
   "execution_count": 19,
   "metadata": {
    "collapsed": false,
    "hidden": true
   },
   "outputs": [
    {
     "data": {
      "text/plain": [
       "{'foo': 'bar', 'units': 'K'}"
      ]
     },
     "execution_count": 19,
     "metadata": {},
     "output_type": "execute_result"
    }
   ],
   "source": [
    "t.properties()"
   ]
  },
  {
   "cell_type": "code",
   "execution_count": 20,
   "metadata": {
    "collapsed": false,
    "hidden": true
   },
   "outputs": [
    {
     "data": {
      "text/plain": [
       "{'foo': 'bar', 'units': 'K'}"
      ]
     },
     "execution_count": 20,
     "metadata": {},
     "output_type": "execute_result"
    }
   ],
   "source": [
    "t.properties(original)"
   ]
  },
  {
   "cell_type": "code",
   "execution_count": 21,
   "metadata": {
    "attributes": {
     "classes": [
      "sourceCode"
     ],
     "id": ""
    },
    "collapsed": false,
    "hidden": true
   },
   "outputs": [
    {
     "data": {
      "text/plain": [
       "{'project': 'research',\n",
       " 'units': 'K',\n",
       " 'standard_name': 'air_temperature',\n",
       " 'Conventions': 'CF-1.7'}"
      ]
     },
     "execution_count": 21,
     "metadata": {},
     "output_type": "execute_result"
    }
   ],
   "source": [
    "t.properties()"
   ]
  },
  {
   "cell_type": "markdown",
   "metadata": {
    "hidden": true
   },
   "source": [
    "---"
   ]
  },
  {
   "cell_type": "markdown",
   "metadata": {
    "heading_collapsed": true
   },
   "source": [
    "## Data\n",
    "[**Back to top**](#cfdm-tutorial-notebook)  \n",
    "[**Go to tutorial**](https://ncas-cms.github.io/cfdm/tutorial.html#Data)"
   ]
  },
  {
   "cell_type": "code",
   "execution_count": 22,
   "metadata": {
    "attributes": {
     "classes": [
      "sourceCode"
     ],
     "id": ""
    },
    "collapsed": false,
    "hidden": true
   },
   "outputs": [
    {
     "data": {
      "text/plain": [
       "<Data(1, 10, 9): [[[262.8, ..., 269.7]]] K>"
      ]
     },
     "execution_count": 22,
     "metadata": {},
     "output_type": "execute_result"
    }
   ],
   "source": [
    "t.get_data()"
   ]
  },
  {
   "cell_type": "markdown",
   "metadata": {
    "hidden": true
   },
   "source": [
    "---"
   ]
  },
  {
   "cell_type": "code",
   "execution_count": 23,
   "metadata": {
    "attributes": {
     "classes": [
      "sourceCode"
     ],
     "id": ""
    },
    "collapsed": false,
    "hidden": true
   },
   "outputs": [
    {
     "name": "stdout",
     "output_type": "stream",
     "text": [
      "[[[262.8 270.5 279.8 269.5 260.9 265.0 263.5 278.9 269.2]\n",
      "  [272.7 268.4 279.5 278.9 263.8 263.3 274.2 265.7 279.5]\n",
      "  [269.7 279.1 273.4 274.2 279.6 270.2 280.0 272.5 263.7]\n",
      "  [261.7 260.6 270.8 260.3 265.6 279.4 276.9 267.6 260.6]\n",
      "  [264.2 275.9 262.5 264.9 264.7 270.2 270.4 268.6 275.3]\n",
      "  [263.9 263.8 272.1 263.7 272.2 264.2 260.0 263.5 270.2]\n",
      "  [273.8 273.1 268.5 272.3 264.3 278.7 270.6 273.0 270.6]\n",
      "  [267.9 273.5 279.8 260.3 261.2 275.3 271.2 260.8 268.9]\n",
      "  [270.9 278.7 273.2 261.7 271.6 265.8 273.0 278.5 266.4]\n",
      "  [276.4 264.2 276.3 266.1 276.1 268.1 277.0 273.4 269.7]]]\n"
     ]
    }
   ],
   "source": [
    "print(t.get_array())"
   ]
  },
  {
   "cell_type": "markdown",
   "metadata": {
    "hidden": true
   },
   "source": [
    "---"
   ]
  },
  {
   "cell_type": "code",
   "execution_count": 24,
   "metadata": {
    "collapsed": false,
    "hidden": true
   },
   "outputs": [
    {
     "data": {
      "text/plain": [
       "dtype('float64')"
      ]
     },
     "execution_count": 24,
     "metadata": {},
     "output_type": "execute_result"
    }
   ],
   "source": [
    "t.data.dtype"
   ]
  },
  {
   "cell_type": "code",
   "execution_count": 25,
   "metadata": {
    "collapsed": false,
    "hidden": true
   },
   "outputs": [
    {
     "data": {
      "text/plain": [
       "3"
      ]
     },
     "execution_count": 25,
     "metadata": {},
     "output_type": "execute_result"
    }
   ],
   "source": [
    "t.data.ndim"
   ]
  },
  {
   "cell_type": "code",
   "execution_count": 26,
   "metadata": {
    "collapsed": false,
    "hidden": true
   },
   "outputs": [
    {
     "data": {
      "text/plain": [
       "(1, 10, 9)"
      ]
     },
     "execution_count": 26,
     "metadata": {},
     "output_type": "execute_result"
    }
   ],
   "source": [
    "t.data.shape"
   ]
  },
  {
   "cell_type": "code",
   "execution_count": 27,
   "metadata": {
    "attributes": {
     "classes": [
      "sourceCode"
     ],
     "id": ""
    },
    "collapsed": false,
    "hidden": true
   },
   "outputs": [
    {
     "data": {
      "text/plain": [
       "90"
      ]
     },
     "execution_count": 27,
     "metadata": {},
     "output_type": "execute_result"
    }
   ],
   "source": [
    "t.data.size"
   ]
  },
  {
   "cell_type": "markdown",
   "metadata": {
    "heading_collapsed": true,
    "hidden": true
   },
   "source": [
    "### Indexing\n",
    "[**Back to top**](#cfdm-tutorial-notebook)  \n",
    "[**Go to tutorial**](https://ncas-cms.github.io/cfdm/tutorial.html#Indexing) "
   ]
  },
  {
   "cell_type": "code",
   "execution_count": 28,
   "metadata": {
    "collapsed": false,
    "hidden": true
   },
   "outputs": [
    {
     "data": {
      "text/plain": [
       "(1, 10, 9)"
      ]
     },
     "execution_count": 28,
     "metadata": {},
     "output_type": "execute_result"
    }
   ],
   "source": [
    "data = t.data\n",
    "data.shape"
   ]
  },
  {
   "cell_type": "code",
   "execution_count": 29,
   "metadata": {
    "collapsed": false,
    "hidden": true
   },
   "outputs": [
    {
     "data": {
      "text/plain": [
       "(1, 10, 1)"
      ]
     },
     "execution_count": 29,
     "metadata": {},
     "output_type": "execute_result"
    }
   ],
   "source": [
    "data[:, :, 1].shape"
   ]
  },
  {
   "cell_type": "code",
   "execution_count": 30,
   "metadata": {
    "collapsed": false,
    "hidden": true
   },
   "outputs": [
    {
     "data": {
      "text/plain": [
       "(1, 1, 9)"
      ]
     },
     "execution_count": 30,
     "metadata": {},
     "output_type": "execute_result"
    }
   ],
   "source": [
    "data[:, 0].shape"
   ]
  },
  {
   "cell_type": "code",
   "execution_count": 31,
   "metadata": {
    "collapsed": false,
    "hidden": true
   },
   "outputs": [
    {
     "data": {
      "text/plain": [
       "(1, 3, 3)"
      ]
     },
     "execution_count": 31,
     "metadata": {},
     "output_type": "execute_result"
    }
   ],
   "source": [
    "data[..., 6:3:-1, 3:6].shape"
   ]
  },
  {
   "cell_type": "code",
   "execution_count": 32,
   "metadata": {
    "collapsed": false,
    "hidden": true
   },
   "outputs": [
    {
     "data": {
      "text/plain": [
       "(1, 2, 2)"
      ]
     },
     "execution_count": 32,
     "metadata": {},
     "output_type": "execute_result"
    }
   ],
   "source": [
    "data[0, [2, 9], [4, 8]].shape"
   ]
  },
  {
   "cell_type": "code",
   "execution_count": 33,
   "metadata": {
    "attributes": {
     "classes": [
      "sourceCode"
     ],
     "id": ""
    },
    "collapsed": false,
    "hidden": true
   },
   "outputs": [
    {
     "data": {
      "text/plain": [
       "(1, 10, 1)"
      ]
     },
     "execution_count": 33,
     "metadata": {},
     "output_type": "execute_result"
    }
   ],
   "source": [
    "data[0, :, -2].shape"
   ]
  },
  {
   "cell_type": "markdown",
   "metadata": {
    "heading_collapsed": true,
    "hidden": true
   },
   "source": [
    "### Assignment\n",
    "[**Back to top**](#cfdm-tutorial-notebook)  \n",
    "[**Go to tutorial**](https://ncas-cms.github.io/cfdm/tutorial.html#Assignment) "
   ]
  },
  {
   "cell_type": "code",
   "execution_count": 34,
   "metadata": {
    "collapsed": false,
    "hidden": true
   },
   "outputs": [
    {
     "name": "stdout",
     "output_type": "stream",
     "text": [
      "[[[0.0 1.0 2.0 3.0 4.0 5.0 6.0 -- 8.0]\n",
      "  [272.7 -10.0 279.5 278.9 263.8 263.3 274.2 -- 279.5]\n",
      "  [269.7 -10.0 273.4 274.2 -2.0 270.2 280.0 -- -3.0]\n",
      "  [261.7 -10.0 270.8 260.3 265.6 279.4 276.9 -- 260.6]\n",
      "  [264.2 -10.0 262.5 -12.0 -11.0 -10.0 270.4 -- 275.3]\n",
      "  [263.9 -10.0 272.1 -15.0 -14.0 -13.0 260.0 -1.0 270.2]\n",
      "  [273.8 -10.0 268.5 -18.0 -17.0 -16.0 270.6 -- 270.6]\n",
      "  [267.9 -10.0 279.8 260.3 261.2 275.3 271.2 -- 268.9]\n",
      "  [270.9 -10.0 273.2 261.7 271.6 265.8 273.0 -- 266.4]\n",
      "  [276.4 -10.0 276.3 266.1 -2.0 268.1 277.0 -- -3.0]]]\n"
     ]
    }
   ],
   "source": [
    "import numpy\n",
    "t.data[:, :, 1] = -10\n",
    "t.data[:, 0] = range(9)\n",
    "t.data[..., 6:3:-1, 3:6] = numpy.arange(-18, -9).reshape(3, 3)\n",
    "t.data[0, [2, 9], [4, 8]] =  cfdm.Data([[-2, -3]])\n",
    "t.data[0, :, -2] = numpy.ma.masked\n",
    "t.data[0, 5, -2] = -1\n",
    "print(t.get_array())"
   ]
  },
  {
   "cell_type": "markdown",
   "metadata": {
    "heading_collapsed": true,
    "hidden": true
   },
   "source": [
    "### Data dimensions\n",
    "[**Back to top**](#cfdm-tutorial-notebook)  \n",
    "[**Go to tutorial**](https://ncas-cms.github.io/cfdm/tutorial.html#Data-dimensions) "
   ]
  },
  {
   "cell_type": "code",
   "execution_count": 35,
   "metadata": {
    "collapsed": false,
    "hidden": true
   },
   "outputs": [
    {
     "data": {
      "text/plain": [
       "<Field: air_temperature(atmosphere_hybrid_height_coordinate(1), grid_latitude(10), grid_longitude(9)) K>"
      ]
     },
     "execution_count": 35,
     "metadata": {},
     "output_type": "execute_result"
    }
   ],
   "source": [
    "t"
   ]
  },
  {
   "cell_type": "code",
   "execution_count": 36,
   "metadata": {
    "collapsed": false,
    "hidden": true
   },
   "outputs": [
    {
     "data": {
      "text/plain": [
       "<Field: air_temperature(grid_latitude(10), grid_longitude(9)) K>"
      ]
     },
     "execution_count": 36,
     "metadata": {},
     "output_type": "execute_result"
    }
   ],
   "source": [
    "t2 = t.squeeze(0)\n",
    "t2"
   ]
  },
  {
   "cell_type": "code",
   "execution_count": 37,
   "metadata": {
    "collapsed": false,
    "hidden": true
   },
   "outputs": [
    {
     "data": {
      "text/plain": [
       "<Field: air_temperature(grid_latitude(10), time(1), grid_longitude(9)) K>"
      ]
     },
     "execution_count": 37,
     "metadata": {},
     "output_type": "execute_result"
    }
   ],
   "source": [
    "t2 = t2.expand_dims(axis='domainaxis3', position=1)\n",
    "t2"
   ]
  },
  {
   "cell_type": "code",
   "execution_count": 38,
   "metadata": {
    "collapsed": false,
    "hidden": true
   },
   "outputs": [
    {
     "data": {
      "text/plain": [
       "<Field: air_temperature(grid_longitude(9), grid_latitude(10), time(1)) K>"
      ]
     },
     "execution_count": 38,
     "metadata": {},
     "output_type": "execute_result"
    }
   ],
   "source": [
    "t2.transpose([2, 0, 1])"
   ]
  },
  {
   "cell_type": "markdown",
   "metadata": {
    "hidden": true
   },
   "source": [
    "---"
   ]
  },
  {
   "cell_type": "markdown",
   "metadata": {
    "heading_collapsed": true
   },
   "source": [
    "## Subspacing\n",
    "[**Back to top**](#cfdm-tutorial-notebook)  \n",
    "[**Go to tutorial**](https://ncas-cms.github.io/cfdm/tutorial.html#Subspacing)"
   ]
  },
  {
   "cell_type": "code",
   "execution_count": 39,
   "metadata": {
    "collapsed": false,
    "hidden": true
   },
   "outputs": [
    {
     "name": "stdout",
     "output_type": "stream",
     "text": [
      "Field: specific_humidity (ncvar%q)\n",
      "----------------------------------\n",
      "Data            : specific_humidity(latitude(5), longitude(8)) 1\n",
      "Cell methods    : area: mean\n",
      "Dimension coords: latitude(5) = [-75.0, ..., 75.0] degrees_north\n",
      "                : longitude(8) = [22.5, ..., 337.5] degrees_east\n",
      "                : time(1) = [2019-01-01 00:00:00]\n",
      "\n",
      "\n"
     ]
    }
   ],
   "source": [
    "print(q)"
   ]
  },
  {
   "cell_type": "code",
   "execution_count": 40,
   "metadata": {
    "attributes": {
     "classes": [
      "sourceCode"
     ],
     "id": ""
    },
    "collapsed": false,
    "hidden": true
   },
   "outputs": [
    {
     "name": "stdout",
     "output_type": "stream",
     "text": [
      "Field: specific_humidity (ncvar%q)\n",
      "----------------------------------\n",
      "Data            : specific_humidity(latitude(5), longitude(1)) 1\n",
      "Cell methods    : area: mean\n",
      "Dimension coords: latitude(5) = [75.0, ..., -75.0] degrees_north\n",
      "                : longitude(1) = [22.5] degrees_east\n",
      "                : time(1) = [2019-01-01 00:00:00]\n",
      "\n",
      "\n"
     ]
    }
   ],
   "source": [
    "new = q[::-1, 0]\n",
    "print(new)"
   ]
  },
  {
   "cell_type": "markdown",
   "metadata": {
    "hidden": true
   },
   "source": [
    "---"
   ]
  },
  {
   "cell_type": "markdown",
   "metadata": {
    "heading_collapsed": true
   },
   "source": [
    "## Metadata constructs\n",
    "[**Back to top**](#cfdm-tutorial-notebook)  \n",
    "[**Go to tutorial**](https://ncas-cms.github.io/cfdm/tutorial.html#Metadata-constructs)"
   ]
  },
  {
   "cell_type": "code",
   "execution_count": 41,
   "metadata": {
    "collapsed": false
   },
   "outputs": [
    {
     "data": {
      "text/plain": [
       "{'coordinatereference0': <CoordinateReference: atmosphere_hybrid_height_coordinate>,\n",
       " 'coordinatereference1': <CoordinateReference: rotated_latitude_longitude>}"
      ]
     },
     "execution_count": 41,
     "metadata": {},
     "output_type": "execute_result"
    }
   ],
   "source": [
    "t.coordinate_references()"
   ]
  },
  {
   "cell_type": "code",
   "execution_count": 42,
   "metadata": {
    "collapsed": false
   },
   "outputs": [
    {
     "data": {
      "text/plain": [
       "{'dimensioncoordinate0': <DimensionCoordinate: atmosphere_hybrid_height_coordinate(1) >,\n",
       " 'dimensioncoordinate1': <DimensionCoordinate: grid_latitude(10) degrees>,\n",
       " 'dimensioncoordinate2': <DimensionCoordinate: grid_longitude(9) degrees>,\n",
       " 'dimensioncoordinate3': <DimensionCoordinate: time(1) days since 2018-12-01 >}"
      ]
     },
     "execution_count": 42,
     "metadata": {},
     "output_type": "execute_result"
    }
   ],
   "source": [
    "t.dimension_coordinates()"
   ]
  },
  {
   "cell_type": "markdown",
   "metadata": {},
   "source": [
    "----"
   ]
  },
  {
   "cell_type": "code",
   "execution_count": 43,
   "metadata": {
    "collapsed": false,
    "hidden": true
   },
   "outputs": [
    {
     "data": {
      "text/plain": [
       "{'cellmethod0': <CellMethod: area: mean>,\n",
       " 'dimensioncoordinate0': <DimensionCoordinate: latitude(5) degrees_north>,\n",
       " 'dimensioncoordinate1': <DimensionCoordinate: longitude(8) degrees_east>,\n",
       " 'dimensioncoordinate2': <DimensionCoordinate: time(1) days since 2018-12-01 >,\n",
       " 'domainaxis0': <DomainAxis: 5>,\n",
       " 'domainaxis1': <DomainAxis: 8>,\n",
       " 'domainaxis2': <DomainAxis: 1>}"
      ]
     },
     "execution_count": 43,
     "metadata": {},
     "output_type": "execute_result"
    }
   ],
   "source": [
    "q.constructs()"
   ]
  },
  {
   "cell_type": "code",
   "execution_count": 44,
   "metadata": {
    "attributes": {
     "classes": [
      "sourceCode"
     ],
     "id": ""
    },
    "collapsed": false,
    "hidden": true
   },
   "outputs": [
    {
     "data": {
      "text/plain": [
       "{'auxiliarycoordinate0': <AuxiliaryCoordinate: latitude(10, 9) degrees_N>,\n",
       " 'auxiliarycoordinate1': <AuxiliaryCoordinate: longitude(9, 10) degrees_E>,\n",
       " 'auxiliarycoordinate2': <AuxiliaryCoordinate: long_name:Grid latitude name(10) >,\n",
       " 'cellmeasure0': <CellMeasure: measure%area(9, 10) km2>,\n",
       " 'cellmethod0': <CellMethod: domainaxis1: domainaxis2: mean where land (interval: 0.1 degrees)>,\n",
       " 'cellmethod1': <CellMethod: domainaxis3: maximum>,\n",
       " 'coordinatereference0': <CoordinateReference: atmosphere_hybrid_height_coordinate>,\n",
       " 'coordinatereference1': <CoordinateReference: rotated_latitude_longitude>,\n",
       " 'dimensioncoordinate0': <DimensionCoordinate: atmosphere_hybrid_height_coordinate(1) >,\n",
       " 'dimensioncoordinate1': <DimensionCoordinate: grid_latitude(10) degrees>,\n",
       " 'dimensioncoordinate2': <DimensionCoordinate: grid_longitude(9) degrees>,\n",
       " 'dimensioncoordinate3': <DimensionCoordinate: time(1) days since 2018-12-01 >,\n",
       " 'domainancillary0': <DomainAncillary: ncvar%a(1) m>,\n",
       " 'domainancillary1': <DomainAncillary: ncvar%b(1) >,\n",
       " 'domainancillary2': <DomainAncillary: surface_altitude(10, 9) m>,\n",
       " 'domainaxis0': <DomainAxis: 1>,\n",
       " 'domainaxis1': <DomainAxis: 10>,\n",
       " 'domainaxis2': <DomainAxis: 9>,\n",
       " 'domainaxis3': <DomainAxis: 1>,\n",
       " 'fieldancillary0': <FieldAncillary: air_temperature standard_error(10, 9) K>}"
      ]
     },
     "execution_count": 44,
     "metadata": {},
     "output_type": "execute_result"
    }
   ],
   "source": [
    "t.constructs()"
   ]
  },
  {
   "cell_type": "markdown",
   "metadata": {
    "hidden": true
   },
   "source": [
    "---"
   ]
  },
  {
   "cell_type": "code",
   "execution_count": 45,
   "metadata": {
    "collapsed": false,
    "hidden": true
   },
   "outputs": [
    {
     "data": {
      "text/plain": [
       "{'fieldancillary0': <FieldAncillary: air_temperature standard_error(10, 9) K>}"
      ]
     },
     "execution_count": 45,
     "metadata": {},
     "output_type": "execute_result"
    }
   ],
   "source": [
    "t.constructs('air_temperature standard_error')"
   ]
  },
  {
   "cell_type": "code",
   "execution_count": 46,
   "metadata": {
    "collapsed": false,
    "hidden": true
   },
   "outputs": [
    {
     "data": {
      "text/plain": [
       "{'dimensioncoordinate0': <DimensionCoordinate: atmosphere_hybrid_height_coordinate(1) >,\n",
       " 'dimensioncoordinate1': <DimensionCoordinate: grid_latitude(10) degrees>,\n",
       " 'dimensioncoordinate2': <DimensionCoordinate: grid_longitude(9) degrees>,\n",
       " 'dimensioncoordinate3': <DimensionCoordinate: time(1) days since 2018-12-01 >}"
      ]
     },
     "execution_count": 46,
     "metadata": {},
     "output_type": "execute_result"
    }
   ],
   "source": [
    "t.constructs(construct_type='dimension_coordinate')"
   ]
  },
  {
   "cell_type": "code",
   "execution_count": 47,
   "metadata": {
    "collapsed": false,
    "hidden": true
   },
   "outputs": [
    {
     "data": {
      "text/plain": [
       "{'auxiliarycoordinate0': <AuxiliaryCoordinate: latitude(10, 9) degrees_N>,\n",
       " 'auxiliarycoordinate1': <AuxiliaryCoordinate: longitude(9, 10) degrees_E>,\n",
       " 'auxiliarycoordinate2': <AuxiliaryCoordinate: long_name:Grid latitude name(10) >,\n",
       " 'cellmeasure0': <CellMeasure: measure%area(9, 10) km2>,\n",
       " 'dimensioncoordinate1': <DimensionCoordinate: grid_latitude(10) degrees>,\n",
       " 'domainancillary2': <DomainAncillary: surface_altitude(10, 9) m>,\n",
       " 'fieldancillary0': <FieldAncillary: air_temperature standard_error(10, 9) K>}"
      ]
     },
     "execution_count": 47,
     "metadata": {},
     "output_type": "execute_result"
    }
   ],
   "source": [
    "t.constructs(axes=['domainaxis1'])"
   ]
  },
  {
   "cell_type": "code",
   "execution_count": 48,
   "metadata": {
    "collapsed": false,
    "hidden": true
   },
   "outputs": [
    {
     "data": {
      "text/plain": [
       "{'dimensioncoordinate3': <DimensionCoordinate: time(1) days since 2018-12-01 >}"
      ]
     },
     "execution_count": 48,
     "metadata": {},
     "output_type": "execute_result"
    }
   ],
   "source": [
    "t.constructs(axes=['domainaxis3'])"
   ]
  },
  {
   "cell_type": "code",
   "execution_count": 49,
   "metadata": {
    "collapsed": false,
    "hidden": true
   },
   "outputs": [
    {
     "data": {
      "text/plain": [
       "{'dimensioncoordinate1': <DimensionCoordinate: grid_latitude(10) degrees>}"
      ]
     },
     "execution_count": 49,
     "metadata": {},
     "output_type": "execute_result"
    }
   ],
   "source": [
    "t.constructs(construct_type='dimension_coordinate', axes=['domainaxis1'])"
   ]
  },
  {
   "cell_type": "code",
   "execution_count": 50,
   "metadata": {
    "attributes": {
     "classes": [
      "sourceCode"
     ],
     "id": ""
    },
    "collapsed": false,
    "hidden": true
   },
   "outputs": [
    {
     "data": {
      "text/plain": [
       "{}"
      ]
     },
     "execution_count": 50,
     "metadata": {},
     "output_type": "execute_result"
    }
   ],
   "source": [
    "t.constructs('wavelength')"
   ]
  },
  {
   "cell_type": "markdown",
   "metadata": {
    "hidden": true
   },
   "source": [
    "---"
   ]
  },
  {
   "cell_type": "code",
   "execution_count": 51,
   "metadata": {
    "collapsed": false
   },
   "outputs": [
    {
     "data": {
      "text/plain": [
       "{'cellmeasure0': <CellMeasure: measure%area(9, 10) km2>}"
      ]
     },
     "execution_count": 51,
     "metadata": {},
     "output_type": "execute_result"
    }
   ],
   "source": [
    " t.constructs(construct_type='cell_measure')"
   ]
  },
  {
   "cell_type": "code",
   "execution_count": 52,
   "metadata": {
    "collapsed": false
   },
   "outputs": [
    {
     "data": {
      "text/plain": [
       "{'cellmeasure0': <CellMeasure: measure%area(9, 10) km2>}"
      ]
     },
     "execution_count": 52,
     "metadata": {},
     "output_type": "execute_result"
    }
   ],
   "source": [
    "t.cell_measures()"
   ]
  },
  {
   "cell_type": "markdown",
   "metadata": {},
   "source": [
    "----"
   ]
  },
  {
   "cell_type": "code",
   "execution_count": 53,
   "metadata": {
    "collapsed": false,
    "hidden": true
   },
   "outputs": [
    {
     "data": {
      "text/plain": [
       "{'domainancillary2': <DomainAncillary: surface_altitude(10, 9) m>}"
      ]
     },
     "execution_count": 53,
     "metadata": {},
     "output_type": "execute_result"
    }
   ],
   "source": [
    "t.constructs(cid='domainancillary2')"
   ]
  },
  {
   "cell_type": "code",
   "execution_count": 54,
   "metadata": {
    "collapsed": false,
    "hidden": true
   },
   "outputs": [
    {
     "data": {
      "text/plain": [
       "{'cellmethod1': <CellMethod: domainaxis3: maximum>}"
      ]
     },
     "execution_count": 54,
     "metadata": {},
     "output_type": "execute_result"
    }
   ],
   "source": [
    "t.constructs('cid%cellmethod1')"
   ]
  },
  {
   "cell_type": "code",
   "execution_count": 55,
   "metadata": {
    "attributes": {
     "classes": [
      "sourceCode"
     ],
     "id": ""
    },
    "collapsed": false,
    "hidden": true
   },
   "outputs": [
    {
     "data": {
      "text/plain": [
       "{}"
      ]
     },
     "execution_count": 55,
     "metadata": {},
     "output_type": "execute_result"
    }
   ],
   "source": [
    "t.constructs(cid='auxiliarycoordinate999')"
   ]
  },
  {
   "cell_type": "markdown",
   "metadata": {
    "hidden": true
   },
   "source": [
    "---"
   ]
  },
  {
   "cell_type": "code",
   "execution_count": 56,
   "metadata": {
    "collapsed": false,
    "hidden": true
   },
   "outputs": [
    {
     "data": {
      "text/plain": [
       "True"
      ]
     },
     "execution_count": 56,
     "metadata": {},
     "output_type": "execute_result"
    }
   ],
   "source": [
    "t.has_construct('latitude')"
   ]
  },
  {
   "cell_type": "code",
   "execution_count": 57,
   "metadata": {
    "collapsed": false,
    "hidden": true
   },
   "outputs": [
    {
     "data": {
      "text/plain": [
       "<AuxiliaryCoordinate: latitude(10, 9) degrees_N>"
      ]
     },
     "execution_count": 57,
     "metadata": {},
     "output_type": "execute_result"
    }
   ],
   "source": [
    "t.get_construct('latitude')"
   ]
  },
  {
   "cell_type": "code",
   "execution_count": 58,
   "metadata": {
    "collapsed": false,
    "hidden": true
   },
   "outputs": [
    {
     "data": {
      "text/plain": [
       "<CellMeasure: measure%area(9, 10) km2>"
      ]
     },
     "execution_count": 58,
     "metadata": {},
     "output_type": "execute_result"
    }
   ],
   "source": [
    "t.get_construct('units:km2')"
   ]
  },
  {
   "cell_type": "code",
   "execution_count": 59,
   "metadata": {
    "collapsed": false,
    "hidden": true
   },
   "outputs": [
    {
     "data": {
      "text/plain": [
       "{'dimensioncoordinate1': <DimensionCoordinate: grid_latitude(10) degrees>,\n",
       " 'dimensioncoordinate2': <DimensionCoordinate: grid_longitude(9) degrees>}"
      ]
     },
     "execution_count": 59,
     "metadata": {},
     "output_type": "execute_result"
    }
   ],
   "source": [
    "t.constructs('units:degrees')"
   ]
  },
  {
   "cell_type": "code",
   "execution_count": 60,
   "metadata": {
    "attributes": {
     "classes": [
      "sourceCode"
     ],
     "id": ""
    },
    "collapsed": false,
    "hidden": true
   },
   "outputs": [
    {
     "name": "stdout",
     "output_type": "stream",
     "text": [
      "ValueError: More than one construct meets criteria\n"
     ]
    }
   ],
   "source": [
    "try:\n",
    "    t.get_construct('units:degrees')\n",
    "except ValueError:\n",
    "    print('ValueError: More than one construct meets criteria')"
   ]
  },
  {
   "cell_type": "code",
   "execution_count": 61,
   "metadata": {
    "collapsed": false,
    "hidden": true
   },
   "outputs": [
    {
     "data": {
      "text/plain": [
       "False"
      ]
     },
     "execution_count": 61,
     "metadata": {},
     "output_type": "execute_result"
    }
   ],
   "source": [
    "t.has_construct('units:degrees')"
   ]
  },
  {
   "cell_type": "markdown",
   "metadata": {
    "heading_collapsed": true,
    "hidden": true
   },
   "source": [
    "### Properties and data\n",
    "[**Back to top**](#cfdm-tutorial-notebook)  \n",
    "[**Go to tutorial**](https://ncas-cms.github.io/cfdm/tutorial.html#Properties-and-data)"
   ]
  },
  {
   "cell_type": "code",
   "execution_count": 62,
   "metadata": {
    "collapsed": false,
    "hidden": true
   },
   "outputs": [
    {
     "data": {
      "text/plain": [
       "<DimensionCoordinate: longitude(8) degrees_east>"
      ]
     },
     "execution_count": 62,
     "metadata": {},
     "output_type": "execute_result"
    }
   ],
   "source": [
    "lon = q.get_construct('longitude')   \n",
    "lon"
   ]
  },
  {
   "cell_type": "code",
   "execution_count": 63,
   "metadata": {
    "collapsed": false,
    "hidden": true
   },
   "outputs": [
    {
     "data": {
      "text/plain": [
       "{'units': 'degrees_east',\n",
       " 'long_name': 'Longitude',\n",
       " 'standard_name': 'longitude'}"
      ]
     },
     "execution_count": 63,
     "metadata": {},
     "output_type": "execute_result"
    }
   ],
   "source": [
    "lon.set_property('long_name', 'Longitude')\n",
    "lon.properties()"
   ]
  },
  {
   "cell_type": "code",
   "execution_count": 64,
   "metadata": {
    "attributes": {
     "classes": [
      "sourceCode"
     ],
     "id": ""
    },
    "collapsed": false,
    "hidden": true
   },
   "outputs": [
    {
     "name": "stdout",
     "output_type": "stream",
     "text": [
      "[22.5 67.5 133.33 157.5 202.5 247.5 292.5 337.5]\n"
     ]
    }
   ],
   "source": [
    "lon.data[2]\n",
    "lon.data[2] = 133.33\n",
    "print(lon.get_array())"
   ]
  },
  {
   "cell_type": "markdown",
   "metadata": {
    "heading_collapsed": true,
    "hidden": true
   },
   "source": [
    "### Domain axes\n",
    "[**Back to top**](#cfdm-tutorial-notebook)  \n",
    "[**Go to tutorial**](https://ncas-cms.github.io/cfdm/tutorial.html#Domain-axes)"
   ]
  },
  {
   "cell_type": "code",
   "execution_count": 65,
   "metadata": {
    "attributes": {
     "classes": [
      "sourceCode"
     ],
     "id": ""
    },
    "collapsed": false,
    "hidden": true
   },
   "outputs": [
    {
     "ename": "AttributeError",
     "evalue": "'Field' object has no attribute 'construct_axes'",
     "output_type": "error",
     "traceback": [
      "\u001b[0;31m---------------------------------------------------------------------------\u001b[0m",
      "\u001b[0;31mAttributeError\u001b[0m                            Traceback (most recent call last)",
      "\u001b[0;32m<ipython-input-65-66faaad647e2>\u001b[0m in \u001b[0;36m<module>\u001b[0;34m()\u001b[0m\n\u001b[0;32m----> 1\u001b[0;31m \u001b[0mt\u001b[0m\u001b[0;34m.\u001b[0m\u001b[0mconstruct_axes\u001b[0m\u001b[0;34m(\u001b[0m\u001b[0;34m)\u001b[0m\u001b[0;34m\u001b[0m\u001b[0m\n\u001b[0m",
      "\u001b[0;31mAttributeError\u001b[0m: 'Field' object has no attribute 'construct_axes'"
     ]
    }
   ],
   "source": [
    "t.construct_axes()"
   ]
  },
  {
   "cell_type": "markdown",
   "metadata": {
    "hidden": true
   },
   "source": [
    "---"
   ]
  },
  {
   "cell_type": "code",
   "execution_count": null,
   "metadata": {
    "collapsed": false,
    "hidden": true
   },
   "outputs": [],
   "source": [
    "t.domain_axes()"
   ]
  },
  {
   "cell_type": "code",
   "execution_count": null,
   "metadata": {
    "collapsed": false,
    "hidden": true
   },
   "outputs": [],
   "source": [
    "t"
   ]
  },
  {
   "cell_type": "code",
   "execution_count": null,
   "metadata": {
    "collapsed": false,
    "hidden": true
   },
   "outputs": [],
   "source": [
    "t.data.shape"
   ]
  },
  {
   "cell_type": "code",
   "execution_count": null,
   "metadata": {
    "collapsed": false,
    "hidden": true
   },
   "outputs": [],
   "source": [
    "t.get_data_axes()"
   ]
  },
  {
   "cell_type": "markdown",
   "metadata": {
    "heading_collapsed": true,
    "hidden": true
   },
   "source": [
    "### Cell methods\n",
    "[**Back to top**](#cfdm-tutorial-notebook)  \n",
    "[**Go to tutorial**](https://ncas-cms.github.io/cfdm/tutorial.html#Cell-methods)"
   ]
  },
  {
   "cell_type": "code",
   "execution_count": null,
   "metadata": {
    "collapsed": false,
    "hidden": true
   },
   "outputs": [],
   "source": [
    "t.cell_methods()"
   ]
  },
  {
   "cell_type": "markdown",
   "metadata": {
    "heading_collapsed": true,
    "hidden": true
   },
   "source": [
    "### Components\n",
    "\n",
    "[**Back to top**](#cfdm-tutorial-notebook)  \n",
    "[**Go to tutorial**](https://ncas-cms.github.io/cfdm/tutorial.html#Components)"
   ]
  },
  {
   "cell_type": "code",
   "execution_count": null,
   "metadata": {
    "collapsed": false,
    "hidden": true
   },
   "outputs": [],
   "source": [
    "lon = t.get_construct('grid_longitude')\n",
    "bounds = lon.get_bounds()\n",
    "bounds"
   ]
  },
  {
   "cell_type": "code",
   "execution_count": null,
   "metadata": {
    "collapsed": false,
    "hidden": true
   },
   "outputs": [],
   "source": [
    "bounds.properties()"
   ]
  },
  {
   "cell_type": "code",
   "execution_count": null,
   "metadata": {
    "collapsed": false,
    "hidden": true
   },
   "outputs": [],
   "source": [
    "bounds.get_data()\n",
    "print(bounds.get_array())"
   ]
  },
  {
   "cell_type": "code",
   "execution_count": null,
   "metadata": {
    "collapsed": false,
    "hidden": true
   },
   "outputs": [],
   "source": [
    "crs = t.get_construct('rotated_latitude_longitude')\n",
    "crs.datum"
   ]
  },
  {
   "cell_type": "code",
   "execution_count": null,
   "metadata": {
    "collapsed": false,
    "hidden": true
   },
   "outputs": [],
   "source": [
    "crs.datum.parameters()"
   ]
  },
  {
   "cell_type": "code",
   "execution_count": null,
   "metadata": {
    "attributes": {
     "classes": [
      "sourceCode"
     ],
     "id": ""
    },
    "collapsed": false,
    "hidden": true
   },
   "outputs": [],
   "source": [
    "crs = t.get_construct('atmosphere_hybrid_height_coordinate',\n",
    "                          construct_type='coordinate_reference')\n",
    "crs.coordinate_conversion.domain_ancillaries()"
   ]
  },
  {
   "cell_type": "markdown",
   "metadata": {
    "hidden": true
   },
   "source": [
    "---"
   ]
  },
  {
   "cell_type": "markdown",
   "metadata": {
    "heading_collapsed": true
   },
   "source": [
    "## NetCDF interface\n",
    "[**Back to top**](#cfdm-tutorial-notebook)  \n",
    "[**Go to tutorial**](https://ncas-cms.github.io/cfdm/tutorial.html#NetCDF-interface)"
   ]
  },
  {
   "cell_type": "code",
   "execution_count": null,
   "metadata": {
    "collapsed": false,
    "hidden": true,
    "scrolled": false
   },
   "outputs": [],
   "source": [
    "t.constructs('ncvar%b')"
   ]
  },
  {
   "cell_type": "code",
   "execution_count": null,
   "metadata": {
    "collapsed": false,
    "hidden": true
   },
   "outputs": [],
   "source": [
    "t.get_construct('ncvar%x')"
   ]
  },
  {
   "cell_type": "code",
   "execution_count": null,
   "metadata": {
    "collapsed": false,
    "hidden": true
   },
   "outputs": [],
   "source": [
    "t.get_construct('ncdim%x')"
   ]
  },
  {
   "cell_type": "markdown",
   "metadata": {
    "hidden": true
   },
   "source": [
    "---"
   ]
  },
  {
   "cell_type": "code",
   "execution_count": null,
   "metadata": {
    "collapsed": false,
    "hidden": true
   },
   "outputs": [],
   "source": [
    "q.nc_get_variable()"
   ]
  },
  {
   "cell_type": "code",
   "execution_count": null,
   "metadata": {
    "collapsed": false,
    "hidden": true
   },
   "outputs": [],
   "source": [
    "q.nc_global_attributes()"
   ]
  },
  {
   "cell_type": "code",
   "execution_count": null,
   "metadata": {
    "collapsed": false,
    "hidden": true
   },
   "outputs": [],
   "source": [
    "q.nc_unlimited_dimensions()"
   ]
  },
  {
   "cell_type": "code",
   "execution_count": null,
   "metadata": {
    "collapsed": false,
    "hidden": true
   },
   "outputs": [],
   "source": [
    "q.nc_set_variable('humidity')\n",
    "q.nc_get_variable()"
   ]
  },
  {
   "cell_type": "markdown",
   "metadata": {
    "hidden": true
   },
   "source": [
    "---"
   ]
  },
  {
   "cell_type": "markdown",
   "metadata": {
    "heading_collapsed": true
   },
   "source": [
    "## Writing to disk\n",
    "[**Back to top**](#cfdm-tutorial-notebook)  \n",
    "[**Go to tutorial**](https://ncas-cms.github.io/cfdm/tutorial.html#Writing-to-disk)"
   ]
  },
  {
   "cell_type": "code",
   "execution_count": null,
   "metadata": {
    "collapsed": false,
    "hidden": true
   },
   "outputs": [],
   "source": [
    "print(q)"
   ]
  },
  {
   "cell_type": "code",
   "execution_count": null,
   "metadata": {
    "collapsed": true,
    "hidden": true
   },
   "outputs": [],
   "source": [
    "cfdm.write(q, 'q_file.nc')"
   ]
  },
  {
   "cell_type": "code",
   "execution_count": null,
   "metadata": {
    "collapsed": false,
    "hidden": true
   },
   "outputs": [],
   "source": [
    "!ncdump -h q_file.nc"
   ]
  },
  {
   "cell_type": "markdown",
   "metadata": {
    "hidden": true
   },
   "source": [
    "---"
   ]
  },
  {
   "cell_type": "code",
   "execution_count": null,
   "metadata": {
    "collapsed": false,
    "hidden": true
   },
   "outputs": [],
   "source": [
    "x"
   ]
  },
  {
   "cell_type": "code",
   "execution_count": null,
   "metadata": {
    "attributes": {
     "classes": [
      "sourceCode"
     ],
     "id": ""
    },
    "collapsed": true,
    "hidden": true
   },
   "outputs": [],
   "source": [
    "cfdm.write(x, 'new_file.nc')"
   ]
  },
  {
   "cell_type": "markdown",
   "metadata": {
    "heading_collapsed": true,
    "hidden": true
   },
   "source": [
    "### Scalar coordinate variables\n",
    "[**Back to top**](#cfdm-tutorial-notebook)  \n",
    "[**Go to tutorial**](https://ncas-cms.github.io/cfdm/tutorial.html#Scalar-coordinate-variables)"
   ]
  },
  {
   "cell_type": "code",
   "execution_count": null,
   "metadata": {
    "collapsed": false,
    "hidden": true
   },
   "outputs": [],
   "source": [
    "print(q)"
   ]
  },
  {
   "cell_type": "code",
   "execution_count": null,
   "metadata": {
    "collapsed": false,
    "hidden": true
   },
   "outputs": [],
   "source": [
    "q.get_construct_axes('time')"
   ]
  },
  {
   "cell_type": "code",
   "execution_count": null,
   "metadata": {
    "collapsed": false,
    "hidden": true
   },
   "outputs": [],
   "source": [
    "q2 = q.expand_dims(axis='domainaxis2')\n",
    "q2"
   ]
  },
  {
   "cell_type": "code",
   "execution_count": null,
   "metadata": {
    "collapsed": true,
    "hidden": true
   },
   "outputs": [],
   "source": [
    "cfdm.write(q2, 'q2_file.nc')"
   ]
  },
  {
   "cell_type": "code",
   "execution_count": null,
   "metadata": {
    "collapsed": false,
    "hidden": true
   },
   "outputs": [],
   "source": [
    "!ncdump -h q2_file.nc"
   ]
  },
  {
   "cell_type": "markdown",
   "metadata": {
    "hidden": true
   },
   "source": [
    "---"
   ]
  },
  {
   "cell_type": "markdown",
   "metadata": {
    "heading_collapsed": true
   },
   "source": [
    "## Field construct creation\n",
    "[**Back to top**](#cfdm-tutorial-notebook)  \n",
    "[**Go to tutorial**](https://ncas-cms.github.io/cfdm/tutorial.html#Field-construct-creation)"
   ]
  },
  {
   "cell_type": "code",
   "execution_count": null,
   "metadata": {
    "collapsed": false,
    "hidden": true
   },
   "outputs": [],
   "source": [
    "p = cfdm.Field(properties={'standard_name': 'precipitation_flux'})\n",
    "p"
   ]
  },
  {
   "cell_type": "code",
   "execution_count": null,
   "metadata": {
    "collapsed": false,
    "hidden": true
   },
   "outputs": [],
   "source": [
    "dc = cfdm.DimensionCoordinate(properties={'long_name': 'Longitude'},\n",
    "                              data=cfdm.Data([0, 1, 2.]))\n",
    "dc"
   ]
  },
  {
   "cell_type": "code",
   "execution_count": null,
   "metadata": {
    "attributes": {
     "classes": [
      "sourceCode"
     ],
     "id": ""
    },
    "collapsed": false,
    "hidden": true
   },
   "outputs": [],
   "source": [
    "fa = cfdm.FieldAncillary(\n",
    "           properties={'standard_name': 'precipitation_flux status_flag'},\n",
    "           data=cfdm.Data(numpy.array([0, 0, 2], dtype='int8')))\n",
    "fa"
   ]
  },
  {
   "cell_type": "markdown",
   "metadata": {
    "hidden": true
   },
   "source": [
    "---"
   ]
  },
  {
   "cell_type": "code",
   "execution_count": null,
   "metadata": {
    "collapsed": false,
    "hidden": true
   },
   "outputs": [],
   "source": [
    "p = cfdm.Field()\n",
    "p"
   ]
  },
  {
   "cell_type": "code",
   "execution_count": null,
   "metadata": {
    "collapsed": false,
    "hidden": true
   },
   "outputs": [],
   "source": [
    "p.set_property('standard_name', 'precipitation_flux')\n",
    "p"
   ]
  },
  {
   "cell_type": "code",
   "execution_count": null,
   "metadata": {
    "collapsed": false,
    "hidden": true
   },
   "outputs": [],
   "source": [
    "dc = cfdm.DimensionCoordinate()\n",
    "dc"
   ]
  },
  {
   "cell_type": "code",
   "execution_count": null,
   "metadata": {
    "collapsed": false,
    "hidden": true
   },
   "outputs": [],
   "source": [
    "dc.set_property('long_name', 'Longitude')\n",
    "dc.set_data(cfdm.Data([1, 2, 3.]))\n",
    "dc"
   ]
  },
  {
   "cell_type": "code",
   "execution_count": null,
   "metadata": {
    "collapsed": false,
    "hidden": true
   },
   "outputs": [],
   "source": [
    "fa = cfdm.FieldAncillary(\n",
    "           data=cfdm.Data(numpy.array([0, 0, 2], dtype='int8')))\n",
    "fa"
   ]
  },
  {
   "cell_type": "code",
   "execution_count": null,
   "metadata": {
    "attributes": {
     "classes": [
      "sourceCode"
     ],
     "id": ""
    },
    "collapsed": false,
    "hidden": true
   },
   "outputs": [],
   "source": [
    "fa.set_property('standard_name', 'precipitation_flux status_flag')\n",
    "fa"
   ]
  },
  {
   "cell_type": "markdown",
   "metadata": {
    "hidden": true
   },
   "source": [
    "---"
   ]
  },
  {
   "cell_type": "code",
   "execution_count": null,
   "metadata": {
    "collapsed": false,
    "hidden": true
   },
   "outputs": [],
   "source": [
    "longitude_axis = p.set_construct(cfdm.DomainAxis(3))\n",
    "longitude_axis"
   ]
  },
  {
   "cell_type": "code",
   "execution_count": null,
   "metadata": {
    "collapsed": false,
    "hidden": true
   },
   "outputs": [],
   "source": [
    "cid = p.set_construct(dc, axes=[longitude_axis])\n",
    "cid"
   ]
  },
  {
   "cell_type": "code",
   "execution_count": null,
   "metadata": {
    "attributes": {
     "classes": [
      "sourceCode"
     ],
     "id": ""
    },
    "collapsed": false,
    "hidden": true
   },
   "outputs": [],
   "source": [
    "cm = cfdm.CellMethod(axes=[longitude_axis],\n",
    "                     properties={'method': 'minimum'})\n",
    "p.set_construct(cm)\n",
    "print(p)"
   ]
  },
  {
   "cell_type": "markdown",
   "metadata": {
    "hidden": true
   },
   "source": [
    "---"
   ]
  },
  {
   "cell_type": "code",
   "execution_count": null,
   "metadata": {
    "attributes": {
     "classes": [
      "sourceCode"
     ],
     "id": ""
    },
    "collapsed": false,
    "hidden": true
   },
   "outputs": [],
   "source": [
    "import numpy\n",
    "import cfdm\n",
    "\n",
    "# Initialise the field with properties\n",
    "Q = cfdm.Field(properties={'project': 'research',\n",
    "                           'standard_name': 'specific_humidity',\n",
    "                           'units': '1'})\n",
    "\n",
    "# Create the domain axes\n",
    "domain_axisT = cfdm.DomainAxis(1)\n",
    "domain_axisY = cfdm.DomainAxis(5)\n",
    "domain_axisX = cfdm.DomainAxis(8)\n",
    "\n",
    "# Insert the domain axes into the field. The set_constuct method\n",
    "# returns the domain axis construct identifier that will be used\n",
    "# later to specify which domain axis corresponds to which dimension\n",
    "# coordinate construct.  \n",
    "axisT = Q.set_construct(domain_axisT)\n",
    "axisY = Q.set_construct(domain_axisY)\n",
    "axisX = Q.set_construct(domain_axisX)\n",
    "\n",
    "# Field data\n",
    "data = cfdm.Data(numpy.arange(40.).reshape(5, 8))\n",
    "Q.set_data(data, axes=[axisY, axisX])\n",
    "\n",
    "# Create the cell methods\n",
    "cell_method1 = cfdm.CellMethod(axes=['area'], properties={'method': 'mean'})\n",
    "\n",
    "cell_method2 = cfdm.CellMethod()\n",
    "cell_method2.set_axes([axisT])\n",
    "cell_method2.properties({'method': 'maximum'})\n",
    "\n",
    "# Insert the cell methods into the field in the same order that\n",
    "# their methods were applied to the data\n",
    "Q.set_construct(cell_method1)\n",
    "Q.set_construct(cell_method2)\n",
    "\n",
    "# Create the dimension Coordinates\n",
    "dimT = cfdm.DimensionCoordinate(\n",
    "         properties={'standard_name': 'time',\n",
    "                     'units': 'days since 2018-12-01'},\n",
    "         data=cfdm.Data([15.5]),\n",
    "         bounds=cfdm.Bounds(data=cfdm.Data([[0,31.]])))\n",
    "\n",
    "dimY = cfdm.DimensionCoordinate(properties={'standard_name': 'latitude',\n",
    "                                    'units': 'degrees_north'})\n",
    "array = numpy.arange(5.)\n",
    "dimY.set_data(cfdm.Data(array))\n",
    "bounds_array = numpy.empty((5, 2))\n",
    "bounds_array[:, 0] = array - 0.5\n",
    "bounds_array[:, 1] = array + 0.5\n",
    "bounds = cfdm.Bounds(data=cfdm.Data(bounds_array))\n",
    "dimY.set_bounds(bounds)\n",
    "\n",
    "dimX = cfdm.DimensionCoordinate(data=cfdm.Data(numpy.arange(8.)))\n",
    "dimX.properties({'standard_name': 'longitude',\n",
    "                 'units': 'degrees_east'})\n",
    "\n",
    "# Insert the dimension coordinates into the field, specifying to\n",
    "# which domain axis each one corresponds\n",
    "Q.set_construct(dimT, axes=[axisT])\n",
    "Q.set_construct(dimY, axes=[axisY])\n",
    "Q.set_construct(dimX, axes=[axisX])"
   ]
  },
  {
   "cell_type": "code",
   "execution_count": null,
   "metadata": {
    "attributes": {
     "classes": [
      "sourceCode"
     ],
     "id": ""
    },
    "collapsed": false,
    "hidden": true
   },
   "outputs": [],
   "source": [
    "Q.dump()"
   ]
  },
  {
   "cell_type": "code",
   "execution_count": null,
   "metadata": {
    "attributes": {
     "classes": [
      "sourceCode"
     ],
     "id": ""
    },
    "collapsed": true,
    "hidden": true
   },
   "outputs": [],
   "source": [
    "Q.nc_set_variable('q')\n",
    "\n",
    "domain_axisT.nc_set_dimension('time')\n",
    "domain_axisY.nc_set_dimension('lat')\n",
    "domain_axisX.nc_set_dimension('lon')\n",
    "\n",
    "dimT.nc_set_variable('time')\n",
    "dimY.nc_set_variable('lat')\n",
    "dimX.nc_set_variable('lon')"
   ]
  },
  {
   "cell_type": "markdown",
   "metadata": {
    "hidden": true
   },
   "source": [
    "---"
   ]
  },
  {
   "cell_type": "code",
   "execution_count": null,
   "metadata": {
    "attributes": {
     "classes": [
      "sourceCode"
     ],
     "id": ""
    },
    "collapsed": false,
    "hidden": true
   },
   "outputs": [],
   "source": [
    "import numpy\n",
    "import cfdm\n",
    "\n",
    "# Initialize the field\n",
    "tas = cfdm.Field(\n",
    "    properties={'project': 'research',\n",
    "                'standard_name': 'air_temperature',\n",
    "                'units': 'K'})\n",
    "\n",
    "# Create and set domain axes\n",
    "axis_T = tas.set_construct(cfdm.DomainAxis(1))\n",
    "axis_Z = tas.set_construct(cfdm.DomainAxis(1))\n",
    "axis_Y = tas.set_construct(cfdm.DomainAxis(10))\n",
    "axis_X = tas.set_construct(cfdm.DomainAxis(9))\n",
    "\n",
    "# Set the field data\n",
    "tas.set_data(cfdm.Data(numpy.arange(90.).reshape(10, 9)),\n",
    "             axes=[axis_Y, axis_X])\n",
    "\n",
    "# Create and set the cell methods\n",
    "cell_method1 = cfdm.CellMethod(\n",
    "          axes=[axis_Y, axis_X],\n",
    "          properties={'method': 'mean',\n",
    "                      'where': 'land',\n",
    "                      'intervals': [cfdm.Data(0.1, units='degrees')]})\n",
    "\n",
    "cell_method2 = cfdm.CellMethod(\n",
    "                 axes=[axis_T],\n",
    "                 properties={'method': 'maximum'})\n",
    "\n",
    "tas.set_construct(cell_method1)\n",
    "tas.set_construct(cell_method2)\n",
    "\n",
    "# Create and set the field ancillaries\n",
    "field_ancillary = cfdm.FieldAncillary(\n",
    "             properties={'standard_name': 'air_temperature standard_error',\n",
    "                          'units': 'K'},\n",
    "             data=cfdm.Data(numpy.arange(90.).reshape(10, 9)))\n",
    "\n",
    "tas.set_construct(field_ancillary, axes=[axis_Y, axis_X])\n",
    "\n",
    "# Create and set the dimension coordinates\n",
    "dimension_coordinate_T = cfdm.DimensionCoordinate(\n",
    "                           properties={'standard_name': 'time',\n",
    "                                       'units': 'days since 2018-12-01'},\n",
    "                           data=cfdm.Data([15.5]),\n",
    "                           bounds=cfdm.Bounds(data=cfdm.Data([[0., 31]])))\n",
    "\n",
    "dimension_coordinate_Z = cfdm.DimensionCoordinate(\n",
    "        properties={'computed_standard_name': 'altitude',\n",
    "                    'standard_name': 'atmosphere_hybrid_height_coordinate'},\n",
    "        data = cfdm.Data([1.5]),\n",
    "        bounds=cfdm.Bounds(data=cfdm.Data([[1.0, 2.0]])))\n",
    "\n",
    "dimension_coordinate_Y = cfdm.DimensionCoordinate(\n",
    "        properties={'standard_name': 'grid_latitude',\n",
    "                    'units': 'degrees'},\n",
    "        data=cfdm.Data(numpy.arange(10.)),\n",
    "        bounds=cfdm.Bounds(data=cfdm.Data(numpy.arange(20).reshape(10, 2))))\n",
    "\n",
    "dimension_coordinate_X = cfdm.DimensionCoordinate(\n",
    "        properties={'standard_name': 'grid_longitude',\n",
    "                    'units': 'degrees'},\n",
    "    data=cfdm.Data(numpy.arange(9.)),\n",
    "    bounds=cfdm.Bounds(data=cfdm.Data(numpy.arange(18).reshape(9, 2))))\n",
    "\n",
    "dim_T = tas.set_construct(dimension_coordinate_T, axes=[axis_T])\n",
    "dim_Z = tas.set_construct(dimension_coordinate_Z, axes=[axis_Z])\n",
    "dim_Y = tas.set_construct(dimension_coordinate_Y, axes=[axis_Y])\n",
    "dim_X = tas.set_construct(dimension_coordinate_X, axes=[axis_X])\n",
    "\n",
    "# Create and set the auxiliary coordinates\n",
    "auxiliary_coordinate_lat = cfdm.AuxiliaryCoordinate(\n",
    "                      properties={'standard_name': 'latitude',\n",
    "                                  'units': 'degrees_north'},\n",
    "                      data=cfdm.Data(numpy.arange(90.).reshape(10, 9)))\n",
    "\n",
    "auxiliary_coordinate_lon = cfdm.AuxiliaryCoordinate(\n",
    "                  properties={'standard_name': 'longitude',\n",
    "                              'units': 'degrees_east'},\n",
    "                  data=cfdm.Data(numpy.arange(90.).reshape(9, 10)))\n",
    "\n",
    "array = numpy.ma.array(list('abcdefghij'), dtype='S')\n",
    "array[0] = numpy.ma.masked\n",
    "auxiliary_coordinate_name = cfdm.AuxiliaryCoordinate(\n",
    "                       properties={'long_name': 'Grid latitude name'},\n",
    "                       data=cfdm.Data(array))\n",
    "\n",
    "aux_LAT  = tas.set_construct(auxiliary_coordinate_lat, axes=[axis_Y, axis_X])\n",
    "aux_LON  = tas.set_construct(auxiliary_coordinate_lon, axes=[axis_X, axis_Y])\n",
    "aux_NAME = tas.set_construct(auxiliary_coordinate_name, axes=[axis_Y])\n",
    "\n",
    "# Create and set domain ancillaries\n",
    "domain_ancillary_a = cfdm.DomainAncillary(\n",
    "                   properties={'units': 'm'},\n",
    "                   data=cfdm.Data([10.]),\n",
    "                   bounds=cfdm.Bounds(data=cfdm.Data([[5., 15.]])))\n",
    "\n",
    "domain_ancillary_b = cfdm.DomainAncillary(\n",
    "                       properties={'units': '1'},\n",
    "                       data=cfdm.Data([20.]),\n",
    "                       bounds=cfdm.Bounds(data=cfdm.Data([[14, 26.]])))\n",
    "\n",
    "domain_ancillary_orog = cfdm.DomainAncillary(\n",
    "                          properties={'standard_name': 'surface_altitude',\n",
    "                                     'units': 'm'},\n",
    "                          data=cfdm.Data(numpy.arange(90.).reshape(10, 9)))\n",
    "\n",
    "domain_anc_A    = tas.set_construct(domain_ancillary_a, axes=[axis_Z])\n",
    "domain_anc_B    = tas.set_construct(domain_ancillary_b, axes=[axis_Z])\n",
    "domain_anc_OROG = tas.set_construct(domain_ancillary_orog, axes=[axis_Y, axis_X])\n",
    "\n",
    "# Create and set the coordinate references\n",
    "datum = cfdm.Datum(parameters={'earth_radius': 6371007.})\n",
    "\n",
    "coordinate_conversion_h = cfdm.CoordinateConversion(\n",
    "              parameters={'grid_mapping_name': 'rotated_latitude_longitude',\n",
    "                          'grid_north_pole_latitude': 38.0,\n",
    "                          'grid_north_pole_longitude': 190.0})\n",
    "\n",
    "horizontal_crs = cfdm.CoordinateReference(\n",
    "                   datum=datum,\n",
    "                   coordinate_conversion=coordinate_conversion_h,\n",
    "                   coordinates=[dim_X,\n",
    "                                dim_Y,\n",
    "                                aux_LAT,\n",
    "                                aux_LON])\n",
    "\n",
    "coordinate_conversion_v = cfdm.CoordinateConversion(\n",
    "         parameters={'standard_name': 'atmosphere_hybrid_height_coordinate',\n",
    "                     'computed_standard_name': 'altitude'},\n",
    "         domain_ancillaries={'a': domain_anc_A,\n",
    "                             'b': domain_anc_B,\n",
    "                             'orog': domain_anc_OROG})\n",
    "\n",
    "vertical_crs = cfdm.CoordinateReference(\n",
    "                 datum=datum,\n",
    "                 coordinate_conversion=coordinate_conversion_v,\n",
    "                 coordinates=[dim_Z])\n",
    "\n",
    "tas.set_construct(horizontal_crs)\n",
    "tas.set_construct(vertical_crs)\n",
    "\n",
    "# Create and set the cell measures\n",
    "cell_measure = cfdm.CellMeasure(measure='area',\n",
    "                 properties={'units': 'km2'},\n",
    "                 data=cfdm.Data(numpy.arange(90.).reshape(9, 10)))\n",
    "\n",
    "tas.set_construct(cell_measure, axes=[axis_X, axis_Y])"
   ]
  },
  {
   "cell_type": "code",
   "execution_count": null,
   "metadata": {
    "attributes": {
     "classes": [
      "sourceCode"
     ],
     "id": ""
    },
    "collapsed": false,
    "hidden": true
   },
   "outputs": [],
   "source": [
    "print(tas)"
   ]
  },
  {
   "cell_type": "markdown",
   "metadata": {
    "hidden": true
   },
   "source": [
    "---"
   ]
  },
  {
   "cell_type": "markdown",
   "metadata": {
    "heading_collapsed": true,
    "hidden": true
   },
   "source": [
    "### Creating field constructs from metadata constructs\n",
    "[**Back to top**](#cfdm-tutorial-notebook)  \n",
    "[**Go to tutorial**](https://ncas-cms.github.io/cfdm/tutorial.html#Creating-field-constructs-from-metadata-constructs)"
   ]
  },
  {
   "cell_type": "code",
   "execution_count": null,
   "metadata": {
    "collapsed": false,
    "hidden": true
   },
   "outputs": [],
   "source": [
    "orog = tas.create_field('surface_altitude')\n",
    "print(orog)"
   ]
  },
  {
   "cell_type": "code",
   "execution_count": null,
   "metadata": {
    "collapsed": false,
    "hidden": true
   },
   "outputs": [],
   "source": [
    "orog1 = tas.create_field('surface_altitude', domain=False)\n",
    "print(orog1)"
   ]
  },
  {
   "cell_type": "markdown",
   "metadata": {
    "hidden": true
   },
   "source": [
    "---"
   ]
  },
  {
   "cell_type": "code",
   "execution_count": null,
   "metadata": {
    "collapsed": false,
    "hidden": true
   },
   "outputs": [],
   "source": [
    "cfdm.write(tas, 'tas.nc')\n",
    "fields = cfdm.read('tas.nc', create_field='domain_ancillary')\n",
    "fields"
   ]
  },
  {
   "cell_type": "code",
   "execution_count": null,
   "metadata": {
    "collapsed": false,
    "hidden": true
   },
   "outputs": [],
   "source": [
    "print(fields[3])"
   ]
  },
  {
   "cell_type": "markdown",
   "metadata": {
    "hidden": true
   },
   "source": [
    "---"
   ]
  },
  {
   "cell_type": "markdown",
   "metadata": {
    "heading_collapsed": true
   },
   "source": [
    "## Domain\n",
    "[**Back to top**](#cfdm-tutorial-notebook)  \n",
    "[**Go to tutorial**](https://ncas-cms.github.io/cfdm/tutorial.html#Domain)"
   ]
  },
  {
   "cell_type": "code",
   "execution_count": null,
   "metadata": {
    "collapsed": false,
    "hidden": true
   },
   "outputs": [],
   "source": [
    "domain = t.get_domain()\n",
    "domain"
   ]
  },
  {
   "cell_type": "code",
   "execution_count": null,
   "metadata": {
    "collapsed": false,
    "hidden": true
   },
   "outputs": [],
   "source": [
    "print(domain)"
   ]
  },
  {
   "cell_type": "code",
   "execution_count": null,
   "metadata": {
    "attributes": {
     "classes": [
      "sourceCode"
     ],
     "id": ""
    },
    "collapsed": false,
    "hidden": true
   },
   "outputs": [],
   "source": [
    "domain.dump()"
   ]
  },
  {
   "cell_type": "code",
   "execution_count": null,
   "metadata": {
    "collapsed": true,
    "hidden": true
   },
   "outputs": [],
   "source": [
    "domain.get_construct('latitude').set_property('test', 'set by domain')"
   ]
  },
  {
   "cell_type": "code",
   "execution_count": null,
   "metadata": {
    "collapsed": false,
    "hidden": true
   },
   "outputs": [],
   "source": [
    "t.get_construct('latitude').get_property('test')"
   ]
  },
  {
   "cell_type": "code",
   "execution_count": null,
   "metadata": {
    "collapsed": true,
    "hidden": true
   },
   "outputs": [],
   "source": [
    "t.get_construct('latitude').set_property('test', 'set by field')"
   ]
  },
  {
   "cell_type": "code",
   "execution_count": null,
   "metadata": {
    "collapsed": false,
    "hidden": true
   },
   "outputs": [],
   "source": [
    "domain.get_construct('latitude').get_property('test')"
   ]
  },
  {
   "cell_type": "code",
   "execution_count": null,
   "metadata": {
    "collapsed": false,
    "hidden": true
   },
   "outputs": [],
   "source": [
    "domain.get_construct('latitude').del_property('test')"
   ]
  },
  {
   "cell_type": "code",
   "execution_count": null,
   "metadata": {
    "attributes": {
     "classes": [
      "sourceCode"
     ],
     "id": ""
    },
    "collapsed": false,
    "hidden": true
   },
   "outputs": [],
   "source": [
    "t.get_construct('latitude').has_property('test')"
   ]
  },
  {
   "cell_type": "markdown",
   "metadata": {
    "hidden": true
   },
   "source": [
    "---"
   ]
  },
  {
   "cell_type": "markdown",
   "metadata": {
    "heading_collapsed": true
   },
   "source": [
    "## Copying\n",
    "[**Back to top**](#cfdm-tutorial-notebook)  \n",
    "[**Go to tutorial**](https://ncas-cms.github.io/cfdm/tutorial.html#Copying)"
   ]
  },
  {
   "cell_type": "code",
   "execution_count": null,
   "metadata": {
    "collapsed": false,
    "hidden": true
   },
   "outputs": [],
   "source": [
    "t"
   ]
  },
  {
   "cell_type": "code",
   "execution_count": null,
   "metadata": {
    "collapsed": false,
    "hidden": true
   },
   "outputs": [],
   "source": [
    "u = t.copy()\n",
    "u"
   ]
  },
  {
   "cell_type": "code",
   "execution_count": null,
   "metadata": {
    "collapsed": false,
    "hidden": true
   },
   "outputs": [],
   "source": [
    "u.data[0, 0, 0] = -1e30\n",
    "print(u.data[0, 0, 0])"
   ]
  },
  {
   "cell_type": "code",
   "execution_count": null,
   "metadata": {
    "collapsed": false,
    "hidden": true
   },
   "outputs": [],
   "source": [
    "print(t.data[0, 0, 0])"
   ]
  },
  {
   "cell_type": "code",
   "execution_count": null,
   "metadata": {
    "collapsed": false,
    "hidden": true
   },
   "outputs": [],
   "source": [
    "u.del_construct('grid_latitude')"
   ]
  },
  {
   "cell_type": "code",
   "execution_count": null,
   "metadata": {
    "collapsed": false,
    "hidden": true
   },
   "outputs": [],
   "source": [
    "u.constructs('grid_latitude')"
   ]
  },
  {
   "cell_type": "code",
   "execution_count": null,
   "metadata": {
    "collapsed": false,
    "hidden": true
   },
   "outputs": [],
   "source": [
    "t.constructs('grid_latitude')"
   ]
  },
  {
   "cell_type": "markdown",
   "metadata": {
    "hidden": true
   },
   "source": [
    "---"
   ]
  },
  {
   "cell_type": "code",
   "execution_count": null,
   "metadata": {
    "collapsed": true,
    "hidden": true
   },
   "outputs": [],
   "source": [
    "import copy\n",
    "u = copy.deepcopy(t)"
   ]
  },
  {
   "cell_type": "markdown",
   "metadata": {
    "hidden": true
   },
   "source": [
    "---"
   ]
  },
  {
   "cell_type": "code",
   "execution_count": null,
   "metadata": {
    "attributes": {
     "classes": [
      "sourceCode"
     ],
     "id": ""
    },
    "collapsed": false,
    "hidden": true
   },
   "outputs": [],
   "source": [
    "orog = t.get_construct('surface_altitude').copy()\n",
    "orog"
   ]
  },
  {
   "cell_type": "markdown",
   "metadata": {
    "hidden": true
   },
   "source": [
    "---"
   ]
  },
  {
   "cell_type": "markdown",
   "metadata": {
    "heading_collapsed": true
   },
   "source": [
    "## Equality\n",
    "[**Back to top**](#cfdm-tutorial-notebook)  \n",
    "[**Go to tutorial**](https://ncas-cms.github.io/cfdm/tutorial.html#equality)"
   ]
  },
  {
   "cell_type": "code",
   "execution_count": null,
   "metadata": {
    "collapsed": false,
    "hidden": true
   },
   "outputs": [],
   "source": [
    "t.equals(t)"
   ]
  },
  {
   "cell_type": "code",
   "execution_count": null,
   "metadata": {
    "collapsed": false,
    "hidden": true
   },
   "outputs": [],
   "source": [
    "t.equals(t.copy())"
   ]
  },
  {
   "cell_type": "code",
   "execution_count": null,
   "metadata": {
    "collapsed": false,
    "hidden": true
   },
   "outputs": [],
   "source": [
    "t.equals(t[...])"
   ]
  },
  {
   "cell_type": "code",
   "execution_count": null,
   "metadata": {
    "collapsed": false,
    "hidden": true
   },
   "outputs": [],
   "source": [
    "t.equals(q)"
   ]
  },
  {
   "cell_type": "code",
   "execution_count": null,
   "metadata": {
    "attributes": {
     "classes": [
      "sourceCode"
     ],
     "id": ""
    },
    "collapsed": false,
    "hidden": true
   },
   "outputs": [],
   "source": [
    "t.equals(q, traceback=True)"
   ]
  },
  {
   "cell_type": "markdown",
   "metadata": {
    "hidden": true
   },
   "source": [
    "----"
   ]
  },
  {
   "cell_type": "code",
   "execution_count": null,
   "metadata": {
    "collapsed": false,
    "hidden": true
   },
   "outputs": [],
   "source": [
    "orog = t.get_construct('surface_altitude')\n",
    "orog.equals(orog.copy())"
   ]
  },
  {
   "cell_type": "markdown",
   "metadata": {
    "hidden": true
   },
   "source": [
    "---"
   ]
  },
  {
   "cell_type": "code",
   "execution_count": null,
   "metadata": {
    "collapsed": false,
    "hidden": true
   },
   "outputs": [],
   "source": [
    "cfdm.ATOL()"
   ]
  },
  {
   "cell_type": "code",
   "execution_count": null,
   "metadata": {
    "collapsed": false,
    "hidden": true
   },
   "outputs": [],
   "source": [
    "cfdm.RTOL()"
   ]
  },
  {
   "cell_type": "code",
   "execution_count": null,
   "metadata": {
    "collapsed": false,
    "hidden": true
   },
   "outputs": [],
   "source": [
    "original = cfdm.RTOL(0.00001)\n",
    "cfdm.RTOL()"
   ]
  },
  {
   "cell_type": "code",
   "execution_count": null,
   "metadata": {
    "collapsed": false,
    "hidden": true
   },
   "outputs": [],
   "source": [
    "cfdm.RTOL(original)"
   ]
  },
  {
   "cell_type": "code",
   "execution_count": null,
   "metadata": {
    "attributes": {
     "classes": [
      "sourceCode"
     ],
     "id": ""
    },
    "collapsed": false,
    "hidden": true
   },
   "outputs": [],
   "source": [
    "cfdm.RTOL()"
   ]
  },
  {
   "cell_type": "markdown",
   "metadata": {
    "hidden": true
   },
   "source": [
    "---"
   ]
  },
  {
   "cell_type": "markdown",
   "metadata": {
    "heading_collapsed": true
   },
   "source": [
    "## External variables\n",
    "[**Back to top**](#cfdm-tutorial-notebook)  \n",
    "[**Go to tutorial**](https://ncas-cms.github.io/cfdm/tutorial.html#external-variables)"
   ]
  },
  {
   "cell_type": "code",
   "execution_count": null,
   "metadata": {
    "collapsed": false,
    "hidden": true
   },
   "outputs": [],
   "source": [
    "!ncdump -h parent.nc"
   ]
  },
  {
   "cell_type": "code",
   "execution_count": null,
   "metadata": {
    "collapsed": false,
    "hidden": true
   },
   "outputs": [],
   "source": [
    "!ncdump -h external.nc "
   ]
  },
  {
   "cell_type": "code",
   "execution_count": null,
   "metadata": {
    "collapsed": false,
    "hidden": true
   },
   "outputs": [],
   "source": [
    "u = cfdm.read(DIRECTORY+'/parent.nc')[0]\n",
    "print(u)"
   ]
  },
  {
   "cell_type": "code",
   "execution_count": null,
   "metadata": {
    "collapsed": false,
    "hidden": true
   },
   "outputs": [],
   "source": [
    "area = u.get_construct('measure%area')\n",
    "area"
   ]
  },
  {
   "cell_type": "code",
   "execution_count": null,
   "metadata": {
    "collapsed": false,
    "hidden": true
   },
   "outputs": [],
   "source": [
    "area.nc_external()"
   ]
  },
  {
   "cell_type": "code",
   "execution_count": null,
   "metadata": {
    "collapsed": false,
    "hidden": true
   },
   "outputs": [],
   "source": [
    "area.nc_get_variable()"
   ]
  },
  {
   "cell_type": "code",
   "execution_count": null,
   "metadata": {
    "collapsed": false,
    "hidden": true
   },
   "outputs": [],
   "source": [
    "area.properties()"
   ]
  },
  {
   "cell_type": "code",
   "execution_count": null,
   "metadata": {
    "attributes": {
     "classes": [
      "sourceCode"
     ],
     "id": ""
    },
    "collapsed": false,
    "hidden": true
   },
   "outputs": [],
   "source": [
    "area.has_data()"
   ]
  },
  {
   "cell_type": "markdown",
   "metadata": {
    "hidden": true
   },
   "source": [
    "---"
   ]
  },
  {
   "cell_type": "code",
   "execution_count": null,
   "metadata": {
    "collapsed": false,
    "hidden": true
   },
   "outputs": [],
   "source": [
    "g = cfdm.read(DIRECTORY+'/parent.nc', external_files=DIRECTORY+'/external.nc')[0]\n",
    "print(g)"
   ]
  },
  {
   "cell_type": "code",
   "execution_count": null,
   "metadata": {
    "collapsed": false,
    "hidden": true
   },
   "outputs": [],
   "source": [
    "area = g.get_construct('cell_area')\n",
    "area"
   ]
  },
  {
   "cell_type": "code",
   "execution_count": null,
   "metadata": {
    "collapsed": false,
    "hidden": true
   },
   "outputs": [],
   "source": [
    "area.nc_external()"
   ]
  },
  {
   "cell_type": "code",
   "execution_count": null,
   "metadata": {
    "collapsed": false,
    "hidden": true
   },
   "outputs": [],
   "source": [
    "area.nc_get_variable()"
   ]
  },
  {
   "cell_type": "code",
   "execution_count": null,
   "metadata": {
    "collapsed": false,
    "hidden": true
   },
   "outputs": [],
   "source": [
    "area.properties()"
   ]
  },
  {
   "cell_type": "code",
   "execution_count": null,
   "metadata": {
    "attributes": {
     "classes": [
      "sourceCode"
     ],
     "id": ""
    },
    "collapsed": false,
    "hidden": true
   },
   "outputs": [],
   "source": [
    "area.get_data()"
   ]
  },
  {
   "cell_type": "markdown",
   "metadata": {
    "hidden": true
   },
   "source": [
    "---"
   ]
  },
  {
   "cell_type": "code",
   "execution_count": null,
   "metadata": {
    "collapsed": false,
    "hidden": true
   },
   "outputs": [],
   "source": [
    "area.nc_external(True)"
   ]
  },
  {
   "cell_type": "code",
   "execution_count": null,
   "metadata": {
    "attributes": {
     "classes": [
      "sourceCode"
     ],
     "id": ""
    },
    "collapsed": true,
    "hidden": true
   },
   "outputs": [],
   "source": [
    "cfdm.write(g, 'new_parent.nc', external_file='new_external.nc')"
   ]
  },
  {
   "cell_type": "markdown",
   "metadata": {
    "hidden": true
   },
   "source": [
    "---"
   ]
  },
  {
   "cell_type": "markdown",
   "metadata": {
    "heading_collapsed": true
   },
   "source": [
    "## Compression\n",
    "[**Back to top**](#cfdm-tutorial-notebook)  \n",
    "[**Go to tutorial**](https://ncas-cms.github.io/cfdm/tutorial.html#compression)"
   ]
  },
  {
   "cell_type": "markdown",
   "metadata": {
    "hidden": true
   },
   "source": [
    "---"
   ]
  },
  {
   "cell_type": "markdown",
   "metadata": {
    "heading_collapsed": true
   },
   "source": [
    "## Discrete sampling geometries\n",
    "[**Back to top**](#cfdm-tutorial-notebook)  \n",
    "[**Go to tutorial**](https://ncas-cms.github.io/cfdm/tutorial.html#discrete-sampling-geometries)"
   ]
  },
  {
   "cell_type": "code",
   "execution_count": null,
   "metadata": {
    "collapsed": false,
    "hidden": true
   },
   "outputs": [],
   "source": [
    "!ncdump -h contiguous.nc"
   ]
  },
  {
   "cell_type": "markdown",
   "metadata": {
    "hidden": true
   },
   "source": [
    "---"
   ]
  },
  {
   "cell_type": "code",
   "execution_count": null,
   "metadata": {
    "collapsed": false,
    "hidden": true
   },
   "outputs": [],
   "source": [
    "h = cfdm.read(DIRECTORY+'/contiguous.nc')[0]\n",
    "print(h)"
   ]
  },
  {
   "cell_type": "code",
   "execution_count": null,
   "metadata": {
    "collapsed": false,
    "hidden": true
   },
   "outputs": [],
   "source": [
    "print(h.get_array())"
   ]
  },
  {
   "cell_type": "code",
   "execution_count": null,
   "metadata": {
    "collapsed": false,
    "hidden": true
   },
   "outputs": [],
   "source": [
    "h.data.get_compression_type()"
   ]
  },
  {
   "cell_type": "code",
   "execution_count": null,
   "metadata": {
    "collapsed": false,
    "hidden": true
   },
   "outputs": [],
   "source": [
    "print(h.data.get_compressed_array())"
   ]
  },
  {
   "cell_type": "code",
   "execution_count": null,
   "metadata": {
    "collapsed": false,
    "hidden": true
   },
   "outputs": [],
   "source": [
    "count_variable = h.data.get_count_variable()\n",
    "count_variable"
   ]
  },
  {
   "cell_type": "code",
   "execution_count": null,
   "metadata": {
    "attributes": {
     "classes": [
      "sourceCode"
     ],
     "id": ""
    },
    "collapsed": false,
    "hidden": true
   },
   "outputs": [],
   "source": [
    "print(count_variable.get_array())"
   ]
  },
  {
   "cell_type": "markdown",
   "metadata": {
    "hidden": true
   },
   "source": [
    "---"
   ]
  },
  {
   "cell_type": "code",
   "execution_count": null,
   "metadata": {
    "collapsed": false,
    "hidden": true
   },
   "outputs": [],
   "source": [
    "station = h[1]\n",
    "station"
   ]
  },
  {
   "cell_type": "code",
   "execution_count": null,
   "metadata": {
    "attributes": {
     "classes": [
      "sourceCode"
     ],
     "id": ""
    },
    "collapsed": false,
    "hidden": true
   },
   "outputs": [],
   "source": [
    "print(station.get_array())"
   ]
  },
  {
   "cell_type": "markdown",
   "metadata": {
    "hidden": true
   },
   "source": [
    "---"
   ]
  },
  {
   "cell_type": "code",
   "execution_count": null,
   "metadata": {
    "collapsed": false,
    "hidden": true
   },
   "outputs": [],
   "source": [
    "h.data.get_compression_type()"
   ]
  },
  {
   "cell_type": "code",
   "execution_count": null,
   "metadata": {
    "collapsed": false,
    "hidden": true
   },
   "outputs": [],
   "source": [
    "h.data[1, 2] = -9\n",
    "print(h.get_array())"
   ]
  },
  {
   "cell_type": "code",
   "execution_count": null,
   "metadata": {
    "collapsed": false,
    "hidden": true
   },
   "outputs": [],
   "source": [
    "h.data.get_compression_type()"
   ]
  },
  {
   "cell_type": "markdown",
   "metadata": {
    "hidden": true
   },
   "source": [
    "---"
   ]
  },
  {
   "cell_type": "code",
   "execution_count": null,
   "metadata": {
    "attributes": {
     "classes": [
      "sourceCode"
     ],
     "id": ""
    },
    "collapsed": true,
    "hidden": true
   },
   "outputs": [],
   "source": [
    "import numpy\n",
    "import cfdm\n",
    "\n",
    "# Define the ragged array values\n",
    "ragged_array = numpy.array([280, 282.5, 281, 279, 278, 279.5],\n",
    "                           dtype='float32')\n",
    "\n",
    "# Define the count array values\n",
    "count_array = [2, 4]\n",
    "\n",
    "# Create the count variable\n",
    "count_variable = cfdm.Count(data=cfdm.Data(count_array))\n",
    "count_variable.set_property('long_name', 'number of obs for this timeseries')\n",
    "\n",
    "# Create the contiguous ragged array object\n",
    "array = cfdm.RaggedContiguousArray(\n",
    "                 compressed_array=cfdm.NumpyArray(ragged_array),\n",
    "                 shape=(2, 4), size=8, ndim=2,\n",
    "                 count_variable=count_variable)\n",
    "\n",
    "# Create the field construct with the domain axes and the ragged\n",
    "# array\n",
    "T = cfdm.Field()\n",
    "T.properties({'standard_name': 'air_temperature',\n",
    "                'units': 'K'})\n",
    "\n",
    "# Create the domain axis constructs for the uncompressed array\n",
    "X = T.set_construct(cfdm.DomainAxis(4))\n",
    "Y = T.set_construct(cfdm.DomainAxis(2))\n",
    "\n",
    "# Set the data for the field\n",
    "T.set_data(cfdm.Data(array), axes=[Y, X])"
   ]
  },
  {
   "cell_type": "markdown",
   "metadata": {
    "hidden": true
   },
   "source": [
    "---"
   ]
  },
  {
   "cell_type": "code",
   "execution_count": null,
   "metadata": {
    "collapsed": false,
    "hidden": true
   },
   "outputs": [],
   "source": [
    "T"
   ]
  },
  {
   "cell_type": "code",
   "execution_count": null,
   "metadata": {
    "collapsed": false,
    "hidden": true
   },
   "outputs": [],
   "source": [
    "print(T.get_array())"
   ]
  },
  {
   "cell_type": "code",
   "execution_count": null,
   "metadata": {
    "collapsed": false,
    "hidden": true
   },
   "outputs": [],
   "source": [
    "T.data.get_compression_type()"
   ]
  },
  {
   "cell_type": "code",
   "execution_count": null,
   "metadata": {
    "collapsed": false,
    "hidden": true
   },
   "outputs": [],
   "source": [
    "print(T.data.get_compressed_array())"
   ]
  },
  {
   "cell_type": "code",
   "execution_count": null,
   "metadata": {
    "collapsed": false,
    "hidden": true
   },
   "outputs": [],
   "source": [
    "count_variable = T.data.get_count_variable()\n",
    "count_variable"
   ]
  },
  {
   "cell_type": "code",
   "execution_count": null,
   "metadata": {
    "attributes": {
     "classes": [
      "sourceCode"
     ],
     "id": ""
    },
    "collapsed": false,
    "hidden": true
   },
   "outputs": [],
   "source": [
    "print(count_variable.get_array())"
   ]
  },
  {
   "cell_type": "code",
   "execution_count": null,
   "metadata": {
    "collapsed": true,
    "hidden": true
   },
   "outputs": [],
   "source": [
    "cfdm.write(T, 'T_contiguous.nc')"
   ]
  },
  {
   "cell_type": "code",
   "execution_count": null,
   "metadata": {
    "collapsed": false,
    "hidden": true
   },
   "outputs": [],
   "source": [
    "!ncdump T_contiguous.nc"
   ]
  },
  {
   "cell_type": "markdown",
   "metadata": {
    "hidden": true
   },
   "source": [
    "---"
   ]
  },
  {
   "cell_type": "markdown",
   "metadata": {
    "heading_collapsed": true
   },
   "source": [
    "## Gathering\n",
    "[**Back to top**](#cfdm-tutorial-notebook)  \n",
    "[**Go to tutorial**](https://ncas-cms.github.io/cfdm/tutorial.html#gathering)"
   ]
  },
  {
   "cell_type": "code",
   "execution_count": null,
   "metadata": {
    "collapsed": false,
    "hidden": true
   },
   "outputs": [],
   "source": [
    "p = cfdm.read(DIRECTORY+'/gathered.nc')[0]\n",
    "print(p)"
   ]
  },
  {
   "cell_type": "code",
   "execution_count": null,
   "metadata": {
    "collapsed": false,
    "hidden": true
   },
   "outputs": [],
   "source": [
    "print(p.get_array())"
   ]
  },
  {
   "cell_type": "code",
   "execution_count": null,
   "metadata": {
    "collapsed": false,
    "hidden": true
   },
   "outputs": [],
   "source": [
    "p.data.get_compression_type()"
   ]
  },
  {
   "cell_type": "code",
   "execution_count": null,
   "metadata": {
    "collapsed": false,
    "hidden": true
   },
   "outputs": [],
   "source": [
    "print(p.data.get_compressed_array())"
   ]
  },
  {
   "cell_type": "code",
   "execution_count": null,
   "metadata": {
    "collapsed": false,
    "hidden": true
   },
   "outputs": [],
   "source": [
    "list_variable = p.data.get_list_variable()\n",
    "list_variable"
   ]
  },
  {
   "cell_type": "code",
   "execution_count": null,
   "metadata": {
    "attributes": {
     "classes": [
      "sourceCode"
     ],
     "id": ""
    },
    "collapsed": false,
    "hidden": true
   },
   "outputs": [],
   "source": [
    "print(list_variable.get_array())"
   ]
  },
  {
   "cell_type": "markdown",
   "metadata": {
    "hidden": true
   },
   "source": [
    "---"
   ]
  },
  {
   "cell_type": "code",
   "execution_count": null,
   "metadata": {
    "collapsed": false,
    "hidden": true
   },
   "outputs": [],
   "source": [
    "p[0]"
   ]
  },
  {
   "cell_type": "code",
   "execution_count": null,
   "metadata": {
    "collapsed": false,
    "hidden": true
   },
   "outputs": [],
   "source": [
    "p[1, :, 3:5]"
   ]
  },
  {
   "cell_type": "markdown",
   "metadata": {
    "hidden": true
   },
   "source": [
    "---"
   ]
  },
  {
   "cell_type": "code",
   "execution_count": null,
   "metadata": {
    "collapsed": false,
    "hidden": true
   },
   "outputs": [],
   "source": [
    "p.data.get_compression_type()"
   ]
  },
  {
   "cell_type": "code",
   "execution_count": null,
   "metadata": {
    "collapsed": true,
    "hidden": true
   },
   "outputs": [],
   "source": [
    "p.data[1] = -9"
   ]
  },
  {
   "cell_type": "code",
   "execution_count": null,
   "metadata": {
    "collapsed": false,
    "hidden": true
   },
   "outputs": [],
   "source": [
    "p.data.get_compression_type()"
   ]
  },
  {
   "cell_type": "markdown",
   "metadata": {
    "hidden": true
   },
   "source": [
    "---"
   ]
  },
  {
   "cell_type": "code",
   "execution_count": null,
   "metadata": {
    "attributes": {
     "classes": [
      "sourceCode"
     ],
     "id": ""
    },
    "collapsed": true,
    "hidden": true
   },
   "outputs": [],
   "source": [
    "import numpy   \n",
    "import cfdm\n",
    "\n",
    "# Define the gathered values\n",
    "gathered_array = numpy.array([[2, 1, 3], [4, 0, 5]],\n",
    "                             dtype='float32')\n",
    "\n",
    "# Define the list array values\n",
    "list_array = [1, 4, 5]\n",
    "\n",
    "# Create the list variable\n",
    "list_variable = cfdm.List(data=cfdm.Data(list_array))\n",
    "\n",
    "# Create the gathered array object\n",
    "array = cfdm.GatheredArray(\n",
    "                 compressed_array=cfdm.NumpyArray(gathered_array),\n",
    "         compressed_dimension=1,\n",
    "                 shape=(2, 3, 2), size=12, ndim=3,\n",
    "                 list_variable=list_variable)\n",
    "\n",
    "# Create the field construct with the domain axes and the gathered\n",
    "# array\n",
    "P = cfdm.Field(properties={'standard_name': 'precipitation_flux',\n",
    "                           'units': 'kg m-2 s-1'})\n",
    "\n",
    "\n",
    "# Create the domain axis constructs for the uncompressed array\n",
    "T = P.set_construct(cfdm.DomainAxis(2))\n",
    "Y = P.set_construct(cfdm.DomainAxis(3))\n",
    "X = P.set_construct(cfdm.DomainAxis(2))\n",
    "\n",
    "# Set the data for the field\n",
    "P.set_data(cfdm.Data(array), axes=[T, Y, X])                 "
   ]
  },
  {
   "cell_type": "markdown",
   "metadata": {
    "hidden": true
   },
   "source": [
    "---"
   ]
  },
  {
   "cell_type": "code",
   "execution_count": null,
   "metadata": {
    "collapsed": false,
    "hidden": true
   },
   "outputs": [],
   "source": [
    "P"
   ]
  },
  {
   "cell_type": "code",
   "execution_count": null,
   "metadata": {
    "collapsed": false,
    "hidden": true
   },
   "outputs": [],
   "source": [
    "print(P.get_array())"
   ]
  },
  {
   "cell_type": "code",
   "execution_count": null,
   "metadata": {
    "collapsed": false,
    "hidden": true
   },
   "outputs": [],
   "source": [
    "P.data.get_compression_type()"
   ]
  },
  {
   "cell_type": "code",
   "execution_count": null,
   "metadata": {
    "collapsed": false,
    "hidden": true
   },
   "outputs": [],
   "source": [
    "print(P.data.get_compressed_array())"
   ]
  },
  {
   "cell_type": "code",
   "execution_count": null,
   "metadata": {
    "collapsed": false,
    "hidden": true
   },
   "outputs": [],
   "source": [
    "list_variable = P.data.get_list_variable()\n",
    "list_variable "
   ]
  },
  {
   "cell_type": "code",
   "execution_count": null,
   "metadata": {
    "attributes": {
     "classes": [
      "sourceCode"
     ],
     "id": ""
    },
    "collapsed": false,
    "hidden": true
   },
   "outputs": [],
   "source": [
    "print(list_variable.get_array())"
   ]
  },
  {
   "cell_type": "code",
   "execution_count": null,
   "metadata": {
    "collapsed": true,
    "hidden": true
   },
   "outputs": [],
   "source": [
    "cfdm.write(P, 'P_gathered.nc')"
   ]
  },
  {
   "cell_type": "code",
   "execution_count": null,
   "metadata": {
    "collapsed": false,
    "hidden": true
   },
   "outputs": [],
   "source": [
    "!ncdump P_gathered.nc"
   ]
  },
  {
   "cell_type": "markdown",
   "metadata": {
    "hidden": true
   },
   "source": [
    "---\n",
    "[**Back to top**](#cfdm-tutorial-notebook)  \n",
    "[**Go to tutorial**](https://ncas-cms.github.io/cfdm/tutorial.html)  "
   ]
  }
 ],
 "metadata": {
  "kernelspec": {
   "display_name": "Python 2",
   "language": "python",
   "name": "python2"
  },
  "language_info": {
   "codemirror_mode": {
    "name": "ipython",
    "version": 2
   },
   "file_extension": ".py",
   "mimetype": "text/x-python",
   "name": "python",
   "nbconvert_exporter": "python",
   "pygments_lexer": "ipython2",
   "version": "2.7.15"
  }
 },
 "nbformat": 4,
 "nbformat_minor": 2
}
