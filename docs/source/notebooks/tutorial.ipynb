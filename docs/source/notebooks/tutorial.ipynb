{
 "cells": [
  {
   "cell_type": "markdown",
   "metadata": {},
   "source": [
    "cfdm tutorial notebook\n",
    "=============\n",
    "\n",
    "Version <latest> for version <latest> of the CF conventions.\n",
    "    \n",
    "[//]: # (If the above line about versions changes its form then you should update the Makefile)\n",
    "\n",
    "---\n",
    "\n",
    "This notebook contains executable code examples from the [cfdm tutorial](https://ncas-cms.github.io/cfdm/tutorial.html).\n",
    "------------------------------------------\n",
    "---\n",
    "\n",
    "Contents\n",
    "---------------\n",
    "\n",
    "* [**Import**](#Import)\n",
    "* [**CF version**](#CF-version)\n",
    "* [**Reading datasets**](#Reading-datasets)\n",
    "* [**Inspection**](#Inspection)\n",
    "  * [Minimal detail](#Minimal-detail)\n",
    "  * [Medium detail](#Medium-detail)\n",
    "  * [Full detail](#Full-detail)\n",
    "* [**Properties**](#Properties)\n",
    "* [**Metadata constructs 1**](#Metadata-constructs-1)\n",
    "* [**Data**](#Data)\n",
    "  * [Data axes](#Data-axes)\n",
    "  * [Indexing](#Indexing)\n",
    "  * [Assignment](#Assignment)\n",
    "  * [Manipulating dimensions](#Manipulating-dimensions)\n",
    "* [**Subspacing**](#Subspacing)\n",
    "* [**Metadata constructs 2**](#Metadata-constructs-2)\n",
    "  * [Accessing an individual metadata construct](#Accessing-an-individual-metadata-construct)\n",
    "  * [Metadata construct properties](#Metadata-construct-properties)\n",
    "  * [Metadata construct data](#Metadata-construct-data)\n",
    "* [**Domain**](#Domain) \n",
    "* [**Domain axes**](#Domain-axes)\n",
    "* [**Coordinates**](#Coordinates)\n",
    "* [**Domain ancillaries**](#Domain-ancillaries)\n",
    "* [**Coordinate systems**](#Coordinate-systems)\n",
    "* [**Cell methods**](#Cell-methods)\n",
    "* [**Field construct creation**](#Field-construct-creation)\n",
    "  * [Manual creation](#Manual-creation)\n",
    "  * [Creating data from an array on disk](#Creating-data-from-an-array-on-disk)\n",
    "  * [Creation by conversion](#Creation-by-conversion)\n",
    "  * [Creation by reading](#Creation-by-reading)\n",
    "* [**Copying**](#Copying)\n",
    "* [**Equality**](#Equality)\n",
    "* [**NetCDF interface**](#NetCDF-interface)\n",
    "* [**Writing to disk**](#Writing-to-disk)\n",
    "  * [Scalar coordinate variables](#Scalar-coordinate-variables)\n",
    "* [**Field construct creation**](#Field-construct-creation)\n",
    "  * [Creating field constructs from metadata constructs](#Creating-field-constructs-from-metadata-constructs)\n",
    "* [**External variables**](#External-variables)\n",
    "* [**Compression**](#Compression)\n",
    "* [**Discrete sampling geometries**](#Discrete-sampling-geometries)\n",
    "* [**Gathering**](#Gathering)\n",
    "\n",
    "---"
   ]
  },
  {
   "cell_type": "markdown",
   "metadata": {
    "heading_collapsed": true
   },
   "source": [
    "##  Before you start"
   ]
  },
  {
   "cell_type": "markdown",
   "metadata": {
    "hidden": true
   },
   "source": [
    "**0. [Install](https://ncas-cms.github.io/cfdm/installation.html) the cfdm package**\n",
    "\n",
    "**1. Download the test files**\n",
    "\n",
    "* [**file.nc**](https://ncas-cms.github.io/cfdm/_downloads/file.nc)\n",
    "* [**parent.nc**](https://ncas-cms.github.io/cfdm/_downloads/parent.nc)\n",
    "* [**external.nc**](https://ncas-cms.github.io/cfdm/_downloads/external.nc)\n",
    "* [**contiguous.nc**](https://ncas-cms.github.io/cfdm/_downloads/contiguous.nc)\n",
    "* [**gathered.nc**](https://ncas-cms.github.io/cfdm/_downloads/gathered.nc)\n",
    "\n",
    "**2. Set the local directory which contains the test files**\n",
    "\n",
    "By default it is assumed that they are in same directory as this notebook file."
   ]
  },
  {
   "cell_type": "code",
   "execution_count": 1,
   "metadata": {
    "hidden": true
   },
   "outputs": [],
   "source": [
    "DIRECTORY = '.'"
   ]
  },
  {
   "cell_type": "markdown",
   "metadata": {
    "collapsed": true,
    "hidden": true
   },
   "source": [
    "**3. Ensure that  printing works equally well for Python 2 and 3**"
   ]
  },
  {
   "cell_type": "code",
   "execution_count": 2,
   "metadata": {
    "hidden": true
   },
   "outputs": [],
   "source": [
    "from __future__ import print_function"
   ]
  },
  {
   "cell_type": "markdown",
   "metadata": {
    "hidden": true
   },
   "source": [
    "---"
   ]
  },
  {
   "cell_type": "markdown",
   "metadata": {
    "heading_collapsed": true
   },
   "source": [
    "## Import\n",
    "[**Back to top**](#cfdm-tutorial-notebook)  \n",
    "[**Go to tutorial**](https://ncas-cms.github.io/cfdm/tutorial.html#import)  "
   ]
  },
  {
   "cell_type": "code",
   "execution_count": 3,
   "metadata": {
    "hidden": true
   },
   "outputs": [],
   "source": [
    "import cfdm"
   ]
  },
  {
   "cell_type": "markdown",
   "metadata": {
    "hidden": true
   },
   "source": [
    "---"
   ]
  },
  {
   "cell_type": "markdown",
   "metadata": {
    "heading_collapsed": true
   },
   "source": [
    "## CF version\n",
    "[**Back to top**](#cfdm-tutorial-notebook)  \n",
    "[**Go to tutorial**](https://ncas-cms.github.io/cfdm/tutorial.html#cf-version)  "
   ]
  },
  {
   "cell_type": "code",
   "execution_count": 4,
   "metadata": {
    "hidden": true
   },
   "outputs": [
    {
     "data": {
      "text/plain": [
       "'1.7'"
      ]
     },
     "execution_count": 4,
     "metadata": {},
     "output_type": "execute_result"
    }
   ],
   "source": [
    "cfdm.CF()"
   ]
  },
  {
   "cell_type": "markdown",
   "metadata": {
    "hidden": true
   },
   "source": [
    "---"
   ]
  },
  {
   "cell_type": "markdown",
   "metadata": {
    "heading_collapsed": true
   },
   "source": [
    "## Reading datasets\n",
    "[**Back to top**](#cfdm-tutorial-notebook)  \n",
    "[**Go to tutorial**](https://ncas-cms.github.io/cfdm/tutorial.html#reading-datasets)"
   ]
  },
  {
   "cell_type": "code",
   "execution_count": 5,
   "metadata": {
    "attributes": {
     "classes": [
      "sourceCode"
     ],
     "id": ""
    },
    "hidden": true
   },
   "outputs": [
    {
     "name": "stdout",
     "output_type": "stream",
     "text": [
      "<type 'list'>\n"
     ]
    }
   ],
   "source": [
    "x = cfdm.read(DIRECTORY+'/file.nc')\n",
    "print(type(x))"
   ]
  },
  {
   "cell_type": "code",
   "execution_count": 6,
   "metadata": {
    "attributes": {
     "classes": [
      "sourceCode"
     ],
     "id": ""
    },
    "hidden": true
   },
   "outputs": [
    {
     "data": {
      "text/plain": [
       "2"
      ]
     },
     "execution_count": 6,
     "metadata": {},
     "output_type": "execute_result"
    }
   ],
   "source": [
    "len(x)"
   ]
  },
  {
   "cell_type": "markdown",
   "metadata": {
    "hidden": true
   },
   "source": [
    "---"
   ]
  },
  {
   "cell_type": "markdown",
   "metadata": {
    "heading_collapsed": true
   },
   "source": [
    "## Inspection\n",
    "[**Back to top**](#cfdm-tutorial-notebook)  \n",
    "[**Go to tutorial**](https://ncas-cms.github.io/cfdm/tutorial.html#inspection)"
   ]
  },
  {
   "cell_type": "markdown",
   "metadata": {
    "heading_collapsed": true,
    "hidden": true
   },
   "source": [
    "### Minimal detail\n",
    "[**Back to top**](#cfdm-tutorial-notebook)  \n",
    "[**Go to tutorial**](https://ncas-cms.github.io/cfdm/tutorial.html#minimal-detail)  "
   ]
  },
  {
   "cell_type": "code",
   "execution_count": 7,
   "metadata": {
    "hidden": true
   },
   "outputs": [
    {
     "data": {
      "text/plain": [
       "[<Field: specific_humidity(latitude(5), longitude(8)) 1>,\n",
       " <Field: air_temperature(atmosphere_hybrid_height_coordinate(1), grid_latitude(10), grid_longitude(9)) K>]"
      ]
     },
     "execution_count": 7,
     "metadata": {},
     "output_type": "execute_result"
    }
   ],
   "source": [
    "x"
   ]
  },
  {
   "cell_type": "code",
   "execution_count": 8,
   "metadata": {
    "attributes": {
     "classes": [
      "sourceCode"
     ],
     "id": ""
    },
    "hidden": true
   },
   "outputs": [
    {
     "data": {
      "text/plain": [
       "<Field: specific_humidity(latitude(5), longitude(8)) 1>"
      ]
     },
     "execution_count": 8,
     "metadata": {},
     "output_type": "execute_result"
    }
   ],
   "source": [
    "q = x[0]\n",
    "t = x[1]\n",
    "q"
   ]
  },
  {
   "cell_type": "markdown",
   "metadata": {
    "heading_collapsed": true,
    "hidden": true
   },
   "source": [
    "### Medium detail\n",
    "[**Back to top**](#cfdm-tutorial-notebook)  \n",
    "[**Go to tutorial**](https://ncas-cms.github.io/cfdm/tutorial.html#medium-detail)  "
   ]
  },
  {
   "cell_type": "code",
   "execution_count": 9,
   "metadata": {
    "hidden": true
   },
   "outputs": [
    {
     "name": "stdout",
     "output_type": "stream",
     "text": [
      "Field: specific_humidity (ncvar:q)\n",
      "----------------------------------\n",
      "Data            : specific_humidity(latitude(5), longitude(8)) 1\n",
      "Cell methods    : area: mean\n",
      "Dimension coords: latitude(5) = [-75.0, ..., 75.0] degrees_north\n",
      "                : longitude(8) = [22.5, ..., 337.5] degrees_east\n",
      "                : time(1) = [2019-01-01 00:00:00]\n",
      "\n"
     ]
    }
   ],
   "source": [
    "print(q)"
   ]
  },
  {
   "cell_type": "code",
   "execution_count": 10,
   "metadata": {
    "attributes": {
     "classes": [
      "sourceCode"
     ],
     "id": ""
    },
    "hidden": true
   },
   "outputs": [
    {
     "name": "stdout",
     "output_type": "stream",
     "text": [
      "Field: air_temperature (ncvar:ta)\n",
      "---------------------------------\n",
      "Data            : air_temperature(atmosphere_hybrid_height_coordinate(1), grid_latitude(10), grid_longitude(9)) K\n",
      "Cell methods    : grid_latitude(10): grid_longitude(9): mean where land (interval: 0.1 degrees) time(1): maximum\n",
      "Field ancils    : air_temperature standard_error(grid_latitude(10), grid_longitude(9)) = [[0.76, ..., 0.32]] K\n",
      "Dimension coords: atmosphere_hybrid_height_coordinate(1) = [1.5]\n",
      "                : grid_latitude(10) = [2.2, ..., -1.76] degrees\n",
      "                : grid_longitude(9) = [-4.7, ..., -1.18] degrees\n",
      "                : time(1) = [2019-01-01 00:00:00]\n",
      "Auxiliary coords: latitude(grid_latitude(10), grid_longitude(9)) = [[53.941, ..., 50.225]] degrees_N\n",
      "                : longitude(grid_longitude(9), grid_latitude(10)) = [[2.004, ..., 8.156]] degrees_E\n",
      "                : long_name=Grid latitude name(grid_latitude(10)) = [--, ..., kappa]\n",
      "Cell measures   : measure:area(grid_longitude(9), grid_latitude(10)) = [[2391.9657, ..., 2392.6009]] km2\n",
      "Coord references: atmosphere_hybrid_height_coordinate\n",
      "                : rotated_latitude_longitude\n",
      "Domain ancils   : ncvar%a(atmosphere_hybrid_height_coordinate(1)) = [10.0] m\n",
      "                : ncvar%b(atmosphere_hybrid_height_coordinate(1)) = [20.0]\n",
      "                : surface_altitude(grid_latitude(10), grid_longitude(9)) = [[0.0, ..., 270.0]] m\n",
      "\n"
     ]
    }
   ],
   "source": [
    "print(t)"
   ]
  },
  {
   "cell_type": "markdown",
   "metadata": {
    "heading_collapsed": true,
    "hidden": true
   },
   "source": [
    "### Full detail\n",
    "[**Back to top**](#cfdm-tutorial-notebook)  \n",
    "[**Go to tutorial**](https://ncas-cms.github.io/cfdm/tutorial.html#full-detail)  "
   ]
  },
  {
   "cell_type": "code",
   "execution_count": 11,
   "metadata": {
    "hidden": true
   },
   "outputs": [
    {
     "name": "stdout",
     "output_type": "stream",
     "text": [
      "----------------------------------\n",
      "Field: specific_humidity (ncvar:q)\n",
      "----------------------------------\n",
      "Conventions = 'CF-1.7'\n",
      "project = 'research'\n",
      "standard_name = 'specific_humidity'\n",
      "units = '1'\n",
      "\n",
      "Data(latitude(5), longitude(8)) = [[0.007, ..., 0.013]] 1\n",
      "\n",
      "Cell Method: area: mean\n",
      "\n",
      "Domain Axis: latitude(5)\n",
      "Domain Axis: longitude(8)\n",
      "Domain Axis: time(1)\n",
      "\n",
      "Dimension coordinate: latitude\n",
      "    standard_name = 'latitude'\n",
      "    units = 'degrees_north'\n",
      "    Data(latitude(5)) = [-75.0, ..., 75.0] degrees_north\n",
      "    Bounds:Data(latitude(5), 2) = [[-90.0, ..., 90.0]] degrees_north\n",
      "\n",
      "Dimension coordinate: longitude\n",
      "    standard_name = 'longitude'\n",
      "    units = 'degrees_east'\n",
      "    Data(longitude(8)) = [22.5, ..., 337.5] degrees_east\n",
      "    Bounds:Data(longitude(8), 2) = [[0.0, ..., 360.0]] degrees_east\n",
      "\n",
      "Dimension coordinate: time\n",
      "    standard_name = 'time'\n",
      "    units = 'days since 2018-12-01'\n",
      "    Data(time(1)) = [2019-01-01 00:00:00]\n",
      "\n"
     ]
    }
   ],
   "source": [
    "q.dump()"
   ]
  },
  {
   "cell_type": "code",
   "execution_count": 12,
   "metadata": {
    "attributes": {
     "classes": [
      "sourceCode"
     ],
     "id": ""
    },
    "hidden": true
   },
   "outputs": [
    {
     "name": "stdout",
     "output_type": "stream",
     "text": [
      "---------------------------------\n",
      "Field: air_temperature (ncvar:ta)\n",
      "---------------------------------\n",
      "Conventions = 'CF-1.7'\n",
      "project = 'research'\n",
      "standard_name = 'air_temperature'\n",
      "units = 'K'\n",
      "\n",
      "Data(atmosphere_hybrid_height_coordinate(1), grid_latitude(10), grid_longitude(9)) = [[[262.8, ..., 269.7]]] K\n",
      "\n",
      "Cell Method: grid_latitude(10): grid_longitude(9): mean where land (interval: 0.1 degrees)\n",
      "Cell Method: time(1): maximum\n",
      "\n",
      "Field Ancillary: air_temperature standard_error\n",
      "    standard_name = 'air_temperature standard_error'\n",
      "    units = 'K'\n",
      "    Data(grid_latitude(10), grid_longitude(9)) = [[0.76, ..., 0.32]] K\n",
      "\n",
      "Domain Axis: atmosphere_hybrid_height_coordinate(1)\n",
      "Domain Axis: grid_latitude(10)\n",
      "Domain Axis: grid_longitude(9)\n",
      "Domain Axis: time(1)\n",
      "\n",
      "Dimension coordinate: atmosphere_hybrid_height_coordinate\n",
      "    computed_standard_name = 'altitude'\n",
      "    standard_name = 'atmosphere_hybrid_height_coordinate'\n",
      "    Data(atmosphere_hybrid_height_coordinate(1)) = [1.5]\n",
      "    Bounds:Data(atmosphere_hybrid_height_coordinate(1), 2) = [[1.0, 2.0]]\n",
      "\n",
      "Dimension coordinate: grid_latitude\n",
      "    standard_name = 'grid_latitude'\n",
      "    units = 'degrees'\n",
      "    Data(grid_latitude(10)) = [2.2, ..., -1.76] degrees\n",
      "    Bounds:Data(grid_latitude(10), 2) = [[2.42, ..., -1.98]] degrees\n",
      "\n",
      "Dimension coordinate: grid_longitude\n",
      "    standard_name = 'grid_longitude'\n",
      "    units = 'degrees'\n",
      "    Data(grid_longitude(9)) = [-4.7, ..., -1.18] degrees\n",
      "    Bounds:Data(grid_longitude(9), 2) = [[-4.92, ..., -0.96]] degrees\n",
      "\n",
      "Dimension coordinate: time\n",
      "    standard_name = 'time'\n",
      "    units = 'days since 2018-12-01'\n",
      "    Data(time(1)) = [2019-01-01 00:00:00]\n",
      "\n",
      "Auxiliary coordinate: latitude\n",
      "    standard_name = 'latitude'\n",
      "    units = 'degrees_N'\n",
      "    Data(grid_latitude(10), grid_longitude(9)) = [[53.941, ..., 50.225]] degrees_N\n",
      "\n",
      "Auxiliary coordinate: longitude\n",
      "    standard_name = 'longitude'\n",
      "    units = 'degrees_E'\n",
      "    Data(grid_longitude(9), grid_latitude(10)) = [[2.004, ..., 8.156]] degrees_E\n",
      "\n",
      "Auxiliary coordinate: long_name=Grid latitude name\n",
      "    long_name = 'Grid latitude name'\n",
      "    Data(grid_latitude(10)) = [--, ..., kappa]\n",
      "\n",
      "Domain ancillary: ncvar%a\n",
      "    units = 'm'\n",
      "    Data(atmosphere_hybrid_height_coordinate(1)) = [10.0] m\n",
      "    Bounds:Data(atmosphere_hybrid_height_coordinate(1), 2) = [[5.0, 15.0]] m\n",
      "\n",
      "Domain ancillary: ncvar%b\n",
      "    Data(atmosphere_hybrid_height_coordinate(1)) = [20.0]\n",
      "    Bounds:Data(atmosphere_hybrid_height_coordinate(1), 2) = [[14.0, 26.0]]\n",
      "\n",
      "Domain ancillary: surface_altitude\n",
      "    standard_name = 'surface_altitude'\n",
      "    units = 'm'\n",
      "    Data(grid_latitude(10), grid_longitude(9)) = [[0.0, ..., 270.0]] m\n",
      "\n",
      "Coordinate reference: atmosphere_hybrid_height_coordinate\n",
      "    Coordinate conversion:computed_standard_name = altitude\n",
      "    Coordinate conversion:standard_name = atmosphere_hybrid_height_coordinate\n",
      "    Coordinate conversion:a = Domain Ancillary: ncvar%a\n",
      "    Coordinate conversion:b = Domain Ancillary: ncvar%b\n",
      "    Coordinate conversion:orog = Domain Ancillary: surface_altitude\n",
      "    Datum:earth_radius = 6371007\n",
      "    Dimension Coordinate: atmosphere_hybrid_height_coordinate\n",
      "\n",
      "Coordinate reference: rotated_latitude_longitude\n",
      "    Coordinate conversion:grid_mapping_name = rotated_latitude_longitude\n",
      "    Coordinate conversion:grid_north_pole_latitude = 38.0\n",
      "    Coordinate conversion:grid_north_pole_longitude = 190.0\n",
      "    Datum:earth_radius = 6371007\n",
      "    Dimension Coordinate: grid_longitude\n",
      "    Dimension Coordinate: grid_latitude\n",
      "    Auxiliary Coordinate: longitude\n",
      "    Auxiliary Coordinate: latitude\n",
      "\n",
      "Cell measure: measure:area\n",
      "    units = 'km2'\n",
      "    Data(grid_longitude(9), grid_latitude(10)) = [[2391.9657, ..., 2392.6009]] km2\n",
      "\n"
     ]
    }
   ],
   "source": [
    "t.dump()"
   ]
  },
  {
   "cell_type": "markdown",
   "metadata": {
    "hidden": true
   },
   "source": [
    "---"
   ]
  },
  {
   "cell_type": "markdown",
   "metadata": {
    "heading_collapsed": true
   },
   "source": [
    "## Properties\n",
    "[**Back to top**](#cfdm-tutorial-notebook)  \n",
    "[**Go to tutorial**](https://ncas-cms.github.io/cfdm/tutorial.html#properties)  "
   ]
  },
  {
   "cell_type": "code",
   "execution_count": 13,
   "metadata": {
    "attributes": {
     "classes": [
      "sourceCode"
     ],
     "id": ""
    },
    "hidden": true
   },
   "outputs": [
    {
     "data": {
      "text/plain": [
       "{'Conventions': 'CF-1.7',\n",
       " 'project': 'research',\n",
       " 'standard_name': 'air_temperature',\n",
       " 'units': 'K'}"
      ]
     },
     "execution_count": 13,
     "metadata": {},
     "output_type": "execute_result"
    }
   ],
   "source": [
    "t.properties()"
   ]
  },
  {
   "cell_type": "markdown",
   "metadata": {
    "hidden": true
   },
   "source": [
    "---"
   ]
  },
  {
   "cell_type": "code",
   "execution_count": 14,
   "metadata": {
    "hidden": true
   },
   "outputs": [
    {
     "data": {
      "text/plain": [
       "True"
      ]
     },
     "execution_count": 14,
     "metadata": {},
     "output_type": "execute_result"
    }
   ],
   "source": [
    "t.has_property('standard_name')"
   ]
  },
  {
   "cell_type": "code",
   "execution_count": 15,
   "metadata": {
    "hidden": true
   },
   "outputs": [
    {
     "data": {
      "text/plain": [
       "'air_temperature'"
      ]
     },
     "execution_count": 15,
     "metadata": {},
     "output_type": "execute_result"
    }
   ],
   "source": [
    "t.get_property('standard_name')"
   ]
  },
  {
   "cell_type": "code",
   "execution_count": 16,
   "metadata": {
    "hidden": true
   },
   "outputs": [
    {
     "data": {
      "text/plain": [
       "'air_temperature'"
      ]
     },
     "execution_count": 16,
     "metadata": {},
     "output_type": "execute_result"
    }
   ],
   "source": [
    "t.del_property('standard_name')"
   ]
  },
  {
   "cell_type": "code",
   "execution_count": 17,
   "metadata": {
    "hidden": true
   },
   "outputs": [
    {
     "data": {
      "text/plain": [
       "'not set'"
      ]
     },
     "execution_count": 17,
     "metadata": {},
     "output_type": "execute_result"
    }
   ],
   "source": [
    "t.get_property('standard_name', default='not set')"
   ]
  },
  {
   "cell_type": "code",
   "execution_count": 18,
   "metadata": {
    "attributes": {
     "classes": [
      "sourceCode"
     ],
     "id": ""
    },
    "hidden": true
   },
   "outputs": [
    {
     "data": {
      "text/plain": [
       "'air_temperature'"
      ]
     },
     "execution_count": 18,
     "metadata": {},
     "output_type": "execute_result"
    }
   ],
   "source": [
    "t.set_property('standard_name', 'air_temperature')\n",
    "t.get_property('standard_name', default='not set')"
   ]
  },
  {
   "cell_type": "markdown",
   "metadata": {
    "hidden": true
   },
   "source": [
    "---"
   ]
  },
  {
   "cell_type": "code",
   "execution_count": 19,
   "metadata": {},
   "outputs": [],
   "source": [
    "original = t.properties()"
   ]
  },
  {
   "cell_type": "code",
   "execution_count": 20,
   "metadata": {},
   "outputs": [
    {
     "data": {
      "text/plain": [
       "{'Conventions': 'CF-1.7',\n",
       " 'project': 'research',\n",
       " 'standard_name': 'air_temperature',\n",
       " 'units': 'K'}"
      ]
     },
     "execution_count": 20,
     "metadata": {},
     "output_type": "execute_result"
    }
   ],
   "source": [
    "original "
   ]
  },
  {
   "cell_type": "code",
   "execution_count": 21,
   "metadata": {},
   "outputs": [],
   "source": [
    "t.set_properties({'foo': 'bar', 'units': 'K'})"
   ]
  },
  {
   "cell_type": "code",
   "execution_count": 22,
   "metadata": {},
   "outputs": [
    {
     "data": {
      "text/plain": [
       "{'Conventions': 'CF-1.7',\n",
       " 'foo': 'bar',\n",
       " 'project': 'research',\n",
       " 'standard_name': 'air_temperature',\n",
       " 'units': 'K'}"
      ]
     },
     "execution_count": 22,
     "metadata": {},
     "output_type": "execute_result"
    }
   ],
   "source": [
    "t.properties()"
   ]
  },
  {
   "cell_type": "code",
   "execution_count": 23,
   "metadata": {},
   "outputs": [
    {
     "data": {
      "text/plain": [
       "{'Conventions': 'CF-1.7',\n",
       " 'foo': 'bar',\n",
       " 'project': 'research',\n",
       " 'standard_name': 'air_temperature',\n",
       " 'units': 'K'}"
      ]
     },
     "execution_count": 23,
     "metadata": {},
     "output_type": "execute_result"
    }
   ],
   "source": [
    "t.clear_properties()"
   ]
  },
  {
   "cell_type": "code",
   "execution_count": 24,
   "metadata": {},
   "outputs": [
    {
     "data": {
      "text/plain": [
       "{}"
      ]
     },
     "execution_count": 24,
     "metadata": {},
     "output_type": "execute_result"
    }
   ],
   "source": [
    "t.properties()"
   ]
  },
  {
   "cell_type": "code",
   "execution_count": 25,
   "metadata": {},
   "outputs": [
    {
     "data": {
      "text/plain": [
       "{'Conventions': 'CF-1.7',\n",
       " 'project': 'research',\n",
       " 'standard_name': 'air_temperature',\n",
       " 'units': 'K'}"
      ]
     },
     "execution_count": 25,
     "metadata": {},
     "output_type": "execute_result"
    }
   ],
   "source": [
    "t.set_properties(original)\n",
    "t.properties()"
   ]
  },
  {
   "cell_type": "markdown",
   "metadata": {
    "hidden": true
   },
   "source": [
    "---"
   ]
  },
  {
   "cell_type": "markdown",
   "metadata": {},
   "source": [
    "## Metadata constructs 1\n",
    "[**Back to top**](#cfdm-tutorial-notebook)  \n",
    "[**Go to tutorial**](https://ncas-cms.github.io/cfdm/tutorial.html#metadata-constructs-1)"
   ]
  },
  {
   "cell_type": "code",
   "execution_count": 26,
   "metadata": {},
   "outputs": [
    {
     "data": {
      "text/plain": [
       "<Constructs: coordinate_reference(2)>"
      ]
     },
     "execution_count": 26,
     "metadata": {},
     "output_type": "execute_result"
    }
   ],
   "source": [
    "t.coordinate_references"
   ]
  },
  {
   "cell_type": "code",
   "execution_count": 27,
   "metadata": {},
   "outputs": [
    {
     "name": "stdout",
     "output_type": "stream",
     "text": [
      "Constructs:\n",
      "{'coordinatereference0': <CoordinateReference: atmosphere_hybrid_height_coordinate>,\n",
      " 'coordinatereference1': <CoordinateReference: rotated_latitude_longitude>}\n"
     ]
    }
   ],
   "source": [
    "print(t.coordinate_references)"
   ]
  },
  {
   "cell_type": "code",
   "execution_count": 28,
   "metadata": {},
   "outputs": [
    {
     "data": {
      "text/plain": [
       "['coordinatereference0', 'coordinatereference1']"
      ]
     },
     "execution_count": 28,
     "metadata": {},
     "output_type": "execute_result"
    }
   ],
   "source": [
    "t.coordinate_references.keys()"
   ]
  },
  {
   "cell_type": "code",
   "execution_count": 29,
   "metadata": {},
   "outputs": [
    {
     "name": "stdout",
     "output_type": "stream",
     "text": [
      "coordinatereference1 rotated_latitude_longitude\n",
      "coordinatereference0 atmosphere_hybrid_height_coordinate\n"
     ]
    }
   ],
   "source": [
    "for key, value in t.coordinate_references.items():\n",
    "    print(key, value)"
   ]
  },
  {
   "cell_type": "markdown",
   "metadata": {},
   "source": [
    "----"
   ]
  },
  {
   "cell_type": "code",
   "execution_count": 30,
   "metadata": {},
   "outputs": [
    {
     "name": "stdout",
     "output_type": "stream",
     "text": [
      "Constructs:\n",
      "{'dimensioncoordinate0': <DimensionCoordinate: atmosphere_hybrid_height_coordinate(1) >,\n",
      " 'dimensioncoordinate1': <DimensionCoordinate: grid_latitude(10) degrees>,\n",
      " 'dimensioncoordinate2': <DimensionCoordinate: grid_longitude(9) degrees>,\n",
      " 'dimensioncoordinate3': <DimensionCoordinate: time(1) days since 2018-12-01 >}\n"
     ]
    }
   ],
   "source": [
    "print(t.dimension_coordinates)"
   ]
  },
  {
   "cell_type": "code",
   "execution_count": 31,
   "metadata": {},
   "outputs": [
    {
     "name": "stdout",
     "output_type": "stream",
     "text": [
      "Constructs:\n",
      "{'domainaxis0': <DomainAxis: size(1)>,\n",
      " 'domainaxis1': <DomainAxis: size(10)>,\n",
      " 'domainaxis2': <DomainAxis: size(9)>,\n",
      " 'domainaxis3': <DomainAxis: size(1)>}\n"
     ]
    }
   ],
   "source": [
    "print(t.domain_axes)"
   ]
  },
  {
   "cell_type": "markdown",
   "metadata": {},
   "source": [
    "----"
   ]
  },
  {
   "cell_type": "code",
   "execution_count": 32,
   "metadata": {},
   "outputs": [
    {
     "data": {
      "text/plain": [
       "<Constructs: cell_method(1), dimension_coordinate(3), domain_axis(3)>"
      ]
     },
     "execution_count": 32,
     "metadata": {},
     "output_type": "execute_result"
    }
   ],
   "source": [
    "q.constructs"
   ]
  },
  {
   "cell_type": "code",
   "execution_count": 33,
   "metadata": {},
   "outputs": [
    {
     "name": "stdout",
     "output_type": "stream",
     "text": [
      "Constructs:\n",
      "{'cellmethod0': <CellMethod: area: mean>,\n",
      " 'dimensioncoordinate0': <DimensionCoordinate: latitude(5) degrees_north>,\n",
      " 'dimensioncoordinate1': <DimensionCoordinate: longitude(8) degrees_east>,\n",
      " 'dimensioncoordinate2': <DimensionCoordinate: time(1) days since 2018-12-01 >,\n",
      " 'domainaxis0': <DomainAxis: size(5)>,\n",
      " 'domainaxis1': <DomainAxis: size(8)>,\n",
      " 'domainaxis2': <DomainAxis: size(1)>}\n"
     ]
    }
   ],
   "source": [
    "print(q.constructs)"
   ]
  },
  {
   "cell_type": "code",
   "execution_count": 34,
   "metadata": {},
   "outputs": [
    {
     "data": {
      "text/plain": [
       "<Constructs: auxiliary_coordinate(3), cell_measure(1), cell_method(2), coordinate_reference(2), dimension_coordinate(4), domain_ancillary(3), domain_axis(4), field_ancillary(1)>"
      ]
     },
     "execution_count": 34,
     "metadata": {},
     "output_type": "execute_result"
    }
   ],
   "source": [
    "t.constructs"
   ]
  },
  {
   "cell_type": "code",
   "execution_count": 35,
   "metadata": {},
   "outputs": [
    {
     "name": "stdout",
     "output_type": "stream",
     "text": [
      "Constructs:\n",
      "{'auxiliarycoordinate0': <AuxiliaryCoordinate: latitude(10, 9) degrees_N>,\n",
      " 'auxiliarycoordinate1': <AuxiliaryCoordinate: longitude(9, 10) degrees_E>,\n",
      " 'auxiliarycoordinate2': <AuxiliaryCoordinate: long_name=Grid latitude name(10) >,\n",
      " 'cellmeasure0': <CellMeasure: measure:area(9, 10) km2>,\n",
      " 'cellmethod0': <CellMethod: domainaxis1: domainaxis2: mean where land (interval: 0.1 degrees)>,\n",
      " 'cellmethod1': <CellMethod: domainaxis3: maximum>,\n",
      " 'coordinatereference0': <CoordinateReference: atmosphere_hybrid_height_coordinate>,\n",
      " 'coordinatereference1': <CoordinateReference: rotated_latitude_longitude>,\n",
      " 'dimensioncoordinate0': <DimensionCoordinate: atmosphere_hybrid_height_coordinate(1) >,\n",
      " 'dimensioncoordinate1': <DimensionCoordinate: grid_latitude(10) degrees>,\n",
      " 'dimensioncoordinate2': <DimensionCoordinate: grid_longitude(9) degrees>,\n",
      " 'dimensioncoordinate3': <DimensionCoordinate: time(1) days since 2018-12-01 >,\n",
      " 'domainancillary0': <DomainAncillary: ncvar%a(1) m>,\n",
      " 'domainancillary1': <DomainAncillary: ncvar%b(1) >,\n",
      " 'domainancillary2': <DomainAncillary: surface_altitude(10, 9) m>,\n",
      " 'domainaxis0': <DomainAxis: size(1)>,\n",
      " 'domainaxis1': <DomainAxis: size(10)>,\n",
      " 'domainaxis2': <DomainAxis: size(9)>,\n",
      " 'domainaxis3': <DomainAxis: size(1)>,\n",
      " 'fieldancillary0': <FieldAncillary: air_temperature standard_error(10, 9) K>}\n"
     ]
    }
   ],
   "source": [
    "print(t.constructs)"
   ]
  },
  {
   "cell_type": "markdown",
   "metadata": {},
   "source": [
    "----"
   ]
  },
  {
   "cell_type": "markdown",
   "metadata": {
    "heading_collapsed": true
   },
   "source": [
    "## Data\n",
    "[**Back to top**](#cfdm-tutorial-notebook)  \n",
    "[**Go to tutorial**](https://ncas-cms.github.io/cfdm/tutorial.html#data)"
   ]
  },
  {
   "cell_type": "code",
   "execution_count": 36,
   "metadata": {
    "attributes": {
     "classes": [
      "sourceCode"
     ],
     "id": ""
    },
    "hidden": true
   },
   "outputs": [
    {
     "data": {
      "text/plain": [
       "<Data(1, 10, 9): [[[262.8, ..., 269.7]]] K>"
      ]
     },
     "execution_count": 36,
     "metadata": {},
     "output_type": "execute_result"
    }
   ],
   "source": [
    "d = t.data\n",
    "d"
   ]
  },
  {
   "cell_type": "markdown",
   "metadata": {
    "hidden": true
   },
   "source": [
    "---"
   ]
  },
  {
   "cell_type": "code",
   "execution_count": 37,
   "metadata": {
    "attributes": {
     "classes": [
      "sourceCode"
     ],
     "id": ""
    },
    "hidden": true
   },
   "outputs": [
    {
     "name": "stdout",
     "output_type": "stream",
     "text": [
      "[[[ 262.8  270.5  279.8  269.5  260.9  265.   263.5  278.9  269.2]\n",
      "  [ 272.7  268.4  279.5  278.9  263.8  263.3  274.2  265.7  279.5]\n",
      "  [ 269.7  279.1  273.4  274.2  279.6  270.2  280.   272.5  263.7]\n",
      "  [ 261.7  260.6  270.8  260.3  265.6  279.4  276.9  267.6  260.6]\n",
      "  [ 264.2  275.9  262.5  264.9  264.7  270.2  270.4  268.6  275.3]\n",
      "  [ 263.9  263.8  272.1  263.7  272.2  264.2  260.   263.5  270.2]\n",
      "  [ 273.8  273.1  268.5  272.3  264.3  278.7  270.6  273.   270.6]\n",
      "  [ 267.9  273.5  279.8  260.3  261.2  275.3  271.2  260.8  268.9]\n",
      "  [ 270.9  278.7  273.2  261.7  271.6  265.8  273.   278.5  266.4]\n",
      "  [ 276.4  264.2  276.3  266.1  276.1  268.1  277.   273.4  269.7]]]\n"
     ]
    }
   ],
   "source": [
    "print(t.data.array)"
   ]
  },
  {
   "cell_type": "markdown",
   "metadata": {
    "hidden": true
   },
   "source": [
    "---"
   ]
  },
  {
   "cell_type": "code",
   "execution_count": 38,
   "metadata": {
    "hidden": true
   },
   "outputs": [
    {
     "data": {
      "text/plain": [
       "dtype('float64')"
      ]
     },
     "execution_count": 38,
     "metadata": {},
     "output_type": "execute_result"
    }
   ],
   "source": [
    "t.data.dtype"
   ]
  },
  {
   "cell_type": "code",
   "execution_count": 39,
   "metadata": {
    "hidden": true
   },
   "outputs": [
    {
     "data": {
      "text/plain": [
       "3"
      ]
     },
     "execution_count": 39,
     "metadata": {},
     "output_type": "execute_result"
    }
   ],
   "source": [
    "t.data.ndim"
   ]
  },
  {
   "cell_type": "code",
   "execution_count": 40,
   "metadata": {
    "hidden": true
   },
   "outputs": [
    {
     "data": {
      "text/plain": [
       "(1, 10, 9)"
      ]
     },
     "execution_count": 40,
     "metadata": {},
     "output_type": "execute_result"
    }
   ],
   "source": [
    "t.data.shape"
   ]
  },
  {
   "cell_type": "code",
   "execution_count": 41,
   "metadata": {
    "attributes": {
     "classes": [
      "sourceCode"
     ],
     "id": ""
    },
    "hidden": true
   },
   "outputs": [
    {
     "data": {
      "text/plain": [
       "90"
      ]
     },
     "execution_count": 41,
     "metadata": {},
     "output_type": "execute_result"
    }
   ],
   "source": [
    "t.data.size"
   ]
  },
  {
   "cell_type": "markdown",
   "metadata": {},
   "source": [
    "----"
   ]
  },
  {
   "cell_type": "markdown",
   "metadata": {},
   "source": [
    "### Data axes\n",
    "[**Back to top**](#cfdm-tutorial-notebook)  \n",
    "[**Go to tutorial**](https://ncas-cms.github.io/cfdm/tutorial.html#data-axes)"
   ]
  },
  {
   "cell_type": "code",
   "execution_count": 42,
   "metadata": {},
   "outputs": [
    {
     "name": "stdout",
     "output_type": "stream",
     "text": [
      "Constructs:\n",
      "{'domainaxis0': <DomainAxis: size(1)>,\n",
      " 'domainaxis1': <DomainAxis: size(10)>,\n",
      " 'domainaxis2': <DomainAxis: size(9)>,\n",
      " 'domainaxis3': <DomainAxis: size(1)>}\n"
     ]
    }
   ],
   "source": [
    "print(t.domain_axes)"
   ]
  },
  {
   "cell_type": "code",
   "execution_count": 43,
   "metadata": {},
   "outputs": [
    {
     "data": {
      "text/plain": [
       "<Field: air_temperature(atmosphere_hybrid_height_coordinate(1), grid_latitude(10), grid_longitude(9)) K>"
      ]
     },
     "execution_count": 43,
     "metadata": {},
     "output_type": "execute_result"
    }
   ],
   "source": [
    "t"
   ]
  },
  {
   "cell_type": "code",
   "execution_count": 44,
   "metadata": {},
   "outputs": [
    {
     "data": {
      "text/plain": [
       "(1, 10, 9)"
      ]
     },
     "execution_count": 44,
     "metadata": {},
     "output_type": "execute_result"
    }
   ],
   "source": [
    "t.data.shape"
   ]
  },
  {
   "cell_type": "code",
   "execution_count": 45,
   "metadata": {},
   "outputs": [
    {
     "data": {
      "text/plain": [
       "('domainaxis0', 'domainaxis1', 'domainaxis2')"
      ]
     },
     "execution_count": 45,
     "metadata": {},
     "output_type": "execute_result"
    }
   ],
   "source": [
    "t.get_data_axes()"
   ]
  },
  {
   "cell_type": "markdown",
   "metadata": {},
   "source": [
    "----"
   ]
  },
  {
   "cell_type": "markdown",
   "metadata": {
    "heading_collapsed": true,
    "hidden": true
   },
   "source": [
    "### Indexing\n",
    "[**Back to top**](#cfdm-tutorial-notebook)  \n",
    "[**Go to tutorial**](https://ncas-cms.github.io/cfdm/tutorial.html#indexing) "
   ]
  },
  {
   "cell_type": "code",
   "execution_count": 46,
   "metadata": {
    "hidden": true
   },
   "outputs": [
    {
     "data": {
      "text/plain": [
       "(1, 10, 9)"
      ]
     },
     "execution_count": 46,
     "metadata": {},
     "output_type": "execute_result"
    }
   ],
   "source": [
    "data = t.data\n",
    "data.shape"
   ]
  },
  {
   "cell_type": "code",
   "execution_count": 47,
   "metadata": {
    "hidden": true
   },
   "outputs": [
    {
     "data": {
      "text/plain": [
       "(1, 10, 1)"
      ]
     },
     "execution_count": 47,
     "metadata": {},
     "output_type": "execute_result"
    }
   ],
   "source": [
    "data[:, :, 1].shape"
   ]
  },
  {
   "cell_type": "code",
   "execution_count": 48,
   "metadata": {
    "hidden": true
   },
   "outputs": [
    {
     "data": {
      "text/plain": [
       "(1, 1, 9)"
      ]
     },
     "execution_count": 48,
     "metadata": {},
     "output_type": "execute_result"
    }
   ],
   "source": [
    "data[:, 0].shape"
   ]
  },
  {
   "cell_type": "code",
   "execution_count": 49,
   "metadata": {
    "hidden": true
   },
   "outputs": [
    {
     "data": {
      "text/plain": [
       "(1, 3, 3)"
      ]
     },
     "execution_count": 49,
     "metadata": {},
     "output_type": "execute_result"
    }
   ],
   "source": [
    "data[..., 6:3:-1, 3:6].shape"
   ]
  },
  {
   "cell_type": "code",
   "execution_count": 50,
   "metadata": {
    "hidden": true
   },
   "outputs": [
    {
     "data": {
      "text/plain": [
       "(1, 2, 2)"
      ]
     },
     "execution_count": 50,
     "metadata": {},
     "output_type": "execute_result"
    }
   ],
   "source": [
    "data[0, [2, 9], [4, 8]].shape"
   ]
  },
  {
   "cell_type": "code",
   "execution_count": 51,
   "metadata": {
    "attributes": {
     "classes": [
      "sourceCode"
     ],
     "id": ""
    },
    "hidden": true
   },
   "outputs": [
    {
     "data": {
      "text/plain": [
       "(1, 10, 1)"
      ]
     },
     "execution_count": 51,
     "metadata": {},
     "output_type": "execute_result"
    }
   ],
   "source": [
    "data[0, :, -2].shape"
   ]
  },
  {
   "cell_type": "markdown",
   "metadata": {
    "heading_collapsed": true,
    "hidden": true
   },
   "source": [
    "### Assignment\n",
    "[**Back to top**](#cfdm-tutorial-notebook)  \n",
    "[**Go to tutorial**](https://ncas-cms.github.io/cfdm/tutorial.html#assignment) "
   ]
  },
  {
   "cell_type": "code",
   "execution_count": 52,
   "metadata": {
    "hidden": true
   },
   "outputs": [
    {
     "name": "stdout",
     "output_type": "stream",
     "text": [
      "[[[  -1.    -2.   279.8  269.5  260.9  265.   263.5  278.9  269.2]\n",
      "  [ 272.7   -2.   279.5  278.9  263.8  263.3  274.2  265.7  279.5]\n",
      "  [ 269.7   -2.   273.4  274.2  279.6  270.2  280.   272.5  263.7]\n",
      "  [ 261.7   -2.   270.8  260.3  265.6  279.4  276.9  267.6  260.6]\n",
      "  [ 264.2   -2.   262.5   -3.    -3.    -3.   270.4  268.6  275.3]\n",
      "  [ 263.9   -2.   272.1   -3.    -3.    -3.   260.   263.5  270.2]\n",
      "  [ 273.8   -2.   268.5   -3.    -3.    -3.   270.6  273.   270.6]\n",
      "  [ 267.9   -2.   279.8  260.3  261.2  275.3  271.2  260.8  268.9]\n",
      "  [ 270.9   -2.   273.2  261.7  271.6  265.8  273.   278.5  266.4]\n",
      "  [ 276.4   -2.   276.3  266.1  276.1  268.1  277.   273.4  269.7]]]\n"
     ]
    }
   ],
   "source": [
    "import numpy\n",
    "t.data[:, 0, 0] = -1\n",
    "t.data[:, :, 1] = -2\n",
    "t.data[..., 6:3:-1, 3:6] = -3\n",
    "print(t.data.array)"
   ]
  },
  {
   "cell_type": "markdown",
   "metadata": {},
   "source": [
    "----"
   ]
  },
  {
   "cell_type": "code",
   "execution_count": 53,
   "metadata": {},
   "outputs": [
    {
     "name": "stdout",
     "output_type": "stream",
     "text": [
      "[[[  -1.    -2.   279.8  269.5  260.9  265.   263.5  278.9  269.2]\n",
      "  [ 272.7   -2.   279.5  278.9  263.8  263.3  274.2  265.7  279.5]\n",
      "  [ 269.7   -2.   273.4  274.2   -4.   270.2  280.   272.5   -5. ]\n",
      "  [ 261.7   -2.   270.8  260.3  265.6  279.4  276.9  267.6  260.6]\n",
      "  [ 264.2   -2.   262.5    6.     7.     8.   270.4  268.6  275.3]\n",
      "  [ 263.9   -2.   272.1    3.     4.     5.   260.   263.5  270.2]\n",
      "  [ 273.8   -2.   268.5    0.     1.     2.   270.6  273.   270.6]\n",
      "  [ 267.9   -2.   279.8  260.3  261.2  275.3  271.2  260.8  268.9]\n",
      "  [ 270.9   -2.   273.2  261.7  271.6  265.8  273.   278.5  266.4]\n",
      "  [ 276.4   -2.   276.3  266.1   -4.   268.1  277.   273.4   -5. ]]]\n"
     ]
    }
   ],
   "source": [
    "t.data[..., 6:3:-1, 3:6] = numpy.arange(9).reshape(3, 3)\n",
    "t.data[0, [2, 9], [4, 8]] =  cfdm.Data([[-4, -5]])\n",
    "print(t.data.array)"
   ]
  },
  {
   "cell_type": "markdown",
   "metadata": {},
   "source": [
    "----"
   ]
  },
  {
   "cell_type": "code",
   "execution_count": 54,
   "metadata": {},
   "outputs": [
    {
     "name": "stdout",
     "output_type": "stream",
     "text": [
      "[[[-1.0 -2.0 279.8 269.5 260.9 265.0 263.5 -- 269.2]\n",
      "  [272.7 -2.0 279.5 278.9 263.8 263.3 274.2 -- 279.5]\n",
      "  [269.7 -2.0 273.4 274.2 -4.0 270.2 280.0 -- -5.0]\n",
      "  [261.7 -2.0 270.8 260.3 265.6 279.4 276.9 -- 260.6]\n",
      "  [264.2 -2.0 262.5 6.0 7.0 8.0 270.4 -- 275.3]\n",
      "  [263.9 -2.0 272.1 3.0 4.0 5.0 260.0 -6.0 270.2]\n",
      "  [273.8 -2.0 268.5 0.0 1.0 2.0 270.6 -- 270.6]\n",
      "  [267.9 -2.0 279.8 260.3 261.2 275.3 271.2 -- 268.9]\n",
      "  [270.9 -2.0 273.2 261.7 271.6 265.8 273.0 -- 266.4]\n",
      "  [276.4 -2.0 276.3 266.1 -4.0 268.1 277.0 -- -5.0]]]\n"
     ]
    }
   ],
   "source": [
    "t.data[0, :, -2] = numpy.ma.masked\n",
    "t.data[0, 5, -2] = -6\n",
    "print(t.data.array)"
   ]
  },
  {
   "cell_type": "markdown",
   "metadata": {},
   "source": [
    "----"
   ]
  },
  {
   "cell_type": "markdown",
   "metadata": {
    "heading_collapsed": true,
    "hidden": true
   },
   "source": [
    "### Manipulating dimensions\n",
    "[**Back to top**](#cfdm-tutorial-notebook)  \n",
    "[**Go to tutorial**](https://ncas-cms.github.io/cfdm/tutorial.html#manipulating-dimensions) "
   ]
  },
  {
   "cell_type": "code",
   "execution_count": 55,
   "metadata": {
    "hidden": true
   },
   "outputs": [
    {
     "data": {
      "text/plain": [
       "<Field: air_temperature(atmosphere_hybrid_height_coordinate(1), grid_latitude(10), grid_longitude(9)) K>"
      ]
     },
     "execution_count": 55,
     "metadata": {},
     "output_type": "execute_result"
    }
   ],
   "source": [
    "    t"
   ]
  },
  {
   "cell_type": "code",
   "execution_count": 56,
   "metadata": {
    "hidden": true
   },
   "outputs": [
    {
     "data": {
      "text/plain": [
       "<Field: air_temperature(grid_latitude(10), grid_longitude(9)) K>"
      ]
     },
     "execution_count": 56,
     "metadata": {},
     "output_type": "execute_result"
    }
   ],
   "source": [
    "t2 = t.squeeze()\n",
    "t2"
   ]
  },
  {
   "cell_type": "code",
   "execution_count": 57,
   "metadata": {},
   "outputs": [
    {
     "name": "stdout",
     "output_type": "stream",
     "text": [
      "Constructs:\n",
      "{'dimensioncoordinate0': <DimensionCoordinate: atmosphere_hybrid_height_coordinate(1) >,\n",
      " 'dimensioncoordinate1': <DimensionCoordinate: grid_latitude(10) degrees>,\n",
      " 'dimensioncoordinate2': <DimensionCoordinate: grid_longitude(9) degrees>,\n",
      " 'dimensioncoordinate3': <DimensionCoordinate: time(1) days since 2018-12-01 >}\n"
     ]
    }
   ],
   "source": [
    "print(t2.dimension_coordinates)"
   ]
  },
  {
   "cell_type": "code",
   "execution_count": 58,
   "metadata": {},
   "outputs": [
    {
     "data": {
      "text/plain": [
       "<Field: air_temperature(grid_latitude(10), time(1), grid_longitude(9)) K>"
      ]
     },
     "execution_count": 58,
     "metadata": {},
     "output_type": "execute_result"
    }
   ],
   "source": [
    "t3 = t2.insert_dimension(axis='domainaxis3', position=1)\n",
    "t3"
   ]
  },
  {
   "cell_type": "code",
   "execution_count": 59,
   "metadata": {},
   "outputs": [
    {
     "data": {
      "text/plain": [
       "<Field: air_temperature(grid_longitude(9), grid_latitude(10), time(1)) K>"
      ]
     },
     "execution_count": 59,
     "metadata": {},
     "output_type": "execute_result"
    }
   ],
   "source": [
    "t3.transpose([2, 0, 1])"
   ]
  },
  {
   "cell_type": "markdown",
   "metadata": {
    "hidden": true
   },
   "source": [
    "---"
   ]
  },
  {
   "cell_type": "markdown",
   "metadata": {
    "heading_collapsed": true
   },
   "source": [
    "## Subspacing\n",
    "[**Back to top**](#cfdm-tutorial-notebook)  \n",
    "[**Go to tutorial**](https://ncas-cms.github.io/cfdm/tutorial.html#subspacing)"
   ]
  },
  {
   "cell_type": "code",
   "execution_count": 60,
   "metadata": {
    "hidden": true
   },
   "outputs": [
    {
     "name": "stdout",
     "output_type": "stream",
     "text": [
      "Field: specific_humidity (ncvar:q)\n",
      "----------------------------------\n",
      "Data            : specific_humidity(latitude(5), longitude(8)) 1\n",
      "Cell methods    : area: mean\n",
      "Dimension coords: latitude(5) = [-75.0, ..., 75.0] degrees_north\n",
      "                : longitude(8) = [22.5, ..., 337.5] degrees_east\n",
      "                : time(1) = [2019-01-01 00:00:00]\n",
      "\n"
     ]
    }
   ],
   "source": [
    "print(q)"
   ]
  },
  {
   "cell_type": "code",
   "execution_count": 61,
   "metadata": {
    "attributes": {
     "classes": [
      "sourceCode"
     ],
     "id": ""
    },
    "hidden": true
   },
   "outputs": [
    {
     "name": "stdout",
     "output_type": "stream",
     "text": [
      "Field: specific_humidity (ncvar:q)\n",
      "----------------------------------\n",
      "Data            : specific_humidity(latitude(5), longitude(1)) 1\n",
      "Cell methods    : area: mean\n",
      "Dimension coords: latitude(5) = [75.0, ..., -75.0] degrees_north\n",
      "                : longitude(1) = [22.5] degrees_east\n",
      "                : time(1) = [2019-01-01 00:00:00]\n",
      "\n"
     ]
    }
   ],
   "source": [
    "new = q[::-1, 0]\n",
    "print(new)"
   ]
  },
  {
   "cell_type": "markdown",
   "metadata": {
    "hidden": true
   },
   "source": [
    "---"
   ]
  },
  {
   "cell_type": "markdown",
   "metadata": {
    "heading_collapsed": true
   },
   "source": [
    "## Metadata constructs 2\n",
    "[**Back to top**](#cfdm-tutorial-notebook)  \n",
    "[**Go to tutorial**](https://ncas-cms.github.io/cfdm/tutorial.html#metadata-constructs-2)"
   ]
  },
  {
   "cell_type": "code",
   "execution_count": 63,
   "metadata": {},
   "outputs": [
    {
     "name": "stdout",
     "output_type": "stream",
     "text": [
      "Constructs:\n",
      "{'dimensioncoordinate0': <DimensionCoordinate: atmosphere_hybrid_height_coordinate(1) >,\n",
      " 'dimensioncoordinate1': <DimensionCoordinate: grid_latitude(10) degrees>,\n",
      " 'dimensioncoordinate2': <DimensionCoordinate: grid_longitude(9) degrees>,\n",
      " 'dimensioncoordinate3': <DimensionCoordinate: time(1) days since 2018-12-01 >}\n"
     ]
    }
   ],
   "source": [
    "print(t.constructs.type('dimension_coordinate'))"
   ]
  },
  {
   "cell_type": "code",
   "execution_count": 65,
   "metadata": {},
   "outputs": [
    {
     "name": "stdout",
     "output_type": "stream",
     "text": [
      "Constructs:\n",
      "{'cellmethod0': <CellMethod: domainaxis1: domainaxis2: mean where land (interval: 0.1 degrees)>,\n",
      " 'cellmethod1': <CellMethod: domainaxis3: maximum>,\n",
      " 'fieldancillary0': <FieldAncillary: air_temperature standard_error(10, 9) K>}\n"
     ]
    }
   ],
   "source": [
    "print(t.constructs.type('cell_method', 'field_ancillary'))"
   ]
  },
  {
   "cell_type": "code",
   "execution_count": 66,
   "metadata": {},
   "outputs": [
    {
     "name": "stdout",
     "output_type": "stream",
     "text": [
      "Constructs:\n",
      "{'fieldancillary0': <FieldAncillary: air_temperature standard_error(10, 9) K>}\n"
     ]
    }
   ],
   "source": [
    "print(t.constructs.property(standard_name='air_temperature standard_error'))"
   ]
  },
  {
   "cell_type": "code",
   "execution_count": 67,
   "metadata": {},
   "outputs": [
    {
     "name": "stdout",
     "output_type": "stream",
     "text": [
      "Constructs:\n",
      "{'fieldancillary0': <FieldAncillary: air_temperature standard_error(10, 9) K>}\n"
     ]
    }
   ],
   "source": [
    "print(t.constructs.property(standard_name='air_temperature standard_error',\n",
    "                            unit='K'))"
   ]
  },
  {
   "cell_type": "code",
   "execution_count": 69,
   "metadata": {},
   "outputs": [
    {
     "name": "stdout",
     "output_type": "stream",
     "text": [
      "Constructs:\n",
      "{'cellmeasure0': <CellMeasure: measure:area(9, 10) km2>}\n"
     ]
    }
   ],
   "source": [
    "print(t.constructs.measure('area'))"
   ]
  },
  {
   "cell_type": "code",
   "execution_count": 70,
   "metadata": {},
   "outputs": [
    {
     "name": "stdout",
     "output_type": "stream",
     "text": [
      "Constructs:\n",
      "{'cellmethod1': <CellMethod: domainaxis3: maximum>}\n"
     ]
    }
   ],
   "source": [
    " print(t.constructs.method('maximum'))"
   ]
  },
  {
   "cell_type": "markdown",
   "metadata": {},
   "source": [
    "----"
   ]
  },
  {
   "cell_type": "code",
   "execution_count": 72,
   "metadata": {},
   "outputs": [
    {
     "name": "stdout",
     "output_type": "stream",
     "text": [
      "Constructs:\n",
      "{'auxiliarycoordinate0': <AuxiliaryCoordinate: latitude(10, 9) degrees_N>,\n",
      " 'auxiliarycoordinate1': <AuxiliaryCoordinate: longitude(9, 10) degrees_E>}\n"
     ]
    }
   ],
   "source": [
    "print(t.constructs.type('auxiliary_coordinate').axis('domainaxis2'))"
   ]
  },
  {
   "cell_type": "code",
   "execution_count": 71,
   "metadata": {},
   "outputs": [
    {
     "name": "stdout",
     "output_type": "stream",
     "text": [
      "Constructs:\n",
      "{'dimensioncoordinate1': <DimensionCoordinate: grid_latitude(10) degrees>,\n",
      " 'dimensioncoordinate2': <DimensionCoordinate: grid_longitude(9) degrees>}\n"
     ]
    }
   ],
   "source": [
    "c = t.constructs.type('dimension_coordinate')\n",
    "d = c.property(units='degrees')\n",
    "print(d)"
   ]
  },
  {
   "cell_type": "markdown",
   "metadata": {},
   "source": [
    "----"
   ]
  },
  {
   "cell_type": "code",
   "execution_count": 73,
   "metadata": {},
   "outputs": [
    {
     "name": "stdout",
     "output_type": "stream",
     "text": [
      "Constructs:\n",
      "{'domainancillary2': <DomainAncillary: surface_altitude(10, 9) m>}\n"
     ]
    }
   ],
   "source": [
    "print(t.constructs.key('domainancillary2'))"
   ]
  },
  {
   "cell_type": "code",
   "execution_count": 74,
   "metadata": {},
   "outputs": [
    {
     "name": "stdout",
     "output_type": "stream",
     "text": [
      "Constructs:\n",
      "{'cellmethod1': <CellMethod: domainaxis3: maximum>}\n"
     ]
    }
   ],
   "source": [
    "print(t.constructs.key('cellmethod1'))"
   ]
  },
  {
   "cell_type": "code",
   "execution_count": 75,
   "metadata": {},
   "outputs": [
    {
     "name": "stdout",
     "output_type": "stream",
     "text": [
      "Constructs:\n",
      "{'auxiliarycoordinate2': <AuxiliaryCoordinate: long_name=Grid latitude name(10) >,\n",
      " 'cellmeasure0': <CellMeasure: measure:area(9, 10) km2>}\n"
     ]
    }
   ],
   "source": [
    "print(t.constructs.key('auxiliarycoordinate2', 'cellmeasure0'))"
   ]
  },
  {
   "cell_type": "markdown",
   "metadata": {},
   "source": [
    "----"
   ]
  },
  {
   "cell_type": "code",
   "execution_count": 76,
   "metadata": {},
   "outputs": [
    {
     "name": "stdout",
     "output_type": "stream",
     "text": [
      "Field: air_temperature (ncvar:ta)\n",
      "---------------------------------\n",
      "Data            : air_temperature(atmosphere_hybrid_height_coordinate(1), grid_latitude(10), grid_longitude(9)) K\n",
      "Cell methods    : grid_latitude(10): grid_longitude(9): mean where land (interval: 0.1 degrees) time(1): maximum\n",
      "Field ancils    : air_temperature standard_error(grid_latitude(10), grid_longitude(9)) = [[0.76, ..., 0.32]] K\n",
      "Dimension coords: atmosphere_hybrid_height_coordinate(1) = [1.5]\n",
      "                : grid_latitude(10) = [2.2, ..., -1.76] degrees\n",
      "                : grid_longitude(9) = [-4.7, ..., -1.18] degrees\n",
      "                : time(1) = [2019-01-01 00:00:00]\n",
      "Auxiliary coords: latitude(grid_latitude(10), grid_longitude(9)) = [[53.941, ..., 50.225]] degrees_N\n",
      "                : longitude(grid_longitude(9), grid_latitude(10)) = [[2.004, ..., 8.156]] degrees_E\n",
      "                : long_name=Grid latitude name(grid_latitude(10)) = [--, ..., kappa]\n",
      "Cell measures   : measure:area(grid_longitude(9), grid_latitude(10)) = [[2391.9657, ..., 2392.6009]] km2\n",
      "Coord references: atmosphere_hybrid_height_coordinate\n",
      "                : rotated_latitude_longitude\n",
      "Domain ancils   : ncvar%a(atmosphere_hybrid_height_coordinate(1)) = [10.0] m\n",
      "                : ncvar%b(atmosphere_hybrid_height_coordinate(1)) = [20.0]\n",
      "                : surface_altitude(grid_latitude(10), grid_longitude(9)) = [[0.0, ..., 270.0]] m\n",
      "\n"
     ]
    }
   ],
   "source": [
    "print(t)"
   ]
  },
  {
   "cell_type": "code",
   "execution_count": 77,
   "metadata": {},
   "outputs": [
    {
     "name": "stdout",
     "output_type": "stream",
     "text": [
      "Constructs:\n",
      "{'auxiliarycoordinate0': <AuxiliaryCoordinate: latitude(10, 9) degrees_N>}\n"
     ]
    }
   ],
   "source": [
    "print(t.constructs.name('latitude'))"
   ]
  },
  {
   "cell_type": "code",
   "execution_count": 82,
   "metadata": {},
   "outputs": [
    {
     "name": "stdout",
     "output_type": "stream",
     "text": [
      "Constructs:\n",
      "{'auxiliarycoordinate2': <AuxiliaryCoordinate: long_name=Grid latitude name(10) >}\n"
     ]
    }
   ],
   "source": [
    "print(t.constructs.name('long_name=Grid latitude name'))"
   ]
  },
  {
   "cell_type": "code",
   "execution_count": 83,
   "metadata": {},
   "outputs": [
    {
     "name": "stdout",
     "output_type": "stream",
     "text": [
      "Constructs:\n",
      "{'cellmeasure0': <CellMeasure: measure:area(9, 10) km2>}\n"
     ]
    }
   ],
   "source": [
    "print(t.constructs.name('measure:area'))"
   ]
  },
  {
   "cell_type": "code",
   "execution_count": 87,
   "metadata": {},
   "outputs": [
    {
     "name": "stdout",
     "output_type": "stream",
     "text": [
      "Constructs:\n",
      "{'domainancillary1': <DomainAncillary: ncvar%b(1) >}\n"
     ]
    }
   ],
   "source": [
    "print(t.constructs.name('ncvar%b'))"
   ]
  },
  {
   "cell_type": "markdown",
   "metadata": {},
   "source": [
    "----"
   ]
  },
  {
   "cell_type": "code",
   "execution_count": 89,
   "metadata": {},
   "outputs": [
    {
     "name": "stdout",
     "output_type": "stream",
     "text": [
      "Constructs:\n",
      "{'cellmeasure0': <CellMeasure: measure:area(9, 10) km2>}\n"
     ]
    }
   ],
   "source": [
    "print(t.constructs.type('cell_measure'))"
   ]
  },
  {
   "cell_type": "code",
   "execution_count": 90,
   "metadata": {},
   "outputs": [
    {
     "name": "stdout",
     "output_type": "stream",
     "text": [
      "Constructs:\n",
      "{'cellmeasure0': <CellMeasure: measure:area(9, 10) km2>}\n"
     ]
    }
   ],
   "source": [
    "print(t.cell_measures)"
   ]
  },
  {
   "cell_type": "markdown",
   "metadata": {},
   "source": [
    "----"
   ]
  },
  {
   "cell_type": "code",
   "execution_count": 91,
   "metadata": {},
   "outputs": [
    {
     "data": {
      "text/plain": [
       "<Constructs: >"
      ]
     },
     "execution_count": 91,
     "metadata": {},
     "output_type": "execute_result"
    }
   ],
   "source": [
    "c = t.constructs.name('radiation_wavelength')\n",
    "c"
   ]
  },
  {
   "cell_type": "code",
   "execution_count": 92,
   "metadata": {},
   "outputs": [
    {
     "name": "stdout",
     "output_type": "stream",
     "text": [
      "Constructs:\n",
      "{}\n"
     ]
    }
   ],
   "source": [
    "print(c)"
   ]
  },
  {
   "cell_type": "code",
   "execution_count": 93,
   "metadata": {},
   "outputs": [
    {
     "data": {
      "text/plain": [
       "0"
      ]
     },
     "execution_count": 93,
     "metadata": {},
     "output_type": "execute_result"
    }
   ],
   "source": [
    "len(c)"
   ]
  },
  {
   "cell_type": "markdown",
   "metadata": {},
   "source": [
    "----"
   ]
  },
  {
   "cell_type": "code",
   "execution_count": 95,
   "metadata": {},
   "outputs": [
    {
     "name": "stdout",
     "output_type": "stream",
     "text": [
      "Constructs:\n",
      "{'auxiliarycoordinate0': <AuxiliaryCoordinate: latitude(10, 9) degrees_N>}\n"
     ]
    }
   ],
   "source": [
    "print(t.constructs('latitude'))"
   ]
  },
  {
   "cell_type": "markdown",
   "metadata": {},
   "source": [
    "----"
   ]
  },
  {
   "cell_type": "markdown",
   "metadata": {},
   "source": [
    "### Accessing an individual metadata construct\n",
    "[**Back to top**](#cfdm-tutorial-notebook)  \n",
    "[**Go to tutorial**](https://ncas-cms.github.io/cfdm/tutorial.html#accessing-an-individual-metadata-construct)"
   ]
  },
  {
   "cell_type": "code",
   "execution_count": 96,
   "metadata": {},
   "outputs": [
    {
     "data": {
      "text/plain": [
       "1"
      ]
     },
     "execution_count": 96,
     "metadata": {},
     "output_type": "execute_result"
    }
   ],
   "source": [
    "len(t.constructs.name('latitude'))"
   ]
  },
  {
   "cell_type": "code",
   "execution_count": 97,
   "metadata": {},
   "outputs": [
    {
     "data": {
      "text/plain": [
       "<AuxiliaryCoordinate: latitude(10, 9) degrees_N>"
      ]
     },
     "execution_count": 97,
     "metadata": {},
     "output_type": "execute_result"
    }
   ],
   "source": [
    "t.constructs.name('latitude').get()"
   ]
  },
  {
   "cell_type": "markdown",
   "metadata": {},
   "source": [
    "----"
   ]
  },
  {
   "cell_type": "code",
   "execution_count": 102,
   "metadata": {},
   "outputs": [
    {
     "data": {
      "text/plain": [
       "<CellMeasure: measure:area(9, 10) km2>"
      ]
     },
     "execution_count": 102,
     "metadata": {},
     "output_type": "execute_result"
    }
   ],
   "source": [
    "c = t.constructs.property(units='km2').get()\n",
    "c"
   ]
  },
  {
   "cell_type": "code",
   "execution_count": 103,
   "metadata": {},
   "outputs": [
    {
     "data": {
      "text/plain": [
       "'measure:area'"
      ]
     },
     "execution_count": 103,
     "metadata": {},
     "output_type": "execute_result"
    }
   ],
   "source": [
    "c.name()"
   ]
  },
  {
   "cell_type": "code",
   "execution_count": 104,
   "metadata": {},
   "outputs": [
    {
     "data": {
      "text/plain": [
       "['air_temperature',\n",
       " 'project=research',\n",
       " 'units=K',\n",
       " 'standard_name=air_temperature',\n",
       " 'Conventions=CF-1.7',\n",
       " 'ncvar%ta']"
      ]
     },
     "execution_count": 104,
     "metadata": {},
     "output_type": "execute_result"
    }
   ],
   "source": [
    "t.names()"
   ]
  },
  {
   "cell_type": "markdown",
   "metadata": {},
   "source": [
    "----"
   ]
  },
  {
   "cell_type": "code",
   "execution_count": 105,
   "metadata": {},
   "outputs": [
    {
     "name": "stdout",
     "output_type": "stream",
     "text": [
      "Can't get zero constructs\n"
     ]
    }
   ],
   "source": [
    "try:\n",
    "    t.constructs.measure('volume').get()\n",
    "except ValueError as error:\n",
    "    print(error)"
   ]
  },
  {
   "cell_type": "code",
   "execution_count": 106,
   "metadata": {},
   "outputs": [
    {
     "data": {
      "text/plain": [
       "<Constructs: dimension_coordinate(2)>"
      ]
     },
     "execution_count": 106,
     "metadata": {},
     "output_type": "execute_result"
    }
   ],
   "source": [
    "t.constructs.name('units=degrees')"
   ]
  },
  {
   "cell_type": "code",
   "execution_count": 107,
   "metadata": {},
   "outputs": [
    {
     "data": {
      "text/plain": [
       "0"
      ]
     },
     "execution_count": 107,
     "metadata": {},
     "output_type": "execute_result"
    }
   ],
   "source": [
    "len(t.constructs.name('units:degrees'))"
   ]
  },
  {
   "cell_type": "code",
   "execution_count": 108,
   "metadata": {},
   "outputs": [
    {
     "name": "stdout",
     "output_type": "stream",
     "text": [
      "Can't get zero constructs\n"
     ]
    }
   ],
   "source": [
    "try:\n",
    "    t.constructs.name('units:degrees').get()\n",
    "except ValueError as error:\n",
    "    print(error)"
   ]
  },
  {
   "cell_type": "code",
   "execution_count": 109,
   "metadata": {},
   "outputs": [
    {
     "name": "stdout",
     "output_type": "stream",
     "text": [
      "None\n"
     ]
    }
   ],
   "source": [
    "print(t.constructs.name('units:degrees').get(default=None))"
   ]
  },
  {
   "cell_type": "markdown",
   "metadata": {},
   "source": [
    "----"
   ]
  },
  {
   "cell_type": "code",
   "execution_count": 110,
   "metadata": {},
   "outputs": [
    {
     "data": {
      "text/plain": [
       "<DomainAncillary: surface_altitude(10, 9) m>"
      ]
     },
     "execution_count": 110,
     "metadata": {},
     "output_type": "execute_result"
    }
   ],
   "source": [
    "t.get_construct(key='domainancillary2')"
   ]
  },
  {
   "cell_type": "code",
   "execution_count": 111,
   "metadata": {},
   "outputs": [
    {
     "data": {
      "text/plain": [
       "<CellMethod: domainaxis3: maximum>"
      ]
     },
     "execution_count": 111,
     "metadata": {},
     "output_type": "execute_result"
    }
   ],
   "source": [
    "t.get_construct(key='cellmethod1')"
   ]
  },
  {
   "cell_type": "code",
   "execution_count": 114,
   "metadata": {},
   "outputs": [
    {
     "data": {
      "text/plain": [
       "0"
      ]
     },
     "execution_count": 114,
     "metadata": {},
     "output_type": "execute_result"
    }
   ],
   "source": [
    "len(t.constructs.key('auxiliarycoordinate999'))"
   ]
  },
  {
   "cell_type": "code",
   "execution_count": 115,
   "metadata": {},
   "outputs": [
    {
     "data": {
      "text/plain": [
       "'NO CONSTRUCT'"
      ]
     },
     "execution_count": 115,
     "metadata": {},
     "output_type": "execute_result"
    }
   ],
   "source": [
    "t.get_construct(key='auxiliarycoordinate999', default='NO CONSTRUCT')"
   ]
  },
  {
   "cell_type": "markdown",
   "metadata": {},
   "source": [
    "----"
   ]
  },
  {
   "cell_type": "code",
   "execution_count": 117,
   "metadata": {},
   "outputs": [
    {
     "data": {
      "text/plain": [
       "'auxiliarycoordinate0'"
      ]
     },
     "execution_count": 117,
     "metadata": {},
     "output_type": "execute_result"
    }
   ],
   "source": [
    "t.constructs.name('latitude').get_key()"
   ]
  },
  {
   "cell_type": "markdown",
   "metadata": {},
   "source": [
    "----"
   ]
  },
  {
   "cell_type": "code",
   "execution_count": 118,
   "metadata": {},
   "outputs": [
    {
     "data": {
      "text/plain": [
       "<AuxiliaryCoordinate: latitude(10, 9) degrees_N>"
      ]
     },
     "execution_count": 118,
     "metadata": {},
     "output_type": "execute_result"
    }
   ],
   "source": [
    "t.constructs['auxiliarycoordinate0']"
   ]
  },
  {
   "cell_type": "markdown",
   "metadata": {},
   "source": [
    "----"
   ]
  },
  {
   "cell_type": "markdown",
   "metadata": {
    "heading_collapsed": true,
    "hidden": true
   },
   "source": [
    "###  Metadata construct properties\n",
    "[**Back to top**](#cfdm-tutorial-notebook)  \n",
    "[**Go to tutorial**](https://ncas-cms.github.io/cfdm/tutorial.html#metadata-construct-properties)"
   ]
  },
  {
   "cell_type": "code",
   "execution_count": 121,
   "metadata": {
    "hidden": true
   },
   "outputs": [
    {
     "data": {
      "text/plain": [
       "<DimensionCoordinate: longitude(8) degrees_east>"
      ]
     },
     "execution_count": 121,
     "metadata": {},
     "output_type": "execute_result"
    }
   ],
   "source": [
    "lon = q.constructs.name('longitude').get()   \n",
    "lon"
   ]
  },
  {
   "cell_type": "code",
   "execution_count": 122,
   "metadata": {
    "hidden": true
   },
   "outputs": [
    {
     "data": {
      "text/plain": [
       "{'long_name': 'Longitude',\n",
       " 'standard_name': 'longitude',\n",
       " 'units': 'degrees_east'}"
      ]
     },
     "execution_count": 122,
     "metadata": {},
     "output_type": "execute_result"
    }
   ],
   "source": [
    "lon.set_property('long_name', 'Longitude')\n",
    "lon.properties()"
   ]
  },
  {
   "cell_type": "markdown",
   "metadata": {},
   "source": [
    "----"
   ]
  },
  {
   "cell_type": "markdown",
   "metadata": {},
   "source": [
    "###  Metadata construct data\n",
    "[**Back to top**](#cfdm-tutorial-notebook)  \n",
    "[**Go to tutorial**](https://ncas-cms.github.io/cfdm/tutorial.html#metadata-construct-data)"
   ]
  },
  {
   "cell_type": "code",
   "execution_count": 126,
   "metadata": {},
   "outputs": [
    {
     "data": {
      "text/plain": [
       "<DimensionCoordinate: longitude(8) degrees_east>"
      ]
     },
     "execution_count": 126,
     "metadata": {},
     "output_type": "execute_result"
    }
   ],
   "source": [
    "lon = q.constructs.name('longitude').get()\n",
    "lon"
   ]
  },
  {
   "cell_type": "code",
   "execution_count": 127,
   "metadata": {},
   "outputs": [
    {
     "data": {
      "text/plain": [
       "<Data(8): [22.5, ..., 337.5] degrees_east>"
      ]
     },
     "execution_count": 127,
     "metadata": {},
     "output_type": "execute_result"
    }
   ],
   "source": [
    "lon.get_data()"
   ]
  },
  {
   "cell_type": "code",
   "execution_count": 128,
   "metadata": {},
   "outputs": [
    {
     "name": "stdout",
     "output_type": "stream",
     "text": [
      "[  22.5    67.5   133.33  157.5   202.5   247.5   292.5   337.5 ]\n"
     ]
    }
   ],
   "source": [
    "lon.data[2] = 133.33\n",
    "print(lon.data.array)"
   ]
  },
  {
   "cell_type": "markdown",
   "metadata": {},
   "source": [
    "----"
   ]
  },
  {
   "cell_type": "code",
   "execution_count": 130,
   "metadata": {},
   "outputs": [
    {
     "data": {
      "text/plain": [
       "'auxiliarycoordinate0'"
      ]
     },
     "execution_count": 130,
     "metadata": {},
     "output_type": "execute_result"
    }
   ],
   "source": [
    "key = t.constructs.name('latitude').get_key()\n",
    "key"
   ]
  },
  {
   "cell_type": "code",
   "execution_count": 131,
   "metadata": {},
   "outputs": [
    {
     "data": {
      "text/plain": [
       "('domainaxis1', 'domainaxis2')"
      ]
     },
     "execution_count": 131,
     "metadata": {},
     "output_type": "execute_result"
    }
   ],
   "source": [
    "t.get_data_axes(key=key)"
   ]
  },
  {
   "cell_type": "markdown",
   "metadata": {},
   "source": [
    "----"
   ]
  },
  {
   "cell_type": "code",
   "execution_count": 132,
   "metadata": {},
   "outputs": [
    {
     "data": {
      "text/plain": [
       "{'auxiliarycoordinate0': ('domainaxis1', 'domainaxis2'),\n",
       " 'auxiliarycoordinate1': ('domainaxis2', 'domainaxis1'),\n",
       " 'auxiliarycoordinate2': ('domainaxis1',),\n",
       " 'cellmeasure0': ('domainaxis2', 'domainaxis1'),\n",
       " 'dimensioncoordinate0': ('domainaxis0',),\n",
       " 'dimensioncoordinate1': ('domainaxis1',),\n",
       " 'dimensioncoordinate2': ('domainaxis2',),\n",
       " 'dimensioncoordinate3': ('domainaxis3',),\n",
       " 'domainancillary0': ('domainaxis0',),\n",
       " 'domainancillary1': ('domainaxis0',),\n",
       " 'domainancillary2': ('domainaxis1', 'domainaxis2'),\n",
       " 'fieldancillary0': ('domainaxis1', 'domainaxis2')}"
      ]
     },
     "execution_count": 132,
     "metadata": {},
     "output_type": "execute_result"
    }
   ],
   "source": [
    "t.constructs.data_axes()"
   ]
  },
  {
   "cell_type": "markdown",
   "metadata": {},
   "source": [
    "----"
   ]
  },
  {
   "cell_type": "code",
   "execution_count": 133,
   "metadata": {},
   "outputs": [
    {
     "data": {
      "text/plain": [
       "<DimensionCoordinate: time(1) days since 2018-12-01 >"
      ]
     },
     "execution_count": 133,
     "metadata": {},
     "output_type": "execute_result"
    }
   ],
   "source": [
    "time = q.constructs('time').get()\n",
    "time"
   ]
  },
  {
   "cell_type": "code",
   "execution_count": 134,
   "metadata": {},
   "outputs": [
    {
     "data": {
      "text/plain": [
       "('days since 2018-12-01', 'standard')"
      ]
     },
     "execution_count": 134,
     "metadata": {},
     "output_type": "execute_result"
    }
   ],
   "source": [
    "time.get_property('units'), time.get_property('calendar', default='standard')"
   ]
  },
  {
   "cell_type": "code",
   "execution_count": 135,
   "metadata": {},
   "outputs": [
    {
     "name": "stdout",
     "output_type": "stream",
     "text": [
      "[ 31.]\n"
     ]
    }
   ],
   "source": [
    "print(time.data.array)"
   ]
  },
  {
   "cell_type": "code",
   "execution_count": 137,
   "metadata": {},
   "outputs": [
    {
     "name": "stdout",
     "output_type": "stream",
     "text": [
      "[cftime.DatetimeGregorian(2019, 1, 1, 0, 0, 0, 0, 1, 1)]\n"
     ]
    }
   ],
   "source": [
    "print(time.data.datetime_array)"
   ]
  },
  {
   "cell_type": "markdown",
   "metadata": {},
   "source": [
    "----"
   ]
  },
  {
   "cell_type": "markdown",
   "metadata": {
    "heading_collapsed": true,
    "hidden": true
   },
   "source": [
    "## Domain\n",
    "[**Back to top**](#cfdm-tutorial-notebook)  \n",
    "[**Go to tutorial**](https://ncas-cms.github.io/cfdm/tutorial.html#domain)"
   ]
  },
  {
   "cell_type": "code",
   "execution_count": 138,
   "metadata": {},
   "outputs": [
    {
     "data": {
      "text/plain": [
       "<Domain: {1, 1, 9, 10}>"
      ]
     },
     "execution_count": 138,
     "metadata": {},
     "output_type": "execute_result"
    }
   ],
   "source": [
    "domain = t.get_domain()\n",
    "domain"
   ]
  },
  {
   "cell_type": "code",
   "execution_count": 139,
   "metadata": {},
   "outputs": [
    {
     "name": "stdout",
     "output_type": "stream",
     "text": [
      "Dimension coords: atmosphere_hybrid_height_coordinate(1) = [1.5]\n",
      "                : grid_latitude(10) = [2.2, ..., -1.76] degrees\n",
      "                : grid_longitude(9) = [-4.7, ..., -1.18] degrees\n",
      "                : time(1) = [2019-01-01 00:00:00]\n",
      "Auxiliary coords: latitude(grid_latitude(10), grid_longitude(9)) = [[53.941, ..., 50.225]] degrees_N\n",
      "                : longitude(grid_longitude(9), grid_latitude(10)) = [[2.004, ..., 8.156]] degrees_E\n",
      "                : long_name=Grid latitude name(grid_latitude(10)) = [--, ..., kappa]\n",
      "Cell measures   : measure:area(grid_longitude(9), grid_latitude(10)) = [[2391.9657, ..., 2392.6009]] km2\n",
      "Coord references: atmosphere_hybrid_height_coordinate\n",
      "                : rotated_latitude_longitude\n",
      "Domain ancils   : ncvar%a(atmosphere_hybrid_height_coordinate(1)) = [10.0] m\n",
      "                : ncvar%b(atmosphere_hybrid_height_coordinate(1)) = [20.0]\n",
      "                : surface_altitude(grid_latitude(10), grid_longitude(9)) = [[0.0, ..., 270.0]] m\n",
      "\n"
     ]
    }
   ],
   "source": [
    "print(domain)"
   ]
  },
  {
   "cell_type": "code",
   "execution_count": 140,
   "metadata": {},
   "outputs": [
    {
     "name": "stdout",
     "output_type": "stream",
     "text": [
      "Domain Axis: atmosphere_hybrid_height_coordinate(1)\n",
      "Domain Axis: grid_latitude(10)\n",
      "Domain Axis: grid_longitude(9)\n",
      "Domain Axis: time(1)\n",
      "\n",
      "Dimension coordinate: atmosphere_hybrid_height_coordinate\n",
      "    computed_standard_name = 'altitude'\n",
      "    standard_name = 'atmosphere_hybrid_height_coordinate'\n",
      "    Data(atmosphere_hybrid_height_coordinate(1)) = [1.5]\n",
      "    Bounds:Data(atmosphere_hybrid_height_coordinate(1), 2) = [[1.0, 2.0]]\n",
      "\n",
      "Dimension coordinate: grid_latitude\n",
      "    standard_name = 'grid_latitude'\n",
      "    units = 'degrees'\n",
      "    Data(grid_latitude(10)) = [2.2, ..., -1.76] degrees\n",
      "    Bounds:Data(grid_latitude(10), 2) = [[2.42, ..., -1.98]] degrees\n",
      "\n",
      "Dimension coordinate: grid_longitude\n",
      "    standard_name = 'grid_longitude'\n",
      "    units = 'degrees'\n",
      "    Data(grid_longitude(9)) = [-4.7, ..., -1.18] degrees\n",
      "    Bounds:Data(grid_longitude(9), 2) = [[-4.92, ..., -0.96]] degrees\n",
      "\n",
      "Dimension coordinate: time\n",
      "    standard_name = 'time'\n",
      "    units = 'days since 2018-12-01'\n",
      "    Data(time(1)) = [2019-01-01 00:00:00]\n",
      "\n",
      "Auxiliary coordinate: latitude\n",
      "    standard_name = 'latitude'\n",
      "    units = 'degrees_N'\n",
      "    Data(grid_latitude(10), grid_longitude(9)) = [[53.941, ..., 50.225]] degrees_N\n",
      "\n",
      "Auxiliary coordinate: longitude\n",
      "    standard_name = 'longitude'\n",
      "    units = 'degrees_E'\n",
      "    Data(grid_longitude(9), grid_latitude(10)) = [[2.004, ..., 8.156]] degrees_E\n",
      "\n",
      "Auxiliary coordinate: long_name=Grid latitude name\n",
      "    long_name = 'Grid latitude name'\n",
      "    Data(grid_latitude(10)) = [--, ..., kappa]\n",
      "\n",
      "Domain ancillary: ncvar%a\n",
      "    units = 'm'\n",
      "    Data(atmosphere_hybrid_height_coordinate(1)) = [10.0] m\n",
      "    Bounds:Data(atmosphere_hybrid_height_coordinate(1), 2) = [[5.0, 15.0]] m\n",
      "\n",
      "Domain ancillary: ncvar%b\n",
      "    Data(atmosphere_hybrid_height_coordinate(1)) = [20.0]\n",
      "    Bounds:Data(atmosphere_hybrid_height_coordinate(1), 2) = [[14.0, 26.0]]\n",
      "\n",
      "Domain ancillary: surface_altitude\n",
      "    standard_name = 'surface_altitude'\n",
      "    units = 'm'\n",
      "    Data(grid_latitude(10), grid_longitude(9)) = [[0.0, ..., 270.0]] m\n",
      "\n",
      "Coordinate reference: atmosphere_hybrid_height_coordinate\n",
      "    Coordinate conversion:computed_standard_name = altitude\n",
      "    Coordinate conversion:standard_name = atmosphere_hybrid_height_coordinate\n",
      "    Coordinate conversion:a = Domain Ancillary: ncvar%a\n",
      "    Coordinate conversion:b = Domain Ancillary: ncvar%b\n",
      "    Coordinate conversion:orog = Domain Ancillary: surface_altitude\n",
      "    Datum:earth_radius = 6371007\n",
      "    Dimension Coordinate: atmosphere_hybrid_height_coordinate\n",
      "\n",
      "Coordinate reference: rotated_latitude_longitude\n",
      "    Coordinate conversion:grid_mapping_name = rotated_latitude_longitude\n",
      "    Coordinate conversion:grid_north_pole_latitude = 38.0\n",
      "    Coordinate conversion:grid_north_pole_longitude = 190.0\n",
      "    Datum:earth_radius = 6371007\n",
      "    Dimension Coordinate: grid_longitude\n",
      "    Dimension Coordinate: grid_latitude\n",
      "    Auxiliary Coordinate: longitude\n",
      "    Auxiliary Coordinate: latitude\n",
      "\n",
      "Cell measure: measure:area\n",
      "    units = 'km2'\n",
      "    Data(grid_longitude(9), grid_latitude(10)) = [[2391.9657, ..., 2392.6009]] km2\n",
      "\n"
     ]
    }
   ],
   "source": [
    "description = domain.dump()"
   ]
  },
  {
   "cell_type": "markdown",
   "metadata": {},
   "source": [
    "----"
   ]
  },
  {
   "cell_type": "code",
   "execution_count": 145,
   "metadata": {},
   "outputs": [
    {
     "data": {
      "text/plain": [
       "'set by domain'"
      ]
     },
     "execution_count": 145,
     "metadata": {},
     "output_type": "execute_result"
    }
   ],
   "source": [
    "domain = t.domain\n",
    "domain.constructs('latitude').get().set_property('test', 'set by domain')\n",
    "t.constructs('latitude').get().get_property('test')"
   ]
  },
  {
   "cell_type": "code",
   "execution_count": 146,
   "metadata": {},
   "outputs": [
    {
     "data": {
      "text/plain": [
       "'set by field'"
      ]
     },
     "execution_count": 146,
     "metadata": {},
     "output_type": "execute_result"
    }
   ],
   "source": [
    "t.constructs('latitude').get().set_property('test', 'set by field')\n",
    "domain.constructs('latitude').get().get_property('test')"
   ]
  },
  {
   "cell_type": "code",
   "execution_count": 151,
   "metadata": {},
   "outputs": [
    {
     "ename": "AttributeError",
     "evalue": "'AuxiliaryCoordinate' has no 'test' property",
     "output_type": "error",
     "traceback": [
      "\u001b[0;31m---------------------------------------------------------------------------\u001b[0m",
      "\u001b[0;31mAttributeError\u001b[0m                            Traceback (most recent call last)",
      "\u001b[0;32m<ipython-input-151-f65b6a6ce212>\u001b[0m in \u001b[0;36m<module>\u001b[0;34m()\u001b[0m\n\u001b[0;32m----> 1\u001b[0;31m \u001b[0mdomain\u001b[0m\u001b[0;34m.\u001b[0m\u001b[0mconstructs\u001b[0m\u001b[0;34m(\u001b[0m\u001b[0;34m'latitude'\u001b[0m\u001b[0;34m)\u001b[0m\u001b[0;34m.\u001b[0m\u001b[0mget\u001b[0m\u001b[0;34m(\u001b[0m\u001b[0;34m)\u001b[0m\u001b[0;34m.\u001b[0m\u001b[0mdel_property\u001b[0m\u001b[0;34m(\u001b[0m\u001b[0;34m'test'\u001b[0m\u001b[0;34m)\u001b[0m\u001b[0;34m\u001b[0m\u001b[0m\n\u001b[0m",
      "\u001b[0;32m/home/david/cfdm/cfdm/core/abstract/properties.pyc\u001b[0m in \u001b[0;36mdel_property\u001b[0;34m(self, prop, default)\u001b[0m\n\u001b[1;32m    156\u001b[0m             return self._default(default,\n\u001b[1;32m    157\u001b[0m                                  \"{!r} has no {!r} property\".format(\n\u001b[0;32m--> 158\u001b[0;31m                                  self.__class__.__name__, prop))\n\u001b[0m\u001b[1;32m    159\u001b[0m \u001b[0;34m\u001b[0m\u001b[0m\n\u001b[1;32m    160\u001b[0m \u001b[0;31m#        try:\u001b[0m\u001b[0;34m\u001b[0m\u001b[0;34m\u001b[0m\u001b[0m\n",
      "\u001b[0;32m/home/david/cfdm/cfdm/core/abstract/container.pyc\u001b[0m in \u001b[0;36m_default\u001b[0;34m(self, default, message)\u001b[0m\n\u001b[1;32m     69\u001b[0m                 \u001b[0mdefault\u001b[0m\u001b[0;34m.\u001b[0m\u001b[0margs\u001b[0m \u001b[0;34m=\u001b[0m \u001b[0;34m(\u001b[0m\u001b[0mmessage\u001b[0m\u001b[0;34m,\u001b[0m\u001b[0;34m)\u001b[0m\u001b[0;34m\u001b[0m\u001b[0m\n\u001b[1;32m     70\u001b[0m \u001b[0;34m\u001b[0m\u001b[0m\n\u001b[0;32m---> 71\u001b[0;31m             \u001b[0;32mraise\u001b[0m \u001b[0mdefault\u001b[0m\u001b[0;34m\u001b[0m\u001b[0m\n\u001b[0m\u001b[1;32m     72\u001b[0m \u001b[0;34m\u001b[0m\u001b[0m\n\u001b[1;32m     73\u001b[0m         \u001b[0;32mreturn\u001b[0m \u001b[0mdefault\u001b[0m\u001b[0;34m\u001b[0m\u001b[0m\n",
      "\u001b[0;31mAttributeError\u001b[0m: 'AuxiliaryCoordinate' has no 'test' property"
     ]
    }
   ],
   "source": [
    "domain.constructs('latitude').get().del_property('test')"
   ]
  },
  {
   "cell_type": "code",
   "execution_count": 149,
   "metadata": {},
   "outputs": [
    {
     "ename": "AttributeError",
     "evalue": "'Field' object has no attribute 'construct'",
     "output_type": "error",
     "traceback": [
      "\u001b[0;31m---------------------------------------------------------------------------\u001b[0m",
      "\u001b[0;31mAttributeError\u001b[0m                            Traceback (most recent call last)",
      "\u001b[0;32m<ipython-input-149-321d5ebdfb49>\u001b[0m in \u001b[0;36m<module>\u001b[0;34m()\u001b[0m\n\u001b[0;32m----> 1\u001b[0;31m \u001b[0mt\u001b[0m\u001b[0;34m.\u001b[0m\u001b[0mconstruct\u001b[0m\u001b[0;34m(\u001b[0m\u001b[0;34m'latitude'\u001b[0m\u001b[0;34m)\u001b[0m\u001b[0;34m.\u001b[0m\u001b[0mget\u001b[0m\u001b[0;34m(\u001b[0m\u001b[0;34m)\u001b[0m\u001b[0;34m.\u001b[0m\u001b[0mhas_property\u001b[0m\u001b[0;34m(\u001b[0m\u001b[0;34m'test'\u001b[0m\u001b[0;34m)\u001b[0m\u001b[0;34m\u001b[0m\u001b[0m\n\u001b[0m",
      "\u001b[0;31mAttributeError\u001b[0m: 'Field' object has no attribute 'construct'"
     ]
    }
   ],
   "source": [
    "t.constructs('latitude').get().has_property('test')"
   ]
  },
  {
   "cell_type": "code",
   "execution_count": 142,
   "metadata": {},
   "outputs": [
    {
     "ename": "ValueError",
     "evalue": "Can't get zero constructs",
     "output_type": "error",
     "traceback": [
      "\u001b[0;31m---------------------------------------------------------------------------\u001b[0m",
      "\u001b[0;31mValueError\u001b[0m                                Traceback (most recent call last)",
      "\u001b[0;32m<ipython-input-142-0eda0839cb48>\u001b[0m in \u001b[0;36m<module>\u001b[0;34m()\u001b[0m\n\u001b[0;32m----> 1\u001b[0;31m \u001b[0mt\u001b[0m\u001b[0;34m.\u001b[0m\u001b[0mget_construct\u001b[0m\u001b[0;34m(\u001b[0m\u001b[0;34m'latitude'\u001b[0m\u001b[0;34m)\u001b[0m\u001b[0;34m.\u001b[0m\u001b[0mget_property\u001b[0m\u001b[0;34m(\u001b[0m\u001b[0;34m'test'\u001b[0m\u001b[0;34m)\u001b[0m\u001b[0;34m\u001b[0m\u001b[0m\n\u001b[0m",
      "\u001b[0;32m/home/david/cfdm/cfdm/mixin/constructaccess.pyc\u001b[0m in \u001b[0;36mget_construct\u001b[0;34m(self, key, default)\u001b[0m\n\u001b[1;32m    436\u001b[0m \u001b[0;34m\u001b[0m\u001b[0m\n\u001b[1;32m    437\u001b[0m         '''\n\u001b[0;32m--> 438\u001b[0;31m         \u001b[0;32mreturn\u001b[0m \u001b[0mself\u001b[0m\u001b[0;34m.\u001b[0m\u001b[0mconstructs\u001b[0m\u001b[0;34m.\u001b[0m\u001b[0mkey\u001b[0m\u001b[0;34m(\u001b[0m\u001b[0mkey\u001b[0m\u001b[0;34m)\u001b[0m\u001b[0;34m.\u001b[0m\u001b[0mget\u001b[0m\u001b[0;34m(\u001b[0m\u001b[0mdefault\u001b[0m\u001b[0;34m=\u001b[0m\u001b[0mdefault\u001b[0m\u001b[0;34m)\u001b[0m\u001b[0;34m\u001b[0m\u001b[0m\n\u001b[0m\u001b[1;32m    439\u001b[0m \u001b[0;34m\u001b[0m\u001b[0m\n\u001b[1;32m    440\u001b[0m \u001b[0;31m#      out = self.constructs.select(name=name, properties=properties,\u001b[0m\u001b[0;34m\u001b[0m\u001b[0;34m\u001b[0m\u001b[0m\n",
      "\u001b[0;32m/home/david/cfdm/cfdm/core/constructs.pyc\u001b[0m in \u001b[0;36mget\u001b[0;34m(self, default)\u001b[0m\n\u001b[1;32m    757\u001b[0m         '''\n\u001b[1;32m    758\u001b[0m         \u001b[0;32mif\u001b[0m \u001b[0;32mnot\u001b[0m \u001b[0mself\u001b[0m\u001b[0;34m:\u001b[0m\u001b[0;34m\u001b[0m\u001b[0m\n\u001b[0;32m--> 759\u001b[0;31m             \u001b[0;32mreturn\u001b[0m \u001b[0mself\u001b[0m\u001b[0;34m.\u001b[0m\u001b[0m_default\u001b[0m\u001b[0;34m(\u001b[0m\u001b[0mdefault\u001b[0m\u001b[0;34m,\u001b[0m \u001b[0;34m\"Can't get zero constructs\"\u001b[0m\u001b[0;34m)\u001b[0m\u001b[0;34m\u001b[0m\u001b[0m\n\u001b[0m\u001b[1;32m    760\u001b[0m \u001b[0;34m\u001b[0m\u001b[0m\n\u001b[1;32m    761\u001b[0m         \u001b[0;32mif\u001b[0m \u001b[0mlen\u001b[0m\u001b[0;34m(\u001b[0m\u001b[0mself\u001b[0m\u001b[0;34m)\u001b[0m \u001b[0;34m>\u001b[0m \u001b[0;36m1\u001b[0m\u001b[0;34m:\u001b[0m\u001b[0;34m\u001b[0m\u001b[0m\n",
      "\u001b[0;32m/home/david/cfdm/cfdm/core/constructs.pyc\u001b[0m in \u001b[0;36m_default\u001b[0;34m(self, default, message)\u001b[0m\n\u001b[1;32m    244\u001b[0m                 \u001b[0mdefault\u001b[0m\u001b[0;34m.\u001b[0m\u001b[0margs\u001b[0m \u001b[0;34m=\u001b[0m \u001b[0;34m(\u001b[0m\u001b[0mmessage\u001b[0m\u001b[0;34m,\u001b[0m\u001b[0;34m)\u001b[0m\u001b[0;34m\u001b[0m\u001b[0m\n\u001b[1;32m    245\u001b[0m \u001b[0;34m\u001b[0m\u001b[0m\n\u001b[0;32m--> 246\u001b[0;31m             \u001b[0;32mraise\u001b[0m \u001b[0mdefault\u001b[0m\u001b[0;34m\u001b[0m\u001b[0m\n\u001b[0m\u001b[1;32m    247\u001b[0m \u001b[0;34m\u001b[0m\u001b[0m\n\u001b[1;32m    248\u001b[0m         \u001b[0;32mreturn\u001b[0m \u001b[0mdefault\u001b[0m\u001b[0;34m\u001b[0m\u001b[0m\n",
      "\u001b[0;31mValueError\u001b[0m: Can't get zero constructs"
     ]
    }
   ],
   "source": [
    "t.get_construct('latitude').get_property('test')"
   ]
  },
  {
   "cell_type": "code",
   "execution_count": 143,
   "metadata": {},
   "outputs": [
    {
     "ename": "ValueError",
     "evalue": "Can't get zero constructs",
     "output_type": "error",
     "traceback": [
      "\u001b[0;31m---------------------------------------------------------------------------\u001b[0m",
      "\u001b[0;31mValueError\u001b[0m                                Traceback (most recent call last)",
      "\u001b[0;32m<ipython-input-143-e83b3721ac11>\u001b[0m in \u001b[0;36m<module>\u001b[0;34m()\u001b[0m\n\u001b[0;32m----> 1\u001b[0;31m \u001b[0mt\u001b[0m\u001b[0;34m.\u001b[0m\u001b[0mget_construct\u001b[0m\u001b[0;34m(\u001b[0m\u001b[0;34m'latitude'\u001b[0m\u001b[0;34m)\u001b[0m\u001b[0;34m.\u001b[0m\u001b[0mset_property\u001b[0m\u001b[0;34m(\u001b[0m\u001b[0;34m'test'\u001b[0m\u001b[0;34m,\u001b[0m \u001b[0;34m'set by field'\u001b[0m\u001b[0;34m)\u001b[0m\u001b[0;34m\u001b[0m\u001b[0m\n\u001b[0m\u001b[1;32m      2\u001b[0m \u001b[0mdomain\u001b[0m\u001b[0;34m.\u001b[0m\u001b[0mget_construct\u001b[0m\u001b[0;34m(\u001b[0m\u001b[0;34m'latitude'\u001b[0m\u001b[0;34m)\u001b[0m\u001b[0;34m.\u001b[0m\u001b[0mget_property\u001b[0m\u001b[0;34m(\u001b[0m\u001b[0;34m'test'\u001b[0m\u001b[0;34m)\u001b[0m\u001b[0;34m\u001b[0m\u001b[0m\n",
      "\u001b[0;32m/home/david/cfdm/cfdm/mixin/constructaccess.pyc\u001b[0m in \u001b[0;36mget_construct\u001b[0;34m(self, key, default)\u001b[0m\n\u001b[1;32m    436\u001b[0m \u001b[0;34m\u001b[0m\u001b[0m\n\u001b[1;32m    437\u001b[0m         '''\n\u001b[0;32m--> 438\u001b[0;31m         \u001b[0;32mreturn\u001b[0m \u001b[0mself\u001b[0m\u001b[0;34m.\u001b[0m\u001b[0mconstructs\u001b[0m\u001b[0;34m.\u001b[0m\u001b[0mkey\u001b[0m\u001b[0;34m(\u001b[0m\u001b[0mkey\u001b[0m\u001b[0;34m)\u001b[0m\u001b[0;34m.\u001b[0m\u001b[0mget\u001b[0m\u001b[0;34m(\u001b[0m\u001b[0mdefault\u001b[0m\u001b[0;34m=\u001b[0m\u001b[0mdefault\u001b[0m\u001b[0;34m)\u001b[0m\u001b[0;34m\u001b[0m\u001b[0m\n\u001b[0m\u001b[1;32m    439\u001b[0m \u001b[0;34m\u001b[0m\u001b[0m\n\u001b[1;32m    440\u001b[0m \u001b[0;31m#      out = self.constructs.select(name=name, properties=properties,\u001b[0m\u001b[0;34m\u001b[0m\u001b[0;34m\u001b[0m\u001b[0m\n",
      "\u001b[0;32m/home/david/cfdm/cfdm/core/constructs.pyc\u001b[0m in \u001b[0;36mget\u001b[0;34m(self, default)\u001b[0m\n\u001b[1;32m    757\u001b[0m         '''\n\u001b[1;32m    758\u001b[0m         \u001b[0;32mif\u001b[0m \u001b[0;32mnot\u001b[0m \u001b[0mself\u001b[0m\u001b[0;34m:\u001b[0m\u001b[0;34m\u001b[0m\u001b[0m\n\u001b[0;32m--> 759\u001b[0;31m             \u001b[0;32mreturn\u001b[0m \u001b[0mself\u001b[0m\u001b[0;34m.\u001b[0m\u001b[0m_default\u001b[0m\u001b[0;34m(\u001b[0m\u001b[0mdefault\u001b[0m\u001b[0;34m,\u001b[0m \u001b[0;34m\"Can't get zero constructs\"\u001b[0m\u001b[0;34m)\u001b[0m\u001b[0;34m\u001b[0m\u001b[0m\n\u001b[0m\u001b[1;32m    760\u001b[0m \u001b[0;34m\u001b[0m\u001b[0m\n\u001b[1;32m    761\u001b[0m         \u001b[0;32mif\u001b[0m \u001b[0mlen\u001b[0m\u001b[0;34m(\u001b[0m\u001b[0mself\u001b[0m\u001b[0;34m)\u001b[0m \u001b[0;34m>\u001b[0m \u001b[0;36m1\u001b[0m\u001b[0;34m:\u001b[0m\u001b[0;34m\u001b[0m\u001b[0m\n",
      "\u001b[0;32m/home/david/cfdm/cfdm/core/constructs.pyc\u001b[0m in \u001b[0;36m_default\u001b[0;34m(self, default, message)\u001b[0m\n\u001b[1;32m    244\u001b[0m                 \u001b[0mdefault\u001b[0m\u001b[0;34m.\u001b[0m\u001b[0margs\u001b[0m \u001b[0;34m=\u001b[0m \u001b[0;34m(\u001b[0m\u001b[0mmessage\u001b[0m\u001b[0;34m,\u001b[0m\u001b[0;34m)\u001b[0m\u001b[0;34m\u001b[0m\u001b[0m\n\u001b[1;32m    245\u001b[0m \u001b[0;34m\u001b[0m\u001b[0m\n\u001b[0;32m--> 246\u001b[0;31m             \u001b[0;32mraise\u001b[0m \u001b[0mdefault\u001b[0m\u001b[0;34m\u001b[0m\u001b[0m\n\u001b[0m\u001b[1;32m    247\u001b[0m \u001b[0;34m\u001b[0m\u001b[0m\n\u001b[1;32m    248\u001b[0m         \u001b[0;32mreturn\u001b[0m \u001b[0mdefault\u001b[0m\u001b[0;34m\u001b[0m\u001b[0m\n",
      "\u001b[0;31mValueError\u001b[0m: Can't get zero constructs"
     ]
    }
   ],
   "source": [
    "t.get_construct('latitude').set_property('test', 'set by field')\n",
    "domain.get_construct('latitude').get_property('test')"
   ]
  },
  {
   "cell_type": "code",
   "execution_count": 144,
   "metadata": {},
   "outputs": [
    {
     "ename": "ValueError",
     "evalue": "Can't get zero constructs",
     "output_type": "error",
     "traceback": [
      "\u001b[0;31m---------------------------------------------------------------------------\u001b[0m",
      "\u001b[0;31mValueError\u001b[0m                                Traceback (most recent call last)",
      "\u001b[0;32m<ipython-input-144-726576afdd2c>\u001b[0m in \u001b[0;36m<module>\u001b[0;34m()\u001b[0m\n\u001b[0;32m----> 1\u001b[0;31m \u001b[0mdomain\u001b[0m\u001b[0;34m.\u001b[0m\u001b[0mget_construct\u001b[0m\u001b[0;34m(\u001b[0m\u001b[0;34m'latitude'\u001b[0m\u001b[0;34m)\u001b[0m\u001b[0;34m.\u001b[0m\u001b[0mdel_property\u001b[0m\u001b[0;34m(\u001b[0m\u001b[0;34m'test'\u001b[0m\u001b[0;34m)\u001b[0m\u001b[0;34m\u001b[0m\u001b[0m\n\u001b[0m",
      "\u001b[0;32m/home/david/cfdm/cfdm/mixin/constructaccess.pyc\u001b[0m in \u001b[0;36mget_construct\u001b[0;34m(self, key, default)\u001b[0m\n\u001b[1;32m    436\u001b[0m \u001b[0;34m\u001b[0m\u001b[0m\n\u001b[1;32m    437\u001b[0m         '''\n\u001b[0;32m--> 438\u001b[0;31m         \u001b[0;32mreturn\u001b[0m \u001b[0mself\u001b[0m\u001b[0;34m.\u001b[0m\u001b[0mconstructs\u001b[0m\u001b[0;34m.\u001b[0m\u001b[0mkey\u001b[0m\u001b[0;34m(\u001b[0m\u001b[0mkey\u001b[0m\u001b[0;34m)\u001b[0m\u001b[0;34m.\u001b[0m\u001b[0mget\u001b[0m\u001b[0;34m(\u001b[0m\u001b[0mdefault\u001b[0m\u001b[0;34m=\u001b[0m\u001b[0mdefault\u001b[0m\u001b[0;34m)\u001b[0m\u001b[0;34m\u001b[0m\u001b[0m\n\u001b[0m\u001b[1;32m    439\u001b[0m \u001b[0;34m\u001b[0m\u001b[0m\n\u001b[1;32m    440\u001b[0m \u001b[0;31m#      out = self.constructs.select(name=name, properties=properties,\u001b[0m\u001b[0;34m\u001b[0m\u001b[0;34m\u001b[0m\u001b[0m\n",
      "\u001b[0;32m/home/david/cfdm/cfdm/core/constructs.pyc\u001b[0m in \u001b[0;36mget\u001b[0;34m(self, default)\u001b[0m\n\u001b[1;32m    757\u001b[0m         '''\n\u001b[1;32m    758\u001b[0m         \u001b[0;32mif\u001b[0m \u001b[0;32mnot\u001b[0m \u001b[0mself\u001b[0m\u001b[0;34m:\u001b[0m\u001b[0;34m\u001b[0m\u001b[0m\n\u001b[0;32m--> 759\u001b[0;31m             \u001b[0;32mreturn\u001b[0m \u001b[0mself\u001b[0m\u001b[0;34m.\u001b[0m\u001b[0m_default\u001b[0m\u001b[0;34m(\u001b[0m\u001b[0mdefault\u001b[0m\u001b[0;34m,\u001b[0m \u001b[0;34m\"Can't get zero constructs\"\u001b[0m\u001b[0;34m)\u001b[0m\u001b[0;34m\u001b[0m\u001b[0m\n\u001b[0m\u001b[1;32m    760\u001b[0m \u001b[0;34m\u001b[0m\u001b[0m\n\u001b[1;32m    761\u001b[0m         \u001b[0;32mif\u001b[0m \u001b[0mlen\u001b[0m\u001b[0;34m(\u001b[0m\u001b[0mself\u001b[0m\u001b[0;34m)\u001b[0m \u001b[0;34m>\u001b[0m \u001b[0;36m1\u001b[0m\u001b[0;34m:\u001b[0m\u001b[0;34m\u001b[0m\u001b[0m\n",
      "\u001b[0;32m/home/david/cfdm/cfdm/core/constructs.pyc\u001b[0m in \u001b[0;36m_default\u001b[0;34m(self, default, message)\u001b[0m\n\u001b[1;32m    244\u001b[0m                 \u001b[0mdefault\u001b[0m\u001b[0;34m.\u001b[0m\u001b[0margs\u001b[0m \u001b[0;34m=\u001b[0m \u001b[0;34m(\u001b[0m\u001b[0mmessage\u001b[0m\u001b[0;34m,\u001b[0m\u001b[0;34m)\u001b[0m\u001b[0;34m\u001b[0m\u001b[0m\n\u001b[1;32m    245\u001b[0m \u001b[0;34m\u001b[0m\u001b[0m\n\u001b[0;32m--> 246\u001b[0;31m             \u001b[0;32mraise\u001b[0m \u001b[0mdefault\u001b[0m\u001b[0;34m\u001b[0m\u001b[0m\n\u001b[0m\u001b[1;32m    247\u001b[0m \u001b[0;34m\u001b[0m\u001b[0m\n\u001b[1;32m    248\u001b[0m         \u001b[0;32mreturn\u001b[0m \u001b[0mdefault\u001b[0m\u001b[0;34m\u001b[0m\u001b[0m\n",
      "\u001b[0;31mValueError\u001b[0m: Can't get zero constructs"
     ]
    }
   ],
   "source": [
    "domain.get_construct('latitude').del_property('test')"
   ]
  },
  {
   "cell_type": "code",
   "execution_count": null,
   "metadata": {},
   "outputs": [],
   "source": [
    "t.get_construct('latitude').has_property('test')"
   ]
  },
  {
   "cell_type": "markdown",
   "metadata": {},
   "source": [
    "----"
   ]
  },
  {
   "cell_type": "markdown",
   "metadata": {},
   "source": [
    "## Domain axes\n",
    "[**Back to top**](#cfdm-tutorial-notebook)  \n",
    "[**Go to tutorial**](https://ncas-cms.github.io/cfdm/tutorial.html#domain-axes)"
   ]
  },
  {
   "cell_type": "code",
   "execution_count": null,
   "metadata": {},
   "outputs": [],
   "source": [
    "q.domain_axes"
   ]
  },
  {
   "cell_type": "code",
   "execution_count": null,
   "metadata": {},
   "outputs": [],
   "source": [
    "d = q.get_construct(key='domainaxis1')\n",
    "d.get_size()"
   ]
  },
  {
   "cell_type": "markdown",
   "metadata": {},
   "source": [
    "----"
   ]
  },
  {
   "cell_type": "markdown",
   "metadata": {
    "hidden": true
   },
   "source": [
    "## Coordinates\n",
    "[**Back to top**](#cfdm-tutorial-notebook)  \n",
    "[**Go to tutorial**](https://ncas-cms.github.io/cfdm/tutorial.html#coordinates)"
   ]
  },
  {
   "cell_type": "code",
   "execution_count": null,
   "metadata": {
    "hidden": true
   },
   "outputs": [],
   "source": [
    "t.coordinates"
   ]
  },
  {
   "cell_type": "markdown",
   "metadata": {},
   "source": [
    "----"
   ]
  },
  {
   "cell_type": "code",
   "execution_count": null,
   "metadata": {
    "hidden": true
   },
   "outputs": [],
   "source": [
    "lon = t.get_construct('grid_longitude')\n",
    "bounds = lon.get_bounds()\n",
    "bounds"
   ]
  },
  {
   "cell_type": "code",
   "execution_count": null,
   "metadata": {},
   "outputs": [],
   "source": [
    "bounds.data"
   ]
  },
  {
   "cell_type": "code",
   "execution_count": null,
   "metadata": {},
   "outputs": [],
   "source": [
    "print(bounds.data.array)"
   ]
  },
  {
   "cell_type": "markdown",
   "metadata": {},
   "source": [
    "----"
   ]
  },
  {
   "cell_type": "code",
   "execution_count": null,
   "metadata": {},
   "outputs": [],
   "source": [
    "bounds.inherited_properties()"
   ]
  },
  {
   "cell_type": "code",
   "execution_count": null,
   "metadata": {},
   "outputs": [],
   "source": [
    "bounds.properties()"
   ]
  },
  {
   "cell_type": "markdown",
   "metadata": {},
   "source": [
    "----"
   ]
  },
  {
   "cell_type": "markdown",
   "metadata": {},
   "source": [
    "### Domain ancillaries\n",
    "[**Back to top**](#cfdm-tutorial-notebook)  \n",
    "[**Go to tutorial**](https://ncas-cms.github.io/cfdm/tutorial.html#domain-ancillaries)"
   ]
  },
  {
   "cell_type": "code",
   "execution_count": null,
   "metadata": {},
   "outputs": [],
   "source": [
    "a = t.get_construct(key='domainancillary0')\n",
    "print(a.data.array)"
   ]
  },
  {
   "cell_type": "code",
   "execution_count": null,
   "metadata": {},
   "outputs": [],
   "source": [
    "bounds = a.get_bounds()\n",
    "print(bounds.data.array)"
   ]
  },
  {
   "cell_type": "markdown",
   "metadata": {},
   "source": [
    "----"
   ]
  },
  {
   "cell_type": "markdown",
   "metadata": {},
   "source": [
    "## Coordinate systems\n",
    "[**Back to top**](#cfdm-tutorial-notebook)  \n",
    "[**Go to tutorial**](https://ncas-cms.github.io/cfdm/tutorial.html#coordinate-systems)"
   ]
  },
  {
   "cell_type": "code",
   "execution_count": null,
   "metadata": {},
   "outputs": [],
   "source": [
    "crs = t.get_construct('atmosphere_hybrid_height_coordinate',\n",
    "                      construct='coordinate_reference')\n",
    "crs"
   ]
  },
  {
   "cell_type": "code",
   "execution_count": null,
   "metadata": {},
   "outputs": [],
   "source": [
    "crs.dump()"
   ]
  },
  {
   "cell_type": "code",
   "execution_count": null,
   "metadata": {},
   "outputs": [],
   "source": [
    "crs.coordinates()"
   ]
  },
  {
   "cell_type": "markdown",
   "metadata": {},
   "source": [
    "----"
   ]
  },
  {
   "cell_type": "code",
   "execution_count": null,
   "metadata": {},
   "outputs": [],
   "source": [
    "crs.get_datum()"
   ]
  },
  {
   "cell_type": "code",
   "execution_count": null,
   "metadata": {},
   "outputs": [],
   "source": [
    "crs.datum.parameters()"
   ]
  },
  {
   "cell_type": "markdown",
   "metadata": {},
   "source": [
    "----"
   ]
  },
  {
   "cell_type": "code",
   "execution_count": null,
   "metadata": {},
   "outputs": [],
   "source": [
    "crs.get_coordinate_conversion()"
   ]
  },
  {
   "cell_type": "code",
   "execution_count": null,
   "metadata": {},
   "outputs": [],
   "source": [
    "crs.coordinate_conversion.parameters()"
   ]
  },
  {
   "cell_type": "code",
   "execution_count": null,
   "metadata": {},
   "outputs": [],
   "source": [
    "crs.coordinate_conversion.domain_ancillaries()"
   ]
  },
  {
   "cell_type": "markdown",
   "metadata": {},
   "source": [
    "----"
   ]
  },
  {
   "cell_type": "markdown",
   "metadata": {
    "heading_collapsed": true,
    "hidden": true
   },
   "source": [
    "## Cell methods\n",
    "[**Back to top**](#cfdm-tutorial-notebook)  \n",
    "[**Go to tutorial**](https://ncas-cms.github.io/cfdm/tutorial.html#cell-methods)"
   ]
  },
  {
   "cell_type": "code",
   "execution_count": null,
   "metadata": {},
   "outputs": [],
   "source": [
    "print(t.cell_methods)"
   ]
  },
  {
   "cell_type": "markdown",
   "metadata": {},
   "source": [
    "----"
   ]
  },
  {
   "cell_type": "code",
   "execution_count": null,
   "metadata": {},
   "outputs": [],
   "source": [
    "t.cell_methods.ordered()"
   ]
  },
  {
   "cell_type": "markdown",
   "metadata": {},
   "source": [
    "----"
   ]
  },
  {
   "cell_type": "code",
   "execution_count": null,
   "metadata": {},
   "outputs": [],
   "source": [
    "cm = t.get_construct(key='cellmethod0')\n",
    "cm"
   ]
  },
  {
   "cell_type": "code",
   "execution_count": null,
   "metadata": {},
   "outputs": [],
   "source": [
    "cm.get_axes()"
   ]
  },
  {
   "cell_type": "code",
   "execution_count": null,
   "metadata": {},
   "outputs": [],
   "source": [
    "cm.get_method()"
   ]
  },
  {
   "cell_type": "code",
   "execution_count": null,
   "metadata": {},
   "outputs": [],
   "source": [
    "cm.properties()"
   ]
  },
  {
   "cell_type": "code",
   "execution_count": null,
   "metadata": {},
   "outputs": [],
   "source": [
    "cm.get_property('where')"
   ]
  },
  {
   "cell_type": "markdown",
   "metadata": {
    "hidden": true
   },
   "source": [
    "---"
   ]
  },
  {
   "cell_type": "markdown",
   "metadata": {},
   "source": [
    "## Field construct creation\n",
    "[**Back to top**](#cfdm-tutorial-notebook)  \n",
    "[**Go to tutorial**](https://ncas-cms.github.io/cfdm/tutorial.html#field-construct-creation)"
   ]
  },
  {
   "cell_type": "markdown",
   "metadata": {},
   "source": [
    "### Manual creation\n",
    "[**Back to top**](#cfdm-tutorial-notebook)  \n",
    "[**Go to tutorial**](https://ncas-cms.github.io/cfdm/tutorial.html#manual-creation)"
   ]
  },
  {
   "cell_type": "code",
   "execution_count": null,
   "metadata": {},
   "outputs": [],
   "source": [
    "p = cfdm.Field(properties={'standard_name': 'precipitation_flux'})\n",
    "p"
   ]
  },
  {
   "cell_type": "code",
   "execution_count": null,
   "metadata": {},
   "outputs": [],
   "source": [
    "dc = cfdm.DimensionCoordinate(properties={'long_name': 'Longitude'},\n",
    "                              data=cfdm.Data([0, 1, 2.]))\n",
    "dc"
   ]
  },
  {
   "cell_type": "code",
   "execution_count": null,
   "metadata": {},
   "outputs": [],
   "source": [
    "fa = cfdm.FieldAncillary(\n",
    "           properties={'standard_name': 'precipitation_flux status_flag'},\n",
    "           data=cfdm.Data(numpy.array([0, 0, 2], dtype='int8')))\n",
    "fa"
   ]
  },
  {
   "cell_type": "markdown",
   "metadata": {},
   "source": [
    "---"
   ]
  },
  {
   "cell_type": "code",
   "execution_count": null,
   "metadata": {},
   "outputs": [],
   "source": [
    "p = cfdm.Field()\n",
    "p"
   ]
  },
  {
   "cell_type": "code",
   "execution_count": null,
   "metadata": {},
   "outputs": [],
   "source": [
    "p.set_property('standard_name', 'precipitation_flux')\n",
    "p"
   ]
  },
  {
   "cell_type": "code",
   "execution_count": null,
   "metadata": {},
   "outputs": [],
   "source": [
    "dc = cfdm.DimensionCoordinate()\n",
    "dc"
   ]
  },
  {
   "cell_type": "code",
   "execution_count": null,
   "metadata": {},
   "outputs": [],
   "source": [
    "dc.set_property('long_name', 'Longitude')\n",
    "dc.set_data(cfdm.Data([1, 2, 3.]))\n",
    "dc"
   ]
  },
  {
   "cell_type": "code",
   "execution_count": null,
   "metadata": {},
   "outputs": [],
   "source": [
    "fa = cfdm.FieldAncillary(\n",
    "           data=cfdm.Data(numpy.array([0, 0, 2], dtype='int8')))\n",
    "fa"
   ]
  },
  {
   "cell_type": "code",
   "execution_count": null,
   "metadata": {},
   "outputs": [],
   "source": [
    "fa.set_property('standard_name', 'precipitation_flux status_flag')\n",
    "fa"
   ]
  },
  {
   "cell_type": "markdown",
   "metadata": {},
   "source": [
    "---"
   ]
  },
  {
   "cell_type": "code",
   "execution_count": null,
   "metadata": {},
   "outputs": [],
   "source": [
    "longitude_axis = p.set_construct(cfdm.DomainAxis(3))\n",
    "longitude_axis"
   ]
  },
  {
   "cell_type": "code",
   "execution_count": null,
   "metadata": {},
   "outputs": [],
   "source": [
    "key = p.set_construct(dc, axes=[longitude_axis])\n",
    "key"
   ]
  },
  {
   "cell_type": "code",
   "execution_count": null,
   "metadata": {},
   "outputs": [],
   "source": [
    "cm = cfdm.CellMethod(axes=[longitude_axis],\n",
    "                     properties={'method': 'minimum'})\n",
    "p.set_construct(cm)"
   ]
  },
  {
   "cell_type": "markdown",
   "metadata": {},
   "source": [
    "---"
   ]
  },
  {
   "cell_type": "code",
   "execution_count": null,
   "metadata": {},
   "outputs": [],
   "source": [
    "import numpy\n",
    "import cfdm\n",
    "\n",
    "# Initialise the field construct with properties\n",
    "Q = cfdm.Field(properties={'project': 'research',\n",
    "                           'standard_name': 'specific_humidity',\n",
    "                           'units': '1'})\n",
    "\n",
    "# Create the domain axis constructs\n",
    "domain_axisT = cfdm.DomainAxis(1)\n",
    "domain_axisY = cfdm.DomainAxis(5)\n",
    "domain_axisX = cfdm.DomainAxis(8)\n",
    "\n",
    "# Insert the domain axis constructs into the field. The\n",
    "# set_construct method returns the domain axis construct key that\n",
    "# will be used later to specify which domain axis corresponds to\n",
    "# which dimension coordinate construct.\n",
    "axisT = Q.set_construct(domain_axisT)\n",
    "axisY = Q.set_construct(domain_axisY)\n",
    "axisX = Q.set_construct(domain_axisX)\n",
    "\n",
    "# Create and insert the field construct data\n",
    "data = cfdm.Data(numpy.arange(40.).reshape(5, 8))\n",
    "Q.set_data(data, axes=[axisY, axisX])\n",
    "\n",
    "# Create the cell method constructs\n",
    "cell_method1 = cfdm.CellMethod(axes='area', method='mean')\n",
    "\n",
    "cell_method2 = cfdm.CellMethod()\n",
    "cell_method2.set_axes(axisT)\n",
    "cell_method2.set_method('maximum')\n",
    "\n",
    "# Insert the cell method constructs into the field in the same\n",
    "# order that their methods were applied to the data\n",
    "Q.set_construct(cell_method1)\n",
    "Q.set_construct(cell_method2)\n",
    "\n",
    "# Create a \"time\" dimension coordinate construct, with coordinate\n",
    "# bounds\n",
    "dimT = cfdm.DimensionCoordinate(\n",
    "                            properties={'standard_name': 'time',\n",
    "                                        'units': 'days since 2018-12-01'},\n",
    "                            data=cfdm.Data([15.5]),\n",
    "                            bounds=cfdm.Bounds(data=cfdm.Data([[0,31.]])))\n",
    "\n",
    "# Create a \"longitude\" dimension coordinate construct, without\n",
    "# coordinate bounds\n",
    "dimX = cfdm.DimensionCoordinate(data=cfdm.Data(numpy.arange(8.)))\n",
    "dimX.set_properties({'standard_name': 'longitude',\n",
    "                     'units': 'degrees_east'})\n",
    "\n",
    "# Create a \"longitude\" dimension coordinate construct\n",
    "dimY = cfdm.DimensionCoordinate(properties={'standard_name': 'latitude',\n",
    "                                            'units': 'degrees_north'})\n",
    "array = numpy.arange(5.)\n",
    "dimY.set_data(cfdm.Data(array))\n",
    "\n",
    "# Create and insert the latitude coordinate bounds\n",
    "bounds_array = numpy.empty((5, 2))\n",
    "bounds_array[:, 0] = array - 0.5\n",
    "bounds_array[:, 1] = array + 0.5\n",
    "bounds = cfdm.Bounds(data=cfdm.Data(bounds_array))\n",
    "dimY.set_bounds(bounds)\n",
    "\n",
    "# Insert the dimension coordinate constructs into the field,\n",
    "# specifying to # which domain axis each one corresponds\n",
    "Q.set_construct(dimT, axes=axisT)\n",
    "Q.set_construct(dimY, axes=axisY)\n",
    "Q.set_construct(dimX, axes=axisX)"
   ]
  },
  {
   "cell_type": "markdown",
   "metadata": {},
   "source": [
    "---"
   ]
  },
  {
   "cell_type": "code",
   "execution_count": null,
   "metadata": {},
   "outputs": [],
   "source": [
    "Q.dump()"
   ]
  },
  {
   "cell_type": "markdown",
   "metadata": {},
   "source": [
    "----"
   ]
  },
  {
   "cell_type": "code",
   "execution_count": null,
   "metadata": {},
   "outputs": [],
   "source": [
    "Q.nc_set_variable('q')\n",
    "\n",
    "domain_axisT.nc_set_dimension('time')\n",
    "domain_axisY.nc_set_dimension('lat')\n",
    "domain_axisX.nc_set_dimension('lon')\n",
    "\n",
    "dimT.nc_set_variable('time')\n",
    "dimY.nc_set_variable('lat')\n",
    "dimX.nc_set_variable('lon')"
   ]
  },
  {
   "cell_type": "markdown",
   "metadata": {},
   "source": [
    "----"
   ]
  },
  {
   "cell_type": "code",
   "execution_count": null,
   "metadata": {},
   "outputs": [],
   "source": [
    "import numpy\n",
    "import cfdm\n",
    "\n",
    "# Initialize the field construct\n",
    "tas = cfdm.Field(\n",
    "    properties={'project': 'research',\n",
    "                'standard_name': 'air_temperature',\n",
    "                'units': 'K'})\n",
    "\n",
    "# Create and set domain axis constructs\n",
    "axis_T = tas.set_construct(cfdm.DomainAxis(1))\n",
    "axis_Z = tas.set_construct(cfdm.DomainAxis(1))\n",
    "axis_Y = tas.set_construct(cfdm.DomainAxis(10))\n",
    "axis_X = tas.set_construct(cfdm.DomainAxis(9))\n",
    "\n",
    "# Set the field construct data\n",
    "tas.set_data(cfdm.Data(numpy.arange(90.).reshape(10, 9)),\n",
    "             axes=[axis_Y, axis_X])\n",
    "\n",
    "# Create and set the cell method constructs\n",
    "cell_method1 = cfdm.CellMethod(\n",
    "          axes=[axis_Y, axis_X],\n",
    "          method='mean',\n",
    "          properties={'where': 'land',\n",
    "                      'interval': [cfdm.Data(0.1, units='degrees')]})\n",
    "\n",
    "cell_method2 = cfdm.CellMethod(axes=axis_T, method='maximum')\n",
    "\n",
    "tas.set_construct(cell_method1)\n",
    "tas.set_construct(cell_method2)\n",
    "\n",
    "# Create and set the field ancillary constructs\n",
    "field_ancillary = cfdm.FieldAncillary(\n",
    "             properties={'standard_name': 'air_temperature standard_error',\n",
    "                          'units': 'K'},\n",
    "             data=cfdm.Data(numpy.arange(90.).reshape(10, 9)))\n",
    "\n",
    "tas.set_construct(field_ancillary, axes=[axis_Y, axis_X])\n",
    "\n",
    "# Create and set the dimension coordinate constructs\n",
    "dimension_coordinate_T = cfdm.DimensionCoordinate(\n",
    "                           properties={'standard_name': 'time',\n",
    "                                       'units': 'days since 2018-12-01'},\n",
    "                           data=cfdm.Data([15.5]),\n",
    "                           bounds=cfdm.Bounds(data=cfdm.Data([[0., 31]])))\n",
    "\n",
    "dimension_coordinate_Z = cfdm.DimensionCoordinate(\n",
    "        properties={'computed_standard_name': 'altitude',\n",
    "                    'standard_name': 'atmosphere_hybrid_height_coordinate'},\n",
    "        data = cfdm.Data([1.5]),\n",
    "        bounds=cfdm.Bounds(data=cfdm.Data([[1.0, 2.0]])))\n",
    "\n",
    "dimension_coordinate_Y = cfdm.DimensionCoordinate(\n",
    "        properties={'standard_name': 'grid_latitude',\n",
    "                    'units': 'degrees'},\n",
    "        data=cfdm.Data(numpy.arange(10.)),\n",
    "        bounds=cfdm.Bounds(data=cfdm.Data(numpy.arange(20).reshape(10, 2))))\n",
    "\n",
    "dimension_coordinate_X = cfdm.DimensionCoordinate(\n",
    "        properties={'standard_name': 'grid_longitude',\n",
    "                    'units': 'degrees'},\n",
    "    data=cfdm.Data(numpy.arange(9.)),\n",
    "    bounds=cfdm.Bounds(data=cfdm.Data(numpy.arange(18).reshape(9, 2))))\n",
    "\n",
    "dim_T = tas.set_construct(dimension_coordinate_T, axes=axis_T)\n",
    "dim_Z = tas.set_construct(dimension_coordinate_Z, axes=axis_Z)\n",
    "dim_Y = tas.set_construct(dimension_coordinate_Y, axes=axis_Y)\n",
    "dim_X = tas.set_construct(dimension_coordinate_X, axes=axis_X)\n",
    "\n",
    "# Create and set the auxiliary coordinate constructs\n",
    "auxiliary_coordinate_lat = cfdm.AuxiliaryCoordinate(\n",
    "                      properties={'standard_name': 'latitude',\n",
    "                                  'units': 'degrees_north'},\n",
    "                      data=cfdm.Data(numpy.arange(90.).reshape(10, 9)))\n",
    "\n",
    "auxiliary_coordinate_lon = cfdm.AuxiliaryCoordinate(\n",
    "                  properties={'standard_name': 'longitude',\n",
    "                              'units': 'degrees_east'},\n",
    "                  data=cfdm.Data(numpy.arange(90.).reshape(9, 10)))\n",
    "\n",
    "array = numpy.ma.array(list('abcdefghij'))\n",
    "array[0] = numpy.ma.masked\n",
    "auxiliary_coordinate_name = cfdm.AuxiliaryCoordinate(\n",
    "                       properties={'long_name': 'Grid latitude name'},\n",
    "                       data=cfdm.Data(array))\n",
    "\n",
    "aux_LAT  = tas.set_construct(auxiliary_coordinate_lat, axes=[axis_Y, axis_X])\n",
    "aux_LON  = tas.set_construct(auxiliary_coordinate_lon, axes=[axis_X, axis_Y])\n",
    "aux_NAME = tas.set_construct(auxiliary_coordinate_name, axes=[axis_Y])\n",
    "\n",
    "# Create and set domain ancillary constructs\n",
    "domain_ancillary_a = cfdm.DomainAncillary(\n",
    "                   properties={'units': 'm'},\n",
    "                   data=cfdm.Data([10.]),\n",
    "                   bounds=cfdm.Bounds(data=cfdm.Data([[5., 15.]])))\n",
    "\n",
    "domain_ancillary_b = cfdm.DomainAncillary(\n",
    "                       properties={'units': '1'},\n",
    "                       data=cfdm.Data([20.]),\n",
    "                       bounds=cfdm.Bounds(data=cfdm.Data([[14, 26.]])))\n",
    "\n",
    "domain_ancillary_orog = cfdm.DomainAncillary(\n",
    "                          properties={'standard_name': 'surface_altitude',\n",
    "                                     'units': 'm'},\n",
    "                          data=cfdm.Data(numpy.arange(90.).reshape(10, 9)))\n",
    "\n",
    "domain_anc_A    = tas.set_construct(domain_ancillary_a, axes=axis_Z)\n",
    "domain_anc_B    = tas.set_construct(domain_ancillary_b, axes=axis_Z)\n",
    "domain_anc_OROG = tas.set_construct(domain_ancillary_orog,\n",
    "                                    axes=[axis_Y, axis_X])\n",
    "\n",
    "# Create the datum for the coordinate reference constructs\n",
    "datum = cfdm.Datum(parameters={'earth_radius': 6371007.})\n",
    "\n",
    "# Create the coordinate conversion for the horizontal coordinate\n",
    "# reference construct\n",
    "coordinate_conversion_h = cfdm.CoordinateConversion(\n",
    "              parameters={'grid_mapping_name': 'rotated_latitude_longitude',\n",
    "                          'grid_north_pole_latitude': 38.0,\n",
    "                          'grid_north_pole_longitude': 190.0})\n",
    "\n",
    "# Create the coordinate conversion for the vertical coordinate\n",
    "# reference construct\n",
    "coordinate_conversion_v = cfdm.CoordinateConversion(\n",
    "         parameters={'standard_name': 'atmosphere_hybrid_height_coordinate',\n",
    "                     'computed_standard_name': 'altitude'},\n",
    "         domain_ancillaries={'a': domain_anc_A,\n",
    "                             'b': domain_anc_B,\n",
    "                             'orog': domain_anc_OROG})\n",
    "\n",
    "# Create the vertical coordinate reference construct\n",
    "horizontal_crs = cfdm.CoordinateReference(\n",
    "                   datum=datum,\n",
    "                   coordinate_conversion=coordinate_conversion_h,\n",
    "                   coordinates=[dim_X,\n",
    "                                dim_Y,\n",
    "                                aux_LAT,\n",
    "                                aux_LON])\n",
    "\n",
    "# Create the vertical coordinate reference construct\n",
    "vertical_crs = cfdm.CoordinateReference(\n",
    "                 datum=datum,\n",
    "                 coordinate_conversion=coordinate_conversion_v,\n",
    "                 coordinates=[dim_Z])\n",
    "\n",
    "# Set the coordinate reference constructs\n",
    "tas.set_construct(horizontal_crs)\n",
    "tas.set_construct(vertical_crs)\n",
    "\n",
    "# Create and set the cell measure constructs\n",
    "cell_measure = cfdm.CellMeasure(measure='area',\n",
    "                 properties={'units': 'km2'},\n",
    "                 data=cfdm.Data(numpy.arange(90.).reshape(9, 10)))\n",
    "\n",
    "tas.set_construct(cell_measure, axes=[axis_X, axis_Y])"
   ]
  },
  {
   "cell_type": "markdown",
   "metadata": {},
   "source": [
    "----"
   ]
  },
  {
   "cell_type": "code",
   "execution_count": null,
   "metadata": {},
   "outputs": [],
   "source": [
    "print(tas)"
   ]
  },
  {
   "cell_type": "markdown",
   "metadata": {},
   "source": [
    "---"
   ]
  },
  {
   "cell_type": "markdown",
   "metadata": {},
   "source": [
    "### Creating data from an array on disk\n",
    "[**Back to top**](#cfdm-tutorial-notebook)  \n",
    "[**Go to tutorial**](https://ncas-cms.github.io/cfdm/tutorial.html#creating-data-from-an-array-on-disk)"
   ]
  },
  {
   "cell_type": "code",
   "execution_count": null,
   "metadata": {},
   "outputs": [],
   "source": [
    "import netCDF4\n",
    "nc = netCDF4.Dataset('file.nc', 'r')\n",
    "v = nc.variables['ta']"
   ]
  },
  {
   "cell_type": "code",
   "execution_count": null,
   "metadata": {},
   "outputs": [],
   "source": [
    "netcdf_array = cfdm.NetCDFArray(filename='file.nc', ncvar='ta',\n",
    "                                dtype=v.dtype, ndim=v.ndim,\n",
    "                                shape=v.shape, size=v.size)\n",
    "data_disk = cfdm.Data(netcdf_array)"
   ]
  },
  {
   "cell_type": "markdown",
   "metadata": {},
   "source": [
    "----"
   ]
  },
  {
   "cell_type": "code",
   "execution_count": null,
   "metadata": {},
   "outputs": [],
   "source": [
    "numpy_array = v[...]\n",
    "data_memory = cfdm.Data(numpy_array)\n",
    "data_disk.equals(data_memory)"
   ]
  },
  {
   "cell_type": "markdown",
   "metadata": {},
   "source": [
    "----"
   ]
  },
  {
   "cell_type": "markdown",
   "metadata": {},
   "source": [
    "### Creation by conversion\n",
    "[**Back to top**](#cfdm-tutorial-notebook)  \n",
    "[**Go to tutorial**](https://ncas-cms.github.io/cfdm/tutorial.html#creation-by-conversion)"
   ]
  },
  {
   "cell_type": "code",
   "execution_count": null,
   "metadata": {},
   "outputs": [],
   "source": [
    "orog = tas.convert('surface_altitude')\n",
    "print(orog)"
   ]
  },
  {
   "cell_type": "code",
   "execution_count": null,
   "metadata": {},
   "outputs": [],
   "source": [
    "orog1 = tas.convert('surface_altitude', full_domain=False)\n",
    "print(orog1)"
   ]
  },
  {
   "cell_type": "markdown",
   "metadata": {},
   "source": [
    "---"
   ]
  },
  {
   "cell_type": "markdown",
   "metadata": {},
   "source": [
    "### Creation by reading\n",
    "[**Back to top**](#cfdm-tutorial-notebook)  \n",
    "[**Go to tutorial**](https://ncas-cms.github.io/cfdm/tutorial.html#creation-by-reading)"
   ]
  },
  {
   "cell_type": "code",
   "execution_count": null,
   "metadata": {},
   "outputs": [],
   "source": [
    "cfdm.write(tas, 'tas.nc')\n",
    "f = cfdm.read('tas.nc')\n",
    "f"
   ]
  },
  {
   "cell_type": "markdown",
   "metadata": {},
   "source": [
    "----"
   ]
  },
  {
   "cell_type": "code",
   "execution_count": null,
   "metadata": {},
   "outputs": [],
   "source": [
    "fields = cfdm.read('tas.nc', extra='domain_ancillary')\n",
    "fields"
   ]
  },
  {
   "cell_type": "code",
   "execution_count": null,
   "metadata": {},
   "outputs": [],
   "source": [
    "fields = cfdm.read('tas.nc', extra='domain_ancillary')\n",
    "orog_from_file = fields[3]"
   ]
  },
  {
   "cell_type": "code",
   "execution_count": null,
   "metadata": {},
   "outputs": [],
   "source": [
    "print(orog_from_file)"
   ]
  },
  {
   "cell_type": "markdown",
   "metadata": {},
   "source": [
    "----"
   ]
  },
  {
   "cell_type": "markdown",
   "metadata": {},
   "source": [
    "## Copying\n",
    "[**Back to top**](#cfdm-tutorial-notebook)  \n",
    "[**Go to tutorial**](https://ncas-cms.github.io/cfdm/tutorial.html#copying)"
   ]
  },
  {
   "cell_type": "code",
   "execution_count": null,
   "metadata": {},
   "outputs": [],
   "source": [
    "u = t.copy()\n",
    "u.data[0, 0, 0] = -1e30\n",
    "u.data[0, 0, 0]"
   ]
  },
  {
   "cell_type": "code",
   "execution_count": null,
   "metadata": {},
   "outputs": [],
   "source": [
    "t.data[0, 0, 0]"
   ]
  },
  {
   "cell_type": "code",
   "execution_count": null,
   "metadata": {},
   "outputs": [],
   "source": [
    "u.del_construct('grid_latitude')"
   ]
  },
  {
   "cell_type": "code",
   "execution_count": null,
   "metadata": {},
   "outputs": [],
   "source": [
    "u.constructs('grid_latitude')\n"
   ]
  },
  {
   "cell_type": "code",
   "execution_count": null,
   "metadata": {},
   "outputs": [],
   "source": [
    "t.constructs('grid_latitude')"
   ]
  },
  {
   "cell_type": "markdown",
   "metadata": {},
   "source": [
    "----"
   ]
  },
  {
   "cell_type": "code",
   "execution_count": null,
   "metadata": {},
   "outputs": [],
   "source": [
    "import copy\n",
    "u = copy.deepcopy(t)"
   ]
  },
  {
   "cell_type": "markdown",
   "metadata": {},
   "source": [
    "----"
   ]
  },
  {
   "cell_type": "code",
   "execution_count": null,
   "metadata": {},
   "outputs": [],
   "source": [
    "orog = t.get_construct('surface_altitude').copy()"
   ]
  },
  {
   "cell_type": "markdown",
   "metadata": {},
   "source": [
    "----"
   ]
  },
  {
   "cell_type": "markdown",
   "metadata": {},
   "source": [
    "## Equality\n",
    "[**Back to top**](#cfdm-tutorial-notebook)  \n",
    "[**Go to tutorial**](https://ncas-cms.github.io/cfdm/tutorial.html#equality)"
   ]
  },
  {
   "cell_type": "code",
   "execution_count": null,
   "metadata": {},
   "outputs": [],
   "source": [
    "t.equals(t)"
   ]
  },
  {
   "cell_type": "code",
   "execution_count": null,
   "metadata": {},
   "outputs": [],
   "source": [
    "t.equals(t.copy())"
   ]
  },
  {
   "cell_type": "code",
   "execution_count": null,
   "metadata": {},
   "outputs": [],
   "source": [
    "t.equals(t[...])"
   ]
  },
  {
   "cell_type": "code",
   "execution_count": null,
   "metadata": {},
   "outputs": [],
   "source": [
    "t.equals(q)"
   ]
  },
  {
   "cell_type": "code",
   "execution_count": null,
   "metadata": {},
   "outputs": [],
   "source": [
    "t.equals(q, verbose=True)"
   ]
  },
  {
   "cell_type": "markdown",
   "metadata": {},
   "source": [
    "----"
   ]
  },
  {
   "cell_type": "code",
   "execution_count": null,
   "metadata": {},
   "outputs": [],
   "source": [
    "cfdm.ATOL()"
   ]
  },
  {
   "cell_type": "code",
   "execution_count": null,
   "metadata": {},
   "outputs": [],
   "source": [
    "cfdm.RTOL()"
   ]
  },
  {
   "cell_type": "code",
   "execution_count": null,
   "metadata": {},
   "outputs": [],
   "source": [
    "original = cfdm.RTOL(0.00001)\n",
    "cfdm.RTOL()"
   ]
  },
  {
   "cell_type": "code",
   "execution_count": null,
   "metadata": {},
   "outputs": [],
   "source": [
    "cfdm.RTOL(original)"
   ]
  },
  {
   "cell_type": "code",
   "execution_count": null,
   "metadata": {},
   "outputs": [],
   "source": [
    "cfdm.RTOL()"
   ]
  },
  {
   "cell_type": "markdown",
   "metadata": {},
   "source": [
    "----"
   ]
  },
  {
   "cell_type": "code",
   "execution_count": null,
   "metadata": {},
   "outputs": [],
   "source": [
    "orog = t.get_construct('surface_altitude')\n",
    "orog.equals(orog.copy())"
   ]
  },
  {
   "cell_type": "markdown",
   "metadata": {},
   "source": [
    "----"
   ]
  },
  {
   "cell_type": "markdown",
   "metadata": {
    "heading_collapsed": true
   },
   "source": [
    "## NetCDF interface\n",
    "[**Back to top**](#cfdm-tutorial-notebook)  \n",
    "[**Go to tutorial**](https://ncas-cms.github.io/cfdm/tutorial.html#netcdf-interface)"
   ]
  },
  {
   "cell_type": "code",
   "execution_count": null,
   "metadata": {
    "hidden": true,
    "scrolled": false
   },
   "outputs": [],
   "source": [
    "print(t.constructs(ncvar='b'))"
   ]
  },
  {
   "cell_type": "code",
   "execution_count": null,
   "metadata": {
    "hidden": true
   },
   "outputs": [],
   "source": [
    "t.get_construct('ncvar%x')"
   ]
  },
  {
   "cell_type": "code",
   "execution_count": null,
   "metadata": {
    "hidden": true
   },
   "outputs": [],
   "source": [
    "t.get_construct(ncdim='x')"
   ]
  },
  {
   "cell_type": "markdown",
   "metadata": {
    "hidden": true
   },
   "source": [
    "---"
   ]
  },
  {
   "cell_type": "code",
   "execution_count": null,
   "metadata": {
    "hidden": true
   },
   "outputs": [],
   "source": [
    "q.nc_get_variable()"
   ]
  },
  {
   "cell_type": "code",
   "execution_count": null,
   "metadata": {
    "hidden": true
   },
   "outputs": [],
   "source": [
    "q.nc_global_attributes()"
   ]
  },
  {
   "cell_type": "code",
   "execution_count": null,
   "metadata": {
    "hidden": true
   },
   "outputs": [],
   "source": [
    "q.nc_unlimited_dimensions()"
   ]
  },
  {
   "cell_type": "code",
   "execution_count": null,
   "metadata": {
    "hidden": true
   },
   "outputs": [],
   "source": [
    "q.nc_set_variable('humidity')\n",
    "q.nc_get_variable()"
   ]
  },
  {
   "cell_type": "code",
   "execution_count": null,
   "metadata": {},
   "outputs": [],
   "source": [
    "q.get_construct('latitude').nc_get_variable()"
   ]
  },
  {
   "cell_type": "markdown",
   "metadata": {
    "hidden": true
   },
   "source": [
    "---"
   ]
  },
  {
   "cell_type": "markdown",
   "metadata": {
    "heading_collapsed": true
   },
   "source": [
    "## Writing to disk\n",
    "[**Back to top**](#cfdm-tutorial-notebook)  \n",
    "[**Go to tutorial**](https://ncas-cms.github.io/cfdm/tutorial.html#writing-to-disk)"
   ]
  },
  {
   "cell_type": "code",
   "execution_count": null,
   "metadata": {
    "hidden": true
   },
   "outputs": [],
   "source": [
    "print(q)"
   ]
  },
  {
   "cell_type": "code",
   "execution_count": null,
   "metadata": {
    "hidden": true
   },
   "outputs": [],
   "source": [
    "cfdm.write(q, 'q_file.nc')"
   ]
  },
  {
   "cell_type": "code",
   "execution_count": null,
   "metadata": {
    "hidden": true
   },
   "outputs": [],
   "source": [
    "!ncdump -h q_file.nc"
   ]
  },
  {
   "cell_type": "markdown",
   "metadata": {
    "hidden": true
   },
   "source": [
    "---"
   ]
  },
  {
   "cell_type": "code",
   "execution_count": null,
   "metadata": {
    "hidden": true
   },
   "outputs": [],
   "source": [
    "x"
   ]
  },
  {
   "cell_type": "code",
   "execution_count": null,
   "metadata": {
    "attributes": {
     "classes": [
      "sourceCode"
     ],
     "id": ""
    },
    "hidden": true
   },
   "outputs": [],
   "source": [
    "cfdm.write(x, 'new_file.nc')"
   ]
  },
  {
   "cell_type": "markdown",
   "metadata": {
    "heading_collapsed": true,
    "hidden": true
   },
   "source": [
    "### Scalar coordinate variables\n",
    "[**Back to top**](#cfdm-tutorial-notebook)  \n",
    "[**Go to tutorial**](https://ncas-cms.github.io/cfdm/tutorial.html#scalar-coordinate-variables)"
   ]
  },
  {
   "cell_type": "code",
   "execution_count": null,
   "metadata": {
    "hidden": true
   },
   "outputs": [],
   "source": [
    "print(q)"
   ]
  },
  {
   "cell_type": "code",
   "execution_count": null,
   "metadata": {
    "hidden": true
   },
   "outputs": [],
   "source": [
    "q.get_construct_data_axes('time')"
   ]
  },
  {
   "cell_type": "code",
   "execution_count": null,
   "metadata": {
    "hidden": true
   },
   "outputs": [],
   "source": [
    "q2 = q.insert_dimension(axis='domainaxis2')\n",
    "q2"
   ]
  },
  {
   "cell_type": "code",
   "execution_count": null,
   "metadata": {
    "hidden": true
   },
   "outputs": [],
   "source": [
    "cfdm.write(q2, 'q2_file.nc')"
   ]
  },
  {
   "cell_type": "code",
   "execution_count": null,
   "metadata": {
    "hidden": true
   },
   "outputs": [],
   "source": [
    "!ncdump -h q2_file.nc"
   ]
  },
  {
   "cell_type": "markdown",
   "metadata": {
    "hidden": true
   },
   "source": [
    "---"
   ]
  },
  {
   "cell_type": "markdown",
   "metadata": {
    "heading_collapsed": true
   },
   "source": [
    "## External variables\n",
    "[**Back to top**](#cfdm-tutorial-notebook)  \n",
    "[**Go to tutorial**](https://ncas-cms.github.io/cfdm/tutorial.html#external-variables)"
   ]
  },
  {
   "cell_type": "code",
   "execution_count": null,
   "metadata": {
    "hidden": true
   },
   "outputs": [],
   "source": [
    "!ncdump -h parent.nc"
   ]
  },
  {
   "cell_type": "code",
   "execution_count": null,
   "metadata": {
    "hidden": true
   },
   "outputs": [],
   "source": [
    "!ncdump -h external.nc "
   ]
  },
  {
   "cell_type": "code",
   "execution_count": null,
   "metadata": {
    "hidden": true
   },
   "outputs": [],
   "source": [
    "u = cfdm.read(DIRECTORY+'/parent.nc')[0]\n",
    "print(u)"
   ]
  },
  {
   "cell_type": "code",
   "execution_count": null,
   "metadata": {
    "hidden": true
   },
   "outputs": [],
   "source": [
    "area = u.get_construct('measure:area')\n",
    "area"
   ]
  },
  {
   "cell_type": "code",
   "execution_count": null,
   "metadata": {
    "hidden": true
   },
   "outputs": [],
   "source": [
    "area.nc_external()"
   ]
  },
  {
   "cell_type": "code",
   "execution_count": null,
   "metadata": {
    "hidden": true
   },
   "outputs": [],
   "source": [
    "area.nc_get_variable()"
   ]
  },
  {
   "cell_type": "code",
   "execution_count": null,
   "metadata": {
    "hidden": true
   },
   "outputs": [],
   "source": [
    "area.properties()"
   ]
  },
  {
   "cell_type": "code",
   "execution_count": null,
   "metadata": {
    "attributes": {
     "classes": [
      "sourceCode"
     ],
     "id": ""
    },
    "hidden": true
   },
   "outputs": [],
   "source": [
    "area.has_data()"
   ]
  },
  {
   "cell_type": "markdown",
   "metadata": {
    "hidden": true
   },
   "source": [
    "---"
   ]
  },
  {
   "cell_type": "code",
   "execution_count": null,
   "metadata": {
    "hidden": true
   },
   "outputs": [],
   "source": [
    "g = cfdm.read(DIRECTORY+'/parent.nc', external=DIRECTORY+'/external.nc')[0]\n",
    "print(g)"
   ]
  },
  {
   "cell_type": "code",
   "execution_count": null,
   "metadata": {
    "hidden": true
   },
   "outputs": [],
   "source": [
    "area = g.get_construct('cell_area')\n",
    "area"
   ]
  },
  {
   "cell_type": "code",
   "execution_count": null,
   "metadata": {
    "hidden": true
   },
   "outputs": [],
   "source": [
    "area.nc_external()"
   ]
  },
  {
   "cell_type": "code",
   "execution_count": null,
   "metadata": {
    "hidden": true
   },
   "outputs": [],
   "source": [
    "area.nc_get_variable()"
   ]
  },
  {
   "cell_type": "code",
   "execution_count": null,
   "metadata": {
    "hidden": true
   },
   "outputs": [],
   "source": [
    "area.properties()"
   ]
  },
  {
   "cell_type": "code",
   "execution_count": null,
   "metadata": {
    "attributes": {
     "classes": [
      "sourceCode"
     ],
     "id": ""
    },
    "hidden": true
   },
   "outputs": [],
   "source": [
    "area.data"
   ]
  },
  {
   "cell_type": "markdown",
   "metadata": {
    "hidden": true
   },
   "source": [
    "---"
   ]
  },
  {
   "cell_type": "code",
   "execution_count": null,
   "metadata": {
    "hidden": true
   },
   "outputs": [],
   "source": [
    "area.nc_external(True)"
   ]
  },
  {
   "cell_type": "code",
   "execution_count": null,
   "metadata": {
    "attributes": {
     "classes": [
      "sourceCode"
     ],
     "id": ""
    },
    "hidden": true
   },
   "outputs": [],
   "source": [
    "cfdm.write(g, 'new_parent.nc', external='new_external.nc')"
   ]
  },
  {
   "cell_type": "markdown",
   "metadata": {
    "hidden": true
   },
   "source": [
    "---"
   ]
  },
  {
   "cell_type": "markdown",
   "metadata": {
    "heading_collapsed": true
   },
   "source": [
    "## Compression\n",
    "[**Back to top**](#cfdm-tutorial-notebook)  \n",
    "[**Go to tutorial**](https://ncas-cms.github.io/cfdm/tutorial.html#compression)"
   ]
  },
  {
   "cell_type": "markdown",
   "metadata": {
    "hidden": true
   },
   "source": [
    "---"
   ]
  },
  {
   "cell_type": "markdown",
   "metadata": {
    "heading_collapsed": true
   },
   "source": [
    "## Discrete sampling geometries\n",
    "[**Back to top**](#cfdm-tutorial-notebook)  \n",
    "[**Go to tutorial**](https://ncas-cms.github.io/cfdm/tutorial.html#discrete-sampling-geometries)"
   ]
  },
  {
   "cell_type": "code",
   "execution_count": null,
   "metadata": {
    "hidden": true
   },
   "outputs": [],
   "source": [
    "!ncdump -h contiguous.nc"
   ]
  },
  {
   "cell_type": "markdown",
   "metadata": {
    "hidden": true
   },
   "source": [
    "---"
   ]
  },
  {
   "cell_type": "code",
   "execution_count": null,
   "metadata": {
    "hidden": true
   },
   "outputs": [],
   "source": [
    "h = cfdm.read(DIRECTORY+'/contiguous.nc')[0]\n",
    "print(h)"
   ]
  },
  {
   "cell_type": "code",
   "execution_count": null,
   "metadata": {
    "hidden": true
   },
   "outputs": [],
   "source": [
    "print(h.data.array)"
   ]
  },
  {
   "cell_type": "markdown",
   "metadata": {},
   "source": [
    "----"
   ]
  },
  {
   "cell_type": "code",
   "execution_count": null,
   "metadata": {
    "hidden": true
   },
   "outputs": [],
   "source": [
    "h.data.get_compression_type()"
   ]
  },
  {
   "cell_type": "code",
   "execution_count": null,
   "metadata": {
    "hidden": true
   },
   "outputs": [],
   "source": [
    "print(h.data.compressed_array)"
   ]
  },
  {
   "cell_type": "code",
   "execution_count": null,
   "metadata": {
    "hidden": true
   },
   "outputs": [],
   "source": [
    "count_variable = h.data.get_count_variable()\n",
    "count_variable"
   ]
  },
  {
   "cell_type": "code",
   "execution_count": null,
   "metadata": {
    "attributes": {
     "classes": [
      "sourceCode"
     ],
     "id": ""
    },
    "hidden": true
   },
   "outputs": [],
   "source": [
    "print(count_variable.data.array)"
   ]
  },
  {
   "cell_type": "markdown",
   "metadata": {
    "hidden": true
   },
   "source": [
    "---"
   ]
  },
  {
   "cell_type": "code",
   "execution_count": null,
   "metadata": {
    "hidden": true
   },
   "outputs": [],
   "source": [
    "station2 = h[1]\n",
    "station2"
   ]
  },
  {
   "cell_type": "code",
   "execution_count": null,
   "metadata": {
    "attributes": {
     "classes": [
      "sourceCode"
     ],
     "id": ""
    },
    "hidden": true
   },
   "outputs": [],
   "source": [
    "print(station2.data.array)"
   ]
  },
  {
   "cell_type": "markdown",
   "metadata": {
    "hidden": true
   },
   "source": [
    "---"
   ]
  },
  {
   "cell_type": "code",
   "execution_count": null,
   "metadata": {
    "hidden": true
   },
   "outputs": [],
   "source": [
    "h.data.get_compression_type()"
   ]
  },
  {
   "cell_type": "code",
   "execution_count": null,
   "metadata": {
    "hidden": true
   },
   "outputs": [],
   "source": [
    "h.data[1, 2] = -9\n",
    "print(h.data.array)"
   ]
  },
  {
   "cell_type": "code",
   "execution_count": null,
   "metadata": {
    "hidden": true
   },
   "outputs": [],
   "source": [
    "h.data.get_compression_type()"
   ]
  },
  {
   "cell_type": "markdown",
   "metadata": {
    "hidden": true
   },
   "source": [
    "---"
   ]
  },
  {
   "cell_type": "code",
   "execution_count": null,
   "metadata": {
    "attributes": {
     "classes": [
      "sourceCode"
     ],
     "id": ""
    },
    "hidden": true
   },
   "outputs": [],
   "source": [
    "import numpy\n",
    "import cfdm\n",
    "\n",
    "# Define the ragged array values\n",
    "ragged_array = numpy.array([280, 282.5, 281, 279, 278, 279.5],\n",
    "                           dtype='float32')\n",
    "\n",
    "# Define the count array values\n",
    "count_array = [2, 4]\n",
    "\n",
    "# Create the count variable\n",
    "count_variable = cfdm.Count(data=cfdm.Data(count_array))\n",
    "count_variable.set_property('long_name', 'number of obs for this timeseries')\n",
    "\n",
    "# Create the contiguous ragged array object\n",
    "array = cfdm.RaggedContiguousArray(\n",
    "                 compressed_array=cfdm.NumpyArray(ragged_array),\n",
    "                 shape=(2, 4), size=8, ndim=2,\n",
    "                 count_variable=count_variable)\n",
    "\n",
    "# Create the field construct with the domain axes and the ragged\n",
    "# array\n",
    "T = cfdm.Field()\n",
    "T.set_properties({'standard_name': 'air_temperature',\n",
    "                  'units': 'K',\n",
    "                  'featureType': 'timeSeries'})\n",
    "\n",
    "# Create the domain axis constructs for the uncompressed array\n",
    "X = T.set_construct(cfdm.DomainAxis(4))\n",
    "Y = T.set_construct(cfdm.DomainAxis(2))\n",
    "\n",
    "# Set the data for the field\n",
    "T.set_data(cfdm.Data(array), axes=[Y, X])"
   ]
  },
  {
   "cell_type": "markdown",
   "metadata": {
    "hidden": true
   },
   "source": [
    "---"
   ]
  },
  {
   "cell_type": "code",
   "execution_count": null,
   "metadata": {
    "hidden": true
   },
   "outputs": [],
   "source": [
    "T"
   ]
  },
  {
   "cell_type": "code",
   "execution_count": null,
   "metadata": {
    "hidden": true
   },
   "outputs": [],
   "source": [
    "print(T.data.array)"
   ]
  },
  {
   "cell_type": "code",
   "execution_count": null,
   "metadata": {
    "hidden": true
   },
   "outputs": [],
   "source": [
    "T.data.get_compression_type()"
   ]
  },
  {
   "cell_type": "code",
   "execution_count": null,
   "metadata": {
    "hidden": true
   },
   "outputs": [],
   "source": [
    "print(T.data.compressed_array)"
   ]
  },
  {
   "cell_type": "code",
   "execution_count": null,
   "metadata": {
    "hidden": true
   },
   "outputs": [],
   "source": [
    "count_variable = T.data.get_count_variable()\n",
    "count_variable"
   ]
  },
  {
   "cell_type": "code",
   "execution_count": null,
   "metadata": {
    "attributes": {
     "classes": [
      "sourceCode"
     ],
     "id": ""
    },
    "hidden": true
   },
   "outputs": [],
   "source": [
    "print(count_variable.data.array)"
   ]
  },
  {
   "cell_type": "code",
   "execution_count": null,
   "metadata": {
    "hidden": true
   },
   "outputs": [],
   "source": [
    "cfdm.write(T, 'T_contiguous.nc')"
   ]
  },
  {
   "cell_type": "markdown",
   "metadata": {},
   "source": [
    "----"
   ]
  },
  {
   "cell_type": "code",
   "execution_count": null,
   "metadata": {
    "hidden": true
   },
   "outputs": [],
   "source": [
    "!ncdump T_contiguous.nc"
   ]
  },
  {
   "cell_type": "markdown",
   "metadata": {
    "hidden": true
   },
   "source": [
    "---"
   ]
  },
  {
   "cell_type": "markdown",
   "metadata": {
    "heading_collapsed": true
   },
   "source": [
    "## Gathering\n",
    "[**Back to top**](#cfdm-tutorial-notebook)  \n",
    "[**Go to tutorial**](https://ncas-cms.github.io/cfdm/tutorial.html#gathering)"
   ]
  },
  {
   "cell_type": "code",
   "execution_count": null,
   "metadata": {
    "hidden": true
   },
   "outputs": [],
   "source": [
    "p = cfdm.read(DIRECTORY+'/gathered.nc')[0]\n",
    "print(p)"
   ]
  },
  {
   "cell_type": "code",
   "execution_count": null,
   "metadata": {
    "hidden": true
   },
   "outputs": [],
   "source": [
    "print(p.data.array)"
   ]
  },
  {
   "cell_type": "markdown",
   "metadata": {},
   "source": [
    "----"
   ]
  },
  {
   "cell_type": "code",
   "execution_count": null,
   "metadata": {
    "hidden": true
   },
   "outputs": [],
   "source": [
    "p.data.get_compression_type()"
   ]
  },
  {
   "cell_type": "code",
   "execution_count": null,
   "metadata": {
    "hidden": true
   },
   "outputs": [],
   "source": [
    "print(p.data.compressed_array)"
   ]
  },
  {
   "cell_type": "code",
   "execution_count": null,
   "metadata": {
    "hidden": true
   },
   "outputs": [],
   "source": [
    "list_variable = p.data.get_list_variable()\n",
    "list_variable"
   ]
  },
  {
   "cell_type": "code",
   "execution_count": null,
   "metadata": {
    "attributes": {
     "classes": [
      "sourceCode"
     ],
     "id": ""
    },
    "hidden": true
   },
   "outputs": [],
   "source": [
    "print(list_variable.data.array)"
   ]
  },
  {
   "cell_type": "markdown",
   "metadata": {
    "hidden": true
   },
   "source": [
    "---"
   ]
  },
  {
   "cell_type": "code",
   "execution_count": null,
   "metadata": {
    "hidden": true
   },
   "outputs": [],
   "source": [
    "p[0]"
   ]
  },
  {
   "cell_type": "code",
   "execution_count": null,
   "metadata": {
    "hidden": true
   },
   "outputs": [],
   "source": [
    "p[1, :, 3:5]"
   ]
  },
  {
   "cell_type": "markdown",
   "metadata": {
    "hidden": true
   },
   "source": [
    "---"
   ]
  },
  {
   "cell_type": "code",
   "execution_count": null,
   "metadata": {
    "hidden": true
   },
   "outputs": [],
   "source": [
    "p.data.get_compression_type()"
   ]
  },
  {
   "cell_type": "code",
   "execution_count": null,
   "metadata": {
    "hidden": true
   },
   "outputs": [],
   "source": [
    "p.data[1] = -9"
   ]
  },
  {
   "cell_type": "code",
   "execution_count": null,
   "metadata": {
    "hidden": true
   },
   "outputs": [],
   "source": [
    "p.data.get_compression_type()"
   ]
  },
  {
   "cell_type": "markdown",
   "metadata": {
    "hidden": true
   },
   "source": [
    "---"
   ]
  },
  {
   "cell_type": "code",
   "execution_count": null,
   "metadata": {
    "attributes": {
     "classes": [
      "sourceCode"
     ],
     "id": ""
    },
    "hidden": true
   },
   "outputs": [],
   "source": [
    "import numpy\n",
    "import cfdm\n",
    "\n",
    "# Define the gathered values\n",
    "gathered_array = numpy.array([[2, 1, 3], [4, 0, 5]],\n",
    "                             dtype='float32')\n",
    "\n",
    "# Define the list array values\n",
    "list_array = [1, 4, 5]\n",
    "\n",
    "# Create the list variable\n",
    "list_variable = cfdm.List(data=cfdm.Data(list_array))\n",
    "\n",
    "# Create the gathered array object\n",
    "array = cfdm.GatheredArray(\n",
    "                 compressed_array=cfdm.NumpyArray(gathered_array),\n",
    "                 compressed_dimension=1,\n",
    "                 shape=(2, 3, 2), size=12, ndim=3,\n",
    "                 list_variable=list_variable)\n",
    "\n",
    "# Create the field construct with the domain axes and the gathered\n",
    "# array\n",
    "P = cfdm.Field(properties={'standard_name': 'precipitation_flux',\n",
    "                           'units': 'kg m-2 s-1'})\n",
    "\n",
    "# Create the domain axis constructs for the uncompressed array\n",
    "T = P.set_construct(cfdm.DomainAxis(2))\n",
    "Y = P.set_construct(cfdm.DomainAxis(3))\n",
    "X = P.set_construct(cfdm.DomainAxis(2))\n",
    "\n",
    "# Set the data for the field\n",
    "P.set_data(cfdm.Data(array), axes=[T, Y, X])"
   ]
  },
  {
   "cell_type": "markdown",
   "metadata": {
    "hidden": true
   },
   "source": [
    "---"
   ]
  },
  {
   "cell_type": "code",
   "execution_count": null,
   "metadata": {
    "hidden": true
   },
   "outputs": [],
   "source": [
    "P"
   ]
  },
  {
   "cell_type": "code",
   "execution_count": null,
   "metadata": {
    "hidden": true
   },
   "outputs": [],
   "source": [
    "print(P.data.array)"
   ]
  },
  {
   "cell_type": "code",
   "execution_count": null,
   "metadata": {
    "hidden": true
   },
   "outputs": [],
   "source": [
    "P.data.get_compression_type()"
   ]
  },
  {
   "cell_type": "code",
   "execution_count": null,
   "metadata": {
    "hidden": true
   },
   "outputs": [],
   "source": [
    "print(P.data.compressed_array)"
   ]
  },
  {
   "cell_type": "code",
   "execution_count": null,
   "metadata": {
    "hidden": true
   },
   "outputs": [],
   "source": [
    "list_variable = P.data.get_list_variable()\n",
    "list_variable "
   ]
  },
  {
   "cell_type": "code",
   "execution_count": null,
   "metadata": {
    "attributes": {
     "classes": [
      "sourceCode"
     ],
     "id": ""
    },
    "hidden": true
   },
   "outputs": [],
   "source": [
    "print(list_variable.data.array)"
   ]
  },
  {
   "cell_type": "code",
   "execution_count": null,
   "metadata": {
    "hidden": true
   },
   "outputs": [],
   "source": [
    "cfdm.write(P, 'P_gathered.nc')"
   ]
  },
  {
   "cell_type": "markdown",
   "metadata": {},
   "source": [
    "----"
   ]
  },
  {
   "cell_type": "code",
   "execution_count": null,
   "metadata": {
    "hidden": true
   },
   "outputs": [],
   "source": [
    "!ncdump P_gathered.nc"
   ]
  },
  {
   "cell_type": "markdown",
   "metadata": {
    "hidden": true
   },
   "source": [
    "---\n",
    "[**Back to top**](#cfdm-tutorial-notebook)  \n",
    "[**Go to tutorial**](https://ncas-cms.github.io/cfdm/tutorial.html)  "
   ]
  }
 ],
 "metadata": {
  "kernelspec": {
   "display_name": "Python 2",
   "language": "python",
   "name": "python2"
  },
  "language_info": {
   "codemirror_mode": {
    "name": "ipython",
    "version": 2
   },
   "file_extension": ".py",
   "mimetype": "text/x-python",
   "name": "python",
   "nbconvert_exporter": "python",
   "pygments_lexer": "ipython2",
   "version": "2.7.15"
  }
 },
 "nbformat": 4,
 "nbformat_minor": 2
}
