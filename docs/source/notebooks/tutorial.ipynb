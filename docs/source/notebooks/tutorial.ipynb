{
 "cells": [
  {
   "cell_type": "markdown",
   "metadata": {},
   "source": [
    "cfdm tutorial notebook\n",
    "=============\n",
    "\n",
    "Version <latest> for version <latest> of the CF conventions.\n",
    "    \n",
    "[//]: # (If the above line about versions changes its form then you should update the Makefile)\n",
    "\n",
    "---\n",
    "\n",
    "This notebook contains executable code examples from the [cfdm tutorial](https://ncas-cms.github.io/cfdm/tutorial.html).\n",
    "------------------------------------------\n",
    "---\n",
    "\n",
    "Contents\n",
    "---------------\n",
    "\n",
    "* [**Import**](#Import)\n",
    "* [**CF version**](#CF-version)\n",
    "* [**Reading datasets**](#Reading-datasets)\n",
    "* [**Inspection**](#Inspection)\n",
    "  * [Minimal detail](#Minimal-detail)\n",
    "  * [Medium detail](#Medium-detail)\n",
    "  * [Full detail](#Full-detail)\n",
    "* [**Properties**](#Properties)\n",
    "* [**Metadata constructs 1**](#Metadata-constructs-1)\n",
    "* [**Data**](#Data)\n",
    "  * [Data axes](#Data-axes)\n",
    "  * [Indexing](#Indexing)\n",
    "  * [Assignment](#Assignment)\n",
    "  * [Manipulating dimensions](#Manipulating-dimensions)\n",
    "* [**Subspacing**](#Subspacing)\n",
    "* [**Metadata constructs 2**](#Metadata-constructs-2)\n",
    "  * [Accessing an individual metadata construct](#Accessing-an-individual-metadata-construct)\n",
    "  * [Metadata construct properties](#Metadata-construct-properties)\n",
    "  * [Metadata construct data](#Metadata-construct-data)\n",
    "* [**Domain**](#Domain) \n",
    "* [**Domain axes**](#Domain-axes)\n",
    "* [**Coordinates**](#Coordinates)\n",
    "* [**Domain ancillaries**](#Domain-ancillaries)\n",
    "* [**Coordinate systems**](#Coordinate-systems)\n",
    "* [**Cell methods**](#Cell-methods)\n",
    "* [**Field construct creation**](#Field-construct-creation)\n",
    "  * [Manual creation](#Manual-creation)\n",
    "  * [Creating data from an array on disk](#Creating-data-from-an-array-on-disk)\n",
    "  * [Creation by conversion](#Creation-by-conversion)\n",
    "  * [Creation by reading](#Creation-by-reading)\n",
    "* [**Copying**](#Copying)\n",
    "* [**Equality**](#Equality)\n",
    "* [**NetCDF interface**](#NetCDF-interface)\n",
    "* [**Writing to disk**](#Writing-to-disk)\n",
    "  * [Scalar coordinate variables](#Scalar-coordinate-variables)\n",
    "* [**Field construct creation**](#Field-construct-creation)\n",
    "  * [Creating field constructs from metadata constructs](#Creating-field-constructs-from-metadata-constructs)\n",
    "* [**External variables**](#External-variables)\n",
    "* [**Compression**](#Compression)\n",
    "* [**Discrete sampling geometries**](#Discrete-sampling-geometries)\n",
    "* [**Gathering**](#Gathering)\n",
    "\n",
    "---"
   ]
  },
  {
   "cell_type": "markdown",
   "metadata": {
    "heading_collapsed": true
   },
   "source": [
    "##  Before you start"
   ]
  },
  {
   "cell_type": "markdown",
   "metadata": {
    "hidden": true
   },
   "source": [
    "**0. [Install](https://ncas-cms.github.io/cfdm/installation.html) the cfdm package**\n",
    "\n",
    "**1. Download the test files**\n",
    "\n",
    "* [**file.nc**](https://ncas-cms.github.io/cfdm/_downloads/file.nc)\n",
    "* [**parent.nc**](https://ncas-cms.github.io/cfdm/_downloads/parent.nc)\n",
    "* [**external.nc**](https://ncas-cms.github.io/cfdm/_downloads/external.nc)\n",
    "* [**contiguous.nc**](https://ncas-cms.github.io/cfdm/_downloads/contiguous.nc)\n",
    "* [**gathered.nc**](https://ncas-cms.github.io/cfdm/_downloads/gathered.nc)\n",
    "\n",
    "**2. Set the local directory which contains the test files**\n",
    "\n",
    "By default it is assumed that they are in same directory as this notebook file."
   ]
  },
  {
   "cell_type": "code",
   "execution_count": null,
   "metadata": {
    "collapsed": true,
    "hidden": true
   },
   "outputs": [],
   "source": [
    "DIRECTORY = '.'"
   ]
  },
  {
   "cell_type": "markdown",
   "metadata": {
    "collapsed": true,
    "hidden": true
   },
   "source": [
    "**3. Ensure that  printing works equally well for Python 2 and 3**"
   ]
  },
  {
   "cell_type": "code",
   "execution_count": null,
   "metadata": {
    "collapsed": true,
    "hidden": true
   },
   "outputs": [],
   "source": [
    "from __future__ import print_function"
   ]
  },
  {
   "cell_type": "markdown",
   "metadata": {
    "hidden": true
   },
   "source": [
    "---"
   ]
  },
  {
   "cell_type": "markdown",
   "metadata": {
    "heading_collapsed": true
   },
   "source": [
    "## Import\n",
    "[**Back to top**](#cfdm-tutorial-notebook)  \n",
    "[**Go to tutorial**](https://ncas-cms.github.io/cfdm/tutorial.html#import)  "
   ]
  },
  {
   "cell_type": "code",
   "execution_count": null,
   "metadata": {
    "collapsed": true,
    "hidden": true
   },
   "outputs": [],
   "source": [
    "import cfdm"
   ]
  },
  {
   "cell_type": "markdown",
   "metadata": {
    "hidden": true
   },
   "source": [
    "---"
   ]
  },
  {
   "cell_type": "markdown",
   "metadata": {
    "heading_collapsed": true
   },
   "source": [
    "## CF version\n",
    "[**Back to top**](#cfdm-tutorial-notebook)  \n",
    "[**Go to tutorial**](https://ncas-cms.github.io/cfdm/tutorial.html#cf-version)  "
   ]
  },
  {
   "cell_type": "code",
   "execution_count": null,
   "metadata": {
    "collapsed": true,
    "hidden": true
   },
   "outputs": [],
   "source": [
    "cfdm.CF()"
   ]
  },
  {
   "cell_type": "markdown",
   "metadata": {
    "hidden": true
   },
   "source": [
    "---"
   ]
  },
  {
   "cell_type": "markdown",
   "metadata": {
    "heading_collapsed": true
   },
   "source": [
    "## Reading datasets\n",
    "[**Back to top**](#cfdm-tutorial-notebook)  \n",
    "[**Go to tutorial**](https://ncas-cms.github.io/cfdm/tutorial.html#reading-datasets)"
   ]
  },
  {
   "cell_type": "code",
   "execution_count": null,
   "metadata": {
    "attributes": {
     "classes": [
      "sourceCode"
     ],
     "id": ""
    },
    "collapsed": true,
    "hidden": true
   },
   "outputs": [],
   "source": [
    "x = cfdm.read(DIRECTORY+'/file.nc')\n",
    "print(type(x))\n",
    "len(x)"
   ]
  },
  {
   "cell_type": "markdown",
   "metadata": {
    "hidden": true
   },
   "source": [
    "---"
   ]
  },
  {
   "cell_type": "markdown",
   "metadata": {
    "heading_collapsed": true
   },
   "source": [
    "## Inspection\n",
    "[**Back to top**](#cfdm-tutorial-notebook)  \n",
    "[**Go to tutorial**](https://ncas-cms.github.io/cfdm/tutorial.html#inspection)"
   ]
  },
  {
   "cell_type": "markdown",
   "metadata": {
    "heading_collapsed": true,
    "hidden": true
   },
   "source": [
    "### Minimal detail\n",
    "[**Back to top**](#cfdm-tutorial-notebook)  \n",
    "[**Go to tutorial**](https://ncas-cms.github.io/cfdm/tutorial.html#minimal-detail)  "
   ]
  },
  {
   "cell_type": "code",
   "execution_count": null,
   "metadata": {
    "collapsed": true,
    "hidden": true
   },
   "outputs": [],
   "source": [
    "x"
   ]
  },
  {
   "cell_type": "code",
   "execution_count": null,
   "metadata": {
    "attributes": {
     "classes": [
      "sourceCode"
     ],
     "id": ""
    },
    "collapsed": true,
    "hidden": true
   },
   "outputs": [],
   "source": [
    "q = x[0]\n",
    "t = x[1]\n",
    "q"
   ]
  },
  {
   "cell_type": "markdown",
   "metadata": {
    "heading_collapsed": true,
    "hidden": true
   },
   "source": [
    "### Medium detail\n",
    "[**Back to top**](#cfdm-tutorial-notebook)  \n",
    "[**Go to tutorial**](https://ncas-cms.github.io/cfdm/tutorial.html#medium-detail)  "
   ]
  },
  {
   "cell_type": "code",
   "execution_count": null,
   "metadata": {
    "collapsed": true,
    "hidden": true
   },
   "outputs": [],
   "source": [
    "print(q)"
   ]
  },
  {
   "cell_type": "code",
   "execution_count": null,
   "metadata": {
    "attributes": {
     "classes": [
      "sourceCode"
     ],
     "id": ""
    },
    "collapsed": true,
    "hidden": true
   },
   "outputs": [],
   "source": [
    "print(t)"
   ]
  },
  {
   "cell_type": "markdown",
   "metadata": {
    "heading_collapsed": true,
    "hidden": true
   },
   "source": [
    "### Full detail\n",
    "[**Back to top**](#cfdm-tutorial-notebook)  \n",
    "[**Go to tutorial**](https://ncas-cms.github.io/cfdm/tutorial.html#full-detail)  "
   ]
  },
  {
   "cell_type": "code",
   "execution_count": null,
   "metadata": {
    "collapsed": true,
    "hidden": true
   },
   "outputs": [],
   "source": [
    "q.dump()"
   ]
  },
  {
   "cell_type": "code",
   "execution_count": null,
   "metadata": {
    "attributes": {
     "classes": [
      "sourceCode"
     ],
     "id": ""
    },
    "collapsed": true,
    "hidden": true
   },
   "outputs": [],
   "source": [
    "t.dump()"
   ]
  },
  {
   "cell_type": "markdown",
   "metadata": {
    "hidden": true
   },
   "source": [
    "---"
   ]
  },
  {
   "cell_type": "markdown",
   "metadata": {
    "heading_collapsed": true
   },
   "source": [
    "## Properties\n",
    "[**Back to top**](#cfdm-tutorial-notebook)  \n",
    "[**Go to tutorial**](https://ncas-cms.github.io/cfdm/tutorial.html#properties)  "
   ]
  },
  {
   "cell_type": "code",
   "execution_count": null,
   "metadata": {
    "attributes": {
     "classes": [
      "sourceCode"
     ],
     "id": ""
    },
    "collapsed": true,
    "hidden": true
   },
   "outputs": [],
   "source": [
    "t.properties()"
   ]
  },
  {
   "cell_type": "markdown",
   "metadata": {
    "hidden": true
   },
   "source": [
    "---"
   ]
  },
  {
   "cell_type": "code",
   "execution_count": null,
   "metadata": {
    "collapsed": true,
    "hidden": true
   },
   "outputs": [],
   "source": [
    "t.has_property('standard_name')"
   ]
  },
  {
   "cell_type": "code",
   "execution_count": null,
   "metadata": {
    "collapsed": true,
    "hidden": true
   },
   "outputs": [],
   "source": [
    "t.get_property('standard_name')"
   ]
  },
  {
   "cell_type": "code",
   "execution_count": null,
   "metadata": {
    "collapsed": true,
    "hidden": true
   },
   "outputs": [],
   "source": [
    "t.del_property('standard_name')"
   ]
  },
  {
   "cell_type": "code",
   "execution_count": null,
   "metadata": {
    "collapsed": true,
    "hidden": true
   },
   "outputs": [],
   "source": [
    "t.get_property('standard_name', 'not set')"
   ]
  },
  {
   "cell_type": "code",
   "execution_count": null,
   "metadata": {
    "attributes": {
     "classes": [
      "sourceCode"
     ],
     "id": ""
    },
    "collapsed": true,
    "hidden": true
   },
   "outputs": [],
   "source": [
    "t.set_property('standard_name', 'air_temperature')\n",
    "t.get_property('standard_name', 'not set')"
   ]
  },
  {
   "cell_type": "markdown",
   "metadata": {
    "hidden": true
   },
   "source": [
    "---"
   ]
  },
  {
   "cell_type": "code",
   "execution_count": null,
   "metadata": {
    "collapsed": true,
    "hidden": true
   },
   "outputs": [],
   "source": [
    "original = t.properties({'foo': 'bar', 'units': 'K'})\n",
    "original"
   ]
  },
  {
   "cell_type": "code",
   "execution_count": null,
   "metadata": {
    "collapsed": true,
    "hidden": true
   },
   "outputs": [],
   "source": [
    "t.properties()"
   ]
  },
  {
   "cell_type": "code",
   "execution_count": null,
   "metadata": {
    "collapsed": true,
    "hidden": true
   },
   "outputs": [],
   "source": [
    "t.properties(original)"
   ]
  },
  {
   "cell_type": "code",
   "execution_count": null,
   "metadata": {
    "attributes": {
     "classes": [
      "sourceCode"
     ],
     "id": ""
    },
    "collapsed": true,
    "hidden": true
   },
   "outputs": [],
   "source": [
    "t.properties()"
   ]
  },
  {
   "cell_type": "markdown",
   "metadata": {
    "hidden": true
   },
   "source": [
    "---"
   ]
  },
  {
   "cell_type": "markdown",
   "metadata": {},
   "source": [
    "## Metadata constructs 1\n",
    "[**Back to top**](#cfdm-tutorial-notebook)  \n",
    "[**Go to tutorial**](https://ncas-cms.github.io/cfdm/tutorial.html#metadata-constructs-1)"
   ]
  },
  {
   "cell_type": "code",
   "execution_count": null,
   "metadata": {
    "collapsed": true
   },
   "outputs": [],
   "source": [
    "t.coordinate_references()"
   ]
  },
  {
   "cell_type": "code",
   "execution_count": null,
   "metadata": {
    "collapsed": true
   },
   "outputs": [],
   "source": [
    "t.dimension_coordinates()"
   ]
  },
  {
   "cell_type": "code",
   "execution_count": null,
   "metadata": {
    "collapsed": true
   },
   "outputs": [],
   "source": [
    "t.domain_axes()"
   ]
  },
  {
   "cell_type": "markdown",
   "metadata": {},
   "source": [
    "----"
   ]
  },
  {
   "cell_type": "code",
   "execution_count": null,
   "metadata": {
    "collapsed": true
   },
   "outputs": [],
   "source": [
    "q.constructs()"
   ]
  },
  {
   "cell_type": "code",
   "execution_count": null,
   "metadata": {
    "collapsed": true
   },
   "outputs": [],
   "source": [
    "t.constructs()"
   ]
  },
  {
   "cell_type": "markdown",
   "metadata": {},
   "source": [
    "----"
   ]
  },
  {
   "cell_type": "markdown",
   "metadata": {
    "heading_collapsed": true
   },
   "source": [
    "## Data\n",
    "[**Back to top**](#cfdm-tutorial-notebook)  \n",
    "[**Go to tutorial**](https://ncas-cms.github.io/cfdm/tutorial.html#data)"
   ]
  },
  {
   "cell_type": "code",
   "execution_count": null,
   "metadata": {
    "attributes": {
     "classes": [
      "sourceCode"
     ],
     "id": ""
    },
    "collapsed": true,
    "hidden": true
   },
   "outputs": [],
   "source": [
    "d = t.get_data()\n",
    "d"
   ]
  },
  {
   "cell_type": "markdown",
   "metadata": {
    "hidden": true
   },
   "source": [
    "---"
   ]
  },
  {
   "cell_type": "code",
   "execution_count": null,
   "metadata": {
    "attributes": {
     "classes": [
      "sourceCode"
     ],
     "id": ""
    },
    "collapsed": true,
    "hidden": true
   },
   "outputs": [],
   "source": [
    "print(t.get_array())"
   ]
  },
  {
   "cell_type": "markdown",
   "metadata": {
    "hidden": true
   },
   "source": [
    "---"
   ]
  },
  {
   "cell_type": "code",
   "execution_count": null,
   "metadata": {
    "collapsed": true,
    "hidden": true
   },
   "outputs": [],
   "source": [
    "t.data.dtype"
   ]
  },
  {
   "cell_type": "code",
   "execution_count": null,
   "metadata": {
    "collapsed": true,
    "hidden": true
   },
   "outputs": [],
   "source": [
    "t.data.ndim"
   ]
  },
  {
   "cell_type": "code",
   "execution_count": null,
   "metadata": {
    "collapsed": true,
    "hidden": true
   },
   "outputs": [],
   "source": [
    "t.data.shape"
   ]
  },
  {
   "cell_type": "code",
   "execution_count": null,
   "metadata": {
    "attributes": {
     "classes": [
      "sourceCode"
     ],
     "id": ""
    },
    "collapsed": true,
    "hidden": true
   },
   "outputs": [],
   "source": [
    "t.data.size"
   ]
  },
  {
   "cell_type": "markdown",
   "metadata": {},
   "source": [
    "### Data axes\n",
    "[**Back to top**](#cfdm-tutorial-notebook)  \n",
    "[**Go to tutorial**](https://ncas-cms.github.io/cfdm/tutorial.html#data-axes)"
   ]
  },
  {
   "cell_type": "code",
   "execution_count": null,
   "metadata": {
    "collapsed": true
   },
   "outputs": [],
   "source": [
    "t.domain_axes()"
   ]
  },
  {
   "cell_type": "code",
   "execution_count": null,
   "metadata": {
    "collapsed": true
   },
   "outputs": [],
   "source": [
    "t"
   ]
  },
  {
   "cell_type": "code",
   "execution_count": null,
   "metadata": {
    "collapsed": true
   },
   "outputs": [],
   "source": [
    "t.data.shape"
   ]
  },
  {
   "cell_type": "code",
   "execution_count": null,
   "metadata": {
    "collapsed": true
   },
   "outputs": [],
   "source": [
    "t.get_data_axes()"
   ]
  },
  {
   "cell_type": "markdown",
   "metadata": {},
   "source": [
    "----"
   ]
  },
  {
   "cell_type": "markdown",
   "metadata": {
    "heading_collapsed": true,
    "hidden": true
   },
   "source": [
    "### Indexing\n",
    "[**Back to top**](#cfdm-tutorial-notebook)  \n",
    "[**Go to tutorial**](https://ncas-cms.github.io/cfdm/tutorial.html#indexing) "
   ]
  },
  {
   "cell_type": "code",
   "execution_count": null,
   "metadata": {
    "collapsed": true,
    "hidden": true
   },
   "outputs": [],
   "source": [
    "data = t.data\n",
    "data.shape"
   ]
  },
  {
   "cell_type": "code",
   "execution_count": null,
   "metadata": {
    "collapsed": true,
    "hidden": true
   },
   "outputs": [],
   "source": [
    "data[:, :, 1].shape"
   ]
  },
  {
   "cell_type": "code",
   "execution_count": null,
   "metadata": {
    "collapsed": true,
    "hidden": true
   },
   "outputs": [],
   "source": [
    "data[:, 0].shape"
   ]
  },
  {
   "cell_type": "code",
   "execution_count": null,
   "metadata": {
    "collapsed": true,
    "hidden": true
   },
   "outputs": [],
   "source": [
    "data[..., 6:3:-1, 3:6].shape"
   ]
  },
  {
   "cell_type": "code",
   "execution_count": null,
   "metadata": {
    "collapsed": true,
    "hidden": true
   },
   "outputs": [],
   "source": [
    "data[0, [2, 9], [4, 8]].shape"
   ]
  },
  {
   "cell_type": "code",
   "execution_count": null,
   "metadata": {
    "attributes": {
     "classes": [
      "sourceCode"
     ],
     "id": ""
    },
    "collapsed": true,
    "hidden": true
   },
   "outputs": [],
   "source": [
    "data[0, :, -2].shape"
   ]
  },
  {
   "cell_type": "markdown",
   "metadata": {
    "heading_collapsed": true,
    "hidden": true
   },
   "source": [
    "### Assignment\n",
    "[**Back to top**](#cfdm-tutorial-notebook)  \n",
    "[**Go to tutorial**](https://ncas-cms.github.io/cfdm/tutorial.html#assignment) "
   ]
  },
  {
   "cell_type": "code",
   "execution_count": null,
   "metadata": {
    "collapsed": true,
    "hidden": true
   },
   "outputs": [],
   "source": [
    "import numpy\n",
    "t.data[:, 0, 0] = -1\n",
    "t.data[:, :, 1] = -2\n",
    "t.data[..., 6:3:-1, 3:6] = -3\n",
    "print(t.get_array())"
   ]
  },
  {
   "cell_type": "markdown",
   "metadata": {},
   "source": [
    "----"
   ]
  },
  {
   "cell_type": "code",
   "execution_count": null,
   "metadata": {
    "collapsed": true
   },
   "outputs": [],
   "source": [
    "t.data[..., 6:3:-1, 3:6] = numpy.arange(9).reshape(3, 3)\n",
    "t.data[0, [2, 9], [4, 8]] =  cfdm.Data([[-4, -5]])\n",
    "print(t.get_array())"
   ]
  },
  {
   "cell_type": "markdown",
   "metadata": {},
   "source": [
    "----"
   ]
  },
  {
   "cell_type": "code",
   "execution_count": null,
   "metadata": {
    "collapsed": true
   },
   "outputs": [],
   "source": [
    "t.data[0, :, -2] = numpy.ma.masked\n",
    "t.data[0, 5, -2] = -6\n",
    "print(t.get_array())"
   ]
  },
  {
   "cell_type": "markdown",
   "metadata": {},
   "source": [
    "----"
   ]
  },
  {
   "cell_type": "markdown",
   "metadata": {
    "heading_collapsed": true,
    "hidden": true
   },
   "source": [
    "### Manipulating dimensions\n",
    "[**Back to top**](#cfdm-tutorial-notebook)  \n",
    "[**Go to tutorial**](https://ncas-cms.github.io/cfdm/tutorial.html#manipulating-dimensions) "
   ]
  },
  {
   "cell_type": "code",
   "execution_count": null,
   "metadata": {
    "collapsed": true,
    "hidden": true
   },
   "outputs": [],
   "source": [
    "t"
   ]
  },
  {
   "cell_type": "code",
   "execution_count": null,
   "metadata": {
    "collapsed": true,
    "hidden": true
   },
   "outputs": [],
   "source": [
    "t2 = t.squeeze()\n",
    "t2"
   ]
  },
  {
   "cell_type": "code",
   "execution_count": null,
   "metadata": {
    "collapsed": true
   },
   "outputs": [],
   "source": [
    "t2.dimension_coordinates()"
   ]
  },
  {
   "cell_type": "markdown",
   "metadata": {},
   "source": [
    "----"
   ]
  },
  {
   "cell_type": "code",
   "execution_count": null,
   "metadata": {
    "collapsed": true
   },
   "outputs": [],
   "source": [
    "t3 = t2.insert_dimension(axis='domainaxis3', position=1)\n",
    "t3"
   ]
  },
  {
   "cell_type": "code",
   "execution_count": null,
   "metadata": {
    "collapsed": true
   },
   "outputs": [],
   "source": [
    "t3.transpose([2, 0, 1])"
   ]
  },
  {
   "cell_type": "markdown",
   "metadata": {
    "hidden": true
   },
   "source": [
    "---"
   ]
  },
  {
   "cell_type": "markdown",
   "metadata": {
    "heading_collapsed": true
   },
   "source": [
    "## Subspacing\n",
    "[**Back to top**](#cfdm-tutorial-notebook)  \n",
    "[**Go to tutorial**](https://ncas-cms.github.io/cfdm/tutorial.html#subspacing)"
   ]
  },
  {
   "cell_type": "code",
   "execution_count": null,
   "metadata": {
    "collapsed": true,
    "hidden": true
   },
   "outputs": [],
   "source": [
    "print(q)"
   ]
  },
  {
   "cell_type": "code",
   "execution_count": null,
   "metadata": {
    "attributes": {
     "classes": [
      "sourceCode"
     ],
     "id": ""
    },
    "collapsed": true,
    "hidden": true
   },
   "outputs": [],
   "source": [
    "new = q[::-1, 0]\n",
    "print(new)"
   ]
  },
  {
   "cell_type": "markdown",
   "metadata": {
    "hidden": true
   },
   "source": [
    "---"
   ]
  },
  {
   "cell_type": "markdown",
   "metadata": {
    "heading_collapsed": true
   },
   "source": [
    "## Metadata constructs 2\n",
    "[**Back to top**](#cfdm-tutorial-notebook)  \n",
    "[**Go to tutorial**](https://ncas-cms.github.io/cfdm/tutorial.html#metadata-constructs-2)"
   ]
  },
  {
   "cell_type": "code",
   "execution_count": null,
   "metadata": {
    "collapsed": true
   },
   "outputs": [],
   "source": [
    "t.constructs(construct_type='dimension_coordinate')"
   ]
  },
  {
   "cell_type": "code",
   "execution_count": null,
   "metadata": {
    "collapsed": true
   },
   "outputs": [],
   "source": [
    "t.constructs(properties={'standard_name': 'air_temperature standard_error'})"
   ]
  },
  {
   "cell_type": "code",
   "execution_count": null,
   "metadata": {
    "collapsed": true
   },
   "outputs": [],
   "source": [
    "t.constructs(properties=[{'standard_name': 'air_temperature standard_error'},\n",
    "                         {'units': 'm'}])"
   ]
  },
  {
   "cell_type": "code",
   "execution_count": null,
   "metadata": {
    "collapsed": true
   },
   "outputs": [],
   "source": [
    "t.constructs(axis='domainaxis1')"
   ]
  },
  {
   "cell_type": "code",
   "execution_count": null,
   "metadata": {
    "collapsed": true
   },
   "outputs": [],
   "source": [
    "t.constructs(measure='area')"
   ]
  },
  {
   "cell_type": "code",
   "execution_count": null,
   "metadata": {
    "collapsed": true
   },
   "outputs": [],
   "source": [
    "t.constructs(construct_type='auxiliary_coordinate',\n",
    "             axis='domainaxis1',\n",
    "             properties={'units': 'degrees_E'})"
   ]
  },
  {
   "cell_type": "markdown",
   "metadata": {},
   "source": [
    "----"
   ]
  },
  {
   "cell_type": "code",
   "execution_count": null,
   "metadata": {
    "collapsed": true
   },
   "outputs": [],
   "source": [
    "t.constructs(key='domainancillary2')"
   ]
  },
  {
   "cell_type": "code",
   "execution_count": null,
   "metadata": {
    "collapsed": true
   },
   "outputs": [],
   "source": [
    "t.constructs(key='cellmethod1')"
   ]
  },
  {
   "cell_type": "code",
   "execution_count": null,
   "metadata": {
    "collapsed": true
   },
   "outputs": [],
   "source": [
    "t.constructs(key=['auxiliarycoordinate2', 'cellmeasure0'])"
   ]
  },
  {
   "cell_type": "code",
   "execution_count": null,
   "metadata": {
    "collapsed": true
   },
   "outputs": [],
   "source": [
    "t.constructs(key='auxiliarycoordinate999')"
   ]
  },
  {
   "cell_type": "markdown",
   "metadata": {},
   "source": [
    "----"
   ]
  },
  {
   "cell_type": "code",
   "execution_count": null,
   "metadata": {
    "collapsed": true
   },
   "outputs": [],
   "source": [
    "t.constructs('latitude')"
   ]
  },
  {
   "cell_type": "code",
   "execution_count": null,
   "metadata": {
    "collapsed": true
   },
   "outputs": [],
   "source": [
    "t.constructs('long_name:Grid latitude name')"
   ]
  },
  {
   "cell_type": "code",
   "execution_count": null,
   "metadata": {
    "collapsed": true
   },
   "outputs": [],
   "source": [
    "t.constructs(name='longitude')"
   ]
  },
  {
   "cell_type": "code",
   "execution_count": null,
   "metadata": {
    "collapsed": true
   },
   "outputs": [],
   "source": [
    "t.constructs('measure%area')"
   ]
  },
  {
   "cell_type": "markdown",
   "metadata": {},
   "source": [
    "----"
   ]
  },
  {
   "cell_type": "code",
   "execution_count": null,
   "metadata": {
    "collapsed": true
   },
   "outputs": [],
   "source": [
    "t.constructs(construct_type='cell_measure')"
   ]
  },
  {
   "cell_type": "code",
   "execution_count": null,
   "metadata": {
    "collapsed": true
   },
   "outputs": [],
   "source": [
    "t.cell_measures()"
   ]
  },
  {
   "cell_type": "markdown",
   "metadata": {},
   "source": [
    "----"
   ]
  },
  {
   "cell_type": "code",
   "execution_count": null,
   "metadata": {
    "collapsed": true
   },
   "outputs": [],
   "source": [
    "t.constructs('radiation_wavelength')\n",
    "{}"
   ]
  },
  {
   "cell_type": "markdown",
   "metadata": {},
   "source": [
    "----"
   ]
  },
  {
   "cell_type": "markdown",
   "metadata": {},
   "source": [
    "### Accessing an individual metadata construct\n",
    "[**Back to top**](#cfdm-tutorial-notebook)  \n",
    "[**Go to tutorial**](https://ncas-cms.github.io/cfdm/tutorial.html#accessing-an-individual-metadata-construct)"
   ]
  },
  {
   "cell_type": "code",
   "execution_count": null,
   "metadata": {
    "collapsed": true
   },
   "outputs": [],
   "source": [
    "t.has_construct('latitude')"
   ]
  },
  {
   "cell_type": "code",
   "execution_count": null,
   "metadata": {
    "collapsed": true
   },
   "outputs": [],
   "source": [
    "t.get_construct('latitude')"
   ]
  },
  {
   "cell_type": "markdown",
   "metadata": {},
   "source": [
    "----"
   ]
  },
  {
   "cell_type": "code",
   "execution_count": null,
   "metadata": {
    "collapsed": true
   },
   "outputs": [],
   "source": [
    "c = t.get_construct('units:km2')\n",
    "c"
   ]
  },
  {
   "cell_type": "code",
   "execution_count": null,
   "metadata": {
    "collapsed": true
   },
   "outputs": [],
   "source": [
    "c.name()"
   ]
  },
  {
   "cell_type": "code",
   "execution_count": null,
   "metadata": {
    "collapsed": true
   },
   "outputs": [],
   "source": [
    "t.get_construct('measure%area')"
   ]
  },
  {
   "cell_type": "markdown",
   "metadata": {},
   "source": [
    "----"
   ]
  },
  {
   "cell_type": "code",
   "execution_count": null,
   "metadata": {
    "collapsed": true
   },
   "outputs": [],
   "source": [
    "try:\n",
    "    t.get_construct(measure='volume')\n",
    "except ValueError as error:\n",
    "    print(error)"
   ]
  },
  {
   "cell_type": "code",
   "execution_count": null,
   "metadata": {
    "collapsed": true
   },
   "outputs": [],
   "source": [
    "t.constructs('units:degrees')"
   ]
  },
  {
   "cell_type": "code",
   "execution_count": null,
   "metadata": {
    "collapsed": true
   },
   "outputs": [],
   "source": [
    "print(t.get_construct('units:degrees', default=None))"
   ]
  },
  {
   "cell_type": "code",
   "execution_count": null,
   "metadata": {
    "collapsed": true
   },
   "outputs": [],
   "source": [
    "t.has_construct('units:degrees')"
   ]
  },
  {
   "cell_type": "markdown",
   "metadata": {},
   "source": [
    "----"
   ]
  },
  {
   "cell_type": "code",
   "execution_count": null,
   "metadata": {
    "collapsed": true
   },
   "outputs": [],
   "source": [
    "t.get_construct_key('latitude')"
   ]
  },
  {
   "cell_type": "markdown",
   "metadata": {},
   "source": [
    "----"
   ]
  },
  {
   "cell_type": "markdown",
   "metadata": {},
   "source": [
    "----"
   ]
  },
  {
   "cell_type": "markdown",
   "metadata": {
    "heading_collapsed": true,
    "hidden": true
   },
   "source": [
    "###  Metadata construct properties\n",
    "[**Back to top**](#cfdm-tutorial-notebook)  \n",
    "[**Go to tutorial**](https://ncas-cms.github.io/cfdm/tutorial.html#metadata-construct-properties)"
   ]
  },
  {
   "cell_type": "code",
   "execution_count": null,
   "metadata": {
    "collapsed": true,
    "hidden": true
   },
   "outputs": [],
   "source": [
    "lon = q.get_construct('longitude')   \n",
    "lon"
   ]
  },
  {
   "cell_type": "code",
   "execution_count": null,
   "metadata": {
    "collapsed": true,
    "hidden": true
   },
   "outputs": [],
   "source": [
    "lon.set_property('long_name', 'Longitude')\n",
    "lon.properties()"
   ]
  },
  {
   "cell_type": "markdown",
   "metadata": {},
   "source": [
    "----"
   ]
  },
  {
   "cell_type": "markdown",
   "metadata": {},
   "source": [
    "###  Metadata construct data\n",
    "[**Back to top**](#cfdm-tutorial-notebook)  \n",
    "[**Go to tutorial**](https://ncas-cms.github.io/cfdm/tutorial.html#metadata-construct-data)"
   ]
  },
  {
   "cell_type": "code",
   "execution_count": null,
   "metadata": {
    "collapsed": true
   },
   "outputs": [],
   "source": [
    "lon = q.get_construct('longitude')\n",
    "lon"
   ]
  },
  {
   "cell_type": "code",
   "execution_count": null,
   "metadata": {
    "collapsed": true
   },
   "outputs": [],
   "source": [
    "lon.get_data()"
   ]
  },
  {
   "cell_type": "code",
   "execution_count": null,
   "metadata": {
    "collapsed": true
   },
   "outputs": [],
   "source": [
    "lon.data[2] = 133.33\n",
    "print(lon.get_array())"
   ]
  },
  {
   "cell_type": "markdown",
   "metadata": {},
   "source": [
    "----"
   ]
  },
  {
   "cell_type": "code",
   "execution_count": null,
   "metadata": {
    "collapsed": true
   },
   "outputs": [],
   "source": [
    "t.constructs_data_axes()"
   ]
  },
  {
   "cell_type": "markdown",
   "metadata": {},
   "source": [
    "----"
   ]
  },
  {
   "cell_type": "markdown",
   "metadata": {
    "heading_collapsed": true,
    "hidden": true
   },
   "source": [
    "## Domain\n",
    "[**Back to top**](#cfdm-tutorial-notebook)  \n",
    "[**Go to tutorial**](https://ncas-cms.github.io/cfdm/tutorial.html#domain)"
   ]
  },
  {
   "cell_type": "code",
   "execution_count": null,
   "metadata": {
    "collapsed": true
   },
   "outputs": [],
   "source": [
    "domain = t.get_domain()\n",
    "domain"
   ]
  },
  {
   "cell_type": "code",
   "execution_count": null,
   "metadata": {
    "collapsed": true
   },
   "outputs": [],
   "source": [
    "print(domain)"
   ]
  },
  {
   "cell_type": "code",
   "execution_count": null,
   "metadata": {
    "collapsed": true
   },
   "outputs": [],
   "source": [
    "description = domain.dump()"
   ]
  },
  {
   "cell_type": "markdown",
   "metadata": {},
   "source": [
    "----"
   ]
  },
  {
   "cell_type": "code",
   "execution_count": null,
   "metadata": {
    "collapsed": true
   },
   "outputs": [],
   "source": [
    "domain = t.domain\n",
    "domain.get_construct('latitude').set_property('test', 'set by domain')"
   ]
  },
  {
   "cell_type": "code",
   "execution_count": null,
   "metadata": {
    "collapsed": true
   },
   "outputs": [],
   "source": [
    "t.get_construct('latitude').get_property('test')"
   ]
  },
  {
   "cell_type": "code",
   "execution_count": null,
   "metadata": {
    "collapsed": true
   },
   "outputs": [],
   "source": [
    "t.get_construct('latitude').set_property('test', 'set by field')\n",
    "domain.get_construct('latitude').get_property('test')"
   ]
  },
  {
   "cell_type": "code",
   "execution_count": null,
   "metadata": {
    "collapsed": true
   },
   "outputs": [],
   "source": [
    "domain.get_construct('latitude').del_property('test')"
   ]
  },
  {
   "cell_type": "code",
   "execution_count": null,
   "metadata": {
    "collapsed": true
   },
   "outputs": [],
   "source": [
    "t.get_construct('latitude').has_property('test')"
   ]
  },
  {
   "cell_type": "markdown",
   "metadata": {},
   "source": [
    "----"
   ]
  },
  {
   "cell_type": "markdown",
   "metadata": {},
   "source": [
    "## Domain axes\n",
    "[**Back to top**](#cfdm-tutorial-notebook)  \n",
    "[**Go to tutorial**](https://ncas-cms.github.io/cfdm/tutorial.html#domain-axes)"
   ]
  },
  {
   "cell_type": "code",
   "execution_count": null,
   "metadata": {
    "collapsed": true
   },
   "outputs": [],
   "source": [
    "q.domain_axes()"
   ]
  },
  {
   "cell_type": "code",
   "execution_count": null,
   "metadata": {
    "collapsed": true
   },
   "outputs": [],
   "source": [
    "d = q.get_construct(key='domainaxis1')\n",
    "d.get_size()"
   ]
  },
  {
   "cell_type": "markdown",
   "metadata": {},
   "source": [
    "----"
   ]
  },
  {
   "cell_type": "markdown",
   "metadata": {
    "hidden": true
   },
   "source": [
    "## Coordinates\n",
    "[**Back to top**](#cfdm-tutorial-notebook)  \n",
    "[**Go to tutorial**](https://ncas-cms.github.io/cfdm/tutorial.html#coordinates)"
   ]
  },
  {
   "cell_type": "code",
   "execution_count": null,
   "metadata": {
    "collapsed": true,
    "hidden": true
   },
   "outputs": [],
   "source": [
    "t.coordinates()"
   ]
  },
  {
   "cell_type": "markdown",
   "metadata": {},
   "source": [
    "----"
   ]
  },
  {
   "cell_type": "code",
   "execution_count": null,
   "metadata": {
    "collapsed": true,
    "hidden": true
   },
   "outputs": [],
   "source": [
    "lon = t.get_construct('grid_longitude')\n",
    "bounds = lon.get_bounds()\n",
    "bounds"
   ]
  },
  {
   "cell_type": "code",
   "execution_count": null,
   "metadata": {
    "collapsed": true
   },
   "outputs": [],
   "source": [
    "bounds.get_data()"
   ]
  },
  {
   "cell_type": "code",
   "execution_count": null,
   "metadata": {
    "collapsed": true
   },
   "outputs": [],
   "source": [
    "print(bounds.get_array())"
   ]
  },
  {
   "cell_type": "markdown",
   "metadata": {},
   "source": [
    "----"
   ]
  },
  {
   "cell_type": "code",
   "execution_count": null,
   "metadata": {
    "collapsed": true
   },
   "outputs": [],
   "source": [
    "bounds.inherited_properties()"
   ]
  },
  {
   "cell_type": "code",
   "execution_count": null,
   "metadata": {
    "collapsed": true
   },
   "outputs": [],
   "source": [
    "bounds.properties()"
   ]
  },
  {
   "cell_type": "markdown",
   "metadata": {},
   "source": [
    "----"
   ]
  },
  {
   "cell_type": "markdown",
   "metadata": {},
   "source": [
    "### Domain ancillaries\n",
    "[**Back to top**](#cfdm-tutorial-notebook)  \n",
    "[**Go to tutorial**](https://ncas-cms.github.io/cfdm/tutorial.html#domain-ancillaries)"
   ]
  },
  {
   "cell_type": "code",
   "execution_count": null,
   "metadata": {
    "collapsed": true
   },
   "outputs": [],
   "source": [
    "a = t.get_construct(key='domainancillary0')\n",
    "print(a.get_array)"
   ]
  },
  {
   "cell_type": "code",
   "execution_count": null,
   "metadata": {
    "collapsed": true
   },
   "outputs": [],
   "source": [
    "bounds = a.get_bounds()\n",
    "print(bounds.get_array())"
   ]
  },
  {
   "cell_type": "markdown",
   "metadata": {},
   "source": [
    "----"
   ]
  },
  {
   "cell_type": "markdown",
   "metadata": {},
   "source": [
    "## Coordinate systems\n",
    "[**Back to top**](#cfdm-tutorial-notebook)  \n",
    "[**Go to tutorial**](https://ncas-cms.github.io/cfdm/tutorial.html#coordinate-systems)"
   ]
  },
  {
   "cell_type": "code",
   "execution_count": null,
   "metadata": {
    "collapsed": true
   },
   "outputs": [],
   "source": [
    "crs = t.get_construct('atmosphere_hybrid_height_coordinate',\n",
    "                    construct_type='coordinate_reference')\n",
    "crs"
   ]
  },
  {
   "cell_type": "code",
   "execution_count": null,
   "metadata": {
    "collapsed": true
   },
   "outputs": [],
   "source": [
    "crs.dump()"
   ]
  },
  {
   "cell_type": "code",
   "execution_count": null,
   "metadata": {
    "collapsed": true
   },
   "outputs": [],
   "source": [
    "crs.coordinates()"
   ]
  },
  {
   "cell_type": "markdown",
   "metadata": {},
   "source": [
    "----"
   ]
  },
  {
   "cell_type": "code",
   "execution_count": null,
   "metadata": {
    "collapsed": true
   },
   "outputs": [],
   "source": [
    "crs.get_datum()"
   ]
  },
  {
   "cell_type": "code",
   "execution_count": null,
   "metadata": {
    "collapsed": true
   },
   "outputs": [],
   "source": [
    "crs.datum.parameters()"
   ]
  },
  {
   "cell_type": "markdown",
   "metadata": {},
   "source": [
    "----"
   ]
  },
  {
   "cell_type": "code",
   "execution_count": null,
   "metadata": {
    "collapsed": true
   },
   "outputs": [],
   "source": [
    "crs.get_coordinate_conversion()"
   ]
  },
  {
   "cell_type": "code",
   "execution_count": null,
   "metadata": {
    "collapsed": true
   },
   "outputs": [],
   "source": [
    "crs.coordinate_conversion.parameters()"
   ]
  },
  {
   "cell_type": "code",
   "execution_count": null,
   "metadata": {
    "collapsed": true
   },
   "outputs": [],
   "source": [
    "crs.coordinate_conversion.domain_ancillaries()"
   ]
  },
  {
   "cell_type": "markdown",
   "metadata": {},
   "source": [
    "----"
   ]
  },
  {
   "cell_type": "markdown",
   "metadata": {
    "heading_collapsed": true,
    "hidden": true
   },
   "source": [
    "## Cell methods\n",
    "[**Back to top**](#cfdm-tutorial-notebook)  \n",
    "[**Go to tutorial**](https://ncas-cms.github.io/cfdm/tutorial.html#cell-methods)"
   ]
  },
  {
   "cell_type": "code",
   "execution_count": null,
   "metadata": {
    "collapsed": true
   },
   "outputs": [],
   "source": [
    "t.cell_methods()"
   ]
  },
  {
   "cell_type": "markdown",
   "metadata": {},
   "source": [
    "----"
   ]
  },
  {
   "cell_type": "code",
   "execution_count": null,
   "metadata": {
    "collapsed": true
   },
   "outputs": [],
   "source": [
    "cm = t.get_construct(key='cellmethod0')\n",
    "cm"
   ]
  },
  {
   "cell_type": "code",
   "execution_count": null,
   "metadata": {
    "collapsed": true
   },
   "outputs": [],
   "source": [
    "cm.get_axes()"
   ]
  },
  {
   "cell_type": "code",
   "execution_count": null,
   "metadata": {
    "collapsed": true
   },
   "outputs": [],
   "source": [
    "cm.get_method()"
   ]
  },
  {
   "cell_type": "code",
   "execution_count": null,
   "metadata": {
    "collapsed": true
   },
   "outputs": [],
   "source": [
    "cm.properties()"
   ]
  },
  {
   "cell_type": "code",
   "execution_count": null,
   "metadata": {
    "collapsed": true
   },
   "outputs": [],
   "source": [
    "cm.get_property('where')"
   ]
  },
  {
   "cell_type": "markdown",
   "metadata": {
    "hidden": true
   },
   "source": [
    "---"
   ]
  },
  {
   "cell_type": "markdown",
   "metadata": {},
   "source": [
    "## Field construct creation\n",
    "[**Back to top**](#cfdm-tutorial-notebook)  \n",
    "[**Go to tutorial**](https://ncas-cms.github.io/cfdm/tutorial.html#field-construct-creation)"
   ]
  },
  {
   "cell_type": "markdown",
   "metadata": {},
   "source": [
    "### Manual creation\n",
    "[**Back to top**](#cfdm-tutorial-notebook)  \n",
    "[**Go to tutorial**](https://ncas-cms.github.io/cfdm/tutorial.html#manual-creation)"
   ]
  },
  {
   "cell_type": "code",
   "execution_count": null,
   "metadata": {
    "collapsed": true
   },
   "outputs": [],
   "source": [
    "p = cfdm.Field(properties={'standard_name': 'precipitation_flux'})\n",
    "p"
   ]
  },
  {
   "cell_type": "code",
   "execution_count": null,
   "metadata": {
    "collapsed": true
   },
   "outputs": [],
   "source": [
    "dc = cfdm.DimensionCoordinate(properties={'long_name': 'Longitude'},\n",
    "                              data=cfdm.Data([0, 1, 2.]))\n",
    "dc"
   ]
  },
  {
   "cell_type": "code",
   "execution_count": null,
   "metadata": {
    "collapsed": true
   },
   "outputs": [],
   "source": [
    "fa = cfdm.FieldAncillary(\n",
    "           properties={'standard_name': 'precipitation_flux status_flag'},\n",
    "           data=cfdm.Data(numpy.array([0, 0, 2], dtype='int8')))\n",
    "fa"
   ]
  },
  {
   "cell_type": "markdown",
   "metadata": {},
   "source": [
    "---"
   ]
  },
  {
   "cell_type": "code",
   "execution_count": null,
   "metadata": {
    "collapsed": true
   },
   "outputs": [],
   "source": [
    "p = cfdm.Field()\n",
    "p"
   ]
  },
  {
   "cell_type": "code",
   "execution_count": null,
   "metadata": {
    "collapsed": true
   },
   "outputs": [],
   "source": [
    "p.set_property('standard_name', 'precipitation_flux')\n",
    "p"
   ]
  },
  {
   "cell_type": "code",
   "execution_count": null,
   "metadata": {
    "collapsed": true
   },
   "outputs": [],
   "source": [
    "dc = cfdm.DimensionCoordinate()\n",
    "dc"
   ]
  },
  {
   "cell_type": "code",
   "execution_count": null,
   "metadata": {
    "collapsed": true
   },
   "outputs": [],
   "source": [
    "dc.set_property('long_name', 'Longitude')\n",
    "dc.set_data(cfdm.Data([1, 2, 3.]))\n",
    "dc"
   ]
  },
  {
   "cell_type": "code",
   "execution_count": null,
   "metadata": {
    "collapsed": true
   },
   "outputs": [],
   "source": [
    "fa = cfdm.FieldAncillary(\n",
    "           data=cfdm.Data(numpy.array([0, 0, 2], dtype='int8')))\n",
    "fa"
   ]
  },
  {
   "cell_type": "code",
   "execution_count": null,
   "metadata": {
    "collapsed": true
   },
   "outputs": [],
   "source": [
    "fa.set_property('standard_name', 'precipitation_flux status_flag')\n",
    "fa"
   ]
  },
  {
   "cell_type": "markdown",
   "metadata": {},
   "source": [
    "---"
   ]
  },
  {
   "cell_type": "code",
   "execution_count": null,
   "metadata": {
    "collapsed": true
   },
   "outputs": [],
   "source": [
    "longitude_axis = p.set_construct(cfdm.DomainAxis(3))\n",
    "longitude_axis"
   ]
  },
  {
   "cell_type": "code",
   "execution_count": null,
   "metadata": {
    "collapsed": true
   },
   "outputs": [],
   "source": [
    "key = p.set_construct(dc, axes=[longitude_axis])\n",
    "key"
   ]
  },
  {
   "cell_type": "code",
   "execution_count": null,
   "metadata": {
    "collapsed": true
   },
   "outputs": [],
   "source": [
    "cm = cfdm.CellMethod(axes=[longitude_axis],\n",
    "                     properties={'method': 'minimum'})\n",
    "p.set_construct(cm)"
   ]
  },
  {
   "cell_type": "markdown",
   "metadata": {},
   "source": [
    "---"
   ]
  },
  {
   "cell_type": "code",
   "execution_count": null,
   "metadata": {
    "collapsed": true
   },
   "outputs": [],
   "source": [
    "import numpy\n",
    "import cfdm\n",
    "\n",
    "# Initialise the field construct with properties\n",
    "Q = cfdm.Field(properties={'project': 'research',\n",
    "                           'standard_name': 'specific_humidity',\n",
    "                           'units': '1'})\n",
    "\n",
    "# Create the domain axis constructs\n",
    "domain_axisT = cfdm.DomainAxis(1)\n",
    "domain_axisY = cfdm.DomainAxis(5)\n",
    "domain_axisX = cfdm.DomainAxis(8)\n",
    "\n",
    "# Insert the domain axis constructs into the field. The\n",
    "# set_construct method returns the domain axis construct key that\n",
    "# will be used later to specify which domain axis corresponds to\n",
    "# which dimension coordinate construct.\n",
    "axisT = Q.set_construct(domain_axisT)\n",
    "axisY = Q.set_construct(domain_axisY)\n",
    "axisX = Q.set_construct(domain_axisX)\n",
    "\n",
    "# Create and insert the field construct data\n",
    "data = cfdm.Data(numpy.arange(40.).reshape(5, 8))\n",
    "Q.set_data(data, axes=[axisY, axisX])\n",
    "\n",
    "# Create the cell method constructs\n",
    "cell_method1 = cfdm.CellMethod(axes='area', method='mean')\n",
    "\n",
    "cell_method2 = cfdm.CellMethod()\n",
    "cell_method2.set_axes(axisT)\n",
    "cell_method2.set_method('maximum')\n",
    "\n",
    "# Insert the cell method constructs into the field in the same\n",
    "# order that their methods were applied to the data\n",
    "Q.set_construct(cell_method1)\n",
    "Q.set_construct(cell_method2)\n",
    "\n",
    "# Create a \"time\" dimension coordinate construct, with coordinate\n",
    "# bounds\n",
    "dimT = cfdm.DimensionCoordinate(\n",
    "                            properties={'standard_name': 'time',\n",
    "                                        'units': 'days since 2018-12-01'},\n",
    "                            data=cfdm.Data([15.5]),\n",
    "                            bounds=cfdm.Bounds(data=cfdm.Data([[0,31.]])))\n",
    "\n",
    "# Create a \"longitude\" dimension coordinate construct, without\n",
    "# coordinate bounds\n",
    "dimX = cfdm.DimensionCoordinate(data=cfdm.Data(numpy.arange(8.)))\n",
    "dimX.properties({'standard_name': 'longitude',\n",
    "                 'units': 'degrees_east'})\n",
    "\n",
    "# Create a \"longitude\" dimension coordinate construct\n",
    "dimY = cfdm.DimensionCoordinate(properties={'standard_name': 'latitude',\n",
    "                                            'units': 'degrees_north'})\n",
    "array = numpy.arange(5.)\n",
    "dimY.set_data(cfdm.Data(array))\n",
    "\n",
    "# Create and insert the latitude coordinate bounds\n",
    "bounds_array = numpy.empty((5, 2))\n",
    "bounds_array[:, 0] = array - 0.5\n",
    "bounds_array[:, 1] = array + 0.5\n",
    "bounds = cfdm.Bounds(data=cfdm.Data(bounds_array))\n",
    "dimY.set_bounds(bounds)\n",
    "\n",
    "# Insert the dimension coordinate constructs into the field,\n",
    "# specifying to # which domain axis each one corresponds\n",
    "Q.set_construct(dimT, axes=axisT)\n",
    "Q.set_construct(dimY, axes=axisY)\n",
    "Q.set_construct(dimX, axes=axisX)"
   ]
  },
  {
   "cell_type": "markdown",
   "metadata": {},
   "source": [
    "---"
   ]
  },
  {
   "cell_type": "code",
   "execution_count": null,
   "metadata": {
    "collapsed": true
   },
   "outputs": [],
   "source": [
    "Q.dump()"
   ]
  },
  {
   "cell_type": "markdown",
   "metadata": {},
   "source": [
    "----"
   ]
  },
  {
   "cell_type": "code",
   "execution_count": null,
   "metadata": {
    "collapsed": true
   },
   "outputs": [],
   "source": [
    "Q.nc_set_variable('q')\n",
    "\n",
    "domain_axisT.nc_set_dimension('time')\n",
    "domain_axisY.nc_set_dimension('lat')\n",
    "domain_axisX.nc_set_dimension('lon')\n",
    "\n",
    "dimT.nc_set_variable('time')\n",
    "dimY.nc_set_variable('lat')\n",
    "dimX.nc_set_variable('lon')"
   ]
  },
  {
   "cell_type": "markdown",
   "metadata": {},
   "source": [
    "----"
   ]
  },
  {
   "cell_type": "code",
   "execution_count": null,
   "metadata": {
    "collapsed": true
   },
   "outputs": [],
   "source": [
    "import numpy\n",
    "import cfdm\n",
    "\n",
    "# Initialize the field construct\n",
    "tas = cfdm.Field(\n",
    "    properties={'project': 'research',\n",
    "                'standard_name': 'air_temperature',\n",
    "                'units': 'K'})\n",
    "\n",
    "# Create and set domain axis constructs\n",
    "axis_T = tas.set_construct(cfdm.DomainAxis(1))\n",
    "axis_Z = tas.set_construct(cfdm.DomainAxis(1))\n",
    "axis_Y = tas.set_construct(cfdm.DomainAxis(10))\n",
    "axis_X = tas.set_construct(cfdm.DomainAxis(9))\n",
    "\n",
    "# Set the field construct data\n",
    "tas.set_data(cfdm.Data(numpy.arange(90.).reshape(10, 9)),\n",
    "             axes=[axis_Y, axis_X])\n",
    "\n",
    "# Create and set the cell method constructs\n",
    "cell_method1 = cfdm.CellMethod(\n",
    "          axes=[axis_Y, axis_X],\n",
    "          method='mean',\n",
    "          properties={'where': 'land',\n",
    "                      'interval': [cfdm.Data(0.1, units='degrees')]})\n",
    "\n",
    "cell_method2 = cfdm.CellMethod(axes=axis_T, method='maximum')\n",
    "\n",
    "tas.set_construct(cell_method1)\n",
    "tas.set_construct(cell_method2)\n",
    "\n",
    "# Create and set the field ancillary constructs\n",
    "field_ancillary = cfdm.FieldAncillary(\n",
    "             properties={'standard_name': 'air_temperature standard_error',\n",
    "                          'units': 'K'},\n",
    "             data=cfdm.Data(numpy.arange(90.).reshape(10, 9)))\n",
    "\n",
    "tas.set_construct(field_ancillary, axes=[axis_Y, axis_X])\n",
    "\n",
    "# Create and set the dimension coordinate constructs\n",
    "dimension_coordinate_T = cfdm.DimensionCoordinate(\n",
    "                           properties={'standard_name': 'time',\n",
    "                                       'units': 'days since 2018-12-01'},\n",
    "                           data=cfdm.Data([15.5]),\n",
    "                           bounds=cfdm.Bounds(data=cfdm.Data([[0., 31]])))\n",
    "\n",
    "dimension_coordinate_Z = cfdm.DimensionCoordinate(\n",
    "        properties={'computed_standard_name': 'altitude',\n",
    "                    'standard_name': 'atmosphere_hybrid_height_coordinate'},\n",
    "        data = cfdm.Data([1.5]),\n",
    "        bounds=cfdm.Bounds(data=cfdm.Data([[1.0, 2.0]])))\n",
    "\n",
    "dimension_coordinate_Y = cfdm.DimensionCoordinate(\n",
    "        properties={'standard_name': 'grid_latitude',\n",
    "                    'units': 'degrees'},\n",
    "        data=cfdm.Data(numpy.arange(10.)),\n",
    "        bounds=cfdm.Bounds(data=cfdm.Data(numpy.arange(20).reshape(10, 2))))\n",
    "\n",
    "dimension_coordinate_X = cfdm.DimensionCoordinate(\n",
    "        properties={'standard_name': 'grid_longitude',\n",
    "                    'units': 'degrees'},\n",
    "    data=cfdm.Data(numpy.arange(9.)),\n",
    "    bounds=cfdm.Bounds(data=cfdm.Data(numpy.arange(18).reshape(9, 2))))\n",
    "\n",
    "dim_T = tas.set_construct(dimension_coordinate_T, axes=axis_T)\n",
    "dim_Z = tas.set_construct(dimension_coordinate_Z, axes=axis_Z)\n",
    "dim_Y = tas.set_construct(dimension_coordinate_Y, axes=axis_Y)\n",
    "dim_X = tas.set_construct(dimension_coordinate_X, axes=axis_X)\n",
    "\n",
    "# Create and set the auxiliary coordinate constructs\n",
    "auxiliary_coordinate_lat = cfdm.AuxiliaryCoordinate(\n",
    "                      properties={'standard_name': 'latitude',\n",
    "                                  'units': 'degrees_north'},\n",
    "                      data=cfdm.Data(numpy.arange(90.).reshape(10, 9)))\n",
    "\n",
    "auxiliary_coordinate_lon = cfdm.AuxiliaryCoordinate(\n",
    "                  properties={'standard_name': 'longitude',\n",
    "                              'units': 'degrees_east'},\n",
    "                  data=cfdm.Data(numpy.arange(90.).reshape(9, 10)))\n",
    "\n",
    "array = numpy.ma.array(list('abcdefghij'))\n",
    "array[0] = numpy.ma.masked\n",
    "auxiliary_coordinate_name = cfdm.AuxiliaryCoordinate(\n",
    "                       properties={'long_name': 'Grid latitude name'},\n",
    "                       data=cfdm.Data(array))\n",
    "\n",
    "aux_LAT  = tas.set_construct(auxiliary_coordinate_lat, axes=[axis_Y, axis_X])\n",
    "aux_LON  = tas.set_construct(auxiliary_coordinate_lon, axes=[axis_X, axis_Y])\n",
    "aux_NAME = tas.set_construct(auxiliary_coordinate_name, axes=[axis_Y])\n",
    "\n",
    "# Create and set domain ancillary constructs\n",
    "domain_ancillary_a = cfdm.DomainAncillary(\n",
    "                   properties={'units': 'm'},\n",
    "                   data=cfdm.Data([10.]),\n",
    "                   bounds=cfdm.Bounds(data=cfdm.Data([[5., 15.]])))\n",
    "\n",
    "domain_ancillary_b = cfdm.DomainAncillary(\n",
    "                       properties={'units': '1'},\n",
    "                       data=cfdm.Data([20.]),\n",
    "                       bounds=cfdm.Bounds(data=cfdm.Data([[14, 26.]])))\n",
    "\n",
    "domain_ancillary_orog = cfdm.DomainAncillary(\n",
    "                          properties={'standard_name': 'surface_altitude',\n",
    "                                     'units': 'm'},\n",
    "                          data=cfdm.Data(numpy.arange(90.).reshape(10, 9)))\n",
    "\n",
    "domain_anc_A    = tas.set_construct(domain_ancillary_a, axes=axis_Z)\n",
    "domain_anc_B    = tas.set_construct(domain_ancillary_b, axes=axis_Z)\n",
    "domain_anc_OROG = tas.set_construct(domain_ancillary_orog,\n",
    "                                    axes=[axis_Y, axis_X])\n",
    "\n",
    "# Create the datum for the coordinate reference constructs\n",
    "datum = cfdm.Datum(parameters={'earth_radius': 6371007.})\n",
    "\n",
    "# Create the coordinate conversion for the horizontal coordinate\n",
    "# reference construct\n",
    "coordinate_conversion_h = cfdm.CoordinateConversion(\n",
    "              parameters={'grid_mapping_name': 'rotated_latitude_longitude',\n",
    "                          'grid_north_pole_latitude': 38.0,\n",
    "                          'grid_north_pole_longitude': 190.0})\n",
    "\n",
    "# Create the coordinate conversion for the vertical coordinate\n",
    "# reference construct\n",
    "coordinate_conversion_v = cfdm.CoordinateConversion(\n",
    "         parameters={'standard_name': 'atmosphere_hybrid_height_coordinate',\n",
    "                     'computed_standard_name': 'altitude'},\n",
    "         domain_ancillaries={'a': domain_anc_A,\n",
    "                             'b': domain_anc_B,\n",
    "                             'orog': domain_anc_OROG})\n",
    "\n",
    "# Create the vertical coordinate reference construct\n",
    "horizontal_crs = cfdm.CoordinateReference(\n",
    "                   datum=datum,\n",
    "                   coordinate_conversion=coordinate_conversion_h,\n",
    "                   coordinates=[dim_X,\n",
    "                                dim_Y,\n",
    "                                aux_LAT,\n",
    "                                aux_LON])\n",
    "\n",
    "# Create the vertical coordinate reference construct\n",
    "vertical_crs = cfdm.CoordinateReference(\n",
    "                 datum=datum,\n",
    "                 coordinate_conversion=coordinate_conversion_v,\n",
    "                 coordinates=[dim_Z])\n",
    "\n",
    "# Set the coordinate reference constructs\n",
    "tas.set_construct(horizontal_crs)\n",
    "tas.set_construct(vertical_crs)\n",
    "\n",
    "# Create and set the cell measure constructs\n",
    "cell_measure = cfdm.CellMeasure(measure='area',\n",
    "                 properties={'units': 'km2'},\n",
    "                 data=cfdm.Data(numpy.arange(90.).reshape(9, 10)))\n",
    "\n",
    "tas.set_construct(cell_measure, axes=[axis_X, axis_Y])"
   ]
  },
  {
   "cell_type": "markdown",
   "metadata": {},
   "source": [
    "----"
   ]
  },
  {
   "cell_type": "code",
   "execution_count": null,
   "metadata": {
    "collapsed": true
   },
   "outputs": [],
   "source": [
    "print(tas)"
   ]
  },
  {
   "cell_type": "markdown",
   "metadata": {},
   "source": [
    "---"
   ]
  },
  {
   "cell_type": "markdown",
   "metadata": {},
   "source": [
    "### Creating data from an array on disk\n",
    "[**Back to top**](#cfdm-tutorial-notebook)  \n",
    "[**Go to tutorial**](https://ncas-cms.github.io/cfdm/tutorial.html#creating-data-from-an-array-on-disk)"
   ]
  },
  {
   "cell_type": "code",
   "execution_count": null,
   "metadata": {
    "collapsed": true
   },
   "outputs": [],
   "source": [
    "import netCDF4\n",
    "nc = netCDF4.Dataset('file.nc', 'r')\n",
    "v = nc.variables['ta']"
   ]
  },
  {
   "cell_type": "code",
   "execution_count": null,
   "metadata": {
    "collapsed": true
   },
   "outputs": [],
   "source": [
    "netcdf_array = cfdm.NetCDFArray(filename='file.nc', ncvar='ta',\n",
    "                                dtype=v.dtype, ndim=v.ndim,\n",
    "                                shape=v.shape, size=v.size)\n",
    "data_disk = cfdm.Data(netcdf_array)"
   ]
  },
  {
   "cell_type": "markdown",
   "metadata": {},
   "source": [
    "----"
   ]
  },
  {
   "cell_type": "code",
   "execution_count": null,
   "metadata": {
    "collapsed": true
   },
   "outputs": [],
   "source": [
    "numpy_array = v[...]\n",
    "data_memory = cfdm.Data(numpy_array)\n",
    "data_disk.equals(data_memory)"
   ]
  },
  {
   "cell_type": "markdown",
   "metadata": {},
   "source": [
    "----"
   ]
  },
  {
   "cell_type": "markdown",
   "metadata": {},
   "source": [
    "### Creation by conversion\n",
    "[**Back to top**](#cfdm-tutorial-notebook)  \n",
    "[**Go to tutorial**](https://ncas-cms.github.io/cfdm/tutorial.html#creation-by-conversion)"
   ]
  },
  {
   "cell_type": "code",
   "execution_count": null,
   "metadata": {
    "collapsed": true
   },
   "outputs": [],
   "source": [
    "orog = tas.convert('surface_altitude')\n",
    "print(orog)"
   ]
  },
  {
   "cell_type": "code",
   "execution_count": null,
   "metadata": {
    "collapsed": true
   },
   "outputs": [],
   "source": [
    "orog1 = tas.convert('surface_altitude', full_domain=False)\n",
    "print(orog1)"
   ]
  },
  {
   "cell_type": "markdown",
   "metadata": {},
   "source": [
    "---"
   ]
  },
  {
   "cell_type": "markdown",
   "metadata": {},
   "source": [
    "### Creation by reading\n",
    "[**Back to top**](#cfdm-tutorial-notebook)  \n",
    "[**Go to tutorial**](https://ncas-cms.github.io/cfdm/tutorial.html#creation-by-reading)"
   ]
  },
  {
   "cell_type": "code",
   "execution_count": null,
   "metadata": {
    "collapsed": true
   },
   "outputs": [],
   "source": [
    "cfdm.write(tas, 'tas.nc')\n",
    "f = cfdm.read('tas.nc')\n",
    "f"
   ]
  },
  {
   "cell_type": "markdown",
   "metadata": {},
   "source": [
    "----"
   ]
  },
  {
   "cell_type": "code",
   "execution_count": null,
   "metadata": {
    "collapsed": true
   },
   "outputs": [],
   "source": [
    "fields = cfdm.read('tas.nc', extra='domain_ancillary')\n",
    "fields"
   ]
  },
  {
   "cell_type": "code",
   "execution_count": null,
   "metadata": {
    "collapsed": true
   },
   "outputs": [],
   "source": [
    "fields = cfdm.read('tas.nc', extra='domain_ancillary')\n",
    "orog_from_file = fields[3]"
   ]
  },
  {
   "cell_type": "code",
   "execution_count": null,
   "metadata": {
    "collapsed": true
   },
   "outputs": [],
   "source": [
    "print(orog_from_file)"
   ]
  },
  {
   "cell_type": "markdown",
   "metadata": {},
   "source": [
    "----"
   ]
  },
  {
   "cell_type": "markdown",
   "metadata": {},
   "source": [
    "## Copying\n",
    "[**Back to top**](#cfdm-tutorial-notebook)  \n",
    "[**Go to tutorial**](https://ncas-cms.github.io/cfdm/tutorial.html#copying)"
   ]
  },
  {
   "cell_type": "code",
   "execution_count": null,
   "metadata": {
    "collapsed": true
   },
   "outputs": [],
   "source": [
    "u = t.copy()\n",
    "u.data[0, 0, 0] = -1e30\n",
    "print(u.data[0, 0, 0])"
   ]
  },
  {
   "cell_type": "code",
   "execution_count": null,
   "metadata": {
    "collapsed": true
   },
   "outputs": [],
   "source": [
    "print(t.data[0, 0, 0])"
   ]
  },
  {
   "cell_type": "code",
   "execution_count": null,
   "metadata": {
    "collapsed": true
   },
   "outputs": [],
   "source": [
    "u.del_construct('grid_latitude')"
   ]
  },
  {
   "cell_type": "code",
   "execution_count": null,
   "metadata": {
    "collapsed": true
   },
   "outputs": [],
   "source": [
    "u.constructs('grid_latitude')\n"
   ]
  },
  {
   "cell_type": "code",
   "execution_count": null,
   "metadata": {
    "collapsed": true
   },
   "outputs": [],
   "source": [
    "t.constructs('grid_latitude')"
   ]
  },
  {
   "cell_type": "markdown",
   "metadata": {},
   "source": [
    "----"
   ]
  },
  {
   "cell_type": "code",
   "execution_count": null,
   "metadata": {
    "collapsed": true
   },
   "outputs": [],
   "source": [
    "import copy\n",
    "u = copy.deepcopy(t)"
   ]
  },
  {
   "cell_type": "markdown",
   "metadata": {},
   "source": [
    "----"
   ]
  },
  {
   "cell_type": "code",
   "execution_count": null,
   "metadata": {
    "collapsed": true
   },
   "outputs": [],
   "source": [
    "orog = t.get_construct('surface_altitude').copy()"
   ]
  },
  {
   "cell_type": "markdown",
   "metadata": {},
   "source": [
    "----"
   ]
  },
  {
   "cell_type": "markdown",
   "metadata": {},
   "source": [
    "## Equality\n",
    "[**Back to top**](#cfdm-tutorial-notebook)  \n",
    "[**Go to tutorial**](https://ncas-cms.github.io/cfdm/tutorial.html#equality)"
   ]
  },
  {
   "cell_type": "code",
   "execution_count": null,
   "metadata": {
    "collapsed": true
   },
   "outputs": [],
   "source": [
    "t.equals(t)"
   ]
  },
  {
   "cell_type": "code",
   "execution_count": null,
   "metadata": {
    "collapsed": true
   },
   "outputs": [],
   "source": [
    "t.equals(t.copy())"
   ]
  },
  {
   "cell_type": "code",
   "execution_count": null,
   "metadata": {
    "collapsed": true
   },
   "outputs": [],
   "source": [
    "t.equals(t[...])"
   ]
  },
  {
   "cell_type": "code",
   "execution_count": null,
   "metadata": {
    "collapsed": true
   },
   "outputs": [],
   "source": [
    "t.equals(q)"
   ]
  },
  {
   "cell_type": "code",
   "execution_count": null,
   "metadata": {
    "collapsed": true
   },
   "outputs": [],
   "source": [
    "t.equals(q, verbose=True)"
   ]
  },
  {
   "cell_type": "markdown",
   "metadata": {},
   "source": [
    "----"
   ]
  },
  {
   "cell_type": "code",
   "execution_count": null,
   "metadata": {
    "collapsed": true
   },
   "outputs": [],
   "source": [
    "cfdm.ATOL()"
   ]
  },
  {
   "cell_type": "code",
   "execution_count": null,
   "metadata": {
    "collapsed": true
   },
   "outputs": [],
   "source": [
    "cfdm.RTOL()"
   ]
  },
  {
   "cell_type": "code",
   "execution_count": null,
   "metadata": {
    "collapsed": true
   },
   "outputs": [],
   "source": [
    "original = cfdm.RTOL(0.00001)\n",
    "cfdm.RTOL()"
   ]
  },
  {
   "cell_type": "code",
   "execution_count": null,
   "metadata": {
    "collapsed": true
   },
   "outputs": [],
   "source": [
    "cfdm.RTOL(original)"
   ]
  },
  {
   "cell_type": "code",
   "execution_count": null,
   "metadata": {
    "collapsed": true
   },
   "outputs": [],
   "source": [
    "cfdm.RTOL()"
   ]
  },
  {
   "cell_type": "markdown",
   "metadata": {},
   "source": [
    "----"
   ]
  },
  {
   "cell_type": "code",
   "execution_count": null,
   "metadata": {
    "collapsed": true
   },
   "outputs": [],
   "source": [
    "orog = t.get_construct('surface_altitude')\n",
    "orog.equals(orog.copy())"
   ]
  },
  {
   "cell_type": "markdown",
   "metadata": {},
   "source": [
    "----"
   ]
  },
  {
   "cell_type": "markdown",
   "metadata": {
    "heading_collapsed": true
   },
   "source": [
    "## NetCDF interface\n",
    "[**Back to top**](#cfdm-tutorial-notebook)  \n",
    "[**Go to tutorial**](https://ncas-cms.github.io/cfdm/tutorial.html#netcdf-interface)"
   ]
  },
  {
   "cell_type": "code",
   "execution_count": null,
   "metadata": {
    "collapsed": true,
    "hidden": true,
    "scrolled": false
   },
   "outputs": [],
   "source": [
    "t.constructs(ncvar='b')"
   ]
  },
  {
   "cell_type": "code",
   "execution_count": null,
   "metadata": {
    "collapsed": true,
    "hidden": true
   },
   "outputs": [],
   "source": [
    "t.get_construct('ncvar%x')"
   ]
  },
  {
   "cell_type": "code",
   "execution_count": null,
   "metadata": {
    "collapsed": true,
    "hidden": true
   },
   "outputs": [],
   "source": [
    "t.get_construct(ncdim='x')"
   ]
  },
  {
   "cell_type": "markdown",
   "metadata": {
    "hidden": true
   },
   "source": [
    "---"
   ]
  },
  {
   "cell_type": "code",
   "execution_count": null,
   "metadata": {
    "collapsed": true,
    "hidden": true
   },
   "outputs": [],
   "source": [
    "q.nc_get_variable()"
   ]
  },
  {
   "cell_type": "code",
   "execution_count": null,
   "metadata": {
    "collapsed": true,
    "hidden": true
   },
   "outputs": [],
   "source": [
    "q.nc_global_attributes()"
   ]
  },
  {
   "cell_type": "code",
   "execution_count": null,
   "metadata": {
    "collapsed": true,
    "hidden": true
   },
   "outputs": [],
   "source": [
    "q.nc_unlimited_dimensions()"
   ]
  },
  {
   "cell_type": "code",
   "execution_count": null,
   "metadata": {
    "collapsed": true,
    "hidden": true
   },
   "outputs": [],
   "source": [
    "q.nc_set_variable('humidity')\n",
    "q.nc_get_variable()"
   ]
  },
  {
   "cell_type": "code",
   "execution_count": null,
   "metadata": {
    "collapsed": true
   },
   "outputs": [],
   "source": [
    "q.get_construct('latitude').nc_get_variable()"
   ]
  },
  {
   "cell_type": "markdown",
   "metadata": {
    "hidden": true
   },
   "source": [
    "---"
   ]
  },
  {
   "cell_type": "markdown",
   "metadata": {
    "heading_collapsed": true
   },
   "source": [
    "## Writing to disk\n",
    "[**Back to top**](#cfdm-tutorial-notebook)  \n",
    "[**Go to tutorial**](https://ncas-cms.github.io/cfdm/tutorial.html#writing-to-disk)"
   ]
  },
  {
   "cell_type": "code",
   "execution_count": null,
   "metadata": {
    "collapsed": true,
    "hidden": true
   },
   "outputs": [],
   "source": [
    "print(q)"
   ]
  },
  {
   "cell_type": "code",
   "execution_count": null,
   "metadata": {
    "collapsed": true,
    "hidden": true
   },
   "outputs": [],
   "source": [
    "cfdm.write(q, 'q_file.nc')"
   ]
  },
  {
   "cell_type": "code",
   "execution_count": null,
   "metadata": {
    "collapsed": true,
    "hidden": true
   },
   "outputs": [],
   "source": [
    "!ncdump -h q_file.nc"
   ]
  },
  {
   "cell_type": "markdown",
   "metadata": {
    "hidden": true
   },
   "source": [
    "---"
   ]
  },
  {
   "cell_type": "code",
   "execution_count": null,
   "metadata": {
    "collapsed": true,
    "hidden": true
   },
   "outputs": [],
   "source": [
    "x"
   ]
  },
  {
   "cell_type": "code",
   "execution_count": null,
   "metadata": {
    "attributes": {
     "classes": [
      "sourceCode"
     ],
     "id": ""
    },
    "collapsed": true,
    "hidden": true
   },
   "outputs": [],
   "source": [
    "cfdm.write(x, 'new_file.nc')"
   ]
  },
  {
   "cell_type": "markdown",
   "metadata": {
    "heading_collapsed": true,
    "hidden": true
   },
   "source": [
    "### Scalar coordinate variables\n",
    "[**Back to top**](#cfdm-tutorial-notebook)  \n",
    "[**Go to tutorial**](https://ncas-cms.github.io/cfdm/tutorial.html#scalar-coordinate-variables)"
   ]
  },
  {
   "cell_type": "code",
   "execution_count": null,
   "metadata": {
    "collapsed": true,
    "hidden": true
   },
   "outputs": [],
   "source": [
    "print(q)"
   ]
  },
  {
   "cell_type": "code",
   "execution_count": null,
   "metadata": {
    "collapsed": true,
    "hidden": true
   },
   "outputs": [],
   "source": [
    "q.get_construct_data_axes('time')"
   ]
  },
  {
   "cell_type": "code",
   "execution_count": null,
   "metadata": {
    "collapsed": true,
    "hidden": true
   },
   "outputs": [],
   "source": [
    "q2 = q.insert_dimension(axis='domainaxis2')\n",
    "q2"
   ]
  },
  {
   "cell_type": "code",
   "execution_count": null,
   "metadata": {
    "collapsed": true,
    "hidden": true
   },
   "outputs": [],
   "source": [
    "cfdm.write(q2, 'q2_file.nc')"
   ]
  },
  {
   "cell_type": "code",
   "execution_count": null,
   "metadata": {
    "collapsed": true,
    "hidden": true
   },
   "outputs": [],
   "source": [
    "!ncdump -h q2_file.nc"
   ]
  },
  {
   "cell_type": "markdown",
   "metadata": {
    "hidden": true
   },
   "source": [
    "---"
   ]
  },
  {
   "cell_type": "markdown",
   "metadata": {
    "heading_collapsed": true
   },
   "source": [
    "## External variables\n",
    "[**Back to top**](#cfdm-tutorial-notebook)  \n",
    "[**Go to tutorial**](https://ncas-cms.github.io/cfdm/tutorial.html#external-variables)"
   ]
  },
  {
   "cell_type": "code",
   "execution_count": null,
   "metadata": {
    "collapsed": true,
    "hidden": true
   },
   "outputs": [],
   "source": [
    "!ncdump -h parent.nc"
   ]
  },
  {
   "cell_type": "code",
   "execution_count": null,
   "metadata": {
    "collapsed": true,
    "hidden": true
   },
   "outputs": [],
   "source": [
    "!ncdump -h external.nc "
   ]
  },
  {
   "cell_type": "code",
   "execution_count": null,
   "metadata": {
    "collapsed": true,
    "hidden": true
   },
   "outputs": [],
   "source": [
    "u = cfdm.read(DIRECTORY+'/parent.nc')[0]\n",
    "print(u)"
   ]
  },
  {
   "cell_type": "code",
   "execution_count": null,
   "metadata": {
    "collapsed": true,
    "hidden": true
   },
   "outputs": [],
   "source": [
    "area = u.get_construct('measure%area')\n",
    "area"
   ]
  },
  {
   "cell_type": "code",
   "execution_count": null,
   "metadata": {
    "collapsed": true,
    "hidden": true
   },
   "outputs": [],
   "source": [
    "area.nc_external()"
   ]
  },
  {
   "cell_type": "code",
   "execution_count": null,
   "metadata": {
    "collapsed": true,
    "hidden": true
   },
   "outputs": [],
   "source": [
    "area.nc_get_variable()"
   ]
  },
  {
   "cell_type": "code",
   "execution_count": null,
   "metadata": {
    "collapsed": true,
    "hidden": true
   },
   "outputs": [],
   "source": [
    "area.properties()"
   ]
  },
  {
   "cell_type": "code",
   "execution_count": null,
   "metadata": {
    "attributes": {
     "classes": [
      "sourceCode"
     ],
     "id": ""
    },
    "collapsed": true,
    "hidden": true
   },
   "outputs": [],
   "source": [
    "area.has_data()"
   ]
  },
  {
   "cell_type": "markdown",
   "metadata": {
    "hidden": true
   },
   "source": [
    "---"
   ]
  },
  {
   "cell_type": "code",
   "execution_count": null,
   "metadata": {
    "collapsed": true,
    "hidden": true
   },
   "outputs": [],
   "source": [
    "g = cfdm.read(DIRECTORY+'/parent.nc', external=DIRECTORY+'/external.nc')[0]\n",
    "print(g)"
   ]
  },
  {
   "cell_type": "code",
   "execution_count": null,
   "metadata": {
    "collapsed": true,
    "hidden": true
   },
   "outputs": [],
   "source": [
    "area = g.get_construct('cell_area')\n",
    "area"
   ]
  },
  {
   "cell_type": "code",
   "execution_count": null,
   "metadata": {
    "collapsed": true,
    "hidden": true
   },
   "outputs": [],
   "source": [
    "area.nc_external()"
   ]
  },
  {
   "cell_type": "code",
   "execution_count": null,
   "metadata": {
    "collapsed": true,
    "hidden": true
   },
   "outputs": [],
   "source": [
    "area.nc_get_variable()"
   ]
  },
  {
   "cell_type": "code",
   "execution_count": null,
   "metadata": {
    "collapsed": true,
    "hidden": true
   },
   "outputs": [],
   "source": [
    "area.properties()"
   ]
  },
  {
   "cell_type": "code",
   "execution_count": null,
   "metadata": {
    "attributes": {
     "classes": [
      "sourceCode"
     ],
     "id": ""
    },
    "collapsed": true,
    "hidden": true
   },
   "outputs": [],
   "source": [
    "area.get_data()"
   ]
  },
  {
   "cell_type": "markdown",
   "metadata": {
    "hidden": true
   },
   "source": [
    "---"
   ]
  },
  {
   "cell_type": "code",
   "execution_count": null,
   "metadata": {
    "collapsed": true,
    "hidden": true
   },
   "outputs": [],
   "source": [
    "area.nc_external(True)"
   ]
  },
  {
   "cell_type": "code",
   "execution_count": null,
   "metadata": {
    "attributes": {
     "classes": [
      "sourceCode"
     ],
     "id": ""
    },
    "collapsed": true,
    "hidden": true
   },
   "outputs": [],
   "source": [
    "cfdm.write(g, 'new_parent.nc', external='new_external.nc')"
   ]
  },
  {
   "cell_type": "markdown",
   "metadata": {
    "hidden": true
   },
   "source": [
    "---"
   ]
  },
  {
   "cell_type": "markdown",
   "metadata": {
    "heading_collapsed": true
   },
   "source": [
    "## Compression\n",
    "[**Back to top**](#cfdm-tutorial-notebook)  \n",
    "[**Go to tutorial**](https://ncas-cms.github.io/cfdm/tutorial.html#compression)"
   ]
  },
  {
   "cell_type": "markdown",
   "metadata": {
    "hidden": true
   },
   "source": [
    "---"
   ]
  },
  {
   "cell_type": "markdown",
   "metadata": {
    "heading_collapsed": true
   },
   "source": [
    "## Discrete sampling geometries\n",
    "[**Back to top**](#cfdm-tutorial-notebook)  \n",
    "[**Go to tutorial**](https://ncas-cms.github.io/cfdm/tutorial.html#discrete-sampling-geometries)"
   ]
  },
  {
   "cell_type": "code",
   "execution_count": null,
   "metadata": {
    "collapsed": true,
    "hidden": true
   },
   "outputs": [],
   "source": [
    "!ncdump -h contiguous.nc"
   ]
  },
  {
   "cell_type": "markdown",
   "metadata": {
    "hidden": true
   },
   "source": [
    "---"
   ]
  },
  {
   "cell_type": "code",
   "execution_count": null,
   "metadata": {
    "collapsed": true,
    "hidden": true
   },
   "outputs": [],
   "source": [
    "h = cfdm.read(DIRECTORY+'/contiguous.nc')[0]\n",
    "print(h)"
   ]
  },
  {
   "cell_type": "code",
   "execution_count": null,
   "metadata": {
    "collapsed": true,
    "hidden": true
   },
   "outputs": [],
   "source": [
    "print(h.get_array())"
   ]
  },
  {
   "cell_type": "markdown",
   "metadata": {},
   "source": [
    "----"
   ]
  },
  {
   "cell_type": "code",
   "execution_count": null,
   "metadata": {
    "collapsed": true,
    "hidden": true
   },
   "outputs": [],
   "source": [
    "h.data.get_compression_type()"
   ]
  },
  {
   "cell_type": "code",
   "execution_count": null,
   "metadata": {
    "collapsed": true,
    "hidden": true
   },
   "outputs": [],
   "source": [
    "print(h.data.get_compressed_array())"
   ]
  },
  {
   "cell_type": "code",
   "execution_count": null,
   "metadata": {
    "collapsed": true,
    "hidden": true
   },
   "outputs": [],
   "source": [
    "count_variable = h.data.get_count_variable()\n",
    "count_variable"
   ]
  },
  {
   "cell_type": "code",
   "execution_count": null,
   "metadata": {
    "attributes": {
     "classes": [
      "sourceCode"
     ],
     "id": ""
    },
    "collapsed": true,
    "hidden": true
   },
   "outputs": [],
   "source": [
    "print(count_variable.get_array())"
   ]
  },
  {
   "cell_type": "markdown",
   "metadata": {
    "hidden": true
   },
   "source": [
    "---"
   ]
  },
  {
   "cell_type": "code",
   "execution_count": null,
   "metadata": {
    "collapsed": true,
    "hidden": true
   },
   "outputs": [],
   "source": [
    "station2 = h[1]\n",
    "station2"
   ]
  },
  {
   "cell_type": "code",
   "execution_count": null,
   "metadata": {
    "attributes": {
     "classes": [
      "sourceCode"
     ],
     "id": ""
    },
    "collapsed": true,
    "hidden": true
   },
   "outputs": [],
   "source": [
    "print(station2.get_array())"
   ]
  },
  {
   "cell_type": "markdown",
   "metadata": {
    "hidden": true
   },
   "source": [
    "---"
   ]
  },
  {
   "cell_type": "code",
   "execution_count": null,
   "metadata": {
    "collapsed": true,
    "hidden": true
   },
   "outputs": [],
   "source": [
    "h.data.get_compression_type()"
   ]
  },
  {
   "cell_type": "code",
   "execution_count": null,
   "metadata": {
    "collapsed": true,
    "hidden": true
   },
   "outputs": [],
   "source": [
    "h.data[1, 2] = -9\n",
    "print(h.get_array())"
   ]
  },
  {
   "cell_type": "code",
   "execution_count": null,
   "metadata": {
    "collapsed": true,
    "hidden": true
   },
   "outputs": [],
   "source": [
    "h.data.get_compression_type()"
   ]
  },
  {
   "cell_type": "markdown",
   "metadata": {
    "hidden": true
   },
   "source": [
    "---"
   ]
  },
  {
   "cell_type": "code",
   "execution_count": null,
   "metadata": {
    "attributes": {
     "classes": [
      "sourceCode"
     ],
     "id": ""
    },
    "collapsed": true,
    "hidden": true
   },
   "outputs": [],
   "source": [
    "import numpy\n",
    "import cfdm\n",
    "\n",
    "# Define the ragged array values\n",
    "ragged_array = numpy.array([280, 282.5, 281, 279, 278, 279.5],\n",
    "                           dtype='float32')\n",
    "\n",
    "# Define the count array values\n",
    "count_array = [2, 4]\n",
    "\n",
    "# Create the count variable\n",
    "count_variable = cfdm.Count(data=cfdm.Data(count_array))\n",
    "count_variable.set_property('long_name', 'number of obs for this timeseries')\n",
    "\n",
    "# Create the contiguous ragged array object\n",
    "array = cfdm.RaggedContiguousArray(\n",
    "                 compressed_array=cfdm.NumpyArray(ragged_array),\n",
    "                 shape=(2, 4), size=8, ndim=2,\n",
    "                 count_variable=count_variable)\n",
    "\n",
    "# Create the field construct with the domain axes and the ragged\n",
    "# array\n",
    "T = cfdm.Field()\n",
    "T.properties({'standard_name': 'air_temperature',\n",
    "              'units': 'K',\n",
    "              'featureType': 'timeSeries'})\n",
    "\n",
    "# Create the domain axis constructs for the uncompressed array\n",
    "X = T.set_construct(cfdm.DomainAxis(4))\n",
    "Y = T.set_construct(cfdm.DomainAxis(2))\n",
    "\n",
    "# Set the data for the field\n",
    "T.set_data(cfdm.Data(array), axes=[Y, X])"
   ]
  },
  {
   "cell_type": "markdown",
   "metadata": {
    "hidden": true
   },
   "source": [
    "---"
   ]
  },
  {
   "cell_type": "code",
   "execution_count": null,
   "metadata": {
    "collapsed": true,
    "hidden": true
   },
   "outputs": [],
   "source": [
    "T"
   ]
  },
  {
   "cell_type": "code",
   "execution_count": null,
   "metadata": {
    "collapsed": true,
    "hidden": true
   },
   "outputs": [],
   "source": [
    "print(T.get_array())"
   ]
  },
  {
   "cell_type": "code",
   "execution_count": null,
   "metadata": {
    "collapsed": true,
    "hidden": true
   },
   "outputs": [],
   "source": [
    "T.data.get_compression_type()"
   ]
  },
  {
   "cell_type": "code",
   "execution_count": null,
   "metadata": {
    "collapsed": true,
    "hidden": true
   },
   "outputs": [],
   "source": [
    "print(T.data.get_compressed_array())"
   ]
  },
  {
   "cell_type": "code",
   "execution_count": null,
   "metadata": {
    "collapsed": true,
    "hidden": true
   },
   "outputs": [],
   "source": [
    "count_variable = T.data.get_count_variable()\n",
    "count_variable"
   ]
  },
  {
   "cell_type": "code",
   "execution_count": null,
   "metadata": {
    "attributes": {
     "classes": [
      "sourceCode"
     ],
     "id": ""
    },
    "collapsed": true,
    "hidden": true
   },
   "outputs": [],
   "source": [
    "print(count_variable.get_array())"
   ]
  },
  {
   "cell_type": "code",
   "execution_count": null,
   "metadata": {
    "collapsed": true,
    "hidden": true
   },
   "outputs": [],
   "source": [
    "cfdm.write(T, 'T_contiguous.nc')"
   ]
  },
  {
   "cell_type": "markdown",
   "metadata": {},
   "source": [
    "----"
   ]
  },
  {
   "cell_type": "code",
   "execution_count": null,
   "metadata": {
    "collapsed": true,
    "hidden": true
   },
   "outputs": [],
   "source": [
    "!ncdump T_contiguous.nc"
   ]
  },
  {
   "cell_type": "markdown",
   "metadata": {
    "hidden": true
   },
   "source": [
    "---"
   ]
  },
  {
   "cell_type": "markdown",
   "metadata": {
    "heading_collapsed": true
   },
   "source": [
    "## Gathering\n",
    "[**Back to top**](#cfdm-tutorial-notebook)  \n",
    "[**Go to tutorial**](https://ncas-cms.github.io/cfdm/tutorial.html#gathering)"
   ]
  },
  {
   "cell_type": "code",
   "execution_count": null,
   "metadata": {
    "collapsed": true,
    "hidden": true
   },
   "outputs": [],
   "source": [
    "p = cfdm.read(DIRECTORY+'/gathered.nc')[0]\n",
    "print(p)"
   ]
  },
  {
   "cell_type": "code",
   "execution_count": null,
   "metadata": {
    "collapsed": true,
    "hidden": true
   },
   "outputs": [],
   "source": [
    "print(p.get_array())"
   ]
  },
  {
   "cell_type": "markdown",
   "metadata": {},
   "source": [
    "----"
   ]
  },
  {
   "cell_type": "code",
   "execution_count": null,
   "metadata": {
    "collapsed": true,
    "hidden": true
   },
   "outputs": [],
   "source": [
    "p.data.get_compression_type()"
   ]
  },
  {
   "cell_type": "code",
   "execution_count": null,
   "metadata": {
    "collapsed": true,
    "hidden": true
   },
   "outputs": [],
   "source": [
    "print(p.data.get_compressed_array())"
   ]
  },
  {
   "cell_type": "code",
   "execution_count": null,
   "metadata": {
    "collapsed": true,
    "hidden": true
   },
   "outputs": [],
   "source": [
    "list_variable = p.data.get_list_variable()\n",
    "list_variable"
   ]
  },
  {
   "cell_type": "code",
   "execution_count": null,
   "metadata": {
    "attributes": {
     "classes": [
      "sourceCode"
     ],
     "id": ""
    },
    "collapsed": true,
    "hidden": true
   },
   "outputs": [],
   "source": [
    "print(list_variable.get_array())"
   ]
  },
  {
   "cell_type": "markdown",
   "metadata": {
    "hidden": true
   },
   "source": [
    "---"
   ]
  },
  {
   "cell_type": "code",
   "execution_count": null,
   "metadata": {
    "collapsed": true,
    "hidden": true
   },
   "outputs": [],
   "source": [
    "p[0]"
   ]
  },
  {
   "cell_type": "code",
   "execution_count": null,
   "metadata": {
    "collapsed": true,
    "hidden": true
   },
   "outputs": [],
   "source": [
    "p[1, :, 3:5]"
   ]
  },
  {
   "cell_type": "markdown",
   "metadata": {
    "hidden": true
   },
   "source": [
    "---"
   ]
  },
  {
   "cell_type": "code",
   "execution_count": null,
   "metadata": {
    "collapsed": true,
    "hidden": true
   },
   "outputs": [],
   "source": [
    "p.data.get_compression_type()"
   ]
  },
  {
   "cell_type": "code",
   "execution_count": null,
   "metadata": {
    "collapsed": true,
    "hidden": true
   },
   "outputs": [],
   "source": [
    "p.data[1] = -9"
   ]
  },
  {
   "cell_type": "code",
   "execution_count": null,
   "metadata": {
    "collapsed": true,
    "hidden": true
   },
   "outputs": [],
   "source": [
    "p.data.get_compression_type()"
   ]
  },
  {
   "cell_type": "markdown",
   "metadata": {
    "hidden": true
   },
   "source": [
    "---"
   ]
  },
  {
   "cell_type": "code",
   "execution_count": null,
   "metadata": {
    "attributes": {
     "classes": [
      "sourceCode"
     ],
     "id": ""
    },
    "collapsed": true,
    "hidden": true
   },
   "outputs": [],
   "source": [
    "import numpy\n",
    "import cfdm\n",
    "\n",
    "# Define the gathered values\n",
    "gathered_array = numpy.array([[2, 1, 3], [4, 0, 5]],\n",
    "                             dtype='float32')\n",
    "\n",
    "# Define the list array values\n",
    "list_array = [1, 4, 5]\n",
    "\n",
    "# Create the list variable\n",
    "list_variable = cfdm.List(data=cfdm.Data(list_array))\n",
    "\n",
    "# Create the gathered array object\n",
    "array = cfdm.GatheredArray(\n",
    "                 compressed_array=cfdm.NumpyArray(gathered_array),\n",
    "                 compressed_dimension=1,\n",
    "                 shape=(2, 3, 2), size=12, ndim=3,\n",
    "                 list_variable=list_variable)\n",
    "\n",
    "# Create the field construct with the domain axes and the gathered\n",
    "# array\n",
    "P = cfdm.Field(properties={'standard_name': 'precipitation_flux',\n",
    "                           'units': 'kg m-2 s-1'})\n",
    "\n",
    "# Create the domain axis constructs for the uncompressed array\n",
    "T = P.set_construct(cfdm.DomainAxis(2))\n",
    "Y = P.set_construct(cfdm.DomainAxis(3))\n",
    "X = P.set_construct(cfdm.DomainAxis(2))\n",
    "\n",
    "# Set the data for the field\n",
    "P.set_data(cfdm.Data(array), axes=[T, Y, X])"
   ]
  },
  {
   "cell_type": "markdown",
   "metadata": {
    "hidden": true
   },
   "source": [
    "---"
   ]
  },
  {
   "cell_type": "code",
   "execution_count": null,
   "metadata": {
    "collapsed": true,
    "hidden": true
   },
   "outputs": [],
   "source": [
    "P"
   ]
  },
  {
   "cell_type": "code",
   "execution_count": null,
   "metadata": {
    "collapsed": true,
    "hidden": true
   },
   "outputs": [],
   "source": [
    "print(P.get_array())"
   ]
  },
  {
   "cell_type": "code",
   "execution_count": null,
   "metadata": {
    "collapsed": true,
    "hidden": true
   },
   "outputs": [],
   "source": [
    "P.data.get_compression_type()"
   ]
  },
  {
   "cell_type": "code",
   "execution_count": null,
   "metadata": {
    "collapsed": true,
    "hidden": true
   },
   "outputs": [],
   "source": [
    "print(P.data.get_compressed_array())"
   ]
  },
  {
   "cell_type": "code",
   "execution_count": null,
   "metadata": {
    "collapsed": true,
    "hidden": true
   },
   "outputs": [],
   "source": [
    "list_variable = P.data.get_list_variable()\n",
    "list_variable "
   ]
  },
  {
   "cell_type": "code",
   "execution_count": null,
   "metadata": {
    "attributes": {
     "classes": [
      "sourceCode"
     ],
     "id": ""
    },
    "collapsed": true,
    "hidden": true
   },
   "outputs": [],
   "source": [
    "print(list_variable.get_array())"
   ]
  },
  {
   "cell_type": "code",
   "execution_count": null,
   "metadata": {
    "collapsed": true,
    "hidden": true
   },
   "outputs": [],
   "source": [
    "cfdm.write(P, 'P_gathered.nc')"
   ]
  },
  {
   "cell_type": "markdown",
   "metadata": {},
   "source": [
    "----"
   ]
  },
  {
   "cell_type": "code",
   "execution_count": null,
   "metadata": {
    "collapsed": true,
    "hidden": true
   },
   "outputs": [],
   "source": [
    "!ncdump P_gathered.nc"
   ]
  },
  {
   "cell_type": "markdown",
   "metadata": {
    "hidden": true
   },
   "source": [
    "---\n",
    "[**Back to top**](#cfdm-tutorial-notebook)  \n",
    "[**Go to tutorial**](https://ncas-cms.github.io/cfdm/tutorial.html)  "
   ]
  }
 ],
 "metadata": {
  "kernelspec": {
   "display_name": "Python 3",
   "language": "python",
   "name": "python3"
  },
  "language_info": {
   "codemirror_mode": {
    "name": "ipython",
    "version": 3
   },
   "file_extension": ".py",
   "mimetype": "text/x-python",
   "name": "python",
   "nbconvert_exporter": "python",
   "pygments_lexer": "ipython3",
   "version": "3.6.5"
  }
 },
 "nbformat": 4,
 "nbformat_minor": 2
}
