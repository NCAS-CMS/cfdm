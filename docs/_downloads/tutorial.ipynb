{
 "cells": [
  {
   "cell_type": "markdown",
   "metadata": {},
   "source": [
    "\n",
    "# cfdm tutorial notebook\n",
    "\n",
    "---\n",
    "\n",
    "## This notebook contains executable code examples from the [cfdm tutorial](https://ncas-cms.github.io/cfdm/tutorial.html).\n",
    "\n",
    "---\n",
    "## Contents\n",
    "\n",
    "* [**Import**](#Import)\n",
    "* [**CF version**](#CF-version)\n",
    "* [**Reading datasets**](#Reading-datasets)\n",
    "* [**Inspection**](#Inspection)\n",
    "* [**Properties**](#Properties)\n",
    "* [**Data**](#Data)\n",
    "* [**Subspacing**](#Subspacing)\n",
    "* [**Metadata constructs**](#Metadata-constructs)\n",
    "* [**NetCDF interface**](#NetCDF-interface)\n",
    "* [**Writing to disk**](#Writing-to-disk)\n",
    "* [**Field creation**](#Field-creation)\n",
    "* [**Domain**](#Domain)\n",
    "* [**Copying**](#Copying)\n",
    "* [**Equality**](#Equality)\n",
    "* [**External variables**](#External-variables)\n",
    "* [**Compression**](#Compression)\n",
    "* [**Discrete sampling geometries**](#Discrete-sampling-geometries)\n",
    "* [**Gathering**](#Gathering)\n",
    "\n",
    "---\n",
    "## Before you start\n",
    "\n",
    "### 0. [Install](https://ncas-cms.github.io/cfdm/installation.html) the cfdm package\n",
    "\n",
    "### 1. Download the test files\n",
    "\n",
    "* [**file.nc**](https://github.com/NCAS-CMS/cfdm/raw/master/docs/_downloads/file.nc)\n",
    "* [**parent.nc**](https://github.com/NCAS-CMS/cfdm/raw/master/docs/_downloads/parent.nc)\n",
    "* [**external.nc**](https://github.com/NCAS-CMS/cfdm/raw/master/docs/_downloads/external.nc)\n",
    "* [**contiguous.nc**](https://github.com/NCAS-CMS/cfdm/raw/master/docs/_downloads/contiguous.nc)\n",
    "* [**gathered.nc**](https://github.com/NCAS-CMS/cfdm/raw/master/docs/_downloads/gathered.nc)\n",
    "\n",
    "### 2. Set the local directory which contains the test files\n",
    "\n",
    "#### By default it is assumed that they are in same directory as this notebook file"
   ]
  },
  {
   "cell_type": "code",
   "execution_count": null,
   "metadata": {
    "collapsed": true
   },
   "outputs": [],
   "source": [
    "DIRECTORY = '.'"
   ]
  },
  {
   "cell_type": "markdown",
   "metadata": {
    "collapsed": true
   },
   "source": [
    "### 3. Ensure that  printing works equally well for Python 2 and 3"
   ]
  },
  {
   "cell_type": "code",
   "execution_count": null,
   "metadata": {
    "collapsed": true
   },
   "outputs": [],
   "source": [
    "from __future__ import print_function"
   ]
  },
  {
   "cell_type": "markdown",
   "metadata": {},
   "source": [
    "---\n",
    "Import\n",
    "------\n",
    "[**Back to top**](#cfdm-tutorial-notebook)  \n",
    "[**Go to tutorial**](https://ncas-cms.github.io/cfdm/tutorial.html#import)  "
   ]
  },
  {
   "cell_type": "code",
   "execution_count": null,
   "metadata": {
    "collapsed": true
   },
   "outputs": [],
   "source": [
    "import cfdm"
   ]
  },
  {
   "cell_type": "markdown",
   "metadata": {},
   "source": [
    "---\n",
    "CF version\n",
    "------------\n",
    "[**Back to top**](#cfdm-tutorial-notebook)  \n",
    "[**Go to tutorial**](https://ncas-cms.github.io/cfdm/tutorial.html#cf_version)  "
   ]
  },
  {
   "cell_type": "code",
   "execution_count": null,
   "metadata": {
    "collapsed": false
   },
   "outputs": [],
   "source": [
    "cfdm.CF()"
   ]
  },
  {
   "cell_type": "markdown",
   "metadata": {},
   "source": [
    "---\n",
    "Reading datasets\n",
    "------------------\n",
    "[**Back to top**](#cfdm-tutorial-notebook)  \n",
    "[**Go to tutorial**](https://ncas-cms.github.io/cfdm/tutorial.html#reading)"
   ]
  },
  {
   "cell_type": "code",
   "execution_count": null,
   "metadata": {
    "attributes": {
     "classes": [
      "sourceCode"
     ],
     "id": ""
    },
    "collapsed": false
   },
   "outputs": [],
   "source": [
    "x = cfdm.read(DIRECTORY+'/file.nc')\n",
    "type(x)"
   ]
  },
  {
   "cell_type": "markdown",
   "metadata": {},
   "source": [
    "---\n",
    "Inspection\n",
    "-----------\n",
    "[**Back to top**](#cfdm-tutorial-notebook)  \n",
    "[**Go to tutorial**](https://ncas-cms.github.io/cfdm/tutorial.html#inspection)"
   ]
  },
  {
   "cell_type": "markdown",
   "metadata": {},
   "source": [
    "### Minimal detail"
   ]
  },
  {
   "cell_type": "code",
   "execution_count": null,
   "metadata": {
    "collapsed": false
   },
   "outputs": [],
   "source": [
    "x"
   ]
  },
  {
   "cell_type": "code",
   "execution_count": null,
   "metadata": {
    "attributes": {
     "classes": [
      "sourceCode"
     ],
     "id": ""
    },
    "collapsed": false
   },
   "outputs": [],
   "source": [
    "q = x[0]\n",
    "t = x[1]\n",
    "q"
   ]
  },
  {
   "cell_type": "markdown",
   "metadata": {},
   "source": [
    "### Medium detail"
   ]
  },
  {
   "cell_type": "code",
   "execution_count": null,
   "metadata": {
    "collapsed": false
   },
   "outputs": [],
   "source": [
    "print(q)"
   ]
  },
  {
   "cell_type": "code",
   "execution_count": null,
   "metadata": {
    "attributes": {
     "classes": [
      "sourceCode"
     ],
     "id": ""
    },
    "collapsed": false
   },
   "outputs": [],
   "source": [
    "print(t)"
   ]
  },
  {
   "cell_type": "code",
   "execution_count": null,
   "metadata": {
    "collapsed": false
   },
   "outputs": [],
   "source": [
    "q.dump()"
   ]
  },
  {
   "cell_type": "code",
   "execution_count": null,
   "metadata": {
    "attributes": {
     "classes": [
      "sourceCode"
     ],
     "id": ""
    },
    "collapsed": false
   },
   "outputs": [],
   "source": [
    "t.dump()"
   ]
  },
  {
   "cell_type": "markdown",
   "metadata": {},
   "source": [
    "---\n",
    "Properties\n",
    "----------\n",
    "[**Back to top**](#cfdm-tutorial-notebook)  \n",
    "[**Go to tutorial**](https://ncas-cms.github.io/cfdm/tutorial.html#properties)  "
   ]
  },
  {
   "cell_type": "code",
   "execution_count": null,
   "metadata": {
    "attributes": {
     "classes": [
      "sourceCode"
     ],
     "id": ""
    },
    "collapsed": false
   },
   "outputs": [],
   "source": [
    "t.properties()"
   ]
  },
  {
   "cell_type": "markdown",
   "metadata": {},
   "source": [
    "---"
   ]
  },
  {
   "cell_type": "code",
   "execution_count": null,
   "metadata": {
    "collapsed": false
   },
   "outputs": [],
   "source": [
    "t.has_property('standard_name')"
   ]
  },
  {
   "cell_type": "code",
   "execution_count": null,
   "metadata": {
    "collapsed": false
   },
   "outputs": [],
   "source": [
    "t.get_property('standard_name')"
   ]
  },
  {
   "cell_type": "code",
   "execution_count": null,
   "metadata": {
    "collapsed": false
   },
   "outputs": [],
   "source": [
    "t.del_property('standard_name')"
   ]
  },
  {
   "cell_type": "code",
   "execution_count": null,
   "metadata": {
    "collapsed": false
   },
   "outputs": [],
   "source": [
    "t.get_property('standard_name', 'not set')"
   ]
  },
  {
   "cell_type": "code",
   "execution_count": null,
   "metadata": {
    "attributes": {
     "classes": [
      "sourceCode"
     ],
     "id": ""
    },
    "collapsed": false
   },
   "outputs": [],
   "source": [
    "t.set_property('standard_name', 'air_temperature')\n",
    "t.get_property('standard_name', 'not set')"
   ]
  },
  {
   "cell_type": "markdown",
   "metadata": {},
   "source": [
    "---"
   ]
  },
  {
   "cell_type": "code",
   "execution_count": null,
   "metadata": {
    "collapsed": false
   },
   "outputs": [],
   "source": [
    "original = t.properties({'foo': 'bar', 'units': 'K'})\n",
    "original"
   ]
  },
  {
   "cell_type": "code",
   "execution_count": null,
   "metadata": {
    "collapsed": false
   },
   "outputs": [],
   "source": [
    "t.properties()"
   ]
  },
  {
   "cell_type": "code",
   "execution_count": null,
   "metadata": {
    "collapsed": false
   },
   "outputs": [],
   "source": [
    "t.properties(original)"
   ]
  },
  {
   "cell_type": "code",
   "execution_count": null,
   "metadata": {
    "attributes": {
     "classes": [
      "sourceCode"
     ],
     "id": ""
    },
    "collapsed": false
   },
   "outputs": [],
   "source": [
    "t.properties()"
   ]
  },
  {
   "cell_type": "markdown",
   "metadata": {},
   "source": [
    "---\n",
    "Data\n",
    "-----\n",
    "[**Back to top**](#cfdm-tutorial-notebook)  \n",
    "[**Go to tutorial**](https://ncas-cms.github.io/cfdm/tutorial.html#data)"
   ]
  },
  {
   "cell_type": "code",
   "execution_count": null,
   "metadata": {
    "attributes": {
     "classes": [
      "sourceCode"
     ],
     "id": ""
    },
    "collapsed": false
   },
   "outputs": [],
   "source": [
    "t.get_data()"
   ]
  },
  {
   "cell_type": "markdown",
   "metadata": {},
   "source": [
    "---"
   ]
  },
  {
   "cell_type": "code",
   "execution_count": null,
   "metadata": {
    "attributes": {
     "classes": [
      "sourceCode"
     ],
     "id": ""
    },
    "collapsed": false
   },
   "outputs": [],
   "source": [
    "print(t.get_array())"
   ]
  },
  {
   "cell_type": "markdown",
   "metadata": {},
   "source": [
    "---"
   ]
  },
  {
   "cell_type": "code",
   "execution_count": null,
   "metadata": {
    "collapsed": false
   },
   "outputs": [],
   "source": [
    "t.data.dtype"
   ]
  },
  {
   "cell_type": "code",
   "execution_count": null,
   "metadata": {
    "collapsed": false
   },
   "outputs": [],
   "source": [
    "t.data.ndim"
   ]
  },
  {
   "cell_type": "code",
   "execution_count": null,
   "metadata": {
    "collapsed": false
   },
   "outputs": [],
   "source": [
    "t.data.shape"
   ]
  },
  {
   "cell_type": "code",
   "execution_count": null,
   "metadata": {
    "attributes": {
     "classes": [
      "sourceCode"
     ],
     "id": ""
    },
    "collapsed": false
   },
   "outputs": [],
   "source": [
    "t.data.size"
   ]
  },
  {
   "cell_type": "markdown",
   "metadata": {},
   "source": [
    "### Indexing"
   ]
  },
  {
   "cell_type": "code",
   "execution_count": null,
   "metadata": {
    "collapsed": false
   },
   "outputs": [],
   "source": [
    "data = t.data\n",
    "data.shape"
   ]
  },
  {
   "cell_type": "code",
   "execution_count": null,
   "metadata": {
    "collapsed": false
   },
   "outputs": [],
   "source": [
    "data[:, :, 1].shape"
   ]
  },
  {
   "cell_type": "code",
   "execution_count": null,
   "metadata": {
    "collapsed": false
   },
   "outputs": [],
   "source": [
    "data[:, 0].shape"
   ]
  },
  {
   "cell_type": "code",
   "execution_count": null,
   "metadata": {
    "collapsed": false
   },
   "outputs": [],
   "source": [
    "data[..., 6:3:-1, 3:6].shape"
   ]
  },
  {
   "cell_type": "code",
   "execution_count": null,
   "metadata": {
    "collapsed": false
   },
   "outputs": [],
   "source": [
    "data[0, [2, 9], [4, 8]].shape"
   ]
  },
  {
   "cell_type": "code",
   "execution_count": null,
   "metadata": {
    "attributes": {
     "classes": [
      "sourceCode"
     ],
     "id": ""
    },
    "collapsed": false
   },
   "outputs": [],
   "source": [
    "data[0, :, -2].shape"
   ]
  },
  {
   "cell_type": "markdown",
   "metadata": {},
   "source": [
    "### Assignment"
   ]
  },
  {
   "cell_type": "code",
   "execution_count": null,
   "metadata": {
    "collapsed": false
   },
   "outputs": [],
   "source": [
    "import numpy\n",
    "t.data[:, :, 1] = -10\n",
    "t.data[:, 0] = range(9)\n",
    "t.data[..., 6:3:-1, 3:6] = numpy.arange(-18, -9).reshape(3, 3)\n",
    "t.data[0, [2, 9], [4, 8]] =  cfdm.Data([[-2, -3]])\n",
    "t.data[0, :, -2] = numpy.ma.masked\n",
    "print(t.get_array())"
   ]
  },
  {
   "cell_type": "markdown",
   "metadata": {},
   "source": [
    "### Data dimensions"
   ]
  },
  {
   "cell_type": "code",
   "execution_count": null,
   "metadata": {
    "collapsed": false
   },
   "outputs": [],
   "source": [
    "t"
   ]
  },
  {
   "cell_type": "code",
   "execution_count": null,
   "metadata": {
    "collapsed": false
   },
   "outputs": [],
   "source": [
    "t2 = t.squeeze(0)\n",
    "t2"
   ]
  },
  {
   "cell_type": "code",
   "execution_count": null,
   "metadata": {
    "collapsed": false
   },
   "outputs": [],
   "source": [
    "t2 = t2.expand_dims(axis='domainaxis3', position=1)\n",
    "t2"
   ]
  },
  {
   "cell_type": "code",
   "execution_count": null,
   "metadata": {
    "collapsed": false
   },
   "outputs": [],
   "source": [
    "t2.transpose([2, 0, 1])"
   ]
  },
  {
   "cell_type": "markdown",
   "metadata": {},
   "source": [
    "---\n",
    "Subspacing\n",
    "-------------\n",
    "[**Back to top**](#cfdm-tutorial-notebook)  \n",
    "[**Go to tutorial**](https://ncas-cms.github.io/cfdm/tutorial.html#subspacing)"
   ]
  },
  {
   "cell_type": "code",
   "execution_count": null,
   "metadata": {
    "collapsed": false
   },
   "outputs": [],
   "source": [
    "print(q)"
   ]
  },
  {
   "cell_type": "code",
   "execution_count": null,
   "metadata": {
    "attributes": {
     "classes": [
      "sourceCode"
     ],
     "id": ""
    },
    "collapsed": false
   },
   "outputs": [],
   "source": [
    "new = q[0, ::-1]\n",
    "print(new)"
   ]
  },
  {
   "cell_type": "markdown",
   "metadata": {},
   "source": [
    "---\n",
    "Metadata constructs\n",
    "---------------------\n",
    "[**Back to top**](#cfdm-tutorial-notebook)  \n",
    "[**Go to tutorial**](https://ncas-cms.github.io/cfdm/tutorial.html#constructs)"
   ]
  },
  {
   "cell_type": "code",
   "execution_count": null,
   "metadata": {
    "collapsed": false
   },
   "outputs": [],
   "source": [
    "q.constructs()"
   ]
  },
  {
   "cell_type": "code",
   "execution_count": null,
   "metadata": {
    "attributes": {
     "classes": [
      "sourceCode"
     ],
     "id": ""
    },
    "collapsed": false
   },
   "outputs": [],
   "source": [
    "t.constructs()"
   ]
  },
  {
   "cell_type": "markdown",
   "metadata": {},
   "source": [
    "---"
   ]
  },
  {
   "cell_type": "code",
   "execution_count": null,
   "metadata": {
    "collapsed": false
   },
   "outputs": [],
   "source": [
    "t.constructs('air_temperature standard_error')"
   ]
  },
  {
   "cell_type": "code",
   "execution_count": null,
   "metadata": {
    "collapsed": false
   },
   "outputs": [],
   "source": [
    "t.constructs(construct_type='dimension_coordinate')"
   ]
  },
  {
   "cell_type": "code",
   "execution_count": null,
   "metadata": {
    "collapsed": false
   },
   "outputs": [],
   "source": [
    "t.constructs(axes=['domainaxis1'])"
   ]
  },
  {
   "cell_type": "code",
   "execution_count": null,
   "metadata": {
    "collapsed": false
   },
   "outputs": [],
   "source": [
    "t.constructs(axes=['domainaxis3'])"
   ]
  },
  {
   "cell_type": "code",
   "execution_count": null,
   "metadata": {
    "collapsed": false
   },
   "outputs": [],
   "source": [
    "t.constructs(construct_type='dimension_coordinate', axes=['domainaxis1'])"
   ]
  },
  {
   "cell_type": "code",
   "execution_count": null,
   "metadata": {
    "attributes": {
     "classes": [
      "sourceCode"
     ],
     "id": ""
    },
    "collapsed": false
   },
   "outputs": [],
   "source": [
    "t.constructs('wavelength')"
   ]
  },
  {
   "cell_type": "markdown",
   "metadata": {},
   "source": [
    "---"
   ]
  },
  {
   "cell_type": "code",
   "execution_count": null,
   "metadata": {
    "collapsed": false
   },
   "outputs": [],
   "source": [
    "t.constructs(cid='domainancillary2')"
   ]
  },
  {
   "cell_type": "code",
   "execution_count": null,
   "metadata": {
    "collapsed": false
   },
   "outputs": [],
   "source": [
    "t.constructs('cid%cellmethod1')"
   ]
  },
  {
   "cell_type": "code",
   "execution_count": null,
   "metadata": {
    "attributes": {
     "classes": [
      "sourceCode"
     ],
     "id": ""
    },
    "collapsed": false
   },
   "outputs": [],
   "source": [
    "t.constructs(cid='auxiliarycoordinate999')"
   ]
  },
  {
   "cell_type": "markdown",
   "metadata": {},
   "source": [
    "---"
   ]
  },
  {
   "cell_type": "code",
   "execution_count": null,
   "metadata": {
    "collapsed": false
   },
   "outputs": [],
   "source": [
    "t.has_construct('latitude')"
   ]
  },
  {
   "cell_type": "code",
   "execution_count": null,
   "metadata": {
    "collapsed": false
   },
   "outputs": [],
   "source": [
    "t.get_construct('latitude')"
   ]
  },
  {
   "cell_type": "code",
   "execution_count": null,
   "metadata": {
    "collapsed": false
   },
   "outputs": [],
   "source": [
    "t.get_construct('units:km2')"
   ]
  },
  {
   "cell_type": "code",
   "execution_count": null,
   "metadata": {
    "collapsed": false
   },
   "outputs": [],
   "source": [
    "t.constructs('units:degrees')"
   ]
  },
  {
   "cell_type": "code",
   "execution_count": null,
   "metadata": {
    "attributes": {
     "classes": [
      "sourceCode"
     ],
     "id": ""
    },
    "collapsed": false
   },
   "outputs": [],
   "source": [
    "try:\n",
    "    t.get_construct('units:degrees')\n",
    "except ValueError:\n",
    "    print('ValueError: More than one construct meets criteria')"
   ]
  },
  {
   "cell_type": "code",
   "execution_count": null,
   "metadata": {
    "collapsed": false
   },
   "outputs": [],
   "source": [
    "t.has_construct('units:degrees')"
   ]
  },
  {
   "cell_type": "markdown",
   "metadata": {},
   "source": [
    "---"
   ]
  },
  {
   "cell_type": "code",
   "execution_count": null,
   "metadata": {
    "collapsed": false
   },
   "outputs": [],
   "source": [
    "t.coordinate_references()"
   ]
  },
  {
   "cell_type": "code",
   "execution_count": null,
   "metadata": {
    "collapsed": false
   },
   "outputs": [],
   "source": [
    "t.dimension_coordinates()"
   ]
  },
  {
   "cell_type": "markdown",
   "metadata": {},
   "source": [
    "### Properties and data"
   ]
  },
  {
   "cell_type": "code",
   "execution_count": null,
   "metadata": {
    "collapsed": false
   },
   "outputs": [],
   "source": [
    "lon = q.get_construct('longitude')   \n",
    "lon"
   ]
  },
  {
   "cell_type": "code",
   "execution_count": null,
   "metadata": {
    "collapsed": false
   },
   "outputs": [],
   "source": [
    "lon.set_property('long_name', 'Longitude')\n",
    "lon.properties()"
   ]
  },
  {
   "cell_type": "code",
   "execution_count": null,
   "metadata": {
    "attributes": {
     "classes": [
      "sourceCode"
     ],
     "id": ""
    },
    "collapsed": false
   },
   "outputs": [],
   "source": [
    "lon.data[2]\n",
    "lon.data[2] = 133.33\n",
    "print(lon.get_array())"
   ]
  },
  {
   "cell_type": "markdown",
   "metadata": {},
   "source": [
    "### Domain axes"
   ]
  },
  {
   "cell_type": "code",
   "execution_count": null,
   "metadata": {
    "attributes": {
     "classes": [
      "sourceCode"
     ],
     "id": ""
    },
    "collapsed": false
   },
   "outputs": [],
   "source": [
    "t.construct_axes()"
   ]
  },
  {
   "cell_type": "markdown",
   "metadata": {},
   "source": [
    "---"
   ]
  },
  {
   "cell_type": "code",
   "execution_count": null,
   "metadata": {
    "collapsed": false
   },
   "outputs": [],
   "source": [
    "t.domain_axes()"
   ]
  },
  {
   "cell_type": "code",
   "execution_count": null,
   "metadata": {
    "collapsed": false
   },
   "outputs": [],
   "source": [
    "t"
   ]
  },
  {
   "cell_type": "code",
   "execution_count": null,
   "metadata": {
    "collapsed": false
   },
   "outputs": [],
   "source": [
    "t.data.shape"
   ]
  },
  {
   "cell_type": "code",
   "execution_count": null,
   "metadata": {
    "collapsed": false
   },
   "outputs": [],
   "source": [
    "t.get_data_axes()"
   ]
  },
  {
   "cell_type": "markdown",
   "metadata": {},
   "source": [
    "### Cell methods"
   ]
  },
  {
   "cell_type": "code",
   "execution_count": null,
   "metadata": {
    "collapsed": false
   },
   "outputs": [],
   "source": [
    "t.cell_methods()"
   ]
  },
  {
   "cell_type": "markdown",
   "metadata": {},
   "source": [
    "### Components"
   ]
  },
  {
   "cell_type": "code",
   "execution_count": null,
   "metadata": {
    "collapsed": false
   },
   "outputs": [],
   "source": [
    "lon = t.get_construct('grid_longitude')\n",
    "bounds = lon.get_bounds()\n",
    "bounds"
   ]
  },
  {
   "cell_type": "code",
   "execution_count": null,
   "metadata": {
    "collapsed": false
   },
   "outputs": [],
   "source": [
    "bounds.properties()"
   ]
  },
  {
   "cell_type": "code",
   "execution_count": null,
   "metadata": {
    "collapsed": false
   },
   "outputs": [],
   "source": [
    "bounds.get_data()\n",
    "print(bounds.get_array())"
   ]
  },
  {
   "cell_type": "code",
   "execution_count": null,
   "metadata": {
    "collapsed": false
   },
   "outputs": [],
   "source": [
    "crs = t.get_construct('rotated_latitude_longitude')\n",
    "crs.datum"
   ]
  },
  {
   "cell_type": "code",
   "execution_count": null,
   "metadata": {
    "collapsed": false
   },
   "outputs": [],
   "source": [
    "crs.datum.parameters()"
   ]
  },
  {
   "cell_type": "code",
   "execution_count": null,
   "metadata": {
    "attributes": {
     "classes": [
      "sourceCode"
     ],
     "id": ""
    },
    "collapsed": false
   },
   "outputs": [],
   "source": [
    "crs = t.get_construct('atmosphere_hybrid_height_coordinate',\n",
    "                          construct_type='coordinate_reference')\n",
    "crs.coordinate_conversion.domain_ancillaries()"
   ]
  },
  {
   "cell_type": "markdown",
   "metadata": {},
   "source": [
    "---\n",
    "NetCDF interface\n",
    "---------------- \n",
    "[**Back to top**](#cfdm-tutorial-notebook)  \n",
    "[**Go to tutorial**](https://ncas-cms.github.io/cfdm/tutorial.html#netcdf-interface)"
   ]
  },
  {
   "cell_type": "code",
   "execution_count": null,
   "metadata": {
    "collapsed": false
   },
   "outputs": [],
   "source": [
    "q.nc_get_variable()"
   ]
  },
  {
   "cell_type": "code",
   "execution_count": null,
   "metadata": {
    "collapsed": false
   },
   "outputs": [],
   "source": [
    "q.nc_global_attributes()"
   ]
  },
  {
   "cell_type": "code",
   "execution_count": null,
   "metadata": {
    "collapsed": false
   },
   "outputs": [],
   "source": [
    "q.nc_unlimited_dimensions()"
   ]
  },
  {
   "cell_type": "code",
   "execution_count": null,
   "metadata": {
    "collapsed": false
   },
   "outputs": [],
   "source": [
    "q.nc_set_variable('humidity')\n",
    "q.nc_get_variable()"
   ]
  },
  {
   "cell_type": "markdown",
   "metadata": {},
   "source": [
    "---"
   ]
  },
  {
   "cell_type": "code",
   "execution_count": null,
   "metadata": {
    "collapsed": false
   },
   "outputs": [],
   "source": [
    "t.constructs('ncvar%b')"
   ]
  },
  {
   "cell_type": "code",
   "execution_count": null,
   "metadata": {
    "collapsed": false
   },
   "outputs": [],
   "source": [
    "t.get_construct('ncvar%x')"
   ]
  },
  {
   "cell_type": "code",
   "execution_count": null,
   "metadata": {
    "collapsed": false
   },
   "outputs": [],
   "source": [
    "t.get_construct('ncdim%x')"
   ]
  },
  {
   "cell_type": "markdown",
   "metadata": {},
   "source": [
    "---\n",
    "Writing to disk\n",
    "---------------------\n",
    "[**Back to top**](#cfdm-tutorial-notebook)  \n",
    "[**Go to tutorial**](https://ncas-cms.github.io/cfdm/tutorial.html#writing-to-disk)"
   ]
  },
  {
   "cell_type": "code",
   "execution_count": null,
   "metadata": {
    "collapsed": false
   },
   "outputs": [],
   "source": [
    "print(q)"
   ]
  },
  {
   "cell_type": "code",
   "execution_count": null,
   "metadata": {
    "collapsed": true
   },
   "outputs": [],
   "source": [
    "cfdm.write(q, 'q_file.nc')"
   ]
  },
  {
   "cell_type": "code",
   "execution_count": null,
   "metadata": {
    "collapsed": false
   },
   "outputs": [],
   "source": [
    "!ncdump -h q_file.nc"
   ]
  },
  {
   "cell_type": "markdown",
   "metadata": {},
   "source": [
    "---"
   ]
  },
  {
   "cell_type": "code",
   "execution_count": null,
   "metadata": {
    "collapsed": false
   },
   "outputs": [],
   "source": [
    "x"
   ]
  },
  {
   "cell_type": "code",
   "execution_count": null,
   "metadata": {
    "attributes": {
     "classes": [
      "sourceCode"
     ],
     "id": ""
    },
    "collapsed": true
   },
   "outputs": [],
   "source": [
    "cfdm.write(x, 'new_file.nc')"
   ]
  },
  {
   "cell_type": "markdown",
   "metadata": {},
   "source": [
    "### Scalar coordinate variables"
   ]
  },
  {
   "cell_type": "code",
   "execution_count": null,
   "metadata": {
    "collapsed": false
   },
   "outputs": [],
   "source": [
    "q"
   ]
  },
  {
   "cell_type": "markdown",
   "metadata": {},
   "source": [
    "q.dimension_coordinates()"
   ]
  },
  {
   "cell_type": "code",
   "execution_count": null,
   "metadata": {
    "collapsed": false
   },
   "outputs": [],
   "source": [
    "q.construct_axes()"
   ]
  },
  {
   "cell_type": "code",
   "execution_count": null,
   "metadata": {
    "collapsed": false
   },
   "outputs": [],
   "source": [
    "q2 = q.expand_dims(axis='domainaxis2')\n",
    "q2"
   ]
  },
  {
   "cell_type": "code",
   "execution_count": null,
   "metadata": {
    "collapsed": true
   },
   "outputs": [],
   "source": [
    "cfdm.write(q2, 'q2_file.nc')"
   ]
  },
  {
   "cell_type": "code",
   "execution_count": null,
   "metadata": {
    "collapsed": false
   },
   "outputs": [],
   "source": [
    "!ncdump -h q2_file.nc"
   ]
  },
  {
   "cell_type": "markdown",
   "metadata": {},
   "source": [
    "---\n",
    "Field creation\n",
    "----------------\n",
    "[**Back to top**](#cfdm-tutorial-notebook)  \n",
    "[**Go to tutorial**](https://ncas-cms.github.io/cfdm/tutorial.html#field-creation)"
   ]
  },
  {
   "cell_type": "code",
   "execution_count": null,
   "metadata": {
    "collapsed": false
   },
   "outputs": [],
   "source": [
    "p = cfdm.Field(properties={'standard_name': 'precipitation_flux'})\n",
    "p"
   ]
  },
  {
   "cell_type": "code",
   "execution_count": null,
   "metadata": {
    "collapsed": false
   },
   "outputs": [],
   "source": [
    "dc = cfdm.DimensionCoordinate(properties={'long_name': 'Longitude'},\n",
    "                              data=cfdm.Data([0, 1, 2.]))\n",
    "dc"
   ]
  },
  {
   "cell_type": "code",
   "execution_count": null,
   "metadata": {
    "attributes": {
     "classes": [
      "sourceCode"
     ],
     "id": ""
    },
    "collapsed": false
   },
   "outputs": [],
   "source": [
    "fa = cfdm.FieldAncillary(\n",
    "           properties={'standard_name': 'precipitation_flux status_flag'},\n",
    "           data=cfdm.Data(numpy.array([0, 0, 2], dtype='int8')))\n",
    "fa"
   ]
  },
  {
   "cell_type": "markdown",
   "metadata": {},
   "source": [
    "---"
   ]
  },
  {
   "cell_type": "code",
   "execution_count": null,
   "metadata": {
    "collapsed": false
   },
   "outputs": [],
   "source": [
    "p = cfdm.Field()\n",
    "p"
   ]
  },
  {
   "cell_type": "code",
   "execution_count": null,
   "metadata": {
    "collapsed": false
   },
   "outputs": [],
   "source": [
    "p.set_property('standard_name', 'precipitation_flux')\n",
    "p"
   ]
  },
  {
   "cell_type": "code",
   "execution_count": null,
   "metadata": {
    "collapsed": false
   },
   "outputs": [],
   "source": [
    "dc = cfdm.DimensionCoordinate()\n",
    "dc"
   ]
  },
  {
   "cell_type": "code",
   "execution_count": null,
   "metadata": {
    "collapsed": false
   },
   "outputs": [],
   "source": [
    "dc.set_property('long_name', 'Longitude')\n",
    "dc.set_data(cfdm.Data([1, 2, 3.]))\n",
    "dc"
   ]
  },
  {
   "cell_type": "code",
   "execution_count": null,
   "metadata": {
    "collapsed": false
   },
   "outputs": [],
   "source": [
    "fa = cfdm.FieldAncillary(\n",
    "           data=cfdm.Data(numpy.array([0, 0, 2], dtype='int8')))\n",
    "fa"
   ]
  },
  {
   "cell_type": "code",
   "execution_count": null,
   "metadata": {
    "attributes": {
     "classes": [
      "sourceCode"
     ],
     "id": ""
    },
    "collapsed": false
   },
   "outputs": [],
   "source": [
    "fa.set_property('standard_name', 'precipitation_flux status_flag')\n",
    "fa"
   ]
  },
  {
   "cell_type": "markdown",
   "metadata": {},
   "source": [
    "---"
   ]
  },
  {
   "cell_type": "code",
   "execution_count": null,
   "metadata": {
    "collapsed": false
   },
   "outputs": [],
   "source": [
    "longitude_axis = p.set_construct(cfdm.DomainAxis(3))\n",
    "longitude_axis"
   ]
  },
  {
   "cell_type": "code",
   "execution_count": null,
   "metadata": {
    "collapsed": false
   },
   "outputs": [],
   "source": [
    "cid = p.set_construct(dc, axes=[longitude_axis])\n",
    "cid"
   ]
  },
  {
   "cell_type": "code",
   "execution_count": null,
   "metadata": {
    "attributes": {
     "classes": [
      "sourceCode"
     ],
     "id": ""
    },
    "collapsed": false
   },
   "outputs": [],
   "source": [
    "cm = cfdm.CellMethod(axes=[longitude_axis],\n",
    "                     properties={'method': 'minimum'})\n",
    "p.set_construct(cm)\n",
    "print(p)"
   ]
  },
  {
   "cell_type": "markdown",
   "metadata": {},
   "source": [
    "---"
   ]
  },
  {
   "cell_type": "code",
   "execution_count": null,
   "metadata": {
    "attributes": {
     "classes": [
      "sourceCode"
     ],
     "id": ""
    },
    "collapsed": false
   },
   "outputs": [],
   "source": [
    "import numpy\n",
    "import cfdm\n",
    "\n",
    "# Initialise the field with properties\n",
    "Q = cfdm.Field(properties={'project': 'research',\n",
    "                           'standard_name': 'specific_humidity',\n",
    "                           'units': '1'})\n",
    "\n",
    "# Create the domain axes\n",
    "domain_axisT = cfdm.DomainAxis(1)\n",
    "domain_axisY = cfdm.DomainAxis(5)\n",
    "domain_axisX = cfdm.DomainAxis(8)\n",
    "\n",
    "# Insert the domain axes into the field. The set_domain_axis method\n",
    "# returns the domain axis construct identifier that will be used\n",
    "# later to specify which domain axis corresponds to which dimension\n",
    "# coordinate construct.  \n",
    "axisT = Q.set_construct(domain_axisT)\n",
    "axisY = Q.set_construct(domain_axisY)\n",
    "axisX = Q.set_construct(domain_axisX)\n",
    "\n",
    "# Field data\n",
    "data = cfdm.Data(numpy.arange(40.).reshape(5, 8))\n",
    "Q.set_data(data, axes=[axisY, axisX])\n",
    "\n",
    "# Create the cell methods\n",
    "cell_method1 = cfdm.CellMethod(axes=['area'], properties={'method': 'mean'})\n",
    "\n",
    "cell_method2 = cfdm.CellMethod()\n",
    "cell_method2.set_axes([axisT])\n",
    "cell_method2.properties({'method': 'maximum'})\n",
    "\n",
    "# Insert the cell methods into the field in the same order that\n",
    "# their methods were applied to the data\n",
    "Q.set_construct(cell_method1)\n",
    "Q.set_construct(cell_method2)\n",
    "\n",
    "# Create the dimension Coordinates\n",
    "dimT = cfdm.DimensionCoordinate(\n",
    "         properties={'standard_name': 'time',\n",
    "                     'units': 'days since 2018-12-01'},\n",
    "         data=cfdm.Data([15.5]),\n",
    "         bounds=cfdm.Bounds(data=cfdm.Data([[0,31.]])))\n",
    "\n",
    "dimY = cfdm.DimensionCoordinate(properties={'standard_name': 'latitude',\n",
    "                                    'units': 'degrees_north'})\n",
    "array = numpy.arange(5.)\n",
    "dimY.set_data(cfdm.Data(array))\n",
    "bounds_array = numpy.empty((5, 2))\n",
    "bounds_array[:, 0] = array - 0.5\n",
    "bounds_array[:, 1] = array + 0.5\n",
    "bounds = cfdm.Bounds(data=cfdm.Data(bounds_array))\n",
    "dimY.set_bounds(bounds)\n",
    "\n",
    "dimX = cfdm.DimensionCoordinate(data=cfdm.Data(numpy.arange(8.)))\n",
    "dimX.properties({'standard_name': 'longitude',\n",
    "                 'units': 'degrees_east'})\n",
    "\n",
    "# Insert the dimension coordinates into the field, specifying to\n",
    "# which domain axis each one corresponds\n",
    "Q.set_construct(dimT, axes=[axisT])\n",
    "Q.set_construct(dimY, axes=[axisY])\n",
    "Q.set_construct(dimX, axes=[axisX])"
   ]
  },
  {
   "cell_type": "code",
   "execution_count": null,
   "metadata": {
    "attributes": {
     "classes": [
      "sourceCode"
     ],
     "id": ""
    },
    "collapsed": false
   },
   "outputs": [],
   "source": [
    "Q.dump()"
   ]
  },
  {
   "cell_type": "code",
   "execution_count": null,
   "metadata": {
    "attributes": {
     "classes": [
      "sourceCode"
     ],
     "id": ""
    },
    "collapsed": true
   },
   "outputs": [],
   "source": [
    "Q.nc_set_variable('q')\n",
    "\n",
    "domain_axisT.nc_set_dimension('time')\n",
    "domain_axisY.nc_set_dimension('lat')\n",
    "domain_axisX.nc_set_dimension('lon')\n",
    "\n",
    "dimT.nc_set_variable('time')\n",
    "dimY.nc_set_variable('lat')\n",
    "dimX.nc_set_variable('lon')"
   ]
  },
  {
   "cell_type": "markdown",
   "metadata": {},
   "source": [
    "---"
   ]
  },
  {
   "cell_type": "code",
   "execution_count": null,
   "metadata": {
    "attributes": {
     "classes": [
      "sourceCode"
     ],
     "id": ""
    },
    "collapsed": false
   },
   "outputs": [],
   "source": [
    "import numpy\n",
    "import cfdm\n",
    "\n",
    "# Initialize the field\n",
    "tas = cfdm.Field(\n",
    "    properties={'project': 'research',\n",
    "                'standard_name': 'air_temperature',\n",
    "                'units': 'K'})\n",
    "\n",
    "# Create and set domain axes\n",
    "axis_T = tas.set_construct(cfdm.DomainAxis(1))\n",
    "axis_Z = tas.set_construct(cfdm.DomainAxis(1))\n",
    "axis_Y = tas.set_construct(cfdm.DomainAxis(10))\n",
    "axis_X = tas.set_construct(cfdm.DomainAxis(9))\n",
    "\n",
    "# Set the field data\n",
    "tas.set_data(cfdm.Data(numpy.arange(90.).reshape(10, 9)),\n",
    "             axes=[axis_Y, axis_X])\n",
    "\n",
    "# Create and set the cell methods\n",
    "cell_method1 = cfdm.CellMethod(\n",
    "          axes=[axis_Y, axis_X],\n",
    "          properties={'method': 'mean',\n",
    "                      'where': 'land',\n",
    "                      'intervals': [cfdm.Data(0.1, units='degrees')]})\n",
    "\n",
    "cell_method2 = cfdm.CellMethod(\n",
    "                 axes=[axis_T],\n",
    "                 properties={'method': 'maximum'})\n",
    "\n",
    "tas.set_construct(cell_method1)\n",
    "tas.set_construct(cell_method2)\n",
    "\n",
    "# Create and set the field ancillaries\n",
    "field_ancillary = cfdm.FieldAncillary(\n",
    "             properties={'standard_name': 'air_temperature standard_error',\n",
    "                          'units': 'K'},\n",
    "             data=cfdm.Data(numpy.arange(90.).reshape(10, 9)))\n",
    "\n",
    "tas.set_construct(field_ancillary, axes=[axis_Y, axis_X])\n",
    "\n",
    "# Create and set the dimension coordinates\n",
    "dimension_coordinate_T = cfdm.DimensionCoordinate(\n",
    "                           properties={'standard_name': 'time',\n",
    "                                       'units': 'days since 2018-12-01'},\n",
    "                           data=cfdm.Data([15.5]),\n",
    "                           bounds=cfdm.Bounds(data=cfdm.Data([[0., 31]])))\n",
    "\n",
    "dimension_coordinate_Z = cfdm.DimensionCoordinate(\n",
    "        properties={'computed_standard_name': 'altitude',\n",
    "                    'standard_name': 'atmosphere_hybrid_height_coordinate'},\n",
    "        data = cfdm.Data([1.5]),\n",
    "        bounds=cfdm.Bounds(data=cfdm.Data([[1.0, 2.0]])))\n",
    "\n",
    "dimension_coordinate_Y = cfdm.DimensionCoordinate(\n",
    "        properties={'standard_name': 'grid_latitude',\n",
    "                    'units': 'degrees'},\n",
    "        data=cfdm.Data(numpy.arange(10.)),\n",
    "        bounds=cfdm.Bounds(data=cfdm.Data(numpy.arange(20).reshape(10, 2))))\n",
    "\n",
    "dimension_coordinate_X = cfdm.DimensionCoordinate(\n",
    "        properties={'standard_name': 'grid_longitude',\n",
    "                    'units': 'degrees'},\n",
    "    data=cfdm.Data(numpy.arange(9.)),\n",
    "    bounds=cfdm.Bounds(data=cfdm.Data(numpy.arange(18).reshape(9, 2))))\n",
    "\n",
    "tas.set_construct(dimension_coordinate_T, axes=[axis_T])\n",
    "tas.set_construct(dimension_coordinate_Z, axes=[axis_Z])\n",
    "tas.set_construct(dimension_coordinate_Y, axes=[axis_Y])\n",
    "tas.set_construct(dimension_coordinate_X, axes=[axis_X])\n",
    "\n",
    "# Create and set the auxiliary coordinates\n",
    "auxiliary_coordinate_lat = cfdm.AuxiliaryCoordinate(\n",
    "                      properties={'standard_name': 'latitude',\n",
    "                                  'units': 'degrees_north'},\n",
    "                      data=cfdm.Data(numpy.arange(90.).reshape(10, 9)))\n",
    "\n",
    "auxiliary_coordinate_lon = cfdm.AuxiliaryCoordinate(\n",
    "                  properties={'standard_name': 'longitude',\n",
    "                              'units': 'degrees_east'},\n",
    "                  data=cfdm.Data(numpy.arange(90.).reshape(9, 10)))\n",
    "\n",
    "array = numpy.ma.array(list('abcdefghij'))\n",
    "array[0] = numpy.ma.masked\n",
    "auxiliary_coordinate_name = cfdm.AuxiliaryCoordinate(\n",
    "                       properties={'long_name': 'Grid latitude name'},\n",
    "                       data=cfdm.Data(array))\n",
    "\n",
    "tas.set_construct(auxiliary_coordinate_lat, axes=[axis_Y, axis_X])\n",
    "tas.set_construct(auxiliary_coordinate_lon, axes=[axis_X, axis_Y])\n",
    "tas.set_construct(auxiliary_coordinate_name, axes=[axis_Y])\n",
    "\n",
    "# Create and set domain ancillaries\n",
    "domain_ancillary_a = cfdm.DomainAncillary(\n",
    "                   properties={'units': 'm'},\n",
    "                   data=cfdm.Data([10.]),\n",
    "                   bounds=cfdm.Bounds(data=cfdm.Data([[5., 15.]])))\n",
    "\n",
    "domain_ancillary_b = cfdm.DomainAncillary(\n",
    "                       properties={'units': '1'},\n",
    "                       data=cfdm.Data([20.]),\n",
    "                       bounds=cfdm.Bounds(data=cfdm.Data([[14, 26.]])))\n",
    "\n",
    "domain_ancillary_orog = cfdm.DomainAncillary(\n",
    "                          properties={'standard_name': 'surface_altitude',\n",
    "                                     'units': 'm'},\n",
    "                          data=cfdm.Data(numpy.arange(90.).reshape(10, 9)))\n",
    "\n",
    "tas.set_construct(domain_ancillary_a, axes=[axis_Z])\n",
    "tas.set_construct(domain_ancillary_b, axes=[axis_Z])\n",
    "tas.set_construct(domain_ancillary_orog, axes=[axis_Y, axis_X])\n",
    "\n",
    "# Create and set the coordinate references\n",
    "datum = cfdm.Datum(parameters={'earth_radius': 6371007.})\n",
    "\n",
    "coordinate_conversion_h = cfdm.CoordinateConversion(\n",
    "              parameters={'grid_mapping_name': 'rotated_latitude_longitude',\n",
    "                          'grid_north_pole_latitude': 38.0,\n",
    "                          'grid_north_pole_longitude': 190.0})\n",
    "\n",
    "horizontal_crs = cfdm.CoordinateReference(\n",
    "                   datum=datum,\n",
    "                   coordinate_conversion=coordinate_conversion_h,\n",
    "                   coordinates=[dimension_coordinate_X,\n",
    "                                dimension_coordinate_Y,\n",
    "                                auxiliary_coordinate_lat,\n",
    "                                auxiliary_coordinate_lon])\n",
    "\n",
    "coordinate_conversion_v = cfdm.CoordinateConversion(\n",
    "         parameters={'standard_name': 'atmosphere_hybrid_height_coordinate',\n",
    "                     'computed_standard_name': 'altitude'},\n",
    "         domain_ancillaries={'a': domain_ancillary_a,\n",
    "                             'b': domain_ancillary_a,\n",
    "                             'orog': domain_ancillary_orog})\n",
    "\n",
    "vertical_crs = cfdm.CoordinateReference(\n",
    "                 datum=datum,\n",
    "                 coordinate_conversion=coordinate_conversion_v,\n",
    "                coordinates=[dimension_coordinate_Z])\n",
    "\n",
    "tas.set_construct(horizontal_crs)\n",
    "tas.set_construct(vertical_crs)\n",
    "\n",
    "# Create and set the cell measures\n",
    "cell_measure = cfdm.CellMeasure(measure='area',\n",
    "                 properties={'units': 'km2'},\n",
    "                 data=cfdm.Data(numpy.arange(90.).reshape(9, 10)))\n",
    "\n",
    "tas.set_construct(cell_measure, axes=[axis_X, axis_Y])"
   ]
  },
  {
   "cell_type": "code",
   "execution_count": null,
   "metadata": {
    "attributes": {
     "classes": [
      "sourceCode"
     ],
     "id": ""
    },
    "collapsed": false
   },
   "outputs": [],
   "source": [
    "print(tas)"
   ]
  },
  {
   "cell_type": "markdown",
   "metadata": {},
   "source": [
    "---\n",
    "Domain\n",
    "-------\n",
    "[**Back to top**](#cfdm-tutorial-notebook)  \n",
    "[**Go to tutorial**](https://ncas-cms.github.io/cfdm/tutorial.html#domain)"
   ]
  },
  {
   "cell_type": "code",
   "execution_count": null,
   "metadata": {
    "collapsed": false
   },
   "outputs": [],
   "source": [
    "domain = t.get_domain()\n",
    "domain"
   ]
  },
  {
   "cell_type": "code",
   "execution_count": null,
   "metadata": {
    "collapsed": false
   },
   "outputs": [],
   "source": [
    "print(domain)"
   ]
  },
  {
   "cell_type": "code",
   "execution_count": null,
   "metadata": {
    "attributes": {
     "classes": [
      "sourceCode"
     ],
     "id": ""
    },
    "collapsed": false
   },
   "outputs": [],
   "source": [
    "domain.dump()"
   ]
  },
  {
   "cell_type": "code",
   "execution_count": null,
   "metadata": {
    "collapsed": true
   },
   "outputs": [],
   "source": [
    "domain.get_construct('latitude').set_property('test', 'set by domain')"
   ]
  },
  {
   "cell_type": "code",
   "execution_count": null,
   "metadata": {
    "collapsed": false
   },
   "outputs": [],
   "source": [
    "t.get_construct('latitude').get_property('test')"
   ]
  },
  {
   "cell_type": "code",
   "execution_count": null,
   "metadata": {
    "collapsed": true
   },
   "outputs": [],
   "source": [
    "t.get_construct('latitude').set_property('test', 'set by field')"
   ]
  },
  {
   "cell_type": "code",
   "execution_count": null,
   "metadata": {
    "collapsed": false
   },
   "outputs": [],
   "source": [
    "domain.get_construct('latitude').get_property('test')"
   ]
  },
  {
   "cell_type": "code",
   "execution_count": null,
   "metadata": {
    "collapsed": false
   },
   "outputs": [],
   "source": [
    "domain.get_construct('latitude').del_property('test')"
   ]
  },
  {
   "cell_type": "code",
   "execution_count": null,
   "metadata": {
    "attributes": {
     "classes": [
      "sourceCode"
     ],
     "id": ""
    },
    "collapsed": false
   },
   "outputs": [],
   "source": [
    "t.get_construct('latitude').has_property('test')"
   ]
  },
  {
   "cell_type": "markdown",
   "metadata": {},
   "source": [
    "---\n",
    "Copying\n",
    "--------\n",
    "[**Back to top**](#cfdm-tutorial-notebook)  \n",
    "[**Go to tutorial**](https://ncas-cms.github.io/cfdm/tutorial.html#copying)"
   ]
  },
  {
   "cell_type": "code",
   "execution_count": null,
   "metadata": {
    "collapsed": false
   },
   "outputs": [],
   "source": [
    "t"
   ]
  },
  {
   "cell_type": "code",
   "execution_count": null,
   "metadata": {
    "collapsed": false
   },
   "outputs": [],
   "source": [
    "u = t.copy()\n",
    "u"
   ]
  },
  {
   "cell_type": "code",
   "execution_count": null,
   "metadata": {
    "collapsed": false
   },
   "outputs": [],
   "source": [
    "u.data[0, 0, 0] = -1e30\n",
    "print(u.data[0, 0, 0])\n",
    "print(t.data[0, 0, 0])"
   ]
  },
  {
   "cell_type": "code",
   "execution_count": null,
   "metadata": {
    "collapsed": false
   },
   "outputs": [],
   "source": [
    "u.del_construct('grid_latitude')"
   ]
  },
  {
   "cell_type": "code",
   "execution_count": null,
   "metadata": {
    "collapsed": false
   },
   "outputs": [],
   "source": [
    "u.constructs('grid_latitude')"
   ]
  },
  {
   "cell_type": "code",
   "execution_count": null,
   "metadata": {
    "attributes": {
     "classes": [
      "sourceCode"
     ],
     "id": ""
    },
    "collapsed": false
   },
   "outputs": [],
   "source": [
    "t.constructs('grid_latitude')"
   ]
  },
  {
   "cell_type": "markdown",
   "metadata": {},
   "source": [
    "---"
   ]
  },
  {
   "cell_type": "code",
   "execution_count": null,
   "metadata": {
    "collapsed": true
   },
   "outputs": [],
   "source": [
    "import copy\n",
    "u = copy.deepcopy(t)"
   ]
  },
  {
   "cell_type": "markdown",
   "metadata": {},
   "source": [
    "---"
   ]
  },
  {
   "cell_type": "code",
   "execution_count": null,
   "metadata": {
    "attributes": {
     "classes": [
      "sourceCode"
     ],
     "id": ""
    },
    "collapsed": false
   },
   "outputs": [],
   "source": [
    "orog = t.get_construct('surface_altitude').copy()\n",
    "orog"
   ]
  },
  {
   "cell_type": "markdown",
   "metadata": {},
   "source": [
    "---\n",
    "Equality\n",
    "-----------\n",
    "[**Back to top**](#cfdm-tutorial-notebook)  \n",
    "[**Go to tutorial**](https://ncas-cms.github.io/cfdm/tutorial.html#equality)"
   ]
  },
  {
   "cell_type": "code",
   "execution_count": null,
   "metadata": {
    "collapsed": false
   },
   "outputs": [],
   "source": [
    "t.equals(t)"
   ]
  },
  {
   "cell_type": "code",
   "execution_count": null,
   "metadata": {
    "collapsed": false
   },
   "outputs": [],
   "source": [
    "t.equals(t.copy())"
   ]
  },
  {
   "cell_type": "code",
   "execution_count": null,
   "metadata": {
    "collapsed": false
   },
   "outputs": [],
   "source": [
    "t.equals(q)"
   ]
  },
  {
   "cell_type": "code",
   "execution_count": null,
   "metadata": {
    "attributes": {
     "classes": [
      "sourceCode"
     ],
     "id": ""
    },
    "collapsed": false
   },
   "outputs": [],
   "source": [
    "t.equals(q, traceback=True)"
   ]
  },
  {
   "cell_type": "markdown",
   "metadata": {},
   "source": [
    "---"
   ]
  },
  {
   "cell_type": "code",
   "execution_count": null,
   "metadata": {
    "collapsed": false
   },
   "outputs": [],
   "source": [
    "cfdm.ATOL()"
   ]
  },
  {
   "cell_type": "code",
   "execution_count": null,
   "metadata": {
    "collapsed": false
   },
   "outputs": [],
   "source": [
    "cfdm.RTOL()"
   ]
  },
  {
   "cell_type": "code",
   "execution_count": null,
   "metadata": {
    "collapsed": false
   },
   "outputs": [],
   "source": [
    "original = cfdm.RTOL(0.00001)\n",
    "cfdm.RTOL()"
   ]
  },
  {
   "cell_type": "code",
   "execution_count": null,
   "metadata": {
    "collapsed": false
   },
   "outputs": [],
   "source": [
    "cfdm.RTOL(original)"
   ]
  },
  {
   "cell_type": "code",
   "execution_count": null,
   "metadata": {
    "attributes": {
     "classes": [
      "sourceCode"
     ],
     "id": ""
    },
    "collapsed": false
   },
   "outputs": [],
   "source": [
    "cfdm.RTOL()"
   ]
  },
  {
   "cell_type": "markdown",
   "metadata": {},
   "source": [
    "---\n",
    "External variables\n",
    "-----------------------\n",
    "[**Back to top**](#cfdm-tutorial-notebook)  \n",
    "[**Go to tutorial**](https://ncas-cms.github.io/cfdm/tutorial.html#external-variables)"
   ]
  },
  {
   "cell_type": "code",
   "execution_count": null,
   "metadata": {
    "collapsed": false
   },
   "outputs": [],
   "source": [
    "!ncdump -h parent.nc"
   ]
  },
  {
   "cell_type": "code",
   "execution_count": null,
   "metadata": {
    "collapsed": false
   },
   "outputs": [],
   "source": [
    "!ncdump -h external.nc "
   ]
  },
  {
   "cell_type": "code",
   "execution_count": null,
   "metadata": {
    "collapsed": false
   },
   "outputs": [],
   "source": [
    "u = cfdm.read(DIRECTORY+'/parent.nc')[0]\n",
    "print(u)"
   ]
  },
  {
   "cell_type": "code",
   "execution_count": null,
   "metadata": {
    "collapsed": false
   },
   "outputs": [],
   "source": [
    "area = u.get_construct('measure%area')\n",
    "area"
   ]
  },
  {
   "cell_type": "code",
   "execution_count": null,
   "metadata": {
    "collapsed": false
   },
   "outputs": [],
   "source": [
    "area.nc_external()"
   ]
  },
  {
   "cell_type": "code",
   "execution_count": null,
   "metadata": {
    "collapsed": false
   },
   "outputs": [],
   "source": [
    "area.nc_get_variable()"
   ]
  },
  {
   "cell_type": "code",
   "execution_count": null,
   "metadata": {
    "collapsed": false
   },
   "outputs": [],
   "source": [
    "area.properties()"
   ]
  },
  {
   "cell_type": "code",
   "execution_count": null,
   "metadata": {
    "attributes": {
     "classes": [
      "sourceCode"
     ],
     "id": ""
    },
    "collapsed": false
   },
   "outputs": [],
   "source": [
    "area.has_data()"
   ]
  },
  {
   "cell_type": "markdown",
   "metadata": {},
   "source": [
    "---"
   ]
  },
  {
   "cell_type": "code",
   "execution_count": null,
   "metadata": {
    "collapsed": false
   },
   "outputs": [],
   "source": [
    "g = cfdm.read(DIRECTORY+'/parent.nc', external_files=DIRECTORY+'/external.nc')[0]\n",
    "print(g)"
   ]
  },
  {
   "cell_type": "code",
   "execution_count": null,
   "metadata": {
    "collapsed": false
   },
   "outputs": [],
   "source": [
    "area = g.get_construct('cell_area')\n",
    "area"
   ]
  },
  {
   "cell_type": "code",
   "execution_count": null,
   "metadata": {
    "collapsed": false
   },
   "outputs": [],
   "source": [
    "area.nc_external()"
   ]
  },
  {
   "cell_type": "code",
   "execution_count": null,
   "metadata": {
    "collapsed": false
   },
   "outputs": [],
   "source": [
    "area.nc_get_variable()"
   ]
  },
  {
   "cell_type": "code",
   "execution_count": null,
   "metadata": {
    "collapsed": false
   },
   "outputs": [],
   "source": [
    "area.properties()"
   ]
  },
  {
   "cell_type": "code",
   "execution_count": null,
   "metadata": {
    "attributes": {
     "classes": [
      "sourceCode"
     ],
     "id": ""
    },
    "collapsed": false
   },
   "outputs": [],
   "source": [
    "area.get_data()"
   ]
  },
  {
   "cell_type": "markdown",
   "metadata": {},
   "source": [
    "---"
   ]
  },
  {
   "cell_type": "code",
   "execution_count": null,
   "metadata": {
    "collapsed": false
   },
   "outputs": [],
   "source": [
    "area.nc_external(True)"
   ]
  },
  {
   "cell_type": "code",
   "execution_count": null,
   "metadata": {
    "attributes": {
     "classes": [
      "sourceCode"
     ],
     "id": ""
    },
    "collapsed": true
   },
   "outputs": [],
   "source": [
    "cfdm.write(g, 'new_parent.nc', external_file='new_external.nc')"
   ]
  },
  {
   "cell_type": "markdown",
   "metadata": {},
   "source": [
    "---\n",
    "Compression\n",
    "------------------------------------\n",
    "[**Back to top**](#cfdm-tutorial-notebook)  \n",
    "[**Go to tutorial**](https://ncas-cms.github.io/cfdm/tutorial.html#compression)"
   ]
  },
  {
   "cell_type": "markdown",
   "metadata": {},
   "source": [
    "---\n",
    "Discrete sampling geometries\n",
    "------------------------------------\n",
    "[**Back to top**](#cfdm-tutorial-notebook)  \n",
    "[**Go to tutorial**](https://ncas-cms.github.io/cfdm/tutorial.html#discrete-sampling-geometries)"
   ]
  },
  {
   "cell_type": "code",
   "execution_count": null,
   "metadata": {
    "collapsed": false
   },
   "outputs": [],
   "source": [
    "!ncdump -h contiguous.nc"
   ]
  },
  {
   "cell_type": "markdown",
   "metadata": {},
   "source": [
    "---"
   ]
  },
  {
   "cell_type": "code",
   "execution_count": null,
   "metadata": {
    "collapsed": false
   },
   "outputs": [],
   "source": [
    "h = cfdm.read(DIRECTORY+'/contiguous.nc')[0]\n",
    "print(h)"
   ]
  },
  {
   "cell_type": "code",
   "execution_count": null,
   "metadata": {
    "collapsed": false
   },
   "outputs": [],
   "source": [
    "print(h.get_array())"
   ]
  },
  {
   "cell_type": "code",
   "execution_count": null,
   "metadata": {
    "collapsed": false
   },
   "outputs": [],
   "source": [
    "h.data.get_compression_type()"
   ]
  },
  {
   "cell_type": "code",
   "execution_count": null,
   "metadata": {
    "collapsed": false
   },
   "outputs": [],
   "source": [
    "print(h.data.get_compressed_array())"
   ]
  },
  {
   "cell_type": "code",
   "execution_count": null,
   "metadata": {
    "collapsed": false
   },
   "outputs": [],
   "source": [
    "count_variable = h.data.get_count_variable()\n",
    "count_variable"
   ]
  },
  {
   "cell_type": "code",
   "execution_count": null,
   "metadata": {
    "attributes": {
     "classes": [
      "sourceCode"
     ],
     "id": ""
    },
    "collapsed": false
   },
   "outputs": [],
   "source": [
    "print(count_variable.get_array())"
   ]
  },
  {
   "cell_type": "markdown",
   "metadata": {},
   "source": [
    "---"
   ]
  },
  {
   "cell_type": "code",
   "execution_count": null,
   "metadata": {
    "collapsed": false
   },
   "outputs": [],
   "source": [
    "station = h[1]\n",
    "station"
   ]
  },
  {
   "cell_type": "code",
   "execution_count": null,
   "metadata": {
    "attributes": {
     "classes": [
      "sourceCode"
     ],
     "id": ""
    },
    "collapsed": false
   },
   "outputs": [],
   "source": [
    "print(station.get_array())"
   ]
  },
  {
   "cell_type": "markdown",
   "metadata": {},
   "source": [
    "---"
   ]
  },
  {
   "cell_type": "code",
   "execution_count": null,
   "metadata": {
    "collapsed": false
   },
   "outputs": [],
   "source": [
    "h.data.get_compression_type()"
   ]
  },
  {
   "cell_type": "code",
   "execution_count": null,
   "metadata": {
    "collapsed": false
   },
   "outputs": [],
   "source": [
    "h.data[1, 2] = -9\n",
    "print(h.get_array())"
   ]
  },
  {
   "cell_type": "code",
   "execution_count": null,
   "metadata": {
    "collapsed": false
   },
   "outputs": [],
   "source": [
    "h.data.get_compression_type()"
   ]
  },
  {
   "cell_type": "markdown",
   "metadata": {},
   "source": [
    "---"
   ]
  },
  {
   "cell_type": "code",
   "execution_count": null,
   "metadata": {
    "attributes": {
     "classes": [
      "sourceCode"
     ],
     "id": ""
    },
    "collapsed": true
   },
   "outputs": [],
   "source": [
    "import numpy\n",
    "import cfdm\n",
    "\n",
    "# Define the ragged array values\n",
    "ragged_array = numpy.array([280, 282.5, 281, 279, 278, 279.5],\n",
    "                           dtype='float32')\n",
    "\n",
    "# Define the count array values\n",
    "count_array = [2, 4]\n",
    "\n",
    "# Create the count variable\n",
    "count_variable = cfdm.Count(data=cfdm.Data(count_array))\n",
    "count_variable.set_property('long_name', 'number of obs for this timeseries')\n",
    "\n",
    "# Create the contiguous ragged array object\n",
    "array = cfdm.RaggedContiguousArray(\n",
    "                 compressed_array=cfdm.NumpyArray(ragged_array),\n",
    "                 shape=(2, 4), size=8, ndim=2,\n",
    "                 count_variable=count_variable)\n",
    "\n",
    "# Create the field construct with the domain axes and the ragged\n",
    "# array\n",
    "tas = cfdm.Field()\n",
    "tas.properties({'standard_name': 'air_temperature',\n",
    "                'units': 'K'})\n",
    "\n",
    "# Create the domain axis constructs for the uncompressed array\n",
    "X = tas.set_construct(cfdm.DomainAxis(4))\n",
    "Y = tas.set_construct(cfdm.DomainAxis(2))\n",
    "\n",
    "# Set the data for the field\n",
    "tas.set_data(cfdm.Data(array), axes=[Y, X])"
   ]
  },
  {
   "cell_type": "markdown",
   "metadata": {},
   "source": [
    "---"
   ]
  },
  {
   "cell_type": "code",
   "execution_count": null,
   "metadata": {
    "collapsed": false
   },
   "outputs": [],
   "source": [
    "tas"
   ]
  },
  {
   "cell_type": "code",
   "execution_count": null,
   "metadata": {
    "collapsed": false
   },
   "outputs": [],
   "source": [
    "print(tas.get_array())"
   ]
  },
  {
   "cell_type": "code",
   "execution_count": null,
   "metadata": {
    "collapsed": false
   },
   "outputs": [],
   "source": [
    "tas.data.get_compression_type()"
   ]
  },
  {
   "cell_type": "code",
   "execution_count": null,
   "metadata": {
    "collapsed": false
   },
   "outputs": [],
   "source": [
    "print(tas.data.get_compressed_array())"
   ]
  },
  {
   "cell_type": "code",
   "execution_count": null,
   "metadata": {
    "collapsed": false
   },
   "outputs": [],
   "source": [
    "count_variable = tas.data.get_count_variable()\n",
    "count_variable"
   ]
  },
  {
   "cell_type": "code",
   "execution_count": null,
   "metadata": {
    "attributes": {
     "classes": [
      "sourceCode"
     ],
     "id": ""
    },
    "collapsed": false
   },
   "outputs": [],
   "source": [
    "print(count_variable.get_array())"
   ]
  },
  {
   "cell_type": "code",
   "execution_count": null,
   "metadata": {
    "collapsed": true
   },
   "outputs": [],
   "source": [
    "cfdm.write(tas, 'tas_contiguous.nc')"
   ]
  },
  {
   "cell_type": "code",
   "execution_count": null,
   "metadata": {
    "collapsed": false
   },
   "outputs": [],
   "source": [
    "!ncdump tas_contiguous.nc"
   ]
  },
  {
   "cell_type": "markdown",
   "metadata": {},
   "source": [
    "---\n",
    "Gathering\n",
    "----------\n",
    "[**Back to top**](#cfdm-tutorial-notebook)  \n",
    "[**Go to tutorial**](https://ncas-cms.github.io/cfdm/tutorial.html#gathering)"
   ]
  },
  {
   "cell_type": "code",
   "execution_count": null,
   "metadata": {
    "collapsed": false
   },
   "outputs": [],
   "source": [
    "p = cfdm.read(DIRECTORY+'/gathered.nc')[0]\n",
    "print(p)"
   ]
  },
  {
   "cell_type": "code",
   "execution_count": null,
   "metadata": {
    "collapsed": false
   },
   "outputs": [],
   "source": [
    "print(p.get_array())"
   ]
  },
  {
   "cell_type": "code",
   "execution_count": null,
   "metadata": {
    "collapsed": false
   },
   "outputs": [],
   "source": [
    "p.data.get_compression_type()"
   ]
  },
  {
   "cell_type": "code",
   "execution_count": null,
   "metadata": {
    "collapsed": false
   },
   "outputs": [],
   "source": [
    "print(p.data.get_compressed_array())"
   ]
  },
  {
   "cell_type": "code",
   "execution_count": null,
   "metadata": {
    "collapsed": false
   },
   "outputs": [],
   "source": [
    "list_variable = p.data.get_list_variable()\n",
    "list_variable"
   ]
  },
  {
   "cell_type": "code",
   "execution_count": null,
   "metadata": {
    "attributes": {
     "classes": [
      "sourceCode"
     ],
     "id": ""
    },
    "collapsed": false
   },
   "outputs": [],
   "source": [
    "print(list_variable.get_array())"
   ]
  },
  {
   "cell_type": "markdown",
   "metadata": {},
   "source": [
    "---"
   ]
  },
  {
   "cell_type": "code",
   "execution_count": null,
   "metadata": {
    "collapsed": false
   },
   "outputs": [],
   "source": [
    "p[0]"
   ]
  },
  {
   "cell_type": "code",
   "execution_count": null,
   "metadata": {
    "collapsed": false
   },
   "outputs": [],
   "source": [
    "p[1, :, 3:5]"
   ]
  },
  {
   "cell_type": "markdown",
   "metadata": {},
   "source": [
    "---"
   ]
  },
  {
   "cell_type": "code",
   "execution_count": null,
   "metadata": {
    "collapsed": false
   },
   "outputs": [],
   "source": [
    "p.data.get_compression_type()"
   ]
  },
  {
   "cell_type": "code",
   "execution_count": null,
   "metadata": {
    "collapsed": true
   },
   "outputs": [],
   "source": [
    "p.data[1] = -9"
   ]
  },
  {
   "cell_type": "code",
   "execution_count": null,
   "metadata": {
    "collapsed": false
   },
   "outputs": [],
   "source": [
    "p.data.get_compression_type()"
   ]
  },
  {
   "cell_type": "markdown",
   "metadata": {},
   "source": [
    "---"
   ]
  },
  {
   "cell_type": "code",
   "execution_count": null,
   "metadata": {
    "attributes": {
     "classes": [
      "sourceCode"
     ],
     "id": ""
    },
    "collapsed": true
   },
   "outputs": [],
   "source": [
    "import numpy   \n",
    "import cfdm\n",
    "\n",
    "# Define the gathered values\n",
    "gathered_array = numpy.array([[280, 282.5, 281], [279, 278, 277.5]],\n",
    "                             dtype='float32')\n",
    "\n",
    "# Define the list array values\n",
    "list_array = [1, 4, 5]\n",
    "\n",
    "# Create the list variable\n",
    "list_variable = cfdm.List(data=cfdm.Data(list_array))\n",
    "\n",
    "# Create the gathered array object\n",
    "array = cfdm.GatheredArray(\n",
    "                 compressed_array=cfdm.NumpyArray(gathered_array),\n",
    "         compressed_dimension=1,\n",
    "                 shape=(2, 3, 2), size=12, ndim=3,\n",
    "                 list_variable=list_variable)\n",
    "\n",
    "# Create the field construct with the domain axes and the gathered\n",
    "# array\n",
    "tas = cfdm.Field(properties={'standard_name': 'air_temperature',\n",
    "                             'units': 'K'})\n",
    "\n",
    "# Create the domain axis constructs for the uncompressed array\n",
    "T = tas.set_construct(cfdm.DomainAxis(2))\n",
    "Y = tas.set_construct(cfdm.DomainAxis(3))\n",
    "X = tas.set_construct(cfdm.DomainAxis(2))\n",
    "\n",
    "# Set the data for the field\n",
    "tas.set_data(cfdm.Data(array), axes=[T, Y, X])                 "
   ]
  },
  {
   "cell_type": "markdown",
   "metadata": {},
   "source": [
    "---"
   ]
  },
  {
   "cell_type": "code",
   "execution_count": null,
   "metadata": {
    "collapsed": false
   },
   "outputs": [],
   "source": [
    "tas"
   ]
  },
  {
   "cell_type": "code",
   "execution_count": null,
   "metadata": {
    "collapsed": false
   },
   "outputs": [],
   "source": [
    "print(tas.get_array())"
   ]
  },
  {
   "cell_type": "code",
   "execution_count": null,
   "metadata": {
    "collapsed": false
   },
   "outputs": [],
   "source": [
    "tas.data.get_compression_type()"
   ]
  },
  {
   "cell_type": "code",
   "execution_count": null,
   "metadata": {
    "collapsed": false
   },
   "outputs": [],
   "source": [
    "print(tas.data.get_compressed_array())"
   ]
  },
  {
   "cell_type": "code",
   "execution_count": null,
   "metadata": {
    "collapsed": false
   },
   "outputs": [],
   "source": [
    "list_variable = tas.data.get_list_variable()\n",
    "list_variable "
   ]
  },
  {
   "cell_type": "code",
   "execution_count": null,
   "metadata": {
    "attributes": {
     "classes": [
      "sourceCode"
     ],
     "id": ""
    },
    "collapsed": false
   },
   "outputs": [],
   "source": [
    "print(list_variable.get_array())"
   ]
  },
  {
   "cell_type": "code",
   "execution_count": null,
   "metadata": {
    "collapsed": true
   },
   "outputs": [],
   "source": [
    "cfdm.write(tas, 'tas_gathered.nc')"
   ]
  },
  {
   "cell_type": "code",
   "execution_count": null,
   "metadata": {
    "collapsed": false
   },
   "outputs": [],
   "source": [
    "!ncdump tas_gathered.nc"
   ]
  }
 ],
 "metadata": {
  "kernelspec": {
   "display_name": "Python 2",
   "language": "python",
   "name": "python2"
  },
  "language_info": {
   "codemirror_mode": {
    "name": "ipython",
    "version": 2
   },
   "file_extension": ".py",
   "mimetype": "text/x-python",
   "name": "python",
   "nbconvert_exporter": "python",
   "pygments_lexer": "ipython2",
   "version": "2.7.15"
  }
 },
 "nbformat": 4,
 "nbformat_minor": 2
}
