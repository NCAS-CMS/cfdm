{
 "cells": [
  {
   "cell_type": "markdown",
   "metadata": {},
   "source": [
    "\n",
    "# cfdm tutorial notebook\n",
    "\n",
    "---\n",
    "\n",
    "## This notebook contains executable code examples from the [cfdm tutorial](https://ncas-cms.github.io/cfdm/tutorial.html).\n",
    "\n",
    "---\n",
    "## Contents\n",
    "\n",
    "* [**CF version**](#CF-version)\n",
    "* [**Reading datasets**](#Reading-datasets)\n",
    "* [**Inspection**](#Inspection)\n",
    "* [**Properties**](#Properties)\n",
    "* [**Data**](#Data)\n",
    "* [**Subspacing**](#Subspacing)\n",
    "* [**Metadata constructs**](#Metadata-constructs)\n",
    "* [**NetCDF interface**](#NetCDF-interface)\n",
    "* [**Writing to disk**](#Writing-to-disk)\n",
    "* [**Field creation**](#Field-creation)\n",
    "* [**Domain**](#Domain)\n",
    "* [**Copying**](#Copying)\n",
    "* [**Equality**](#Equality)\n",
    "* [**External variables**](#External-variables)\n",
    "\n",
    "* [**Discrete sampling geometries**](#Discrete-sampling-geometries)\n",
    "* [**Gathering**](#Gathering)\n",
    "\n",
    "---\n",
    "## Before you start\n",
    "\n",
    "### 0. [Install](https://ncas-cms.github.io/cfdm/installation.html) the cfdm package\n",
    "\n",
    "### 1. Download the test files\n",
    "\n",
    "* [**file.nc**](https://github.com/NCAS-CMS/cfdm/raw/master/docs/netcdf_files/file.nc)\n",
    "* [**parent.nc**](https://github.com/NCAS-CMS/cfdm/raw/master/docs/netcdf_files/parent.nc)\n",
    "* [**external.nc**](https://github.com/NCAS-CMS/cfdm/raw/master/docs/netcdf_files/external.nc)\n",
    "* [**contiguous.nc**](https://github.com/NCAS-CMS/cfdm/raw/master/docs/netcdf_files/contiguous.nc)\n",
    "* [**gathered.nc**](https://github.com/NCAS-CMS/cfdm/raw/master/docs/netcdf_files/gathered.nc)\n",
    "\n",
    "### 2. Set the local directory which contains the test files\n",
    "\n",
    "#### By default it is assumed that they are in same directory as this notebook file"
   ]
  },
  {
   "cell_type": "code",
   "execution_count": 1,
   "metadata": {
    "collapsed": true
   },
   "outputs": [],
   "source": [
    "DIRECTORY = '.'"
   ]
  },
  {
   "cell_type": "markdown",
   "metadata": {
    "collapsed": true
   },
   "source": [
    "### 3. Ensure that  printing works equally well for Python 2 and 3"
   ]
  },
  {
   "cell_type": "code",
   "execution_count": 2,
   "metadata": {
    "collapsed": true
   },
   "outputs": [],
   "source": [
    "from __future__ import print_function"
   ]
  },
  {
   "cell_type": "markdown",
   "metadata": {},
   "source": [
    "---\n",
    "The cfdm package is imported as follows:\n",
    "---------------------------------------------\n",
    "[**Back to top**](#cfdm-tutorial-notebook)  \n",
    "[**Go to tutorial**](https://ncas-cms.github.io/cfdm/tutorial.html)"
   ]
  },
  {
   "cell_type": "code",
   "execution_count": 3,
   "metadata": {
    "collapsed": true
   },
   "outputs": [],
   "source": [
    "import cfdm"
   ]
  },
  {
   "cell_type": "markdown",
   "metadata": {},
   "source": [
    "---\n",
    "CF version\n",
    "------------\n",
    "[**Back to top**](#cfdm-tutorial-notebook)  \n",
    "[**Go to tutorial**](https://ncas-cms.github.io/cfdm/tutorial.html#cf_version)  "
   ]
  },
  {
   "cell_type": "code",
   "execution_count": 4,
   "metadata": {
    "collapsed": false
   },
   "outputs": [
    {
     "data": {
      "text/plain": [
       "'1.7'"
      ]
     },
     "execution_count": 4,
     "metadata": {},
     "output_type": "execute_result"
    }
   ],
   "source": [
    "cfdm.CF()"
   ]
  },
  {
   "cell_type": "markdown",
   "metadata": {},
   "source": [
    "---\n",
    "Reading datasets\n",
    "------------------\n",
    "[**Back to top**](#cfdm-tutorial-notebook)  \n",
    "[**Go to tutorial**](https://ncas-cms.github.io/cfdm/tutorial.html#reading)"
   ]
  },
  {
   "cell_type": "code",
   "execution_count": 5,
   "metadata": {
    "attributes": {
     "classes": [
      "sourceCode"
     ],
     "id": ""
    },
    "collapsed": false
   },
   "outputs": [
    {
     "data": {
      "text/plain": [
       "list"
      ]
     },
     "execution_count": 5,
     "metadata": {},
     "output_type": "execute_result"
    }
   ],
   "source": [
    "x = cfdm.read(DIRECTORY+'/file.nc')\n",
    "type(x)"
   ]
  },
  {
   "cell_type": "markdown",
   "metadata": {},
   "source": [
    "---\n",
    "Inspection\n",
    "-----------\n",
    "[**Back to top**](#cfdm-tutorial-notebook)  \n",
    "[**Go to tutorial**](https://ncas-cms.github.io/cfdm/tutorial.html#inspection)"
   ]
  },
  {
   "cell_type": "markdown",
   "metadata": {},
   "source": [
    "### Minimal detail"
   ]
  },
  {
   "cell_type": "code",
   "execution_count": 6,
   "metadata": {
    "collapsed": false
   },
   "outputs": [
    {
     "data": {
      "text/plain": [
       "[<Field: air_temperature(atmosphere_hybrid_height_coordinate(1), grid_latitude(10), grid_longitude(9)) K>,\n",
       " <Field: specific_humidity(latitude(5), longitude(8)) 1>]"
      ]
     },
     "execution_count": 6,
     "metadata": {},
     "output_type": "execute_result"
    }
   ],
   "source": [
    "x"
   ]
  },
  {
   "cell_type": "code",
   "execution_count": 7,
   "metadata": {
    "attributes": {
     "classes": [
      "sourceCode"
     ],
     "id": ""
    },
    "collapsed": false
   },
   "outputs": [
    {
     "data": {
      "text/plain": [
       "<Field: specific_humidity(latitude(5), longitude(8)) 1>"
      ]
     },
     "execution_count": 7,
     "metadata": {},
     "output_type": "execute_result"
    }
   ],
   "source": [
    "(t, q) = x\n",
    "q"
   ]
  },
  {
   "cell_type": "markdown",
   "metadata": {},
   "source": [
    "### Medium detail"
   ]
  },
  {
   "cell_type": "code",
   "execution_count": 8,
   "metadata": {
    "collapsed": false
   },
   "outputs": [
    {
     "name": "stdout",
     "output_type": "stream",
     "text": [
      "Field: specific_humidity (ncvar%q)\n",
      "----------------------------------\n",
      "Data            : specific_humidity(latitude(5), longitude(8)) 1\n",
      "Cell methods    : area: mean\n",
      "Dimension coords: latitude(5) = [-75.0, ..., 75.0] degrees_north\n",
      "                : longitude(8) = [22.5, ..., 337.5] degrees_east\n",
      "                : time(1) = [2019-01-01 00:00:00]\n",
      "\n",
      "\n"
     ]
    }
   ],
   "source": [
    "print(q)"
   ]
  },
  {
   "cell_type": "code",
   "execution_count": 9,
   "metadata": {
    "attributes": {
     "classes": [
      "sourceCode"
     ],
     "id": ""
    },
    "collapsed": false
   },
   "outputs": [
    {
     "name": "stdout",
     "output_type": "stream",
     "text": [
      "Field: air_temperature (ncvar%ta)\n",
      "---------------------------------\n",
      "Data            : air_temperature(atmosphere_hybrid_height_coordinate(1), grid_latitude(10), grid_longitude(9)) K\n",
      "Cell methods    : grid_latitude(10): grid_longitude(9): mean where land (interval: 0.1 degrees) time(1): maximum\n",
      "Field ancils    : air_temperature standard_error(grid_latitude(10), grid_longitude(9)) = [[0.76, ..., 0.32]] K\n",
      "Dimension coords: atmosphere_hybrid_height_coordinate(1) = [1.5]\n",
      "                : grid_latitude(10) = [2.2, ..., -1.76] degrees\n",
      "                : grid_longitude(9) = [-4.7, ..., -1.18] degrees\n",
      "                : time(1) = [2019-01-01 00:00:00]\n",
      "Auxiliary coords: latitude(grid_latitude(10), grid_longitude(9)) = [[53.941, ..., 50.225]] degrees_N\n",
      "                : longitude(grid_longitude(9), grid_latitude(10)) = [[2.004, ..., 8.156]] degrees_E\n",
      "                : long_name:Grid latitude name(grid_latitude(10)) = [--, ..., kappa]\n",
      "Cell measures   : measure%area(grid_longitude(9), grid_latitude(10)) = [[2391.9657, ..., 2392.6009]] km2\n",
      "Coord references: atmosphere_hybrid_height_coordinate\n",
      "                : rotated_latitude_longitude\n",
      "Domain ancils   : ncvar%a(atmosphere_hybrid_height_coordinate(1)) = [10.0] m\n",
      "                : ncvar%b(atmosphere_hybrid_height_coordinate(1)) = [20.0]\n",
      "                : surface_altitude(grid_latitude(10), grid_longitude(9)) = [[0.0, ..., 270.0]] m\n",
      "\n",
      "\n"
     ]
    }
   ],
   "source": [
    "print(t)"
   ]
  },
  {
   "cell_type": "code",
   "execution_count": 10,
   "metadata": {
    "collapsed": false
   },
   "outputs": [
    {
     "name": "stdout",
     "output_type": "stream",
     "text": [
      "----------------------------------\n",
      "Field: specific_humidity (ncvar%q)\n",
      "----------------------------------\n",
      "Conventions = 'CF-1.7'\n",
      "project = 'research'\n",
      "standard_name = 'specific_humidity'\n",
      "units = '1'\n",
      "\n",
      "Data(latitude(5), longitude(8)) = [[0.007, ..., 0.013]] 1\n",
      "\n",
      "Cell Method: area: mean\n",
      "\n",
      "Domain Axis: latitude(5)\n",
      "Domain Axis: longitude(8)\n",
      "Domain Axis: time(1)\n",
      "\n",
      "Dimension coordinate: latitude\n",
      "    standard_name = 'latitude'\n",
      "    units = 'degrees_north'\n",
      "    Data(latitude(5)) = [-75.0, ..., 75.0] degrees_north\n",
      "    Bounds:Data(latitude(5), 2) = [[-90.0, ..., 90.0]] degrees_north\n",
      "\n",
      "Dimension coordinate: longitude\n",
      "    standard_name = 'longitude'\n",
      "    units = 'degrees_east'\n",
      "    Data(longitude(8)) = [22.5, ..., 337.5] degrees_east\n",
      "    Bounds:Data(longitude(8), 2) = [[0.0, ..., 360.0]] degrees_east\n",
      "\n",
      "Dimension coordinate: time\n",
      "    standard_name = 'time'\n",
      "    units = 'days since 2018-12-01'\n",
      "    Data(time(1)) = [2019-01-01 00:00:00]\n",
      "\n"
     ]
    }
   ],
   "source": [
    "q.dump()"
   ]
  },
  {
   "cell_type": "code",
   "execution_count": 11,
   "metadata": {
    "attributes": {
     "classes": [
      "sourceCode"
     ],
     "id": ""
    },
    "collapsed": false
   },
   "outputs": [
    {
     "name": "stdout",
     "output_type": "stream",
     "text": [
      "---------------------------------\n",
      "Field: air_temperature (ncvar%ta)\n",
      "---------------------------------\n",
      "Conventions = 'CF-1.7'\n",
      "project = 'research'\n",
      "standard_name = 'air_temperature'\n",
      "units = 'K'\n",
      "\n",
      "Data(atmosphere_hybrid_height_coordinate(1), grid_latitude(10), grid_longitude(9)) = [[[262.8, ..., 269.7]]] K\n",
      "\n",
      "Cell Method: grid_latitude(10): grid_longitude(9): mean where land (interval: 0.1 degrees)\n",
      "Cell Method: time(1): maximum\n",
      "\n",
      "Field Ancillary: air_temperature standard_error\n",
      "    standard_name = 'air_temperature standard_error'\n",
      "    units = 'K'\n",
      "    Data(grid_latitude(10), grid_longitude(9)) = [[0.76, ..., 0.32]] K\n",
      "\n",
      "Domain Axis: atmosphere_hybrid_height_coordinate(1)\n",
      "Domain Axis: grid_latitude(10)\n",
      "Domain Axis: grid_longitude(9)\n",
      "Domain Axis: time(1)\n",
      "\n",
      "Dimension coordinate: atmosphere_hybrid_height_coordinate\n",
      "    computed_standard_name = 'altitude'\n",
      "    standard_name = 'atmosphere_hybrid_height_coordinate'\n",
      "    Data(atmosphere_hybrid_height_coordinate(1)) = [1.5]\n",
      "    Bounds:Data(atmosphere_hybrid_height_coordinate(1), 2) = [[1.0, 2.0]]\n",
      "\n",
      "Dimension coordinate: grid_latitude\n",
      "    standard_name = 'grid_latitude'\n",
      "    units = 'degrees'\n",
      "    Data(grid_latitude(10)) = [2.2, ..., -1.76] degrees\n",
      "    Bounds:Data(grid_latitude(10), 2) = [[2.42, ..., -1.98]] degrees\n",
      "\n",
      "Dimension coordinate: grid_longitude\n",
      "    standard_name = 'grid_longitude'\n",
      "    units = 'degrees'\n",
      "    Data(grid_longitude(9)) = [-4.7, ..., -1.18] degrees\n",
      "    Bounds:Data(grid_longitude(9), 2) = [[-4.92, ..., -0.96]] degrees\n",
      "\n",
      "Dimension coordinate: time\n",
      "    standard_name = 'time'\n",
      "    units = 'days since 2018-12-01'\n",
      "    Data(time(1)) = [2019-01-01 00:00:00]\n",
      "\n",
      "Auxiliary coordinate: latitude\n",
      "    standard_name = 'latitude'\n",
      "    units = 'degrees_N'\n",
      "    Data(grid_latitude(10), grid_longitude(9)) = [[53.941, ..., 50.225]] degrees_N\n",
      "\n",
      "Auxiliary coordinate: longitude\n",
      "    standard_name = 'longitude'\n",
      "    units = 'degrees_E'\n",
      "    Data(grid_longitude(9), grid_latitude(10)) = [[2.004, ..., 8.156]] degrees_E\n",
      "\n",
      "Auxiliary coordinate: long_name:Grid latitude name\n",
      "    long_name = 'Grid latitude name'\n",
      "    Data(grid_latitude(10)) = [--, ..., kappa]\n",
      "\n",
      "Domain ancillary: ncvar%a\n",
      "    units = 'm'\n",
      "    Data(atmosphere_hybrid_height_coordinate(1)) = [10.0] m\n",
      "    Bounds:Data(atmosphere_hybrid_height_coordinate(1), 2) = [[5.0, 15.0]] m\n",
      "\n",
      "Domain ancillary: ncvar%b\n",
      "    Data(atmosphere_hybrid_height_coordinate(1)) = [20.0]\n",
      "    Bounds:Data(atmosphere_hybrid_height_coordinate(1), 2) = [[14.0, 26.0]]\n",
      "\n",
      "Domain ancillary: surface_altitude\n",
      "    standard_name = 'surface_altitude'\n",
      "    units = 'm'\n",
      "    Data(grid_latitude(10), grid_longitude(9)) = [[0.0, ..., 270.0]] m\n",
      "\n",
      "Coordinate reference: atmosphere_hybrid_height_coordinate\n",
      "    Coordinate conversion:computed_standard_name = altitude\n",
      "    Coordinate conversion:standard_name = atmosphere_hybrid_height_coordinate\n",
      "    Coordinate conversion:a = Domain Ancillary: ncvar%a\n",
      "    Coordinate conversion:b = Domain Ancillary: ncvar%b\n",
      "    Coordinate conversion:orog = Domain Ancillary: surface_altitude\n",
      "    Datum:earth_radius = 6371007\n",
      "    Dimension Coordinate: atmosphere_hybrid_height_coordinate\n",
      "\n",
      "Coordinate reference: rotated_latitude_longitude\n",
      "    Coordinate conversion:grid_mapping_name = rotated_latitude_longitude\n",
      "    Coordinate conversion:grid_north_pole_latitude = 38.0\n",
      "    Coordinate conversion:grid_north_pole_longitude = 190.0\n",
      "    Datum:earth_radius = 6371007\n",
      "    Dimension Coordinate: grid_longitude\n",
      "    Dimension Coordinate: grid_latitude\n",
      "    Auxiliary Coordinate: longitude\n",
      "    Auxiliary Coordinate: latitude\n",
      "\n",
      "Cell measure: measure%area\n",
      "    units = 'km2'\n",
      "    Data(grid_longitude(9), grid_latitude(10)) = [[2391.9657, ..., 2392.6009]] km2\n",
      "\n"
     ]
    }
   ],
   "source": [
    "t.dump()"
   ]
  },
  {
   "cell_type": "markdown",
   "metadata": {},
   "source": [
    "---\n",
    "Properties\n",
    "----------\n",
    "[**Back to top**](#cfdm-tutorial-notebook)  \n",
    "[**Go to tutorial**](https://ncas-cms.github.io/cfdm/tutorial.html#properties)  "
   ]
  },
  {
   "cell_type": "code",
   "execution_count": 12,
   "metadata": {
    "attributes": {
     "classes": [
      "sourceCode"
     ],
     "id": ""
    },
    "collapsed": false
   },
   "outputs": [
    {
     "data": {
      "text/plain": [
       "{'Conventions': 'CF-1.7',\n",
       " 'project': 'research',\n",
       " 'standard_name': 'air_temperature',\n",
       " 'units': 'K'}"
      ]
     },
     "execution_count": 12,
     "metadata": {},
     "output_type": "execute_result"
    }
   ],
   "source": [
    "t.properties()"
   ]
  },
  {
   "cell_type": "markdown",
   "metadata": {},
   "source": [
    "---"
   ]
  },
  {
   "cell_type": "code",
   "execution_count": 13,
   "metadata": {
    "collapsed": false
   },
   "outputs": [
    {
     "data": {
      "text/plain": [
       "True"
      ]
     },
     "execution_count": 13,
     "metadata": {},
     "output_type": "execute_result"
    }
   ],
   "source": [
    "t.has_property('standard_name')"
   ]
  },
  {
   "cell_type": "code",
   "execution_count": 14,
   "metadata": {
    "collapsed": false
   },
   "outputs": [
    {
     "data": {
      "text/plain": [
       "'air_temperature'"
      ]
     },
     "execution_count": 14,
     "metadata": {},
     "output_type": "execute_result"
    }
   ],
   "source": [
    "t.get_property('standard_name')"
   ]
  },
  {
   "cell_type": "code",
   "execution_count": 15,
   "metadata": {
    "collapsed": false
   },
   "outputs": [
    {
     "data": {
      "text/plain": [
       "'air_temperature'"
      ]
     },
     "execution_count": 15,
     "metadata": {},
     "output_type": "execute_result"
    }
   ],
   "source": [
    "t.del_property('standard_name')"
   ]
  },
  {
   "cell_type": "code",
   "execution_count": 16,
   "metadata": {
    "collapsed": false
   },
   "outputs": [
    {
     "data": {
      "text/plain": [
       "'not set'"
      ]
     },
     "execution_count": 16,
     "metadata": {},
     "output_type": "execute_result"
    }
   ],
   "source": [
    "t.get_property('standard_name', 'not set')"
   ]
  },
  {
   "cell_type": "code",
   "execution_count": 17,
   "metadata": {
    "attributes": {
     "classes": [
      "sourceCode"
     ],
     "id": ""
    },
    "collapsed": false
   },
   "outputs": [
    {
     "data": {
      "text/plain": [
       "'air_temperature'"
      ]
     },
     "execution_count": 17,
     "metadata": {},
     "output_type": "execute_result"
    }
   ],
   "source": [
    "t.set_property('standard_name', 'air_temperature')\n",
    "t.get_property('standard_name', 'not set')"
   ]
  },
  {
   "cell_type": "markdown",
   "metadata": {},
   "source": [
    "---"
   ]
  },
  {
   "cell_type": "code",
   "execution_count": 18,
   "metadata": {
    "collapsed": false
   },
   "outputs": [
    {
     "data": {
      "text/plain": [
       "{'project': 'research',\n",
       " 'units': 'K',\n",
       " 'standard_name': 'air_temperature',\n",
       " 'Conventions': 'CF-1.7'}"
      ]
     },
     "execution_count": 18,
     "metadata": {},
     "output_type": "execute_result"
    }
   ],
   "source": [
    "original = t.properties({'foo': 'bar', 'units': 'K'})\n",
    "original"
   ]
  },
  {
   "cell_type": "code",
   "execution_count": 19,
   "metadata": {
    "collapsed": false
   },
   "outputs": [
    {
     "data": {
      "text/plain": [
       "{'foo': 'bar', 'units': 'K'}"
      ]
     },
     "execution_count": 19,
     "metadata": {},
     "output_type": "execute_result"
    }
   ],
   "source": [
    "t.properties()"
   ]
  },
  {
   "cell_type": "code",
   "execution_count": 20,
   "metadata": {
    "collapsed": false
   },
   "outputs": [
    {
     "data": {
      "text/plain": [
       "{'foo': 'bar', 'units': 'K'}"
      ]
     },
     "execution_count": 20,
     "metadata": {},
     "output_type": "execute_result"
    }
   ],
   "source": [
    "t.properties(original)"
   ]
  },
  {
   "cell_type": "code",
   "execution_count": 21,
   "metadata": {
    "attributes": {
     "classes": [
      "sourceCode"
     ],
     "id": ""
    },
    "collapsed": false
   },
   "outputs": [
    {
     "data": {
      "text/plain": [
       "{'project': 'research',\n",
       " 'units': 'K',\n",
       " 'standard_name': 'air_temperature',\n",
       " 'Conventions': 'CF-1.7'}"
      ]
     },
     "execution_count": 21,
     "metadata": {},
     "output_type": "execute_result"
    }
   ],
   "source": [
    "t.properties()"
   ]
  },
  {
   "cell_type": "markdown",
   "metadata": {},
   "source": [
    "---\n",
    "Data\n",
    "-----\n",
    "[**Back to top**](#cfdm-tutorial-notebook)  \n",
    "[**Go to tutorial**](https://ncas-cms.github.io/cfdm/tutorial.html#data)"
   ]
  },
  {
   "cell_type": "code",
   "execution_count": 22,
   "metadata": {
    "attributes": {
     "classes": [
      "sourceCode"
     ],
     "id": ""
    },
    "collapsed": false
   },
   "outputs": [
    {
     "data": {
      "text/plain": [
       "<Data: [[[262.8, ..., 269.7]]] K>"
      ]
     },
     "execution_count": 22,
     "metadata": {},
     "output_type": "execute_result"
    }
   ],
   "source": [
    "t.get_data()"
   ]
  },
  {
   "cell_type": "markdown",
   "metadata": {},
   "source": [
    "---"
   ]
  },
  {
   "cell_type": "code",
   "execution_count": 23,
   "metadata": {
    "attributes": {
     "classes": [
      "sourceCode"
     ],
     "id": ""
    },
    "collapsed": false
   },
   "outputs": [
    {
     "name": "stdout",
     "output_type": "stream",
     "text": [
      "[[[262.8 270.5 279.8 269.5 260.9 265.0 263.5 278.9 269.2]\n",
      "  [272.7 268.4 279.5 278.9 263.8 263.3 274.2 265.7 279.5]\n",
      "  [269.7 279.1 273.4 274.2 279.6 270.2 280.0 272.5 263.7]\n",
      "  [261.7 260.6 270.8 260.3 265.6 279.4 276.9 267.6 260.6]\n",
      "  [264.2 275.9 262.5 264.9 264.7 270.2 270.4 268.6 275.3]\n",
      "  [263.9 263.8 272.1 263.7 272.2 264.2 260.0 263.5 270.2]\n",
      "  [273.8 273.1 268.5 272.3 264.3 278.7 270.6 273.0 270.6]\n",
      "  [267.9 273.5 279.8 260.3 261.2 275.3 271.2 260.8 268.9]\n",
      "  [270.9 278.7 273.2 261.7 271.6 265.8 273.0 278.5 266.4]\n",
      "  [276.4 264.2 276.3 266.1 276.1 268.1 277.0 273.4 269.7]]]\n"
     ]
    }
   ],
   "source": [
    "print(t.get_array())"
   ]
  },
  {
   "cell_type": "markdown",
   "metadata": {},
   "source": [
    "---"
   ]
  },
  {
   "cell_type": "code",
   "execution_count": 24,
   "metadata": {
    "collapsed": false
   },
   "outputs": [
    {
     "data": {
      "text/plain": [
       "dtype('float64')"
      ]
     },
     "execution_count": 24,
     "metadata": {},
     "output_type": "execute_result"
    }
   ],
   "source": [
    "t.data.dtype"
   ]
  },
  {
   "cell_type": "code",
   "execution_count": 25,
   "metadata": {
    "collapsed": false
   },
   "outputs": [
    {
     "data": {
      "text/plain": [
       "3"
      ]
     },
     "execution_count": 25,
     "metadata": {},
     "output_type": "execute_result"
    }
   ],
   "source": [
    "t.data.ndim"
   ]
  },
  {
   "cell_type": "code",
   "execution_count": 26,
   "metadata": {
    "collapsed": false
   },
   "outputs": [
    {
     "data": {
      "text/plain": [
       "(1, 10, 9)"
      ]
     },
     "execution_count": 26,
     "metadata": {},
     "output_type": "execute_result"
    }
   ],
   "source": [
    "t.data.shape"
   ]
  },
  {
   "cell_type": "code",
   "execution_count": 27,
   "metadata": {
    "attributes": {
     "classes": [
      "sourceCode"
     ],
     "id": ""
    },
    "collapsed": false
   },
   "outputs": [
    {
     "data": {
      "text/plain": [
       "90"
      ]
     },
     "execution_count": 27,
     "metadata": {},
     "output_type": "execute_result"
    }
   ],
   "source": [
    "t.data.size"
   ]
  },
  {
   "cell_type": "markdown",
   "metadata": {},
   "source": [
    "### Indexing"
   ]
  },
  {
   "cell_type": "code",
   "execution_count": 28,
   "metadata": {
    "collapsed": false
   },
   "outputs": [
    {
     "data": {
      "text/plain": [
       "(1, 10, 9)"
      ]
     },
     "execution_count": 28,
     "metadata": {},
     "output_type": "execute_result"
    }
   ],
   "source": [
    "data = t.data\n",
    "data.shape"
   ]
  },
  {
   "cell_type": "code",
   "execution_count": 29,
   "metadata": {
    "collapsed": false
   },
   "outputs": [
    {
     "data": {
      "text/plain": [
       "(1, 10, 1)"
      ]
     },
     "execution_count": 29,
     "metadata": {},
     "output_type": "execute_result"
    }
   ],
   "source": [
    "data[:, :, 1].shape"
   ]
  },
  {
   "cell_type": "code",
   "execution_count": 30,
   "metadata": {
    "collapsed": false
   },
   "outputs": [
    {
     "data": {
      "text/plain": [
       "(1, 1, 9)"
      ]
     },
     "execution_count": 30,
     "metadata": {},
     "output_type": "execute_result"
    }
   ],
   "source": [
    "data[:, 0].shape"
   ]
  },
  {
   "cell_type": "code",
   "execution_count": 31,
   "metadata": {
    "collapsed": false
   },
   "outputs": [
    {
     "data": {
      "text/plain": [
       "(1, 3, 3)"
      ]
     },
     "execution_count": 31,
     "metadata": {},
     "output_type": "execute_result"
    }
   ],
   "source": [
    "data[..., 6:3:-1, 3:6].shape"
   ]
  },
  {
   "cell_type": "code",
   "execution_count": 32,
   "metadata": {
    "collapsed": false
   },
   "outputs": [
    {
     "data": {
      "text/plain": [
       "(1, 2, 2)"
      ]
     },
     "execution_count": 32,
     "metadata": {},
     "output_type": "execute_result"
    }
   ],
   "source": [
    "data[0, [2, 9], [4, 8]].shape"
   ]
  },
  {
   "cell_type": "code",
   "execution_count": 33,
   "metadata": {
    "attributes": {
     "classes": [
      "sourceCode"
     ],
     "id": ""
    },
    "collapsed": false
   },
   "outputs": [
    {
     "data": {
      "text/plain": [
       "(1, 10, 1)"
      ]
     },
     "execution_count": 33,
     "metadata": {},
     "output_type": "execute_result"
    }
   ],
   "source": [
    "data[0, :, -2].shape"
   ]
  },
  {
   "cell_type": "markdown",
   "metadata": {},
   "source": [
    "### Assignment"
   ]
  },
  {
   "cell_type": "code",
   "execution_count": 34,
   "metadata": {
    "collapsed": false
   },
   "outputs": [
    {
     "name": "stdout",
     "output_type": "stream",
     "text": [
      "[[[0.0 1.0 2.0 3.0 4.0 5.0 6.0 -- 8.0]\n",
      "  [272.7 -10.0 279.5 278.9 263.8 263.3 274.2 -- 279.5]\n",
      "  [269.7 -10.0 273.4 274.2 -2.0 270.2 280.0 -- -3.0]\n",
      "  [261.7 -10.0 270.8 260.3 265.6 279.4 276.9 -- 260.6]\n",
      "  [264.2 -10.0 262.5 -12.0 -11.0 -10.0 270.4 -- 275.3]\n",
      "  [263.9 -10.0 272.1 -15.0 -14.0 -13.0 260.0 -- 270.2]\n",
      "  [273.8 -10.0 268.5 -18.0 -17.0 -16.0 270.6 -- 270.6]\n",
      "  [267.9 -10.0 279.8 260.3 261.2 275.3 271.2 -- 268.9]\n",
      "  [270.9 -10.0 273.2 261.7 271.6 265.8 273.0 -- 266.4]\n",
      "  [276.4 -10.0 276.3 266.1 -2.0 268.1 277.0 -- -3.0]]]\n"
     ]
    }
   ],
   "source": [
    "import numpy\n",
    "t.data[:, :, 1] = -10\n",
    "t.data[:, 0] = range(9)\n",
    "t.data[..., 6:3:-1, 3:6] = numpy.arange(-18, -9).reshape(3, 3)\n",
    "t.data[0, [2, 9], [4, 8]] =  cfdm.Data([[-2, -3]])\n",
    "t.data[0, :, -2] = numpy.ma.masked\n",
    "print(t.get_array())"
   ]
  },
  {
   "cell_type": "markdown",
   "metadata": {},
   "source": [
    "### Data dimensions"
   ]
  },
  {
   "cell_type": "code",
   "execution_count": 35,
   "metadata": {
    "collapsed": false
   },
   "outputs": [
    {
     "data": {
      "text/plain": [
       "<Field: air_temperature(atmosphere_hybrid_height_coordinate(1), grid_latitude(10), grid_longitude(9)) K>"
      ]
     },
     "execution_count": 35,
     "metadata": {},
     "output_type": "execute_result"
    }
   ],
   "source": [
    "t"
   ]
  },
  {
   "cell_type": "code",
   "execution_count": 36,
   "metadata": {
    "collapsed": false
   },
   "outputs": [
    {
     "data": {
      "text/plain": [
       "<Field: air_temperature(grid_latitude(10), grid_longitude(9)) K>"
      ]
     },
     "execution_count": 36,
     "metadata": {},
     "output_type": "execute_result"
    }
   ],
   "source": [
    "t2 = t.squeeze(0)\n",
    "t2"
   ]
  },
  {
   "cell_type": "code",
   "execution_count": 37,
   "metadata": {
    "collapsed": false
   },
   "outputs": [
    {
     "data": {
      "text/plain": [
       "<Field: air_temperature(grid_latitude(10), time(1), grid_longitude(9)) K>"
      ]
     },
     "execution_count": 37,
     "metadata": {},
     "output_type": "execute_result"
    }
   ],
   "source": [
    "t2 = t2.expand_dims(axis='domainaxis3', position=1)\n",
    "t2"
   ]
  },
  {
   "cell_type": "code",
   "execution_count": 38,
   "metadata": {
    "collapsed": false
   },
   "outputs": [
    {
     "data": {
      "text/plain": [
       "<Field: air_temperature(grid_longitude(9), grid_latitude(10), time(1)) K>"
      ]
     },
     "execution_count": 38,
     "metadata": {},
     "output_type": "execute_result"
    }
   ],
   "source": [
    "t2.transpose([2, 0, 1])"
   ]
  },
  {
   "cell_type": "markdown",
   "metadata": {},
   "source": [
    "---\n",
    "Subspacing\n",
    "-------------\n",
    "[**Back to top**](#cfdm-tutorial-notebook)  \n",
    "[**Go to tutorial**](https://ncas-cms.github.io/cfdm/tutorial.html#subspacing)"
   ]
  },
  {
   "cell_type": "code",
   "execution_count": 39,
   "metadata": {
    "collapsed": false
   },
   "outputs": [
    {
     "name": "stdout",
     "output_type": "stream",
     "text": [
      "Field: specific_humidity (ncvar%q)\n",
      "----------------------------------\n",
      "Data            : specific_humidity(latitude(5), longitude(8)) 1\n",
      "Cell methods    : area: mean\n",
      "Dimension coords: latitude(5) = [-75.0, ..., 75.0] degrees_north\n",
      "                : longitude(8) = [22.5, ..., 337.5] degrees_east\n",
      "                : time(1) = [2019-01-01 00:00:00]\n",
      "\n",
      "\n"
     ]
    }
   ],
   "source": [
    "print(q)"
   ]
  },
  {
   "cell_type": "code",
   "execution_count": 40,
   "metadata": {
    "attributes": {
     "classes": [
      "sourceCode"
     ],
     "id": ""
    },
    "collapsed": false
   },
   "outputs": [
    {
     "name": "stdout",
     "output_type": "stream",
     "text": [
      "Field: specific_humidity (ncvar%q)\n",
      "----------------------------------\n",
      "Data            : specific_humidity(latitude(1), longitude(8)) 1\n",
      "Cell methods    : area: mean\n",
      "Dimension coords: latitude(1) = [-75.0] degrees_north\n",
      "                : longitude(8) = [337.5, ..., 22.5] degrees_east\n",
      "                : time(1) = [2019-01-01 00:00:00]\n",
      "\n",
      "\n"
     ]
    }
   ],
   "source": [
    "new = q[0, ::-1]\n",
    "print(new)"
   ]
  },
  {
   "cell_type": "markdown",
   "metadata": {},
   "source": [
    "---\n",
    "Metadata constructs\n",
    "---------------------\n",
    "[**Back to top**](#cfdm-tutorial-notebook)  \n",
    "[**Go to tutorial**](https://ncas-cms.github.io/cfdm/tutorial.html#constructs)"
   ]
  },
  {
   "cell_type": "code",
   "execution_count": 41,
   "metadata": {
    "collapsed": false
   },
   "outputs": [
    {
     "data": {
      "text/plain": [
       "{'cellmethod0': <CellMethod: area: mean>,\n",
       " 'dimensioncoordinate0': <DimensionCoordinate: latitude(5) degrees_north>,\n",
       " 'dimensioncoordinate1': <DimensionCoordinate: longitude(8) degrees_east>,\n",
       " 'dimensioncoordinate2': <DimensionCoordinate: time(1) days since 2018-12-01 >,\n",
       " 'domainaxis0': <DomainAxis: 5>,\n",
       " 'domainaxis1': <DomainAxis: 8>,\n",
       " 'domainaxis2': <DomainAxis: 1>}"
      ]
     },
     "execution_count": 41,
     "metadata": {},
     "output_type": "execute_result"
    }
   ],
   "source": [
    "q.constructs()"
   ]
  },
  {
   "cell_type": "code",
   "execution_count": 42,
   "metadata": {
    "attributes": {
     "classes": [
      "sourceCode"
     ],
     "id": ""
    },
    "collapsed": false
   },
   "outputs": [
    {
     "data": {
      "text/plain": [
       "{'auxiliarycoordinate0': <AuxiliaryCoordinate: latitude(10, 9) degrees_N>,\n",
       " 'auxiliarycoordinate1': <AuxiliaryCoordinate: longitude(9, 10) degrees_E>,\n",
       " 'auxiliarycoordinate2': <AuxiliaryCoordinate: long_name:Grid latitude name(10) >,\n",
       " 'cellmeasure0': <CellMeasure: measure%area(9, 10) km2>,\n",
       " 'cellmethod0': <CellMethod: domainaxis1: domainaxis2: mean where land (interval: 0.1 degrees)>,\n",
       " 'cellmethod1': <CellMethod: domainaxis3: maximum>,\n",
       " 'coordinatereference0': <CoordinateReference: atmosphere_hybrid_height_coordinate>,\n",
       " 'coordinatereference1': <CoordinateReference: rotated_latitude_longitude>,\n",
       " 'dimensioncoordinate0': <DimensionCoordinate: atmosphere_hybrid_height_coordinate(1) >,\n",
       " 'dimensioncoordinate1': <DimensionCoordinate: grid_latitude(10) degrees>,\n",
       " 'dimensioncoordinate2': <DimensionCoordinate: grid_longitude(9) degrees>,\n",
       " 'dimensioncoordinate3': <DimensionCoordinate: time(1) days since 2018-12-01 >,\n",
       " 'domainancillary0': <DomainAncillary: ncvar%a(1) m>,\n",
       " 'domainancillary1': <DomainAncillary: ncvar%b(1) >,\n",
       " 'domainancillary2': <DomainAncillary: surface_altitude(10, 9) m>,\n",
       " 'domainaxis0': <DomainAxis: 1>,\n",
       " 'domainaxis1': <DomainAxis: 10>,\n",
       " 'domainaxis2': <DomainAxis: 9>,\n",
       " 'domainaxis3': <DomainAxis: 1>,\n",
       " 'fieldancillary0': <FieldAncillary: air_temperature standard_error(10, 9) K>}"
      ]
     },
     "execution_count": 42,
     "metadata": {},
     "output_type": "execute_result"
    }
   ],
   "source": [
    "t.constructs()"
   ]
  },
  {
   "cell_type": "markdown",
   "metadata": {},
   "source": [
    "---"
   ]
  },
  {
   "cell_type": "code",
   "execution_count": 43,
   "metadata": {
    "collapsed": false
   },
   "outputs": [
    {
     "data": {
      "text/plain": [
       "{'fieldancillary0': <FieldAncillary: air_temperature standard_error(10, 9) K>}"
      ]
     },
     "execution_count": 43,
     "metadata": {},
     "output_type": "execute_result"
    }
   ],
   "source": [
    "t.constructs('air_temperature standard_error')"
   ]
  },
  {
   "cell_type": "code",
   "execution_count": 44,
   "metadata": {
    "collapsed": false
   },
   "outputs": [
    {
     "data": {
      "text/plain": [
       "{'dimensioncoordinate0': <DimensionCoordinate: atmosphere_hybrid_height_coordinate(1) >,\n",
       " 'dimensioncoordinate1': <DimensionCoordinate: grid_latitude(10) degrees>,\n",
       " 'dimensioncoordinate2': <DimensionCoordinate: grid_longitude(9) degrees>,\n",
       " 'dimensioncoordinate3': <DimensionCoordinate: time(1) days since 2018-12-01 >}"
      ]
     },
     "execution_count": 44,
     "metadata": {},
     "output_type": "execute_result"
    }
   ],
   "source": [
    "t.constructs(construct_type='dimension_coordinate')"
   ]
  },
  {
   "cell_type": "code",
   "execution_count": 45,
   "metadata": {
    "collapsed": false
   },
   "outputs": [
    {
     "data": {
      "text/plain": [
       "{'auxiliarycoordinate0': <AuxiliaryCoordinate: latitude(10, 9) degrees_N>,\n",
       " 'auxiliarycoordinate1': <AuxiliaryCoordinate: longitude(9, 10) degrees_E>,\n",
       " 'auxiliarycoordinate2': <AuxiliaryCoordinate: long_name:Grid latitude name(10) >,\n",
       " 'cellmeasure0': <CellMeasure: measure%area(9, 10) km2>,\n",
       " 'dimensioncoordinate1': <DimensionCoordinate: grid_latitude(10) degrees>,\n",
       " 'domainancillary2': <DomainAncillary: surface_altitude(10, 9) m>,\n",
       " 'fieldancillary0': <FieldAncillary: air_temperature standard_error(10, 9) K>}"
      ]
     },
     "execution_count": 45,
     "metadata": {},
     "output_type": "execute_result"
    }
   ],
   "source": [
    "t.constructs(axes=['domainaxis1'])"
   ]
  },
  {
   "cell_type": "code",
   "execution_count": 46,
   "metadata": {
    "collapsed": false
   },
   "outputs": [
    {
     "data": {
      "text/plain": [
       "{'dimensioncoordinate3': <DimensionCoordinate: time(1) days since 2018-12-01 >}"
      ]
     },
     "execution_count": 46,
     "metadata": {},
     "output_type": "execute_result"
    }
   ],
   "source": [
    "t.constructs(axes=['domainaxis3'])"
   ]
  },
  {
   "cell_type": "code",
   "execution_count": 47,
   "metadata": {
    "collapsed": false
   },
   "outputs": [
    {
     "data": {
      "text/plain": [
       "{'dimensioncoordinate1': <DimensionCoordinate: grid_latitude(10) degrees>}"
      ]
     },
     "execution_count": 47,
     "metadata": {},
     "output_type": "execute_result"
    }
   ],
   "source": [
    "t.constructs(construct_type='dimension_coordinate', axes=['domainaxis1'])"
   ]
  },
  {
   "cell_type": "code",
   "execution_count": 48,
   "metadata": {
    "attributes": {
     "classes": [
      "sourceCode"
     ],
     "id": ""
    },
    "collapsed": false
   },
   "outputs": [
    {
     "data": {
      "text/plain": [
       "{}"
      ]
     },
     "execution_count": 48,
     "metadata": {},
     "output_type": "execute_result"
    }
   ],
   "source": [
    "t.constructs('wavelength')"
   ]
  },
  {
   "cell_type": "markdown",
   "metadata": {},
   "source": [
    "---"
   ]
  },
  {
   "cell_type": "code",
   "execution_count": 49,
   "metadata": {
    "collapsed": false
   },
   "outputs": [
    {
     "data": {
      "text/plain": [
       "{'domainancillary2': <DomainAncillary: surface_altitude(10, 9) m>}"
      ]
     },
     "execution_count": 49,
     "metadata": {},
     "output_type": "execute_result"
    }
   ],
   "source": [
    "t.constructs(cid='domainancillary2')"
   ]
  },
  {
   "cell_type": "code",
   "execution_count": 50,
   "metadata": {
    "collapsed": false
   },
   "outputs": [
    {
     "data": {
      "text/plain": [
       "{'cellmethod1': <CellMethod: domainaxis3: maximum>}"
      ]
     },
     "execution_count": 50,
     "metadata": {},
     "output_type": "execute_result"
    }
   ],
   "source": [
    "t.constructs('cid%cellmethod1')"
   ]
  },
  {
   "cell_type": "code",
   "execution_count": 51,
   "metadata": {
    "attributes": {
     "classes": [
      "sourceCode"
     ],
     "id": ""
    },
    "collapsed": false
   },
   "outputs": [
    {
     "data": {
      "text/plain": [
       "{}"
      ]
     },
     "execution_count": 51,
     "metadata": {},
     "output_type": "execute_result"
    }
   ],
   "source": [
    "t.constructs(cid='auxiliarycoordinate999')"
   ]
  },
  {
   "cell_type": "markdown",
   "metadata": {},
   "source": [
    "---"
   ]
  },
  {
   "cell_type": "code",
   "execution_count": 52,
   "metadata": {
    "collapsed": false
   },
   "outputs": [
    {
     "data": {
      "text/plain": [
       "<AuxiliaryCoordinate: latitude(10, 9) degrees_N>"
      ]
     },
     "execution_count": 52,
     "metadata": {},
     "output_type": "execute_result"
    }
   ],
   "source": [
    "t.get_construct('latitude')"
   ]
  },
  {
   "cell_type": "code",
   "execution_count": 53,
   "metadata": {
    "collapsed": false
   },
   "outputs": [
    {
     "data": {
      "text/plain": [
       "<CellMeasure: measure%area(9, 10) km2>"
      ]
     },
     "execution_count": 53,
     "metadata": {},
     "output_type": "execute_result"
    }
   ],
   "source": [
    "t.get_construct('units:km2')"
   ]
  },
  {
   "cell_type": "code",
   "execution_count": 54,
   "metadata": {
    "collapsed": false
   },
   "outputs": [
    {
     "data": {
      "text/plain": [
       "{'dimensioncoordinate1': <DimensionCoordinate: grid_latitude(10) degrees>,\n",
       " 'dimensioncoordinate2': <DimensionCoordinate: grid_longitude(9) degrees>}"
      ]
     },
     "execution_count": 54,
     "metadata": {},
     "output_type": "execute_result"
    }
   ],
   "source": [
    "t.constructs('units:degrees')"
   ]
  },
  {
   "cell_type": "code",
   "execution_count": 55,
   "metadata": {
    "attributes": {
     "classes": [
      "sourceCode"
     ],
     "id": ""
    },
    "collapsed": false
   },
   "outputs": [
    {
     "name": "stdout",
     "output_type": "stream",
     "text": [
      "ValueError: More than one construct meets criteria\n"
     ]
    }
   ],
   "source": [
    "try:\n",
    "    t.get_construct('units:degrees')\n",
    "except ValueError:\n",
    "    print('ValueError: More than one construct meets criteria')"
   ]
  },
  {
   "cell_type": "markdown",
   "metadata": {},
   "source": [
    "---"
   ]
  },
  {
   "cell_type": "code",
   "execution_count": 56,
   "metadata": {
    "collapsed": false
   },
   "outputs": [
    {
     "data": {
      "text/plain": [
       "OrderedDict([('cellmethod0',\n",
       "              <CellMethod: domainaxis1: domainaxis2: mean where land (interval: 0.1 degrees)>),\n",
       "             ('cellmethod1', <CellMethod: domainaxis3: maximum>)])"
      ]
     },
     "execution_count": 56,
     "metadata": {},
     "output_type": "execute_result"
    }
   ],
   "source": [
    "t.cell_methods()"
   ]
  },
  {
   "cell_type": "code",
   "execution_count": 57,
   "metadata": {
    "collapsed": false
   },
   "outputs": [
    {
     "data": {
      "text/plain": [
       "{'dimensioncoordinate0': <DimensionCoordinate: atmosphere_hybrid_height_coordinate(1) >,\n",
       " 'dimensioncoordinate1': <DimensionCoordinate: grid_latitude(10) degrees>,\n",
       " 'dimensioncoordinate2': <DimensionCoordinate: grid_longitude(9) degrees>,\n",
       " 'dimensioncoordinate3': <DimensionCoordinate: time(1) days since 2018-12-01 >}"
      ]
     },
     "execution_count": 57,
     "metadata": {},
     "output_type": "execute_result"
    }
   ],
   "source": [
    "t.dimension_coordinates()"
   ]
  },
  {
   "cell_type": "markdown",
   "metadata": {},
   "source": [
    "### Domain axes"
   ]
  },
  {
   "cell_type": "code",
   "execution_count": 58,
   "metadata": {
    "attributes": {
     "classes": [
      "sourceCode"
     ],
     "id": ""
    },
    "collapsed": false
   },
   "outputs": [
    {
     "data": {
      "text/plain": [
       "{'auxiliarycoordinate0': ('domainaxis1', 'domainaxis2'),\n",
       " 'auxiliarycoordinate1': ('domainaxis2', 'domainaxis1'),\n",
       " 'auxiliarycoordinate2': ('domainaxis1',),\n",
       " 'cellmeasure0': ('domainaxis2', 'domainaxis1'),\n",
       " 'dimensioncoordinate0': ('domainaxis0',),\n",
       " 'dimensioncoordinate1': ('domainaxis1',),\n",
       " 'dimensioncoordinate2': ('domainaxis2',),\n",
       " 'dimensioncoordinate3': ('domainaxis3',),\n",
       " 'domainancillary0': ('domainaxis0',),\n",
       " 'domainancillary1': ('domainaxis0',),\n",
       " 'domainancillary2': ('domainaxis1', 'domainaxis2'),\n",
       " 'fieldancillary0': ('domainaxis1', 'domainaxis2')}"
      ]
     },
     "execution_count": 58,
     "metadata": {},
     "output_type": "execute_result"
    }
   ],
   "source": [
    "t.construct_axes()"
   ]
  },
  {
   "cell_type": "markdown",
   "metadata": {},
   "source": [
    "---"
   ]
  },
  {
   "cell_type": "code",
   "execution_count": 59,
   "metadata": {
    "collapsed": false
   },
   "outputs": [
    {
     "data": {
      "text/plain": [
       "{'domainaxis0': <DomainAxis: 1>,\n",
       " 'domainaxis1': <DomainAxis: 10>,\n",
       " 'domainaxis2': <DomainAxis: 9>,\n",
       " 'domainaxis3': <DomainAxis: 1>}"
      ]
     },
     "execution_count": 59,
     "metadata": {},
     "output_type": "execute_result"
    }
   ],
   "source": [
    "t.domain_axes()"
   ]
  },
  {
   "cell_type": "code",
   "execution_count": 60,
   "metadata": {
    "collapsed": false
   },
   "outputs": [
    {
     "data": {
      "text/plain": [
       "('domainaxis0', 'domainaxis1', 'domainaxis2')"
      ]
     },
     "execution_count": 60,
     "metadata": {},
     "output_type": "execute_result"
    }
   ],
   "source": [
    "t.get_data_axes()"
   ]
  },
  {
   "cell_type": "markdown",
   "metadata": {},
   "source": [
    "### Properties and data"
   ]
  },
  {
   "cell_type": "code",
   "execution_count": 61,
   "metadata": {
    "collapsed": false
   },
   "outputs": [
    {
     "data": {
      "text/plain": [
       "<DimensionCoordinate: longitude(8) degrees_east>"
      ]
     },
     "execution_count": 61,
     "metadata": {},
     "output_type": "execute_result"
    }
   ],
   "source": [
    "lon = q.get_construct('longitude')   \n",
    "lon"
   ]
  },
  {
   "cell_type": "code",
   "execution_count": 62,
   "metadata": {
    "collapsed": false
   },
   "outputs": [
    {
     "data": {
      "text/plain": [
       "{'units': 'degrees_east',\n",
       " 'long_name': 'Longitude',\n",
       " 'standard_name': 'longitude'}"
      ]
     },
     "execution_count": 62,
     "metadata": {},
     "output_type": "execute_result"
    }
   ],
   "source": [
    "lon.set_property('long_name', 'Longitude')\n",
    "lon.properties()"
   ]
  },
  {
   "cell_type": "code",
   "execution_count": 63,
   "metadata": {
    "attributes": {
     "classes": [
      "sourceCode"
     ],
     "id": ""
    },
    "collapsed": false
   },
   "outputs": [
    {
     "name": "stdout",
     "output_type": "stream",
     "text": [
      "[22.5 67.5 133.33 157.5 202.5 247.5 292.5 337.5]\n"
     ]
    }
   ],
   "source": [
    "lon.data[2]\n",
    "lon.data[2] = 133.33\n",
    "print(lon.get_array())"
   ]
  },
  {
   "cell_type": "markdown",
   "metadata": {},
   "source": [
    "### Components"
   ]
  },
  {
   "cell_type": "code",
   "execution_count": 64,
   "metadata": {
    "collapsed": false
   },
   "outputs": [
    {
     "data": {
      "text/plain": [
       "<Bounds: grid_longitude(9, 2) >"
      ]
     },
     "execution_count": 64,
     "metadata": {},
     "output_type": "execute_result"
    }
   ],
   "source": [
    "lon = t.get_construct('grid_longitude')\n",
    "bounds = lon.get_bounds()\n",
    "bounds"
   ]
  },
  {
   "cell_type": "code",
   "execution_count": 65,
   "metadata": {
    "collapsed": false
   },
   "outputs": [
    {
     "data": {
      "text/plain": [
       "{}"
      ]
     },
     "execution_count": 65,
     "metadata": {},
     "output_type": "execute_result"
    }
   ],
   "source": [
    "bounds.properties()"
   ]
  },
  {
   "cell_type": "code",
   "execution_count": 66,
   "metadata": {
    "collapsed": false
   },
   "outputs": [
    {
     "name": "stdout",
     "output_type": "stream",
     "text": [
      "[[-4.92 -4.48]\n",
      " [-4.48 -4.04]\n",
      " [-4.04 -3.6]\n",
      " [-3.6 -3.16]\n",
      " [-3.16 -2.72]\n",
      " [-2.72 -2.28]\n",
      " [-2.28 -1.84]\n",
      " [-1.84 -1.4]\n",
      " [-1.4 -0.96]]\n"
     ]
    }
   ],
   "source": [
    "bounds.get_data()\n",
    "print(bounds.get_array())"
   ]
  },
  {
   "cell_type": "code",
   "execution_count": 67,
   "metadata": {
    "collapsed": false
   },
   "outputs": [
    {
     "data": {
      "text/plain": [
       "<Datum: Parameters: earth_radius>"
      ]
     },
     "execution_count": 67,
     "metadata": {},
     "output_type": "execute_result"
    }
   ],
   "source": [
    "crs = t.get_construct('rotated_latitude_longitude')\n",
    "crs.datum"
   ]
  },
  {
   "cell_type": "code",
   "execution_count": 68,
   "metadata": {
    "collapsed": false
   },
   "outputs": [
    {
     "data": {
      "text/plain": [
       "{'earth_radius': 6371007}"
      ]
     },
     "execution_count": 68,
     "metadata": {},
     "output_type": "execute_result"
    }
   ],
   "source": [
    "crs.datum.parameters()"
   ]
  },
  {
   "cell_type": "code",
   "execution_count": 69,
   "metadata": {
    "attributes": {
     "classes": [
      "sourceCode"
     ],
     "id": ""
    },
    "collapsed": false
   },
   "outputs": [
    {
     "data": {
      "text/plain": [
       "{u'a': 'domainancillary0',\n",
       " u'b': 'domainancillary1',\n",
       " u'orog': 'domainancillary2'}"
      ]
     },
     "execution_count": 69,
     "metadata": {},
     "output_type": "execute_result"
    }
   ],
   "source": [
    "crs = t.get_construct('atmosphere_hybrid_height_coordinate',\n",
    "                          construct_type='coordinate_reference')\n",
    "crs.coordinate_conversion.domain_ancillaries()"
   ]
  },
  {
   "cell_type": "markdown",
   "metadata": {},
   "source": [
    "---\n",
    "NetCDF interface\n",
    "---------------- \n",
    "[**Back to top**](#cfdm-tutorial-notebook)  \n",
    "[**Go to tutorial**](https://ncas-cms.github.io/cfdm/tutorial.html#netcdf-interface)"
   ]
  },
  {
   "cell_type": "code",
   "execution_count": 70,
   "metadata": {
    "collapsed": false
   },
   "outputs": [
    {
     "data": {
      "text/plain": [
       "u'q'"
      ]
     },
     "execution_count": 70,
     "metadata": {},
     "output_type": "execute_result"
    }
   ],
   "source": [
    "q.nc_get_variable()"
   ]
  },
  {
   "cell_type": "code",
   "execution_count": 71,
   "metadata": {
    "collapsed": false
   },
   "outputs": [
    {
     "data": {
      "text/plain": [
       "{'Conventions', 'project'}"
      ]
     },
     "execution_count": 71,
     "metadata": {},
     "output_type": "execute_result"
    }
   ],
   "source": [
    "q.nc_global_attributes()"
   ]
  },
  {
   "cell_type": "code",
   "execution_count": 72,
   "metadata": {
    "collapsed": false
   },
   "outputs": [
    {
     "data": {
      "text/plain": [
       "set()"
      ]
     },
     "execution_count": 72,
     "metadata": {},
     "output_type": "execute_result"
    }
   ],
   "source": [
    "q.nc_unlimited_dimensions()"
   ]
  },
  {
   "cell_type": "code",
   "execution_count": 73,
   "metadata": {
    "collapsed": false
   },
   "outputs": [
    {
     "data": {
      "text/plain": [
       "'humidity'"
      ]
     },
     "execution_count": 73,
     "metadata": {},
     "output_type": "execute_result"
    }
   ],
   "source": [
    "q.nc_set_variable('humidity')\n",
    "q.nc_get_variable()"
   ]
  },
  {
   "cell_type": "markdown",
   "metadata": {},
   "source": [
    "---"
   ]
  },
  {
   "cell_type": "code",
   "execution_count": 74,
   "metadata": {
    "collapsed": false
   },
   "outputs": [
    {
     "data": {
      "text/plain": [
       "{'domainancillary1': <DomainAncillary: ncvar%b(1) >}"
      ]
     },
     "execution_count": 74,
     "metadata": {},
     "output_type": "execute_result"
    }
   ],
   "source": [
    "t.constructs('ncvar%b')"
   ]
  },
  {
   "cell_type": "code",
   "execution_count": 75,
   "metadata": {
    "collapsed": false
   },
   "outputs": [
    {
     "data": {
      "text/plain": [
       "<DimensionCoordinate: grid_longitude(9) degrees>"
      ]
     },
     "execution_count": 75,
     "metadata": {},
     "output_type": "execute_result"
    }
   ],
   "source": [
    "t.get_construct('ncvar%x')"
   ]
  },
  {
   "cell_type": "code",
   "execution_count": 76,
   "metadata": {
    "collapsed": false
   },
   "outputs": [
    {
     "data": {
      "text/plain": [
       "<DomainAxis: 9>"
      ]
     },
     "execution_count": 76,
     "metadata": {},
     "output_type": "execute_result"
    }
   ],
   "source": [
    "t.get_construct('ncdim%x')"
   ]
  },
  {
   "cell_type": "markdown",
   "metadata": {},
   "source": [
    "---\n",
    "Writing to disk\n",
    "---------------------\n",
    "[**Back to top**](#cfdm-tutorial-notebook)  \n",
    "[**Go to tutorial**](https://ncas-cms.github.io/cfdm/tutorial.html#writing-to-disk)"
   ]
  },
  {
   "cell_type": "code",
   "execution_count": 77,
   "metadata": {
    "collapsed": false
   },
   "outputs": [
    {
     "name": "stdout",
     "output_type": "stream",
     "text": [
      "Field: specific_humidity (ncvar%humidity)\n",
      "-----------------------------------------\n",
      "Data            : specific_humidity(latitude(5), longitude(8)) 1\n",
      "Cell methods    : area: mean\n",
      "Dimension coords: latitude(5) = [-75.0, ..., 75.0] degrees_north\n",
      "                : longitude(8) = [22.5, ..., 337.5] degrees_east\n",
      "                : time(1) = [2019-01-01 00:00:00]\n",
      "\n",
      "\n"
     ]
    }
   ],
   "source": [
    "print(q)"
   ]
  },
  {
   "cell_type": "code",
   "execution_count": 78,
   "metadata": {
    "collapsed": true
   },
   "outputs": [],
   "source": [
    "cfdm.write(q, 'q_file.nc')"
   ]
  },
  {
   "cell_type": "code",
   "execution_count": 79,
   "metadata": {
    "collapsed": false
   },
   "outputs": [
    {
     "name": "stdout",
     "output_type": "stream",
     "text": [
      "netcdf q_file {\r\n",
      "dimensions:\r\n",
      "\tlat = 5 ;\r\n",
      "\tbounds2 = 2 ;\r\n",
      "\tlon = 8 ;\r\n",
      "variables:\r\n",
      "\tdouble lat_bnds(lat, bounds2) ;\r\n",
      "\tdouble lat(lat) ;\r\n",
      "\t\tlat:units = \"degrees_north\" ;\r\n",
      "\t\tlat:standard_name = \"latitude\" ;\r\n",
      "\t\tlat:bounds = \"lat_bnds\" ;\r\n",
      "\tdouble lon_bnds(lon, bounds2) ;\r\n",
      "\tdouble lon(lon) ;\r\n",
      "\t\tlon:units = \"degrees_east\" ;\r\n",
      "\t\tlon:long_name = \"Longitude\" ;\r\n",
      "\t\tlon:standard_name = \"longitude\" ;\r\n",
      "\t\tlon:bounds = \"lon_bnds\" ;\r\n",
      "\tdouble time ;\r\n",
      "\t\ttime:units = \"days since 2018-12-01\" ;\r\n",
      "\t\ttime:standard_name = \"time\" ;\r\n",
      "\tdouble humidity(lat, lon) ;\r\n",
      "\t\thumidity:standard_name = \"specific_humidity\" ;\r\n",
      "\t\thumidity:cell_methods = \"area: mean\" ;\r\n",
      "\t\thumidity:units = \"1\" ;\r\n",
      "\t\thumidity:coordinates = \"time\" ;\r\n",
      "\r\n",
      "// global attributes:\r\n",
      "\t\t:Conventions = \"CF-1.7\" ;\r\n",
      "\t\t:project = \"research\" ;\r\n",
      "}\r\n"
     ]
    }
   ],
   "source": [
    "!ncdump -h q_file.nc"
   ]
  },
  {
   "cell_type": "markdown",
   "metadata": {},
   "source": [
    "---"
   ]
  },
  {
   "cell_type": "code",
   "execution_count": 80,
   "metadata": {
    "collapsed": false
   },
   "outputs": [
    {
     "data": {
      "text/plain": [
       "[<Field: air_temperature(atmosphere_hybrid_height_coordinate(1), grid_latitude(10), grid_longitude(9)) K>,\n",
       " <Field: specific_humidity(latitude(5), longitude(8)) 1>]"
      ]
     },
     "execution_count": 80,
     "metadata": {},
     "output_type": "execute_result"
    }
   ],
   "source": [
    "x"
   ]
  },
  {
   "cell_type": "code",
   "execution_count": 81,
   "metadata": {
    "attributes": {
     "classes": [
      "sourceCode"
     ],
     "id": ""
    },
    "collapsed": true
   },
   "outputs": [],
   "source": [
    "cfdm.write(x, 'new_file.nc')"
   ]
  },
  {
   "cell_type": "markdown",
   "metadata": {},
   "source": [
    "### Scalar coordinate variables"
   ]
  },
  {
   "cell_type": "code",
   "execution_count": 82,
   "metadata": {
    "collapsed": false
   },
   "outputs": [
    {
     "data": {
      "text/plain": [
       "<Field: specific_humidity(latitude(5), longitude(8)) 1>"
      ]
     },
     "execution_count": 82,
     "metadata": {},
     "output_type": "execute_result"
    }
   ],
   "source": [
    "q"
   ]
  },
  {
   "cell_type": "markdown",
   "metadata": {},
   "source": [
    "q.dimension_coordinates()"
   ]
  },
  {
   "cell_type": "code",
   "execution_count": 83,
   "metadata": {
    "collapsed": false
   },
   "outputs": [
    {
     "data": {
      "text/plain": [
       "{'dimensioncoordinate0': ('domainaxis0',),\n",
       " 'dimensioncoordinate1': ('domainaxis1',),\n",
       " 'dimensioncoordinate2': ('domainaxis2',)}"
      ]
     },
     "execution_count": 83,
     "metadata": {},
     "output_type": "execute_result"
    }
   ],
   "source": [
    "q.construct_axes()"
   ]
  },
  {
   "cell_type": "code",
   "execution_count": 84,
   "metadata": {
    "collapsed": false
   },
   "outputs": [
    {
     "data": {
      "text/plain": [
       "<Field: specific_humidity(time(1), latitude(5), longitude(8)) 1>"
      ]
     },
     "execution_count": 84,
     "metadata": {},
     "output_type": "execute_result"
    }
   ],
   "source": [
    "q2 = q.expand_dims(axis='domainaxis2')\n",
    "q2"
   ]
  },
  {
   "cell_type": "code",
   "execution_count": 85,
   "metadata": {
    "collapsed": true
   },
   "outputs": [],
   "source": [
    "cfdm.write(q2, 'q2_file.nc')"
   ]
  },
  {
   "cell_type": "code",
   "execution_count": 86,
   "metadata": {
    "collapsed": false
   },
   "outputs": [
    {
     "name": "stdout",
     "output_type": "stream",
     "text": [
      "netcdf q2_file {\r\n",
      "dimensions:\r\n",
      "\tlat = 5 ;\r\n",
      "\tbounds2 = 2 ;\r\n",
      "\tlon = 8 ;\r\n",
      "\ttime = 1 ;\r\n",
      "variables:\r\n",
      "\tdouble lat_bnds(lat, bounds2) ;\r\n",
      "\tdouble lat(lat) ;\r\n",
      "\t\tlat:units = \"degrees_north\" ;\r\n",
      "\t\tlat:standard_name = \"latitude\" ;\r\n",
      "\t\tlat:bounds = \"lat_bnds\" ;\r\n",
      "\tdouble lon_bnds(lon, bounds2) ;\r\n",
      "\tdouble lon(lon) ;\r\n",
      "\t\tlon:units = \"degrees_east\" ;\r\n",
      "\t\tlon:long_name = \"Longitude\" ;\r\n",
      "\t\tlon:standard_name = \"longitude\" ;\r\n",
      "\t\tlon:bounds = \"lon_bnds\" ;\r\n",
      "\tdouble time(time) ;\r\n",
      "\t\ttime:units = \"days since 2018-12-01\" ;\r\n",
      "\t\ttime:standard_name = \"time\" ;\r\n",
      "\tdouble humidity(time, lat, lon) ;\r\n",
      "\t\thumidity:units = \"1\" ;\r\n",
      "\t\thumidity:standard_name = \"specific_humidity\" ;\r\n",
      "\t\thumidity:cell_methods = \"area: mean\" ;\r\n",
      "\r\n",
      "// global attributes:\r\n",
      "\t\t:Conventions = \"CF-1.7\" ;\r\n",
      "\t\t:project = \"research\" ;\r\n",
      "}\r\n"
     ]
    }
   ],
   "source": [
    "!ncdump -h q2_file.nc"
   ]
  },
  {
   "cell_type": "markdown",
   "metadata": {},
   "source": [
    "---\n",
    "Field creation\n",
    "----------------\n",
    "[**Back to top**](#cfdm-tutorial-notebook)  \n",
    "[**Go to tutorial**](https://ncas-cms.github.io/cfdm/tutorial.html#field-creation)"
   ]
  },
  {
   "cell_type": "code",
   "execution_count": 87,
   "metadata": {
    "collapsed": false
   },
   "outputs": [
    {
     "data": {
      "text/plain": [
       "<Field: precipitation_flux>"
      ]
     },
     "execution_count": 87,
     "metadata": {},
     "output_type": "execute_result"
    }
   ],
   "source": [
    "p = cfdm.Field(properties={'standard_name': 'precipitation_flux'})\n",
    "p"
   ]
  },
  {
   "cell_type": "code",
   "execution_count": 88,
   "metadata": {
    "collapsed": false
   },
   "outputs": [
    {
     "data": {
      "text/plain": [
       "<DimensionCoordinate: long_name:Longitude(3) >"
      ]
     },
     "execution_count": 88,
     "metadata": {},
     "output_type": "execute_result"
    }
   ],
   "source": [
    "dc = cfdm.DimensionCoordinate(properties={'long_name': 'Longitude'},\n",
    "                              data=cfdm.Data([0, 1, 2.]))\n",
    "dc"
   ]
  },
  {
   "cell_type": "code",
   "execution_count": 89,
   "metadata": {
    "attributes": {
     "classes": [
      "sourceCode"
     ],
     "id": ""
    },
    "collapsed": false
   },
   "outputs": [
    {
     "data": {
      "text/plain": [
       "<FieldAncillary: precipitation_flux status_flag(3) >"
      ]
     },
     "execution_count": 89,
     "metadata": {},
     "output_type": "execute_result"
    }
   ],
   "source": [
    "fa = cfdm.FieldAncillary(\n",
    "           properties={'standard_name': 'precipitation_flux status_flag'},\n",
    "           data=cfdm.Data(numpy.array([0, 0, 2], dtype='int8')))\n",
    "fa"
   ]
  },
  {
   "cell_type": "markdown",
   "metadata": {},
   "source": [
    "---"
   ]
  },
  {
   "cell_type": "code",
   "execution_count": 90,
   "metadata": {
    "collapsed": false
   },
   "outputs": [
    {
     "data": {
      "text/plain": [
       "<Field: >"
      ]
     },
     "execution_count": 90,
     "metadata": {},
     "output_type": "execute_result"
    }
   ],
   "source": [
    "p = cfdm.Field()\n",
    "p"
   ]
  },
  {
   "cell_type": "code",
   "execution_count": 91,
   "metadata": {
    "collapsed": false
   },
   "outputs": [
    {
     "data": {
      "text/plain": [
       "<Field: precipitation_flux>"
      ]
     },
     "execution_count": 91,
     "metadata": {},
     "output_type": "execute_result"
    }
   ],
   "source": [
    "p.set_property('standard_name', 'precipitation_flux')\n",
    "p"
   ]
  },
  {
   "cell_type": "code",
   "execution_count": 92,
   "metadata": {
    "collapsed": false
   },
   "outputs": [
    {
     "data": {
      "text/plain": [
       "<DimensionCoordinate:  >"
      ]
     },
     "execution_count": 92,
     "metadata": {},
     "output_type": "execute_result"
    }
   ],
   "source": [
    "dc = cfdm.DimensionCoordinate()\n",
    "dc"
   ]
  },
  {
   "cell_type": "code",
   "execution_count": 93,
   "metadata": {
    "collapsed": false
   },
   "outputs": [
    {
     "data": {
      "text/plain": [
       "<DimensionCoordinate: long_name:Longitude(3) >"
      ]
     },
     "execution_count": 93,
     "metadata": {},
     "output_type": "execute_result"
    }
   ],
   "source": [
    "dc.set_property('long_name', 'Longitude')\n",
    "dc.set_data(cfdm.Data([1, 2, 3.]))\n",
    "dc"
   ]
  },
  {
   "cell_type": "code",
   "execution_count": 94,
   "metadata": {
    "collapsed": false
   },
   "outputs": [
    {
     "data": {
      "text/plain": [
       "<FieldAncillary: (3) >"
      ]
     },
     "execution_count": 94,
     "metadata": {},
     "output_type": "execute_result"
    }
   ],
   "source": [
    "fa = cfdm.FieldAncillary(\n",
    "           data=cfdm.Data(numpy.array([0, 0, 2], dtype='int8')))\n",
    "fa"
   ]
  },
  {
   "cell_type": "code",
   "execution_count": 95,
   "metadata": {
    "attributes": {
     "classes": [
      "sourceCode"
     ],
     "id": ""
    },
    "collapsed": false
   },
   "outputs": [
    {
     "data": {
      "text/plain": [
       "<FieldAncillary: precipitation_flux status_flag(3) >"
      ]
     },
     "execution_count": 95,
     "metadata": {},
     "output_type": "execute_result"
    }
   ],
   "source": [
    "fa.set_property('standard_name', 'precipitation_flux status_flag')\n",
    "fa"
   ]
  },
  {
   "cell_type": "markdown",
   "metadata": {},
   "source": [
    "---"
   ]
  },
  {
   "cell_type": "code",
   "execution_count": 96,
   "metadata": {
    "collapsed": false
   },
   "outputs": [
    {
     "data": {
      "text/plain": [
       "'domainaxis0'"
      ]
     },
     "execution_count": 96,
     "metadata": {},
     "output_type": "execute_result"
    }
   ],
   "source": [
    "longitude_axis = p.set_domain_axis(cfdm.DomainAxis(3))\n",
    "longitude_axis"
   ]
  },
  {
   "cell_type": "code",
   "execution_count": 97,
   "metadata": {
    "collapsed": false
   },
   "outputs": [
    {
     "data": {
      "text/plain": [
       "'dimensioncoordinate0'"
      ]
     },
     "execution_count": 97,
     "metadata": {},
     "output_type": "execute_result"
    }
   ],
   "source": [
    "cid = p.set_dimension_coordinate(dc, axes=[longitude_axis])\n",
    "cid"
   ]
  },
  {
   "cell_type": "code",
   "execution_count": 98,
   "metadata": {
    "attributes": {
     "classes": [
      "sourceCode"
     ],
     "id": ""
    },
    "collapsed": false
   },
   "outputs": [
    {
     "name": "stdout",
     "output_type": "stream",
     "text": [
      "Field: precipitation_flux\n",
      "-------------------------\n",
      "Data            : precipitation_flux\n",
      "Cell methods    : long_name:Longitude(3): minimum\n",
      "Dimension coords: long_name:Longitude(3) = [1.0, 2.0, 3.0]\n",
      "\n",
      "\n"
     ]
    }
   ],
   "source": [
    "cm = cfdm.CellMethod(axes=[longitude_axis],\n",
    "                     properties={'method': 'minimum'})\n",
    "p.set_cell_method(cm)\n",
    "print(p)"
   ]
  },
  {
   "cell_type": "markdown",
   "metadata": {},
   "source": [
    "---"
   ]
  },
  {
   "cell_type": "code",
   "execution_count": 99,
   "metadata": {
    "attributes": {
     "classes": [
      "sourceCode"
     ],
     "id": ""
    },
    "collapsed": false
   },
   "outputs": [
    {
     "data": {
      "text/plain": [
       "'dimensioncoordinate2'"
      ]
     },
     "execution_count": 99,
     "metadata": {},
     "output_type": "execute_result"
    }
   ],
   "source": [
    "import numpy\n",
    "import cfdm\n",
    "\n",
    "# Initialise the field with properties\n",
    "Q = cfdm.Field(properties={'project': 'research',\n",
    "                           'standard_name': 'specific_humidity',\n",
    "                           'units': '1'})\n",
    "\n",
    "# Create the domain axes\n",
    "domain_axisT = cfdm.DomainAxis(1)\n",
    "domain_axisY = cfdm.DomainAxis(5)\n",
    "domain_axisX = cfdm.DomainAxis(8)\n",
    "\n",
    "# Insert the domain axes into the field. The set_domain_axis method\n",
    "# returns the domain axis construct identifier that will be used\n",
    "# later to specify which domain axis corresponds to which dimension\n",
    "# coordinate construct.  \n",
    "axisT = Q.set_domain_axis(domain_axisT)\n",
    "axisY = Q.set_domain_axis(domain_axisY)\n",
    "axisX = Q.set_domain_axis(domain_axisX)\n",
    "\n",
    "# Field data\n",
    "data = cfdm.Data(numpy.arange(40.).reshape(5, 8))\n",
    "Q.set_data(data, axes=[axisY, axisX])\n",
    "\n",
    "# Create the cell methods\n",
    "cell_method1 = cfdm.CellMethod(axes=['area'], properties={'method': 'mean'})\n",
    "\n",
    "cell_method2 = cfdm.CellMethod()\n",
    "cell_method2.set_axes([axisT])\n",
    "cell_method2.properties({'method': 'maximum'})\n",
    "\n",
    "# Insert the cell methods into the field\n",
    "Q.set_cell_method(cell_method1)\n",
    "Q.set_cell_method(cell_method2)\n",
    "\n",
    "# Create the dimension Coordinates\n",
    "dimT = cfdm.DimensionCoordinate(\n",
    "         properties={'standard_name': 'time',\n",
    "                     'units': 'days since 2018-12-01'},\n",
    "         data=cfdm.Data([15.5]),\n",
    "         bounds=cfdm.Bounds(data=cfdm.Data([[0,31.]])))\n",
    "\n",
    "dimY = cfdm.DimensionCoordinate(properties={'standard_name': 'latitude',\n",
    "                                    'units': 'degrees_north'})\n",
    "array = numpy.arange(5.)\n",
    "dimY.set_data(cfdm.Data(array))\n",
    "bounds_array = numpy.empty((5, 2))\n",
    "bounds_array[:, 0] = array - 0.5\n",
    "bounds_array[:, 1] = array + 0.5\n",
    "bounds = cfdm.Bounds(data=cfdm.Data(bounds_array))\n",
    "dimY.set_bounds(bounds)\n",
    "\n",
    "dimX = cfdm.DimensionCoordinate(data=cfdm.Data(numpy.arange(8.)))\n",
    "dimX.properties({'standard_name': 'longitude',\n",
    "                 'units': 'degrees_east'})\n",
    "\n",
    "# Insert the dimension coordinates into the field, specifying to\n",
    "# which domain axis each one corresponds\n",
    "Q.set_dimension_coordinate(dimT, axes=[axisT])\n",
    "Q.set_dimension_coordinate(dimY, axes=[axisY])\n",
    "Q.set_dimension_coordinate(dimX, axes=[axisX])"
   ]
  },
  {
   "cell_type": "code",
   "execution_count": 100,
   "metadata": {
    "attributes": {
     "classes": [
      "sourceCode"
     ],
     "id": ""
    },
    "collapsed": false
   },
   "outputs": [
    {
     "name": "stdout",
     "output_type": "stream",
     "text": [
      "------------------------\n",
      "Field: specific_humidity\n",
      "------------------------\n",
      "project = 'research'\n",
      "standard_name = 'specific_humidity'\n",
      "units = '1'\n",
      "\n",
      "Data(latitude(5), longitude(8)) = [[0.0, ..., 39.0]] 1\n",
      "\n",
      "Cell Method: area: mean\n",
      "Cell Method: time(1): maximum\n",
      "\n",
      "Domain Axis: latitude(5)\n",
      "Domain Axis: longitude(8)\n",
      "Domain Axis: time(1)\n",
      "\n",
      "Dimension coordinate: time\n",
      "    standard_name = 'time'\n",
      "    units = 'days since 2018-12-01'\n",
      "    Data(time(1)) = [2018-12-16 12:00:00]\n",
      "    Bounds:Data(time(1), 2) = [[2018-12-01 00:00:00, 2019-01-01 00:00:00]]\n",
      "\n",
      "Dimension coordinate: latitude\n",
      "    standard_name = 'latitude'\n",
      "    units = 'degrees_north'\n",
      "    Data(latitude(5)) = [0.0, ..., 4.0] degrees_north\n",
      "    Bounds:Data(latitude(5), 2) = [[-0.5, ..., 4.5]] degrees_north\n",
      "\n",
      "Dimension coordinate: longitude\n",
      "    standard_name = 'longitude'\n",
      "    units = 'degrees_east'\n",
      "    Data(longitude(8)) = [0.0, ..., 7.0] degrees_east\n",
      "\n"
     ]
    }
   ],
   "source": [
    "Q.dump()"
   ]
  },
  {
   "cell_type": "code",
   "execution_count": 101,
   "metadata": {
    "attributes": {
     "classes": [
      "sourceCode"
     ],
     "id": ""
    },
    "collapsed": true
   },
   "outputs": [],
   "source": [
    "Q.nc_set_variable('q')\n",
    "\n",
    "domain_axisT.nc_set_dimension('time')\n",
    "domain_axisY.nc_set_dimension('lat')\n",
    "domain_axisX.nc_set_dimension('lon')\n",
    "\n",
    "dimT.nc_set_variable('time')\n",
    "dimY.nc_set_variable('lat')\n",
    "dimX.nc_set_variable('lon')"
   ]
  },
  {
   "cell_type": "markdown",
   "metadata": {},
   "source": [
    "---"
   ]
  },
  {
   "cell_type": "code",
   "execution_count": 102,
   "metadata": {
    "attributes": {
     "classes": [
      "sourceCode"
     ],
     "id": ""
    },
    "collapsed": false
   },
   "outputs": [
    {
     "data": {
      "text/plain": [
       "'cellmeasure0'"
      ]
     },
     "execution_count": 102,
     "metadata": {},
     "output_type": "execute_result"
    }
   ],
   "source": [
    "import numpy\n",
    "import cfdm\n",
    "\n",
    "# Initialize the field\n",
    "tas = cfdm.Field(\n",
    "    properties={'project': 'research',\n",
    "                'standard_name': 'air_temperature',\n",
    "                    'units': 'K'})\n",
    "\n",
    "# Create and set domain axes\n",
    "axis_T = tas.set_domain_axis(cfdm.DomainAxis(1))\n",
    "axis_Z = tas.set_domain_axis(cfdm.DomainAxis(1))\n",
    "axis_Y = tas.set_domain_axis(cfdm.DomainAxis(10))\n",
    "axis_X = tas.set_domain_axis(cfdm.DomainAxis(9))\n",
    "\n",
    "# Set the field data\n",
    "tas.set_data(cfdm.Data(numpy.arange(90.).reshape(10, 9)),\n",
    "             axes=[axis_Y, axis_X])\n",
    "\n",
    "# Create and set the cell methods\n",
    "cell_method1 = cfdm.CellMethod(\n",
    "          axes=[axis_Y, axis_X],\n",
    "          properties={'method': 'mean',\n",
    "                      'where': 'land',\n",
    "              'intervals': [cfdm.Data(0.1, units='degrees')]})\n",
    "\n",
    "cell_method2 = cfdm.CellMethod(\n",
    "                 axes=[axis_T],\n",
    "             properties={'method': 'maximum'})\n",
    "\n",
    "tas.set_cell_method(cell_method1)\n",
    "tas.set_cell_method(cell_method2)\n",
    "\n",
    "# Create and set the field ancillaries\n",
    "field_ancillary = cfdm.FieldAncillary(\n",
    "             properties={'standard_name': 'air_temperature standard_error',\n",
    "                          'units': 'K'},\n",
    "             data=cfdm.Data(numpy.arange(90.).reshape(10, 9)))\n",
    "\n",
    "tas.set_field_ancillary(field_ancillary, axes=[axis_Y, axis_X])\n",
    "\n",
    "# Create and set the dimension coordinates\n",
    "dimension_coordinate_T = cfdm.DimensionCoordinate(\n",
    "                           properties={'standard_name': 'time',\n",
    "                                       'units': 'days since 2018-12-01'},\n",
    "                       data=cfdm.Data([15.5]),\n",
    "                       bounds=cfdm.Bounds(data=cfdm.Data([[0., 31]])))\n",
    "\n",
    "dimension_coordinate_Z = cfdm.DimensionCoordinate(\n",
    "    properties={'computed_standard_name': 'altitude',\n",
    "                    'standard_name': 'atmosphere_hybrid_height_coordinate'},\n",
    "        data = cfdm.Data([1.5]),\n",
    "        bounds=cfdm.Bounds(data=cfdm.Data([[1.0, 2.0]])))\n",
    "\n",
    "dimension_coordinate_Y = cfdm.DimensionCoordinate(\n",
    "    properties={'standard_name': 'grid_latitude',\n",
    "                 'units': 'degrees'},\n",
    "    data=cfdm.Data(numpy.arange(10.)),\n",
    "        bounds=cfdm.Bounds(data=cfdm.Data(numpy.arange(20).reshape(10, 2))))\n",
    "\n",
    "dimension_coordinate_X = cfdm.DimensionCoordinate(\n",
    "        properties={'standard_name': 'grid_longitude',\n",
    "                    'units': 'degrees'},\n",
    "    data=cfdm.Data(numpy.arange(9.)),\n",
    "    bounds=cfdm.Bounds(data=cfdm.Data(numpy.arange(18).reshape(9, 2))))\n",
    "\n",
    "tas.set_dimension_coordinate(dimension_coordinate_T, axes=[axis_T])\n",
    "tas.set_dimension_coordinate(dimension_coordinate_Z, axes=[axis_Z])\n",
    "tas.set_dimension_coordinate(dimension_coordinate_Y, axes=[axis_Y])\n",
    "tas.set_dimension_coordinate(dimension_coordinate_X, axes=[axis_X])\n",
    "\n",
    "# Create and set the auxiliary coordinates\n",
    "auxiliary_coordinate_lat = cfdm.AuxiliaryCoordinate(\n",
    "                      properties={'standard_name': 'latitude',\n",
    "                                  'units': 'degrees_north'},\n",
    "                      data=cfdm.Data(numpy.arange(90.).reshape(10, 9)))\n",
    "\n",
    "auxiliary_coordinate_lon = cfdm.AuxiliaryCoordinate(\n",
    "                      properties={'standard_name': 'longitude',\n",
    "                          'units': 'degrees_east'},\n",
    "                  data=cfdm.Data(numpy.arange(90.).reshape(9, 10)))\n",
    "\n",
    "array = numpy.ma.array(list('abcdefghij'))\n",
    "array[0] = numpy.ma.masked\n",
    "auxiliary_coordinate_name = cfdm.AuxiliaryCoordinate(\n",
    "                       properties={'long_name': 'Grid latitude name'},\n",
    "                       data=cfdm.Data(array))\n",
    "\n",
    "tas.set_auxiliary_coordinate(auxiliary_coordinate_lat,\n",
    "                         axes=[axis_Y, axis_X])\n",
    "tas.set_auxiliary_coordinate(auxiliary_coordinate_lon,\n",
    "                         axes=[axis_X, axis_Y])\n",
    "tas.set_auxiliary_coordinate(auxiliary_coordinate_name, axes=[axis_Y])\n",
    "\n",
    "# Create and set domain ancillaries\n",
    "domain_ancillary_a = cfdm.DomainAncillary(\n",
    "                   properties={'units': 'm'},\n",
    "                   data=cfdm.Data([10.]),\n",
    "                       bounds=cfdm.Bounds(data=cfdm.Data([[5., 15.]])))\n",
    "\n",
    "domain_ancillary_b = cfdm.DomainAncillary(\n",
    "                   properties={'units': '1'},\n",
    "                       data=cfdm.Data([20.]),\n",
    "                   bounds=cfdm.Bounds(data=cfdm.Data([[14, 26.]])))\n",
    "\n",
    "domain_ancillary_orog = cfdm.DomainAncillary(\n",
    "                          properties={'standard_name': 'surface_altitude',\n",
    "                                       'units': 'm'},\n",
    "                      data=cfdm.Data(numpy.arange(90.).reshape(10, 9)))\n",
    "\n",
    "tas.set_domain_ancillary(domain_ancillary_a, axes=[axis_Z])\n",
    "tas.set_domain_ancillary(domain_ancillary_b, axes=[axis_Z])\n",
    "tas.set_domain_ancillary(domain_ancillary_orog, axes=[axis_Y, axis_X])\n",
    "\n",
    "# Create and set the coordinate references\n",
    "datum = cfdm.Datum(parameters={'earth_radius': 6371007.})\n",
    "\n",
    "coordinate_conversion_h = cfdm.CoordinateConversion(\n",
    "              parameters={'grid_mapping_name': 'rotated_latitude_longitude',\n",
    "                          'grid_north_pole_latitude': 38.0,\n",
    "                          'grid_north_pole_longitude': 190.0})\n",
    "\n",
    "horizontal_crs = cfdm.CoordinateReference(\n",
    "                   datum=datum,\n",
    "                   coordinate_conversion=coordinate_conversion_h,\n",
    "               coordinates=[dimension_coordinate_X,\n",
    "                                dimension_coordinate_Y,\n",
    "                                auxiliary_coordinate_lat,\n",
    "                auxiliary_coordinate_lon])\n",
    "\n",
    "coordinate_conversion_v = cfdm.CoordinateConversion(\n",
    "         parameters={'standard_name': 'atmosphere_hybrid_height_coordinate',\n",
    "                     'computed_standard_name': 'altitude'},\n",
    "         domain_ancillaries={'a': domain_ancillary_a,\n",
    "                             'b': domain_ancillary_a,\n",
    "                             'orog': domain_ancillary_orog})\n",
    "\n",
    "vertical_crs = cfdm.CoordinateReference(\n",
    "                 datum=datum,\n",
    "                 coordinate_conversion=coordinate_conversion_v,\n",
    "             coordinates=[dimension_coordinate_Z])\n",
    "\n",
    "tas.set_coordinate_reference(horizontal_crs)\n",
    "tas.set_coordinate_reference(vertical_crs)\n",
    "\n",
    "# Create and set the cell measures\n",
    "cell_measure = cfdm.CellMeasure(measure='area',\n",
    "                 properties={'units': 'km2'},\n",
    "                 data=cfdm.Data(numpy.arange(90.).reshape(9, 10)))\n",
    "\n",
    "tas.set_cell_measure(cell_measure, axes=[axis_X, axis_Y])"
   ]
  },
  {
   "cell_type": "code",
   "execution_count": 103,
   "metadata": {
    "attributes": {
     "classes": [
      "sourceCode"
     ],
     "id": ""
    },
    "collapsed": false
   },
   "outputs": [
    {
     "name": "stdout",
     "output_type": "stream",
     "text": [
      "Field: air_temperature\n",
      "----------------------\n",
      "Data            : air_temperature(grid_latitude(10), grid_longitude(9)) K\n",
      "Cell methods    : grid_latitude(10): grid_longitude(9): mean where land (interval: 0.1 degrees) time(1): maximum\n",
      "Field ancils    : air_temperature standard_error(grid_latitude(10), grid_longitude(9)) = [[0.0, ..., 89.0]] K\n",
      "Dimension coords: time(1) = [2018-12-16 12:00:00]\n",
      "                : atmosphere_hybrid_height_coordinate(1) = [1.5]\n",
      "                : grid_latitude(10) = [0.0, ..., 9.0] degrees\n",
      "                : grid_longitude(9) = [0.0, ..., 8.0] degrees\n",
      "Auxiliary coords: latitude(grid_latitude(10), grid_longitude(9)) = [[0.0, ..., 89.0]] degrees_north\n",
      "                : longitude(grid_longitude(9), grid_latitude(10)) = [[0.0, ..., 89.0]] degrees_east\n",
      "                : long_name:Grid latitude name(grid_latitude(10)) = [--, ..., j]\n",
      "Cell measures   : measure%area(grid_longitude(9), grid_latitude(10)) = [[0.0, ..., 89.0]] km2\n",
      "Coord references: atmosphere_hybrid_height_coordinate\n",
      "                : rotated_latitude_longitude\n",
      "Domain ancils   : domainancillary0(atmosphere_hybrid_height_coordinate(1)) = [10.0] m\n",
      "                : domainancillary1(atmosphere_hybrid_height_coordinate(1)) = [20.0] 1\n",
      "                : surface_altitude(grid_latitude(10), grid_longitude(9)) = [[0.0, ..., 89.0]] m\n",
      "\n",
      "\n"
     ]
    }
   ],
   "source": [
    "print(tas)"
   ]
  },
  {
   "cell_type": "markdown",
   "metadata": {},
   "source": [
    "---\n",
    "Domain\n",
    "-------\n",
    "[**Back to top**](#cfdm-tutorial-notebook)  \n",
    "[**Go to tutorial**](https://ncas-cms.github.io/cfdm/tutorial.html#domain)"
   ]
  },
  {
   "cell_type": "code",
   "execution_count": 104,
   "metadata": {
    "collapsed": false
   },
   "outputs": [
    {
     "data": {
      "text/plain": [
       "<Domain: {1, 1, 9, 10}>"
      ]
     },
     "execution_count": 104,
     "metadata": {},
     "output_type": "execute_result"
    }
   ],
   "source": [
    "domain = t.get_domain()\n",
    "domain"
   ]
  },
  {
   "cell_type": "code",
   "execution_count": 105,
   "metadata": {
    "collapsed": false
   },
   "outputs": [
    {
     "name": "stdout",
     "output_type": "stream",
     "text": [
      "Dimension coords: atmosphere_hybrid_height_coordinate(1) = [1.5]\n",
      "                : grid_latitude(10) = [2.2, ..., -1.76] degrees\n",
      "                : grid_longitude(9) = [-4.7, ..., -1.18] degrees\n",
      "                : time(1) = [2019-01-01 00:00:00]\n",
      "Auxiliary coords: latitude(grid_latitude(10), grid_longitude(9)) = [[53.941, ..., 50.225]] degrees_N\n",
      "                : longitude(grid_longitude(9), grid_latitude(10)) = [[2.004, ..., 8.156]] degrees_E\n",
      "                : long_name:Grid latitude name(grid_latitude(10)) = [--, ..., kappa]\n",
      "Cell measures   : measure%area(grid_longitude(9), grid_latitude(10)) = [[2391.9657, ..., 2392.6009]] km2\n",
      "Coord references: atmosphere_hybrid_height_coordinate\n",
      "                : rotated_latitude_longitude\n",
      "Domain ancils   : ncvar%a(atmosphere_hybrid_height_coordinate(1)) = [10.0] m\n",
      "                : ncvar%b(atmosphere_hybrid_height_coordinate(1)) = [20.0]\n",
      "                : surface_altitude(grid_latitude(10), grid_longitude(9)) = [[0.0, ..., 270.0]] m\n",
      "\n"
     ]
    }
   ],
   "source": [
    "print(domain)"
   ]
  },
  {
   "cell_type": "code",
   "execution_count": 106,
   "metadata": {
    "attributes": {
     "classes": [
      "sourceCode"
     ],
     "id": ""
    },
    "collapsed": false
   },
   "outputs": [
    {
     "name": "stdout",
     "output_type": "stream",
     "text": [
      "Domain Axis: atmosphere_hybrid_height_coordinate(1)\n",
      "Domain Axis: grid_latitude(10)\n",
      "Domain Axis: grid_longitude(9)\n",
      "Domain Axis: time(1)\n",
      "\n",
      "Dimension coordinate: atmosphere_hybrid_height_coordinate\n",
      "    computed_standard_name = 'altitude'\n",
      "    standard_name = 'atmosphere_hybrid_height_coordinate'\n",
      "    Data(atmosphere_hybrid_height_coordinate(1)) = [1.5]\n",
      "    Bounds:Data(atmosphere_hybrid_height_coordinate(1), 2) = [[1.0, 2.0]]\n",
      "\n",
      "Dimension coordinate: grid_latitude\n",
      "    standard_name = 'grid_latitude'\n",
      "    units = 'degrees'\n",
      "    Data(grid_latitude(10)) = [2.2, ..., -1.76] degrees\n",
      "    Bounds:Data(grid_latitude(10), 2) = [[2.42, ..., -1.98]] degrees\n",
      "\n",
      "Dimension coordinate: grid_longitude\n",
      "    standard_name = 'grid_longitude'\n",
      "    units = 'degrees'\n",
      "    Data(grid_longitude(9)) = [-4.7, ..., -1.18] degrees\n",
      "    Bounds:Data(grid_longitude(9), 2) = [[-4.92, ..., -0.96]] degrees\n",
      "\n",
      "Dimension coordinate: time\n",
      "    standard_name = 'time'\n",
      "    units = 'days since 2018-12-01'\n",
      "    Data(time(1)) = [2019-01-01 00:00:00]\n",
      "\n",
      "Auxiliary coordinate: latitude\n",
      "    standard_name = 'latitude'\n",
      "    units = 'degrees_N'\n",
      "    Data(grid_latitude(10), grid_longitude(9)) = [[53.941, ..., 50.225]] degrees_N\n",
      "\n",
      "Auxiliary coordinate: longitude\n",
      "    standard_name = 'longitude'\n",
      "    units = 'degrees_E'\n",
      "    Data(grid_longitude(9), grid_latitude(10)) = [[2.004, ..., 8.156]] degrees_E\n",
      "\n",
      "Auxiliary coordinate: long_name:Grid latitude name\n",
      "    long_name = 'Grid latitude name'\n",
      "    Data(grid_latitude(10)) = [--, ..., kappa]\n",
      "\n",
      "Domain ancillary: ncvar%a\n",
      "    units = 'm'\n",
      "    Data(atmosphere_hybrid_height_coordinate(1)) = [10.0] m\n",
      "    Bounds:Data(atmosphere_hybrid_height_coordinate(1), 2) = [[5.0, 15.0]] m\n",
      "\n",
      "Domain ancillary: ncvar%b\n",
      "    Data(atmosphere_hybrid_height_coordinate(1)) = [20.0]\n",
      "    Bounds:Data(atmosphere_hybrid_height_coordinate(1), 2) = [[14.0, 26.0]]\n",
      "\n",
      "Domain ancillary: surface_altitude\n",
      "    standard_name = 'surface_altitude'\n",
      "    units = 'm'\n",
      "    Data(grid_latitude(10), grid_longitude(9)) = [[0.0, ..., 270.0]] m\n",
      "\n",
      "Coordinate reference: atmosphere_hybrid_height_coordinate\n",
      "    Coordinate conversion:computed_standard_name = altitude\n",
      "    Coordinate conversion:standard_name = atmosphere_hybrid_height_coordinate\n",
      "    Coordinate conversion:a = Domain Ancillary: ncvar%a\n",
      "    Coordinate conversion:b = Domain Ancillary: ncvar%b\n",
      "    Coordinate conversion:orog = Domain Ancillary: surface_altitude\n",
      "    Datum:earth_radius = 6371007\n",
      "    Dimension Coordinate: atmosphere_hybrid_height_coordinate\n",
      "\n",
      "Coordinate reference: rotated_latitude_longitude\n",
      "    Coordinate conversion:grid_mapping_name = rotated_latitude_longitude\n",
      "    Coordinate conversion:grid_north_pole_latitude = 38.0\n",
      "    Coordinate conversion:grid_north_pole_longitude = 190.0\n",
      "    Datum:earth_radius = 6371007\n",
      "    Dimension Coordinate: grid_longitude\n",
      "    Dimension Coordinate: grid_latitude\n",
      "    Auxiliary Coordinate: longitude\n",
      "    Auxiliary Coordinate: latitude\n",
      "\n",
      "Cell measure: measure%area\n",
      "    units = 'km2'\n",
      "    Data(grid_longitude(9), grid_latitude(10)) = [[2391.9657, ..., 2392.6009]] km2\n",
      "\n"
     ]
    }
   ],
   "source": [
    "domain.dump()"
   ]
  },
  {
   "cell_type": "code",
   "execution_count": 107,
   "metadata": {
    "collapsed": true
   },
   "outputs": [],
   "source": [
    "domain.get_construct('latitude').set_property('test', 'set by domain')"
   ]
  },
  {
   "cell_type": "code",
   "execution_count": 108,
   "metadata": {
    "collapsed": false
   },
   "outputs": [
    {
     "data": {
      "text/plain": [
       "'set by domain'"
      ]
     },
     "execution_count": 108,
     "metadata": {},
     "output_type": "execute_result"
    }
   ],
   "source": [
    "t.get_construct('latitude').get_property('test')"
   ]
  },
  {
   "cell_type": "code",
   "execution_count": 109,
   "metadata": {
    "collapsed": true
   },
   "outputs": [],
   "source": [
    "t.get_construct('latitude').set_property('test', 'set by field')"
   ]
  },
  {
   "cell_type": "code",
   "execution_count": 110,
   "metadata": {
    "collapsed": false
   },
   "outputs": [
    {
     "data": {
      "text/plain": [
       "'set by field'"
      ]
     },
     "execution_count": 110,
     "metadata": {},
     "output_type": "execute_result"
    }
   ],
   "source": [
    "domain.get_construct('latitude').get_property('test')"
   ]
  },
  {
   "cell_type": "code",
   "execution_count": 111,
   "metadata": {
    "collapsed": false
   },
   "outputs": [
    {
     "data": {
      "text/plain": [
       "'set by field'"
      ]
     },
     "execution_count": 111,
     "metadata": {},
     "output_type": "execute_result"
    }
   ],
   "source": [
    "domain.get_construct('latitude').del_property('test')"
   ]
  },
  {
   "cell_type": "code",
   "execution_count": 112,
   "metadata": {
    "attributes": {
     "classes": [
      "sourceCode"
     ],
     "id": ""
    },
    "collapsed": false
   },
   "outputs": [
    {
     "data": {
      "text/plain": [
       "False"
      ]
     },
     "execution_count": 112,
     "metadata": {},
     "output_type": "execute_result"
    }
   ],
   "source": [
    "t.get_construct('latitude').has_property('test')"
   ]
  },
  {
   "cell_type": "markdown",
   "metadata": {},
   "source": [
    "---\n",
    "Copying\n",
    "--------\n",
    "[**Back to top**](#cfdm-tutorial-notebook)  \n",
    "[**Go to tutorial**](https://ncas-cms.github.io/cfdm/tutorial.html#copying)"
   ]
  },
  {
   "cell_type": "code",
   "execution_count": 113,
   "metadata": {
    "collapsed": false
   },
   "outputs": [
    {
     "data": {
      "text/plain": [
       "<Field: air_temperature(atmosphere_hybrid_height_coordinate(1), grid_latitude(10), grid_longitude(9)) K>"
      ]
     },
     "execution_count": 113,
     "metadata": {},
     "output_type": "execute_result"
    }
   ],
   "source": [
    "t"
   ]
  },
  {
   "cell_type": "code",
   "execution_count": 114,
   "metadata": {
    "collapsed": false
   },
   "outputs": [
    {
     "data": {
      "text/plain": [
       "<Field: air_temperature(atmosphere_hybrid_height_coordinate(1), grid_latitude(10), grid_longitude(9)) K>"
      ]
     },
     "execution_count": 114,
     "metadata": {},
     "output_type": "execute_result"
    }
   ],
   "source": [
    "u = t.copy()\n",
    "u"
   ]
  },
  {
   "cell_type": "code",
   "execution_count": 115,
   "metadata": {
    "collapsed": false
   },
   "outputs": [
    {
     "data": {
      "text/plain": [
       "<DimensionCoordinate: grid_latitude(10) degrees>"
      ]
     },
     "execution_count": 115,
     "metadata": {},
     "output_type": "execute_result"
    }
   ],
   "source": [
    "u.del_construct('grid_latitude')"
   ]
  },
  {
   "cell_type": "code",
   "execution_count": 116,
   "metadata": {
    "collapsed": false
   },
   "outputs": [
    {
     "data": {
      "text/plain": [
       "{}"
      ]
     },
     "execution_count": 116,
     "metadata": {},
     "output_type": "execute_result"
    }
   ],
   "source": [
    "u.constructs('grid_latitude')"
   ]
  },
  {
   "cell_type": "code",
   "execution_count": 117,
   "metadata": {
    "attributes": {
     "classes": [
      "sourceCode"
     ],
     "id": ""
    },
    "collapsed": false
   },
   "outputs": [
    {
     "data": {
      "text/plain": [
       "{'dimensioncoordinate1': <DimensionCoordinate: grid_latitude(10) degrees>}"
      ]
     },
     "execution_count": 117,
     "metadata": {},
     "output_type": "execute_result"
    }
   ],
   "source": [
    "t.constructs('grid_latitude')"
   ]
  },
  {
   "cell_type": "markdown",
   "metadata": {},
   "source": [
    "---"
   ]
  },
  {
   "cell_type": "code",
   "execution_count": 118,
   "metadata": {
    "collapsed": true
   },
   "outputs": [],
   "source": [
    "import copy\n",
    "u = copy.deepcopy(t)"
   ]
  },
  {
   "cell_type": "markdown",
   "metadata": {},
   "source": [
    "---"
   ]
  },
  {
   "cell_type": "code",
   "execution_count": 119,
   "metadata": {
    "attributes": {
     "classes": [
      "sourceCode"
     ],
     "id": ""
    },
    "collapsed": false
   },
   "outputs": [
    {
     "data": {
      "text/plain": [
       "<DomainAncillary: surface_altitude(10, 9) m>"
      ]
     },
     "execution_count": 119,
     "metadata": {},
     "output_type": "execute_result"
    }
   ],
   "source": [
    "orog = t.get_construct('surface_altitude').copy()\n",
    "orog"
   ]
  },
  {
   "cell_type": "markdown",
   "metadata": {},
   "source": [
    "---\n",
    "Equality\n",
    "-----------\n",
    "[**Back to top**](#cfdm-tutorial-notebook)  \n",
    "[**Go to tutorial**](https://ncas-cms.github.io/cfdm/tutorial.html#equality)"
   ]
  },
  {
   "cell_type": "code",
   "execution_count": 120,
   "metadata": {
    "collapsed": false
   },
   "outputs": [
    {
     "data": {
      "text/plain": [
       "True"
      ]
     },
     "execution_count": 120,
     "metadata": {},
     "output_type": "execute_result"
    }
   ],
   "source": [
    "t.equals(t)"
   ]
  },
  {
   "cell_type": "code",
   "execution_count": 121,
   "metadata": {
    "collapsed": false
   },
   "outputs": [
    {
     "data": {
      "text/plain": [
       "True"
      ]
     },
     "execution_count": 121,
     "metadata": {},
     "output_type": "execute_result"
    }
   ],
   "source": [
    "t.equals(t.copy())"
   ]
  },
  {
   "cell_type": "code",
   "execution_count": 122,
   "metadata": {
    "collapsed": false
   },
   "outputs": [
    {
     "data": {
      "text/plain": [
       "False"
      ]
     },
     "execution_count": 122,
     "metadata": {},
     "output_type": "execute_result"
    }
   ],
   "source": [
    "t.equals(q)"
   ]
  },
  {
   "cell_type": "code",
   "execution_count": 123,
   "metadata": {
    "attributes": {
     "classes": [
      "sourceCode"
     ],
     "id": ""
    },
    "collapsed": false
   },
   "outputs": [
    {
     "name": "stdout",
     "output_type": "stream",
     "text": [
      "Field: Different units: 'K', '1'\n",
      "Field: Different properties\n"
     ]
    },
    {
     "data": {
      "text/plain": [
       "False"
      ]
     },
     "execution_count": 123,
     "metadata": {},
     "output_type": "execute_result"
    }
   ],
   "source": [
    "t.equals(q, traceback=True)"
   ]
  },
  {
   "cell_type": "markdown",
   "metadata": {},
   "source": [
    "---"
   ]
  },
  {
   "cell_type": "code",
   "execution_count": 124,
   "metadata": {
    "collapsed": false
   },
   "outputs": [
    {
     "data": {
      "text/plain": [
       "2.220446049250313e-16"
      ]
     },
     "execution_count": 124,
     "metadata": {},
     "output_type": "execute_result"
    }
   ],
   "source": [
    "cfdm.ATOL()"
   ]
  },
  {
   "cell_type": "code",
   "execution_count": 125,
   "metadata": {
    "collapsed": false
   },
   "outputs": [
    {
     "data": {
      "text/plain": [
       "2.220446049250313e-16"
      ]
     },
     "execution_count": 125,
     "metadata": {},
     "output_type": "execute_result"
    }
   ],
   "source": [
    "cfdm.RTOL()"
   ]
  },
  {
   "cell_type": "code",
   "execution_count": 126,
   "metadata": {
    "collapsed": false
   },
   "outputs": [
    {
     "data": {
      "text/plain": [
       "1e-05"
      ]
     },
     "execution_count": 126,
     "metadata": {},
     "output_type": "execute_result"
    }
   ],
   "source": [
    "original = cfdm.RTOL(0.00001)\n",
    "cfdm.RTOL()"
   ]
  },
  {
   "cell_type": "code",
   "execution_count": 127,
   "metadata": {
    "collapsed": false
   },
   "outputs": [
    {
     "data": {
      "text/plain": [
       "1e-05"
      ]
     },
     "execution_count": 127,
     "metadata": {},
     "output_type": "execute_result"
    }
   ],
   "source": [
    "cfdm.RTOL(original)"
   ]
  },
  {
   "cell_type": "code",
   "execution_count": 128,
   "metadata": {
    "attributes": {
     "classes": [
      "sourceCode"
     ],
     "id": ""
    },
    "collapsed": false
   },
   "outputs": [
    {
     "data": {
      "text/plain": [
       "2.220446049250313e-16"
      ]
     },
     "execution_count": 128,
     "metadata": {},
     "output_type": "execute_result"
    }
   ],
   "source": [
    "cfdm.RTOL()"
   ]
  },
  {
   "cell_type": "markdown",
   "metadata": {},
   "source": [
    "---\n",
    "External variables\n",
    "-----------------------\n",
    "[**Back to top**](#cfdm-tutorial-notebook)  \n",
    "[**Go to tutorial**](https://ncas-cms.github.io/cfdm/tutorial.html#external-variables)"
   ]
  },
  {
   "cell_type": "code",
   "execution_count": 129,
   "metadata": {
    "collapsed": false
   },
   "outputs": [
    {
     "name": "stdout",
     "output_type": "stream",
     "text": [
      "netcdf parent {\r\n",
      "dimensions:\r\n",
      "\tlatitude = 10 ;\r\n",
      "\tlongitude = 9 ;\r\n",
      "variables:\r\n",
      "\tdouble latitude(latitude) ;\r\n",
      "\t\tlatitude:units = \"degrees_north\" ;\r\n",
      "\t\tlatitude:standard_name = \"latitude\" ;\r\n",
      "\tdouble longitude(longitude) ;\r\n",
      "\t\tlongitude:units = \"degrees_east\" ;\r\n",
      "\t\tlongitude:standard_name = \"longitude\" ;\r\n",
      "\tdouble eastward_wind(latitude, longitude) ;\r\n",
      "\t\teastward_wind:units = \"m s-1\" ;\r\n",
      "\t\teastward_wind:standard_name = \"eastward_wind\" ;\r\n",
      "\t\teastward_wind:cell_measures = \"area: areacella\" ;\r\n",
      "\r\n",
      "// global attributes:\r\n",
      "\t\t:Conventions = \"1.7\" ;\r\n",
      "\t\t:external_variables = \"areacella\" ;\r\n",
      "}\r\n"
     ]
    }
   ],
   "source": [
    "!ncdump -h parent.nc"
   ]
  },
  {
   "cell_type": "code",
   "execution_count": 130,
   "metadata": {
    "collapsed": false
   },
   "outputs": [
    {
     "name": "stdout",
     "output_type": "stream",
     "text": [
      "netcdf external {\r\n",
      "dimensions:\r\n",
      "\tlatitude = 10 ;\r\n",
      "\tlongitude = 9 ;\r\n",
      "variables:\r\n",
      "\tdouble areacella(longitude, latitude) ;\r\n",
      "\t\tareacella:units = \"m2\" ;\r\n",
      "\t\tareacella:standard_name = \"cell_area\" ;\r\n",
      "\r\n",
      "// global attributes:\r\n",
      "\t\t:Conventions = \"1.7\" ;\r\n",
      "}\r\n"
     ]
    }
   ],
   "source": [
    "!ncdump -h external.nc "
   ]
  },
  {
   "cell_type": "code",
   "execution_count": 131,
   "metadata": {
    "collapsed": false
   },
   "outputs": [
    {
     "name": "stdout",
     "output_type": "stream",
     "text": [
      "Field: eastward_wind (ncvar%eastward_wind)\n",
      "------------------------------------------\n",
      "Data            : eastward_wind(latitude(10), longitude(9)) m s-1\n",
      "Dimension coords: latitude(10) = [0.0, ..., 9.0] degrees_north\n",
      "                : longitude(9) = [0.0, ..., 8.0] degrees_east\n",
      "Cell measures   : measure%area (external variable: ncvar%areacella)\n",
      "\n",
      "\n"
     ]
    }
   ],
   "source": [
    "u = cfdm.read(DIRECTORY+'/parent.nc')[0]\n",
    "print(u)"
   ]
  },
  {
   "cell_type": "code",
   "execution_count": 132,
   "metadata": {
    "collapsed": false
   },
   "outputs": [
    {
     "data": {
      "text/plain": [
       "<CellMeasure: measure%area >"
      ]
     },
     "execution_count": 132,
     "metadata": {},
     "output_type": "execute_result"
    }
   ],
   "source": [
    "area = u.get_construct('measure%area')\n",
    "area"
   ]
  },
  {
   "cell_type": "code",
   "execution_count": 133,
   "metadata": {
    "collapsed": false
   },
   "outputs": [
    {
     "data": {
      "text/plain": [
       "True"
      ]
     },
     "execution_count": 133,
     "metadata": {},
     "output_type": "execute_result"
    }
   ],
   "source": [
    "area.nc_external()"
   ]
  },
  {
   "cell_type": "code",
   "execution_count": 134,
   "metadata": {
    "collapsed": false
   },
   "outputs": [
    {
     "data": {
      "text/plain": [
       "u'areacella'"
      ]
     },
     "execution_count": 134,
     "metadata": {},
     "output_type": "execute_result"
    }
   ],
   "source": [
    "area.nc_get_variable()"
   ]
  },
  {
   "cell_type": "code",
   "execution_count": 135,
   "metadata": {
    "collapsed": false
   },
   "outputs": [
    {
     "data": {
      "text/plain": [
       "{}"
      ]
     },
     "execution_count": 135,
     "metadata": {},
     "output_type": "execute_result"
    }
   ],
   "source": [
    "area.properties()"
   ]
  },
  {
   "cell_type": "code",
   "execution_count": 136,
   "metadata": {
    "attributes": {
     "classes": [
      "sourceCode"
     ],
     "id": ""
    },
    "collapsed": false
   },
   "outputs": [
    {
     "data": {
      "text/plain": [
       "False"
      ]
     },
     "execution_count": 136,
     "metadata": {},
     "output_type": "execute_result"
    }
   ],
   "source": [
    "area.has_data()"
   ]
  },
  {
   "cell_type": "markdown",
   "metadata": {},
   "source": [
    "---"
   ]
  },
  {
   "cell_type": "code",
   "execution_count": 137,
   "metadata": {
    "collapsed": false
   },
   "outputs": [
    {
     "name": "stdout",
     "output_type": "stream",
     "text": [
      "Field: eastward_wind (ncvar%eastward_wind)\n",
      "------------------------------------------\n",
      "Data            : eastward_wind(latitude(10), longitude(9)) m s-1\n",
      "Dimension coords: latitude(10) = [0.0, ..., 9.0] degrees_north\n",
      "                : longitude(9) = [0.0, ..., 8.0] degrees_east\n",
      "Cell measures   : cell_area(longitude(9), latitude(10)) = [[100000.5, ..., 100089.5]] m2\n",
      "\n",
      "\n"
     ]
    }
   ],
   "source": [
    "g = cfdm.read(DIRECTORY+'/parent.nc', external_files=DIRECTORY+'/external.nc')[0]\n",
    "print(g)"
   ]
  },
  {
   "cell_type": "code",
   "execution_count": 138,
   "metadata": {
    "collapsed": false
   },
   "outputs": [
    {
     "data": {
      "text/plain": [
       "<CellMeasure: cell_area(9, 10) m2>"
      ]
     },
     "execution_count": 138,
     "metadata": {},
     "output_type": "execute_result"
    }
   ],
   "source": [
    "area = g.get_construct('cell_area')\n",
    "area"
   ]
  },
  {
   "cell_type": "code",
   "execution_count": 139,
   "metadata": {
    "collapsed": false
   },
   "outputs": [
    {
     "data": {
      "text/plain": [
       "False"
      ]
     },
     "execution_count": 139,
     "metadata": {},
     "output_type": "execute_result"
    }
   ],
   "source": [
    "area.nc_external()"
   ]
  },
  {
   "cell_type": "code",
   "execution_count": 140,
   "metadata": {
    "collapsed": false
   },
   "outputs": [
    {
     "data": {
      "text/plain": [
       "u'areacella'"
      ]
     },
     "execution_count": 140,
     "metadata": {},
     "output_type": "execute_result"
    }
   ],
   "source": [
    "area.nc_get_variable()"
   ]
  },
  {
   "cell_type": "code",
   "execution_count": 141,
   "metadata": {
    "collapsed": false
   },
   "outputs": [
    {
     "data": {
      "text/plain": [
       "{'standard_name': 'cell_area', 'units': 'm2'}"
      ]
     },
     "execution_count": 141,
     "metadata": {},
     "output_type": "execute_result"
    }
   ],
   "source": [
    "area.properties()"
   ]
  },
  {
   "cell_type": "code",
   "execution_count": 142,
   "metadata": {
    "attributes": {
     "classes": [
      "sourceCode"
     ],
     "id": ""
    },
    "collapsed": false
   },
   "outputs": [
    {
     "data": {
      "text/plain": [
       "<Data: [[100000.5, ..., 100089.5]] m2>"
      ]
     },
     "execution_count": 142,
     "metadata": {},
     "output_type": "execute_result"
    }
   ],
   "source": [
    "area.get_data()"
   ]
  },
  {
   "cell_type": "markdown",
   "metadata": {},
   "source": [
    "---"
   ]
  },
  {
   "cell_type": "code",
   "execution_count": 143,
   "metadata": {
    "collapsed": false
   },
   "outputs": [
    {
     "data": {
      "text/plain": [
       "False"
      ]
     },
     "execution_count": 143,
     "metadata": {},
     "output_type": "execute_result"
    }
   ],
   "source": [
    "area.nc_external(True)"
   ]
  },
  {
   "cell_type": "code",
   "execution_count": 144,
   "metadata": {
    "attributes": {
     "classes": [
      "sourceCode"
     ],
     "id": ""
    },
    "collapsed": true
   },
   "outputs": [],
   "source": [
    "cfdm.write(g, 'new_parent.nc', external_file='new_external.nc')"
   ]
  },
  {
   "cell_type": "markdown",
   "metadata": {},
   "source": [
    "---\n",
    "Discrete sampling geometries\n",
    "------------------------------------\n",
    "[**Back to top**](#cfdm-tutorial-notebook)  \n",
    "[**Go to tutorial**](https://ncas-cms.github.io/cfdm/tutorial.html#discrete-sampling-geometries)"
   ]
  },
  {
   "cell_type": "code",
   "execution_count": 145,
   "metadata": {
    "collapsed": false
   },
   "outputs": [
    {
     "name": "stdout",
     "output_type": "stream",
     "text": [
      "netcdf contiguous {\r\n",
      "dimensions:\r\n",
      "\tstation = 4 ;\r\n",
      "\tobs = 24 ;\r\n",
      "\tstrlen8 = 8 ;\r\n",
      "variables:\r\n",
      "\tint row_size(station) ;\r\n",
      "\t\trow_size:long_name = \"number of observations for this station\" ;\r\n",
      "\t\trow_size:sample_dimension = \"obs\" ;\r\n",
      "\tdouble time(obs) ;\r\n",
      "\t\ttime:units = \"days since 1970-01-01 00:00:00\" ;\r\n",
      "\t\ttime:standard_name = \"time\" ;\r\n",
      "\tdouble lat(station) ;\r\n",
      "\t\tlat:units = \"degrees_north\" ;\r\n",
      "\t\tlat:standard_name = \"latitude\" ;\r\n",
      "\tdouble lon(station) ;\r\n",
      "\t\tlon:units = \"degrees_east\" ;\r\n",
      "\t\tlon:standard_name = \"longitude\" ;\r\n",
      "\tdouble alt(station) ;\r\n",
      "\t\talt:units = \"m\" ;\r\n",
      "\t\talt:positive = \"up\" ;\r\n",
      "\t\talt:standard_name = \"height\" ;\r\n",
      "\t\talt:axis = \"Z\" ;\r\n",
      "\tchar station_name(station, strlen8) ;\r\n",
      "\t\tstation_name:long_name = \"station name\" ;\r\n",
      "\t\tstation_name:cf_role = \"timeseries_id\" ;\r\n",
      "\tdouble humidity(obs) ;\r\n",
      "\t\thumidity:standard_name = \"specific_humidity\" ;\r\n",
      "\t\thumidity:coordinates = \"time lat lon alt station_name\" ;\r\n",
      "\t\thumidity:_FillValue = -999.9 ;\r\n",
      "\r\n",
      "// global attributes:\r\n",
      "\t\t:Conventions = \"CF-1.7\" ;\r\n",
      "\t\t:featureType = \"timeSeries\" ;\r\n",
      "}\r\n"
     ]
    }
   ],
   "source": [
    "!ncdump -h contiguous.nc"
   ]
  },
  {
   "cell_type": "markdown",
   "metadata": {},
   "source": [
    "---"
   ]
  },
  {
   "cell_type": "code",
   "execution_count": 146,
   "metadata": {
    "collapsed": false
   },
   "outputs": [
    {
     "name": "stdout",
     "output_type": "stream",
     "text": [
      "Field: specific_humidity (ncvar%humidity)\n",
      "-----------------------------------------\n",
      "Data            : specific_humidity(ncdim%station(4), ncdim%timeseries(9))\n",
      "Auxiliary coords: time(ncdim%station(4), ncdim%timeseries(9)) = [[1969-12-29 00:00:00, ..., 1970-01-07 00:00:00]]\n",
      "                : latitude(ncdim%station(4)) = [-9.0, ..., 78.0] degrees_north\n",
      "                : longitude(ncdim%station(4)) = [-23.0, ..., 178.0] degrees_east\n",
      "                : height(ncdim%station(4)) = [0.5, ..., 345.0] m\n",
      "                : cf_role:timeseries_id(ncdim%station(4)) = [station1, ..., station4]\n",
      "\n",
      "\n"
     ]
    }
   ],
   "source": [
    "h = cfdm.read(DIRECTORY+'/contiguous.nc')[0]\n",
    "print(h)"
   ]
  },
  {
   "cell_type": "code",
   "execution_count": 147,
   "metadata": {
    "collapsed": false
   },
   "outputs": [
    {
     "name": "stdout",
     "output_type": "stream",
     "text": [
      "[[0.12 0.05 0.18 -- -- -- -- -- --]\n",
      " [0.05 0.11 0.2 0.15 0.08 0.04 0.06 -- --]\n",
      " [0.15 0.19 0.15 0.17 0.07 -- -- -- --]\n",
      " [0.11 0.03 0.14 0.16 0.02 0.09 0.1 0.04 0.11]]\n"
     ]
    }
   ],
   "source": [
    "print(h.get_array())"
   ]
  },
  {
   "cell_type": "code",
   "execution_count": 148,
   "metadata": {
    "collapsed": false
   },
   "outputs": [
    {
     "data": {
      "text/plain": [
       "'ragged contiguous'"
      ]
     },
     "execution_count": 148,
     "metadata": {},
     "output_type": "execute_result"
    }
   ],
   "source": [
    "h.data.get_compression_type()"
   ]
  },
  {
   "cell_type": "code",
   "execution_count": 149,
   "metadata": {
    "collapsed": false
   },
   "outputs": [
    {
     "name": "stdout",
     "output_type": "stream",
     "text": [
      "[0.12 0.05 0.18 0.05 0.11 0.2 0.15 0.08 0.04 0.06 0.15 0.19 0.15 0.17 0.07\n",
      " 0.11 0.03 0.14 0.16 0.02 0.09 0.1 0.04 0.11]\n"
     ]
    }
   ],
   "source": [
    "print(h.data.get_compressed_array())"
   ]
  },
  {
   "cell_type": "code",
   "execution_count": 150,
   "metadata": {
    "collapsed": false
   },
   "outputs": [
    {
     "data": {
      "text/plain": [
       "<Count: long_name:number of observations for this station(4) >"
      ]
     },
     "execution_count": 150,
     "metadata": {},
     "output_type": "execute_result"
    }
   ],
   "source": [
    "count_variable = h.data.get_count_variable()\n",
    "count_variable"
   ]
  },
  {
   "cell_type": "code",
   "execution_count": 151,
   "metadata": {
    "attributes": {
     "classes": [
      "sourceCode"
     ],
     "id": ""
    },
    "collapsed": false
   },
   "outputs": [
    {
     "name": "stdout",
     "output_type": "stream",
     "text": [
      "[3 7 5 9]\n"
     ]
    }
   ],
   "source": [
    "print(count_variable.get_array())"
   ]
  },
  {
   "cell_type": "markdown",
   "metadata": {},
   "source": [
    "---"
   ]
  },
  {
   "cell_type": "code",
   "execution_count": 152,
   "metadata": {
    "collapsed": false
   },
   "outputs": [
    {
     "data": {
      "text/plain": [
       "<Field: specific_humidity(ncdim%station(1), ncdim%timeseries(9))>"
      ]
     },
     "execution_count": 152,
     "metadata": {},
     "output_type": "execute_result"
    }
   ],
   "source": [
    "station = h[1]\n",
    "station"
   ]
  },
  {
   "cell_type": "code",
   "execution_count": 153,
   "metadata": {
    "attributes": {
     "classes": [
      "sourceCode"
     ],
     "id": ""
    },
    "collapsed": false
   },
   "outputs": [
    {
     "name": "stdout",
     "output_type": "stream",
     "text": [
      "[[0.05 0.11 0.2 0.15 0.08 0.04 0.06 -- --]]\n"
     ]
    }
   ],
   "source": [
    "print(station.get_array())"
   ]
  },
  {
   "cell_type": "markdown",
   "metadata": {},
   "source": [
    "---"
   ]
  },
  {
   "cell_type": "code",
   "execution_count": 154,
   "metadata": {
    "collapsed": false
   },
   "outputs": [
    {
     "data": {
      "text/plain": [
       "'ragged contiguous'"
      ]
     },
     "execution_count": 154,
     "metadata": {},
     "output_type": "execute_result"
    }
   ],
   "source": [
    "h.data.get_compression_type()"
   ]
  },
  {
   "cell_type": "code",
   "execution_count": 155,
   "metadata": {
    "collapsed": false
   },
   "outputs": [
    {
     "name": "stdout",
     "output_type": "stream",
     "text": [
      "[[0.12 0.05 0.18 -- -- -- -- -- --]\n",
      " [0.05 0.11 -9.0 0.15 0.08 0.04 0.06 -- --]\n",
      " [0.15 0.19 0.15 0.17 0.07 -- -- -- --]\n",
      " [0.11 0.03 0.14 0.16 0.02 0.09 0.1 0.04 0.11]]\n"
     ]
    }
   ],
   "source": [
    "h.data[1, 2] = -9\n",
    "print(h.get_array())"
   ]
  },
  {
   "cell_type": "code",
   "execution_count": 156,
   "metadata": {
    "collapsed": false
   },
   "outputs": [
    {
     "data": {
      "text/plain": [
       "''"
      ]
     },
     "execution_count": 156,
     "metadata": {},
     "output_type": "execute_result"
    }
   ],
   "source": [
    "h.data.get_compression_type()"
   ]
  },
  {
   "cell_type": "markdown",
   "metadata": {},
   "source": [
    "---"
   ]
  },
  {
   "cell_type": "code",
   "execution_count": 157,
   "metadata": {
    "attributes": {
     "classes": [
      "sourceCode"
     ],
     "id": ""
    },
    "collapsed": true
   },
   "outputs": [],
   "source": [
    "import numpy\n",
    "import cfdm\n",
    "\n",
    "# Define the ragged array values\n",
    "ragged_array = numpy.array([280, 282.5, 281, 279, 278, 279.5],\n",
    "                           dtype='float32')\n",
    "\n",
    "# Define the count array values\n",
    "count_array = [2, 4]\n",
    "\n",
    "# Create the count variable\n",
    "count_variable = cfdm.Count(data=cfdm.Data(count_array))\n",
    "count_variable.set_property('long_name', 'number of obs for this timeseries')\n",
    "\n",
    "# Create the contiguous ragged array object\n",
    "array = cfdm.RaggedContiguousArray(\n",
    "                 compressed_array=cfdm.NumpyArray(ragged_array),\n",
    "                 shape=(2, 4), size=8, ndim=2,\n",
    "                 count_variable=count_variable)\n",
    "\n",
    "# Create the field construct with the domain axes and the ragged\n",
    "# array\n",
    "tas = cfdm.Field()\n",
    "tas.properties({'standard_name': 'air_temperature',\n",
    "                'units': 'K'})\n",
    "\n",
    "# Create the domain axis constructs for the uncompressed array\n",
    "X = tas.set_domain_axis(cfdm.DomainAxis(4))\n",
    "Y = tas.set_domain_axis(cfdm.DomainAxis(2))\n",
    "\n",
    "# Set the data for the field\n",
    "tas.set_data(cfdm.Data(array), axes=[Y, X])"
   ]
  },
  {
   "cell_type": "markdown",
   "metadata": {},
   "source": [
    "---"
   ]
  },
  {
   "cell_type": "code",
   "execution_count": 158,
   "metadata": {
    "collapsed": false
   },
   "outputs": [
    {
     "data": {
      "text/plain": [
       "<Field: air_temperature(cid%domainaxis1(2), cid%domainaxis0(4)) K>"
      ]
     },
     "execution_count": 158,
     "metadata": {},
     "output_type": "execute_result"
    }
   ],
   "source": [
    "tas"
   ]
  },
  {
   "cell_type": "code",
   "execution_count": 159,
   "metadata": {
    "collapsed": false
   },
   "outputs": [
    {
     "name": "stdout",
     "output_type": "stream",
     "text": [
      "[[280.0 282.5 -- --]\n",
      " [281.0 279.0 278.0 279.5]]\n"
     ]
    }
   ],
   "source": [
    "print(tas.get_array())"
   ]
  },
  {
   "cell_type": "code",
   "execution_count": 160,
   "metadata": {
    "collapsed": false
   },
   "outputs": [
    {
     "data": {
      "text/plain": [
       "'ragged contiguous'"
      ]
     },
     "execution_count": 160,
     "metadata": {},
     "output_type": "execute_result"
    }
   ],
   "source": [
    "tas.data.get_compression_type()"
   ]
  },
  {
   "cell_type": "code",
   "execution_count": 161,
   "metadata": {
    "collapsed": false
   },
   "outputs": [
    {
     "name": "stdout",
     "output_type": "stream",
     "text": [
      "[ 280.   282.5  281.   279.   278.   279.5]\n"
     ]
    }
   ],
   "source": [
    "print(tas.data.get_compressed_array())"
   ]
  },
  {
   "cell_type": "code",
   "execution_count": 162,
   "metadata": {
    "collapsed": false
   },
   "outputs": [
    {
     "data": {
      "text/plain": [
       "<Count: long_name:number of obs for this timeseries(2) >"
      ]
     },
     "execution_count": 162,
     "metadata": {},
     "output_type": "execute_result"
    }
   ],
   "source": [
    "count_variable = tas.data.get_count_variable()\n",
    "count_variable"
   ]
  },
  {
   "cell_type": "code",
   "execution_count": 163,
   "metadata": {
    "attributes": {
     "classes": [
      "sourceCode"
     ],
     "id": ""
    },
    "collapsed": false
   },
   "outputs": [
    {
     "name": "stdout",
     "output_type": "stream",
     "text": [
      "[2 4]\n"
     ]
    }
   ],
   "source": [
    "print(count_variable.get_array())"
   ]
  },
  {
   "cell_type": "code",
   "execution_count": 164,
   "metadata": {
    "collapsed": false
   },
   "outputs": [],
   "source": [
    "cfdm.write(tas, 'tas_contiguous.nc')"
   ]
  },
  {
   "cell_type": "code",
   "execution_count": 165,
   "metadata": {
    "collapsed": false
   },
   "outputs": [
    {
     "name": "stdout",
     "output_type": "stream",
     "text": [
      "netcdf tas_contiguous {\r\n",
      "dimensions:\r\n",
      "\tdim = 2 ;\r\n",
      "\telement = 6 ;\r\n",
      "variables:\r\n",
      "\tint64 count(dim) ;\r\n",
      "\t\tcount:long_name = \"number of obs for this timeseries\" ;\r\n",
      "\t\tcount:sample_dimension = \"element\" ;\r\n",
      "\tfloat air_temperature(element) ;\r\n",
      "\t\tair_temperature:units = \"K\" ;\r\n",
      "\t\tair_temperature:standard_name = \"air_temperature\" ;\r\n",
      "\r\n",
      "// global attributes:\r\n",
      "\t\t:Conventions = \"CF-1.7\" ;\r\n",
      "data:\r\n",
      "\r\n",
      " count = 2, 4 ;\r\n",
      "\r\n",
      " air_temperature = 280, 282.5, 281, 279, 278, 279.5 ;\r\n",
      "}\r\n"
     ]
    }
   ],
   "source": [
    "!ncdump tas_contiguous.nc"
   ]
  },
  {
   "cell_type": "markdown",
   "metadata": {},
   "source": [
    "---\n",
    "Gathering\n",
    "----------\n",
    "[**Back to top**](#cfdm-tutorial-notebook)  \n",
    "[**Go to tutorial**](https://ncas-cms.github.io/cfdm/tutorial.html#gathering)"
   ]
  },
  {
   "cell_type": "code",
   "execution_count": 166,
   "metadata": {
    "collapsed": false
   },
   "outputs": [
    {
     "name": "stdout",
     "output_type": "stream",
     "text": [
      "Field: precipitation_flux (ncvar%pr)\n",
      "------------------------------------\n",
      "Data            : precipitation_flux(time(2), latitude(4), longitude(5)) kg m2 s-1\n",
      "Dimension coords: time(2) = [2000-02-01 00:00:00, 2000-03-01 00:00:00]\n",
      "                : latitude(4) = [-90.0, ..., -75.0] degrees_north\n",
      "                : longitude(5) = [0.0, ..., 40.0] degrees_east\n",
      "\n",
      "\n"
     ]
    }
   ],
   "source": [
    "p = cfdm.read(DIRECTORY+'/gathered.nc')[0]\n",
    "print(p)"
   ]
  },
  {
   "cell_type": "code",
   "execution_count": 167,
   "metadata": {
    "collapsed": false
   },
   "outputs": [
    {
     "name": "stdout",
     "output_type": "stream",
     "text": [
      "[[[-- 0.000122 0.0008 -- --]\n",
      "  [0.000177 -- 0.000175 0.00058 --]\n",
      "  [-- -- -- -- --]\n",
      "  [-- 0.000206 -- 0.0007 --]]\n",
      "\n",
      " [[-- 0.000202 0.000174 -- --]\n",
      "  [0.00084 -- 0.000201 0.0057 --]\n",
      "  [-- -- -- -- --]\n",
      "  [-- 0.000223 -- 0.000102 --]]]\n"
     ]
    }
   ],
   "source": [
    "print(p.get_array())"
   ]
  },
  {
   "cell_type": "code",
   "execution_count": 168,
   "metadata": {
    "collapsed": false
   },
   "outputs": [
    {
     "data": {
      "text/plain": [
       "'gathered'"
      ]
     },
     "execution_count": 168,
     "metadata": {},
     "output_type": "execute_result"
    }
   ],
   "source": [
    "p.data.get_compression_type()"
   ]
  },
  {
   "cell_type": "code",
   "execution_count": 169,
   "metadata": {
    "collapsed": false
   },
   "outputs": [
    {
     "name": "stdout",
     "output_type": "stream",
     "text": [
      "[[0.000122 0.0008 0.000177 0.000175 0.00058 0.000206 0.0007]\n",
      " [0.000202 0.000174 0.00084 0.000201 0.0057 0.000223 0.000102]]\n"
     ]
    }
   ],
   "source": [
    "print(p.data.get_compressed_array())"
   ]
  },
  {
   "cell_type": "code",
   "execution_count": 170,
   "metadata": {
    "collapsed": false
   },
   "outputs": [
    {
     "data": {
      "text/plain": [
       "<List: ncvar%landpoint(7) >"
      ]
     },
     "execution_count": 170,
     "metadata": {},
     "output_type": "execute_result"
    }
   ],
   "source": [
    "list_variable = p.data.get_list_variable()\n",
    "list_variable"
   ]
  },
  {
   "cell_type": "code",
   "execution_count": 171,
   "metadata": {
    "attributes": {
     "classes": [
      "sourceCode"
     ],
     "id": ""
    },
    "collapsed": false
   },
   "outputs": [
    {
     "name": "stdout",
     "output_type": "stream",
     "text": [
      "[1 2 5 7 8 16 18]\n"
     ]
    }
   ],
   "source": [
    "print(list_variable.get_array())"
   ]
  },
  {
   "cell_type": "markdown",
   "metadata": {},
   "source": [
    "---"
   ]
  },
  {
   "cell_type": "code",
   "execution_count": 172,
   "metadata": {
    "collapsed": false
   },
   "outputs": [
    {
     "data": {
      "text/plain": [
       "<Field: precipitation_flux(time(1), latitude(4), longitude(5)) kg m2 s-1>"
      ]
     },
     "execution_count": 172,
     "metadata": {},
     "output_type": "execute_result"
    }
   ],
   "source": [
    "p[0]"
   ]
  },
  {
   "cell_type": "code",
   "execution_count": 173,
   "metadata": {
    "collapsed": false
   },
   "outputs": [
    {
     "data": {
      "text/plain": [
       "<Field: precipitation_flux(time(1), latitude(4), longitude(2)) kg m2 s-1>"
      ]
     },
     "execution_count": 173,
     "metadata": {},
     "output_type": "execute_result"
    }
   ],
   "source": [
    "p[1, :, 3:5]"
   ]
  },
  {
   "cell_type": "markdown",
   "metadata": {},
   "source": [
    "---"
   ]
  },
  {
   "cell_type": "code",
   "execution_count": 174,
   "metadata": {
    "collapsed": false
   },
   "outputs": [
    {
     "data": {
      "text/plain": [
       "'gathered'"
      ]
     },
     "execution_count": 174,
     "metadata": {},
     "output_type": "execute_result"
    }
   ],
   "source": [
    "p.data.get_compression_type()"
   ]
  },
  {
   "cell_type": "code",
   "execution_count": 175,
   "metadata": {
    "collapsed": true
   },
   "outputs": [],
   "source": [
    "p.data[1] = -9"
   ]
  },
  {
   "cell_type": "code",
   "execution_count": 176,
   "metadata": {
    "collapsed": false
   },
   "outputs": [
    {
     "data": {
      "text/plain": [
       "''"
      ]
     },
     "execution_count": 176,
     "metadata": {},
     "output_type": "execute_result"
    }
   ],
   "source": [
    "p.data.get_compression_type()"
   ]
  },
  {
   "cell_type": "markdown",
   "metadata": {},
   "source": [
    "---"
   ]
  },
  {
   "cell_type": "code",
   "execution_count": 177,
   "metadata": {
    "attributes": {
     "classes": [
      "sourceCode"
     ],
     "id": ""
    },
    "collapsed": true
   },
   "outputs": [],
   "source": [
    "import numpy   \n",
    "import cfdm\n",
    "\n",
    "# Define the gathered values\n",
    "gathered_array = numpy.array([[280, 282.5, 281], [279, 278, 277.5]],\n",
    "                             dtype='float32')\n",
    "\n",
    "# Define the list array values\n",
    "list_array = [1, 4, 5]\n",
    "\n",
    "# Create the list variable\n",
    "list_variable = cfdm.List(data=cfdm.Data(list_array))\n",
    "\n",
    "# Create the gathered array object\n",
    "array = cfdm.GatheredArray(\n",
    "                 compressed_array=cfdm.NumpyArray(gathered_array),\n",
    "         compressed_dimension=1,\n",
    "                 shape=(2, 3, 2), size=12, ndim=3,\n",
    "                 list_variable=list_variable)\n",
    "\n",
    "# Create the field construct with the domain axes and the gathered\n",
    "# array\n",
    "tas = cfdm.Field(properties={'standard_name': 'air_temperature',\n",
    "                             'units': 'K'})\n",
    "\n",
    "# Create the domain axis constructs for the uncompressed array\n",
    "T = tas.set_domain_axis(cfdm.DomainAxis(2))\n",
    "Y = tas.set_domain_axis(cfdm.DomainAxis(3))\n",
    "X = tas.set_domain_axis(cfdm.DomainAxis(2))\n",
    "\n",
    "# Set the data for the field\n",
    "tas.set_data(cfdm.Data(array), axes=[T, Y, X])                 "
   ]
  },
  {
   "cell_type": "markdown",
   "metadata": {},
   "source": [
    "---"
   ]
  },
  {
   "cell_type": "code",
   "execution_count": 178,
   "metadata": {
    "collapsed": false
   },
   "outputs": [
    {
     "data": {
      "text/plain": [
       "<Field: air_temperature(cid%domainaxis0(2), cid%domainaxis1(3), cid%domainaxis2(2)) K>"
      ]
     },
     "execution_count": 178,
     "metadata": {},
     "output_type": "execute_result"
    }
   ],
   "source": [
    "tas"
   ]
  },
  {
   "cell_type": "code",
   "execution_count": 179,
   "metadata": {
    "collapsed": false
   },
   "outputs": [
    {
     "name": "stdout",
     "output_type": "stream",
     "text": [
      "[[[-- 280.0]\n",
      "  [-- --]\n",
      "  [282.5 281.0]]\n",
      "\n",
      " [[-- 279.0]\n",
      "  [-- --]\n",
      "  [278.0 277.5]]]\n"
     ]
    }
   ],
   "source": [
    "print(tas.get_array())"
   ]
  },
  {
   "cell_type": "code",
   "execution_count": 180,
   "metadata": {
    "collapsed": false
   },
   "outputs": [
    {
     "data": {
      "text/plain": [
       "'gathered'"
      ]
     },
     "execution_count": 180,
     "metadata": {},
     "output_type": "execute_result"
    }
   ],
   "source": [
    "tas.data.get_compression_type()"
   ]
  },
  {
   "cell_type": "code",
   "execution_count": 181,
   "metadata": {
    "collapsed": false
   },
   "outputs": [
    {
     "name": "stdout",
     "output_type": "stream",
     "text": [
      "[[ 280.   282.5  281. ]\n",
      " [ 279.   278.   277.5]]\n"
     ]
    }
   ],
   "source": [
    "print(tas.data.get_compressed_array())"
   ]
  },
  {
   "cell_type": "code",
   "execution_count": 182,
   "metadata": {
    "collapsed": false
   },
   "outputs": [
    {
     "data": {
      "text/plain": [
       "<List: (3) >"
      ]
     },
     "execution_count": 182,
     "metadata": {},
     "output_type": "execute_result"
    }
   ],
   "source": [
    "list_variable = tas.data.get_list_variable()\n",
    "list_variable "
   ]
  },
  {
   "cell_type": "code",
   "execution_count": 183,
   "metadata": {
    "attributes": {
     "classes": [
      "sourceCode"
     ],
     "id": ""
    },
    "collapsed": false
   },
   "outputs": [
    {
     "name": "stdout",
     "output_type": "stream",
     "text": [
      "[1 4 5]\n"
     ]
    }
   ],
   "source": [
    "print(list_variable.get_array())"
   ]
  },
  {
   "cell_type": "code",
   "execution_count": 184,
   "metadata": {
    "collapsed": true
   },
   "outputs": [],
   "source": [
    "cfdm.write(tas, 'tas_gathered.nc')"
   ]
  },
  {
   "cell_type": "code",
   "execution_count": 185,
   "metadata": {
    "collapsed": false
   },
   "outputs": [
    {
     "name": "stdout",
     "output_type": "stream",
     "text": [
      "netcdf tas_gathered {\r\n",
      "dimensions:\r\n",
      "\tdim = 2 ;\r\n",
      "\tdim_1 = 3 ;\r\n",
      "\tdim_2 = 2 ;\r\n",
      "\tlist = 3 ;\r\n",
      "variables:\r\n",
      "\tint64 list(list) ;\r\n",
      "\t\tlist:compress = \"dim_1 dim_2\" ;\r\n",
      "\tfloat air_temperature(dim, list) ;\r\n",
      "\t\tair_temperature:units = \"K\" ;\r\n",
      "\t\tair_temperature:standard_name = \"air_temperature\" ;\r\n",
      "\r\n",
      "// global attributes:\r\n",
      "\t\t:Conventions = \"CF-1.7\" ;\r\n",
      "data:\r\n",
      "\r\n",
      " list = 1, 4, 5 ;\r\n",
      "\r\n",
      " air_temperature =\r\n",
      "  280, 282.5, 281,\r\n",
      "  279, 278, 277.5 ;\r\n",
      "}\r\n"
     ]
    }
   ],
   "source": [
    "!ncdump tas_gathered.nc"
   ]
  }
 ],
 "metadata": {
  "kernelspec": {
   "display_name": "Python 2",
   "language": "python",
   "name": "python2"
  },
  "language_info": {
   "codemirror_mode": {
    "name": "ipython",
    "version": 2
   },
   "file_extension": ".py",
   "mimetype": "text/x-python",
   "name": "python",
   "nbconvert_exporter": "python",
   "pygments_lexer": "ipython2",
   "version": "2.7.15"
  }
 },
 "nbformat": 4,
 "nbformat_minor": 2
}
